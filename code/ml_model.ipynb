{
 "cells": [
  {
   "cell_type": "code",
   "execution_count": 110,
   "metadata": {},
   "outputs": [],
   "source": [
    "import warnings\n",
    "warnings.filterwarnings('ignore')\n",
    "\n",
    "import pandas as pd\n",
    "from sklearn.model_selection import train_test_split\n",
    "import numpy as np\n",
    "import xgboost as xgb\n",
    "from sklearn.model_selection import StratifiedKFold\n",
    "\n",
    "from sklearn.metrics import RocCurveDisplay\n",
    "from sklearn.model_selection import KFold\n",
    "from sklearn.model_selection import StratifiedKFold\n",
    "from sklearn.metrics import auc\n",
    "import matplotlib.pyplot as plt"
   ]
  },
  {
   "cell_type": "code",
   "execution_count": 75,
   "metadata": {},
   "outputs": [],
   "source": [
    "#df_stage = pd.read_csv(\"../results/gene_exp_analysis/cnv_genes_exp_stage.combine.csv\",\n",
    "                 #header=0,sep=\"\\t\")\n",
    "df = pd.read_csv(\"../results/gene_exp_analysis/cnv_genes_exp.combine.csv\",\n",
    "                 header=0,sep=\"\\t\")\n",
    "label = pd.read_csv(\"../results/gene_exp_analysis/clinical.csv\",\n",
    "                    header=0,sep=\"\\t\")"
   ]
  },
  {
   "cell_type": "code",
   "execution_count": 76,
   "metadata": {},
   "outputs": [
    {
     "data": {
      "text/plain": [
       "(246, 423)"
      ]
     },
     "execution_count": 76,
     "metadata": {},
     "output_type": "execute_result"
    }
   ],
   "source": [
    "df.shape"
   ]
  },
  {
   "cell_type": "code",
   "execution_count": 77,
   "metadata": {},
   "outputs": [
    {
     "data": {
      "text/html": [
       "<div>\n",
       "<style scoped>\n",
       "    .dataframe tbody tr th:only-of-type {\n",
       "        vertical-align: middle;\n",
       "    }\n",
       "\n",
       "    .dataframe tbody tr th {\n",
       "        vertical-align: top;\n",
       "    }\n",
       "\n",
       "    .dataframe thead th {\n",
       "        text-align: right;\n",
       "    }\n",
       "</style>\n",
       "<table border=\"1\" class=\"dataframe\">\n",
       "  <thead>\n",
       "    <tr style=\"text-align: right;\">\n",
       "      <th></th>\n",
       "      <th>sample</th>\n",
       "      <th>OS</th>\n",
       "      <th>X_PATIENT</th>\n",
       "      <th>OS.time</th>\n",
       "      <th>stage</th>\n",
       "    </tr>\n",
       "  </thead>\n",
       "  <tbody>\n",
       "    <tr>\n",
       "      <th>0</th>\n",
       "      <td>TCGA.2F.A9KO.01A</td>\n",
       "      <td>1</td>\n",
       "      <td>TCGA-2F-A9KO</td>\n",
       "      <td>734</td>\n",
       "      <td>4</td>\n",
       "    </tr>\n",
       "    <tr>\n",
       "      <th>1</th>\n",
       "      <td>TCGA.2F.A9KP.01A</td>\n",
       "      <td>1</td>\n",
       "      <td>TCGA-2F-A9KP</td>\n",
       "      <td>364</td>\n",
       "      <td>4</td>\n",
       "    </tr>\n",
       "    <tr>\n",
       "      <th>2</th>\n",
       "      <td>TCGA.2F.A9KQ.01A</td>\n",
       "      <td>0</td>\n",
       "      <td>TCGA-2F-A9KQ</td>\n",
       "      <td>2886</td>\n",
       "      <td>3</td>\n",
       "    </tr>\n",
       "    <tr>\n",
       "      <th>3</th>\n",
       "      <td>TCGA.2F.A9KR.01A</td>\n",
       "      <td>1</td>\n",
       "      <td>TCGA-2F-A9KR</td>\n",
       "      <td>3183</td>\n",
       "      <td>3</td>\n",
       "    </tr>\n",
       "    <tr>\n",
       "      <th>4</th>\n",
       "      <td>TCGA.2F.A9KT.01A</td>\n",
       "      <td>0</td>\n",
       "      <td>TCGA-2F-A9KT</td>\n",
       "      <td>2352</td>\n",
       "      <td>2</td>\n",
       "    </tr>\n",
       "    <tr>\n",
       "      <th>...</th>\n",
       "      <td>...</td>\n",
       "      <td>...</td>\n",
       "      <td>...</td>\n",
       "      <td>...</td>\n",
       "      <td>...</td>\n",
       "    </tr>\n",
       "    <tr>\n",
       "      <th>417</th>\n",
       "      <td>TCGA.ZF.AA56.01A</td>\n",
       "      <td>1</td>\n",
       "      <td>TCGA-ZF-AA56</td>\n",
       "      <td>259</td>\n",
       "      <td>3</td>\n",
       "    </tr>\n",
       "    <tr>\n",
       "      <th>418</th>\n",
       "      <td>TCGA.ZF.AA58.01A</td>\n",
       "      <td>0</td>\n",
       "      <td>TCGA-ZF-AA58</td>\n",
       "      <td>1649</td>\n",
       "      <td>4</td>\n",
       "    </tr>\n",
       "    <tr>\n",
       "      <th>419</th>\n",
       "      <td>TCGA.ZF.AA5H.01A</td>\n",
       "      <td>0</td>\n",
       "      <td>TCGA-ZF-AA5H</td>\n",
       "      <td>897</td>\n",
       "      <td>4</td>\n",
       "    </tr>\n",
       "    <tr>\n",
       "      <th>420</th>\n",
       "      <td>TCGA.ZF.AA5N.01A</td>\n",
       "      <td>1</td>\n",
       "      <td>TCGA-ZF-AA5N</td>\n",
       "      <td>168</td>\n",
       "      <td>4</td>\n",
       "    </tr>\n",
       "    <tr>\n",
       "      <th>421</th>\n",
       "      <td>TCGA.ZF.AA5P.01A</td>\n",
       "      <td>0</td>\n",
       "      <td>TCGA-ZF-AA5P</td>\n",
       "      <td>372</td>\n",
       "      <td>4</td>\n",
       "    </tr>\n",
       "  </tbody>\n",
       "</table>\n",
       "<p>422 rows × 5 columns</p>\n",
       "</div>"
      ],
      "text/plain": [
       "               sample  OS     X_PATIENT  OS.time  stage\n",
       "0    TCGA.2F.A9KO.01A   1  TCGA-2F-A9KO      734      4\n",
       "1    TCGA.2F.A9KP.01A   1  TCGA-2F-A9KP      364      4\n",
       "2    TCGA.2F.A9KQ.01A   0  TCGA-2F-A9KQ     2886      3\n",
       "3    TCGA.2F.A9KR.01A   1  TCGA-2F-A9KR     3183      3\n",
       "4    TCGA.2F.A9KT.01A   0  TCGA-2F-A9KT     2352      2\n",
       "..                ...  ..           ...      ...    ...\n",
       "417  TCGA.ZF.AA56.01A   1  TCGA-ZF-AA56      259      3\n",
       "418  TCGA.ZF.AA58.01A   0  TCGA-ZF-AA58     1649      4\n",
       "419  TCGA.ZF.AA5H.01A   0  TCGA-ZF-AA5H      897      4\n",
       "420  TCGA.ZF.AA5N.01A   1  TCGA-ZF-AA5N      168      4\n",
       "421  TCGA.ZF.AA5P.01A   0  TCGA-ZF-AA5P      372      4\n",
       "\n",
       "[422 rows x 5 columns]"
      ]
     },
     "execution_count": 77,
     "metadata": {},
     "output_type": "execute_result"
    }
   ],
   "source": [
    "label"
   ]
  },
  {
   "cell_type": "code",
   "execution_count": 78,
   "metadata": {},
   "outputs": [
    {
     "data": {
      "text/plain": [
       "OS\n",
       "0    232\n",
       "1    190\n",
       "Name: count, dtype: int64"
      ]
     },
     "execution_count": 78,
     "metadata": {},
     "output_type": "execute_result"
    }
   ],
   "source": [
    "label[\"OS\"].value_counts()"
   ]
  },
  {
   "cell_type": "code",
   "execution_count": 79,
   "metadata": {},
   "outputs": [
    {
     "data": {
      "text/plain": [
       "0      ENSG00000003137\n",
       "1      ENSG00000004776\n",
       "2      ENSG00000006659\n",
       "3      ENSG00000006788\n",
       "4      ENSG00000007216\n",
       "            ...       \n",
       "241    ENSG00000251544\n",
       "242    ENSG00000252277\n",
       "243    ENSG00000253057\n",
       "244    ENSG00000253934\n",
       "245    ENSG00000254934\n",
       "Name: genes, Length: 246, dtype: object"
      ]
     },
     "execution_count": 79,
     "metadata": {},
     "output_type": "execute_result"
    }
   ],
   "source": [
    "df[\"genes\"]"
   ]
  },
  {
   "cell_type": "code",
   "execution_count": 80,
   "metadata": {},
   "outputs": [],
   "source": [
    "genes_ensemble_id = df[\"genes\"]\n",
    "df = df.drop([\"genes\"],axis=1)\n",
    "#genes_ensemble_id_stage = df_stage[\"genes\"]\n",
    "#df_stage = df_stage.drop([\"genes\"],axis=1)"
   ]
  },
  {
   "cell_type": "code",
   "execution_count": 81,
   "metadata": {},
   "outputs": [],
   "source": [
    "df = df.T\n",
    "#df.rename(columns=genes_ensemble_id,inplace=True)\n",
    "# df_stage = df_stage.T\n",
    "# df_stage.rename(columns=genes_ensemble_id_stage,inplace=True)"
   ]
  },
  {
   "cell_type": "code",
   "execution_count": 82,
   "metadata": {},
   "outputs": [
    {
     "data": {
      "text/html": [
       "<div>\n",
       "<style scoped>\n",
       "    .dataframe tbody tr th:only-of-type {\n",
       "        vertical-align: middle;\n",
       "    }\n",
       "\n",
       "    .dataframe tbody tr th {\n",
       "        vertical-align: top;\n",
       "    }\n",
       "\n",
       "    .dataframe thead th {\n",
       "        text-align: right;\n",
       "    }\n",
       "</style>\n",
       "<table border=\"1\" class=\"dataframe\">\n",
       "  <thead>\n",
       "    <tr style=\"text-align: right;\">\n",
       "      <th></th>\n",
       "      <th>0</th>\n",
       "      <th>1</th>\n",
       "      <th>2</th>\n",
       "      <th>3</th>\n",
       "      <th>4</th>\n",
       "      <th>5</th>\n",
       "      <th>6</th>\n",
       "      <th>7</th>\n",
       "      <th>8</th>\n",
       "      <th>9</th>\n",
       "      <th>...</th>\n",
       "      <th>236</th>\n",
       "      <th>237</th>\n",
       "      <th>238</th>\n",
       "      <th>239</th>\n",
       "      <th>240</th>\n",
       "      <th>241</th>\n",
       "      <th>242</th>\n",
       "      <th>243</th>\n",
       "      <th>244</th>\n",
       "      <th>245</th>\n",
       "    </tr>\n",
       "  </thead>\n",
       "  <tbody>\n",
       "    <tr>\n",
       "      <th>TCGA.2F.A9KO.01A</th>\n",
       "      <td>37.660194</td>\n",
       "      <td>673.452886</td>\n",
       "      <td>0.000000</td>\n",
       "      <td>2.215306</td>\n",
       "      <td>5.538264</td>\n",
       "      <td>815.232441</td>\n",
       "      <td>1195.157342</td>\n",
       "      <td>6540.689623</td>\n",
       "      <td>1881.902061</td>\n",
       "      <td>1741.230159</td>\n",
       "      <td>...</td>\n",
       "      <td>0.0</td>\n",
       "      <td>1.107653</td>\n",
       "      <td>0.000000</td>\n",
       "      <td>5.538264</td>\n",
       "      <td>6.645917</td>\n",
       "      <td>0.000000</td>\n",
       "      <td>0.000000</td>\n",
       "      <td>0.000000</td>\n",
       "      <td>0.000000</td>\n",
       "      <td>0.0</td>\n",
       "    </tr>\n",
       "    <tr>\n",
       "      <th>TCGA.2F.A9KP.01A</th>\n",
       "      <td>18.309193</td>\n",
       "      <td>153.131434</td>\n",
       "      <td>0.000000</td>\n",
       "      <td>2.496708</td>\n",
       "      <td>1.664472</td>\n",
       "      <td>257.160941</td>\n",
       "      <td>1639.505029</td>\n",
       "      <td>11155.292088</td>\n",
       "      <td>1542.965647</td>\n",
       "      <td>2940.289984</td>\n",
       "      <td>...</td>\n",
       "      <td>0.0</td>\n",
       "      <td>0.000000</td>\n",
       "      <td>0.000000</td>\n",
       "      <td>4.993416</td>\n",
       "      <td>1260.837624</td>\n",
       "      <td>0.000000</td>\n",
       "      <td>1.664472</td>\n",
       "      <td>0.000000</td>\n",
       "      <td>0.000000</td>\n",
       "      <td>0.0</td>\n",
       "    </tr>\n",
       "    <tr>\n",
       "      <th>TCGA.2F.A9KQ.01A</th>\n",
       "      <td>33.248667</td>\n",
       "      <td>30.314961</td>\n",
       "      <td>2.933706</td>\n",
       "      <td>0.977902</td>\n",
       "      <td>0.000000</td>\n",
       "      <td>165.265433</td>\n",
       "      <td>1716.217955</td>\n",
       "      <td>13077.483029</td>\n",
       "      <td>3003.136946</td>\n",
       "      <td>2985.534711</td>\n",
       "      <td>...</td>\n",
       "      <td>0.0</td>\n",
       "      <td>0.000000</td>\n",
       "      <td>0.000000</td>\n",
       "      <td>6.845314</td>\n",
       "      <td>507.531122</td>\n",
       "      <td>0.977902</td>\n",
       "      <td>0.977902</td>\n",
       "      <td>0.000000</td>\n",
       "      <td>0.977902</td>\n",
       "      <td>0.0</td>\n",
       "    </tr>\n",
       "    <tr>\n",
       "      <th>TCGA.2F.A9KR.01A</th>\n",
       "      <td>28.904496</td>\n",
       "      <td>355.355269</td>\n",
       "      <td>0.000000</td>\n",
       "      <td>8.501322</td>\n",
       "      <td>1.700264</td>\n",
       "      <td>232.086097</td>\n",
       "      <td>2146.583861</td>\n",
       "      <td>4040.678452</td>\n",
       "      <td>836.530107</td>\n",
       "      <td>5689.934963</td>\n",
       "      <td>...</td>\n",
       "      <td>0.0</td>\n",
       "      <td>0.850132</td>\n",
       "      <td>0.000000</td>\n",
       "      <td>1.700264</td>\n",
       "      <td>8.501322</td>\n",
       "      <td>1.700264</td>\n",
       "      <td>0.000000</td>\n",
       "      <td>0.850132</td>\n",
       "      <td>0.000000</td>\n",
       "      <td>0.0</td>\n",
       "    </tr>\n",
       "    <tr>\n",
       "      <th>TCGA.2F.A9KT.01A</th>\n",
       "      <td>281.329823</td>\n",
       "      <td>88.283417</td>\n",
       "      <td>0.000000</td>\n",
       "      <td>7.062673</td>\n",
       "      <td>0.000000</td>\n",
       "      <td>374.321689</td>\n",
       "      <td>5523.010577</td>\n",
       "      <td>4606.040151</td>\n",
       "      <td>1569.090601</td>\n",
       "      <td>4303.522308</td>\n",
       "      <td>...</td>\n",
       "      <td>0.0</td>\n",
       "      <td>1.177112</td>\n",
       "      <td>0.000000</td>\n",
       "      <td>2.354224</td>\n",
       "      <td>16.479571</td>\n",
       "      <td>0.000000</td>\n",
       "      <td>0.000000</td>\n",
       "      <td>0.000000</td>\n",
       "      <td>0.000000</td>\n",
       "      <td>0.0</td>\n",
       "    </tr>\n",
       "    <tr>\n",
       "      <th>...</th>\n",
       "      <td>...</td>\n",
       "      <td>...</td>\n",
       "      <td>...</td>\n",
       "      <td>...</td>\n",
       "      <td>...</td>\n",
       "      <td>...</td>\n",
       "      <td>...</td>\n",
       "      <td>...</td>\n",
       "      <td>...</td>\n",
       "      <td>...</td>\n",
       "      <td>...</td>\n",
       "      <td>...</td>\n",
       "      <td>...</td>\n",
       "      <td>...</td>\n",
       "      <td>...</td>\n",
       "      <td>...</td>\n",
       "      <td>...</td>\n",
       "      <td>...</td>\n",
       "      <td>...</td>\n",
       "      <td>...</td>\n",
       "      <td>...</td>\n",
       "    </tr>\n",
       "    <tr>\n",
       "      <th>TCGA.ZF.AA56.01A</th>\n",
       "      <td>808.254133</td>\n",
       "      <td>163.911677</td>\n",
       "      <td>0.000000</td>\n",
       "      <td>2.826063</td>\n",
       "      <td>0.942021</td>\n",
       "      <td>697.095639</td>\n",
       "      <td>2208.097539</td>\n",
       "      <td>9813.976177</td>\n",
       "      <td>2045.127883</td>\n",
       "      <td>4111.922251</td>\n",
       "      <td>...</td>\n",
       "      <td>0.0</td>\n",
       "      <td>0.000000</td>\n",
       "      <td>0.000000</td>\n",
       "      <td>4.710106</td>\n",
       "      <td>439.923870</td>\n",
       "      <td>0.000000</td>\n",
       "      <td>0.000000</td>\n",
       "      <td>0.000000</td>\n",
       "      <td>0.000000</td>\n",
       "      <td>0.0</td>\n",
       "    </tr>\n",
       "    <tr>\n",
       "      <th>TCGA.ZF.AA58.01A</th>\n",
       "      <td>295.597267</td>\n",
       "      <td>190.399416</td>\n",
       "      <td>0.869404</td>\n",
       "      <td>11.302248</td>\n",
       "      <td>0.000000</td>\n",
       "      <td>1022.418783</td>\n",
       "      <td>1832.703057</td>\n",
       "      <td>11470.043373</td>\n",
       "      <td>2235.236983</td>\n",
       "      <td>7213.442724</td>\n",
       "      <td>...</td>\n",
       "      <td>0.0</td>\n",
       "      <td>0.000000</td>\n",
       "      <td>0.000000</td>\n",
       "      <td>0.869404</td>\n",
       "      <td>360.802547</td>\n",
       "      <td>0.000000</td>\n",
       "      <td>0.000000</td>\n",
       "      <td>0.000000</td>\n",
       "      <td>0.000000</td>\n",
       "      <td>0.0</td>\n",
       "    </tr>\n",
       "    <tr>\n",
       "      <th>TCGA.ZF.AA5H.01A</th>\n",
       "      <td>202.668920</td>\n",
       "      <td>117.992180</td>\n",
       "      <td>0.000000</td>\n",
       "      <td>8.328860</td>\n",
       "      <td>0.000000</td>\n",
       "      <td>541.375883</td>\n",
       "      <td>1420.764657</td>\n",
       "      <td>8314.978303</td>\n",
       "      <td>3356.530474</td>\n",
       "      <td>2968.544424</td>\n",
       "      <td>...</td>\n",
       "      <td>0.0</td>\n",
       "      <td>0.694072</td>\n",
       "      <td>0.000000</td>\n",
       "      <td>4.858502</td>\n",
       "      <td>880.776917</td>\n",
       "      <td>0.000000</td>\n",
       "      <td>0.000000</td>\n",
       "      <td>0.694072</td>\n",
       "      <td>0.000000</td>\n",
       "      <td>0.0</td>\n",
       "    </tr>\n",
       "    <tr>\n",
       "      <th>TCGA.ZF.AA5N.01A</th>\n",
       "      <td>1855.540230</td>\n",
       "      <td>15.259377</td>\n",
       "      <td>0.000000</td>\n",
       "      <td>0.000000</td>\n",
       "      <td>0.000000</td>\n",
       "      <td>3277.714156</td>\n",
       "      <td>6653.088323</td>\n",
       "      <td>20908.398212</td>\n",
       "      <td>2417.085299</td>\n",
       "      <td>6717.177706</td>\n",
       "      <td>...</td>\n",
       "      <td>0.0</td>\n",
       "      <td>0.000000</td>\n",
       "      <td>0.000000</td>\n",
       "      <td>3.051875</td>\n",
       "      <td>1327.565789</td>\n",
       "      <td>0.000000</td>\n",
       "      <td>0.000000</td>\n",
       "      <td>0.000000</td>\n",
       "      <td>0.000000</td>\n",
       "      <td>0.0</td>\n",
       "    </tr>\n",
       "    <tr>\n",
       "      <th>TCGA.ZF.AA5P.01A</th>\n",
       "      <td>178.580982</td>\n",
       "      <td>18781.328211</td>\n",
       "      <td>0.000000</td>\n",
       "      <td>6.738905</td>\n",
       "      <td>1.123151</td>\n",
       "      <td>1725.159678</td>\n",
       "      <td>2445.099361</td>\n",
       "      <td>7711.553612</td>\n",
       "      <td>2910.083805</td>\n",
       "      <td>3360.467289</td>\n",
       "      <td>...</td>\n",
       "      <td>0.0</td>\n",
       "      <td>0.000000</td>\n",
       "      <td>1.123151</td>\n",
       "      <td>2.246302</td>\n",
       "      <td>165.103172</td>\n",
       "      <td>0.000000</td>\n",
       "      <td>0.000000</td>\n",
       "      <td>0.000000</td>\n",
       "      <td>0.000000</td>\n",
       "      <td>0.0</td>\n",
       "    </tr>\n",
       "  </tbody>\n",
       "</table>\n",
       "<p>422 rows × 246 columns</p>\n",
       "</div>"
      ],
      "text/plain": [
       "                          0             1         2          3         4    \\\n",
       "TCGA.2F.A9KO.01A    37.660194    673.452886  0.000000   2.215306  5.538264   \n",
       "TCGA.2F.A9KP.01A    18.309193    153.131434  0.000000   2.496708  1.664472   \n",
       "TCGA.2F.A9KQ.01A    33.248667     30.314961  2.933706   0.977902  0.000000   \n",
       "TCGA.2F.A9KR.01A    28.904496    355.355269  0.000000   8.501322  1.700264   \n",
       "TCGA.2F.A9KT.01A   281.329823     88.283417  0.000000   7.062673  0.000000   \n",
       "...                       ...           ...       ...        ...       ...   \n",
       "TCGA.ZF.AA56.01A   808.254133    163.911677  0.000000   2.826063  0.942021   \n",
       "TCGA.ZF.AA58.01A   295.597267    190.399416  0.869404  11.302248  0.000000   \n",
       "TCGA.ZF.AA5H.01A   202.668920    117.992180  0.000000   8.328860  0.000000   \n",
       "TCGA.ZF.AA5N.01A  1855.540230     15.259377  0.000000   0.000000  0.000000   \n",
       "TCGA.ZF.AA5P.01A   178.580982  18781.328211  0.000000   6.738905  1.123151   \n",
       "\n",
       "                          5            6             7            8    \\\n",
       "TCGA.2F.A9KO.01A   815.232441  1195.157342   6540.689623  1881.902061   \n",
       "TCGA.2F.A9KP.01A   257.160941  1639.505029  11155.292088  1542.965647   \n",
       "TCGA.2F.A9KQ.01A   165.265433  1716.217955  13077.483029  3003.136946   \n",
       "TCGA.2F.A9KR.01A   232.086097  2146.583861   4040.678452   836.530107   \n",
       "TCGA.2F.A9KT.01A   374.321689  5523.010577   4606.040151  1569.090601   \n",
       "...                       ...          ...           ...          ...   \n",
       "TCGA.ZF.AA56.01A   697.095639  2208.097539   9813.976177  2045.127883   \n",
       "TCGA.ZF.AA58.01A  1022.418783  1832.703057  11470.043373  2235.236983   \n",
       "TCGA.ZF.AA5H.01A   541.375883  1420.764657   8314.978303  3356.530474   \n",
       "TCGA.ZF.AA5N.01A  3277.714156  6653.088323  20908.398212  2417.085299   \n",
       "TCGA.ZF.AA5P.01A  1725.159678  2445.099361   7711.553612  2910.083805   \n",
       "\n",
       "                          9    ...  236       237       238       239  \\\n",
       "TCGA.2F.A9KO.01A  1741.230159  ...  0.0  1.107653  0.000000  5.538264   \n",
       "TCGA.2F.A9KP.01A  2940.289984  ...  0.0  0.000000  0.000000  4.993416   \n",
       "TCGA.2F.A9KQ.01A  2985.534711  ...  0.0  0.000000  0.000000  6.845314   \n",
       "TCGA.2F.A9KR.01A  5689.934963  ...  0.0  0.850132  0.000000  1.700264   \n",
       "TCGA.2F.A9KT.01A  4303.522308  ...  0.0  1.177112  0.000000  2.354224   \n",
       "...                       ...  ...  ...       ...       ...       ...   \n",
       "TCGA.ZF.AA56.01A  4111.922251  ...  0.0  0.000000  0.000000  4.710106   \n",
       "TCGA.ZF.AA58.01A  7213.442724  ...  0.0  0.000000  0.000000  0.869404   \n",
       "TCGA.ZF.AA5H.01A  2968.544424  ...  0.0  0.694072  0.000000  4.858502   \n",
       "TCGA.ZF.AA5N.01A  6717.177706  ...  0.0  0.000000  0.000000  3.051875   \n",
       "TCGA.ZF.AA5P.01A  3360.467289  ...  0.0  0.000000  1.123151  2.246302   \n",
       "\n",
       "                          240       241       242       243       244  245  \n",
       "TCGA.2F.A9KO.01A     6.645917  0.000000  0.000000  0.000000  0.000000  0.0  \n",
       "TCGA.2F.A9KP.01A  1260.837624  0.000000  1.664472  0.000000  0.000000  0.0  \n",
       "TCGA.2F.A9KQ.01A   507.531122  0.977902  0.977902  0.000000  0.977902  0.0  \n",
       "TCGA.2F.A9KR.01A     8.501322  1.700264  0.000000  0.850132  0.000000  0.0  \n",
       "TCGA.2F.A9KT.01A    16.479571  0.000000  0.000000  0.000000  0.000000  0.0  \n",
       "...                       ...       ...       ...       ...       ...  ...  \n",
       "TCGA.ZF.AA56.01A   439.923870  0.000000  0.000000  0.000000  0.000000  0.0  \n",
       "TCGA.ZF.AA58.01A   360.802547  0.000000  0.000000  0.000000  0.000000  0.0  \n",
       "TCGA.ZF.AA5H.01A   880.776917  0.000000  0.000000  0.694072  0.000000  0.0  \n",
       "TCGA.ZF.AA5N.01A  1327.565789  0.000000  0.000000  0.000000  0.000000  0.0  \n",
       "TCGA.ZF.AA5P.01A   165.103172  0.000000  0.000000  0.000000  0.000000  0.0  \n",
       "\n",
       "[422 rows x 246 columns]"
      ]
     },
     "execution_count": 82,
     "metadata": {},
     "output_type": "execute_result"
    }
   ],
   "source": [
    "df"
   ]
  },
  {
   "cell_type": "code",
   "execution_count": 83,
   "metadata": {},
   "outputs": [],
   "source": [
    "label= label.set_index('sample')"
   ]
  },
  {
   "cell_type": "code",
   "execution_count": 36,
   "metadata": {},
   "outputs": [
    {
     "data": {
      "text/html": [
       "<div>\n",
       "<style scoped>\n",
       "    .dataframe tbody tr th:only-of-type {\n",
       "        vertical-align: middle;\n",
       "    }\n",
       "\n",
       "    .dataframe tbody tr th {\n",
       "        vertical-align: top;\n",
       "    }\n",
       "\n",
       "    .dataframe thead th {\n",
       "        text-align: right;\n",
       "    }\n",
       "</style>\n",
       "<table border=\"1\" class=\"dataframe\">\n",
       "  <thead>\n",
       "    <tr style=\"text-align: right;\">\n",
       "      <th></th>\n",
       "      <th>OS</th>\n",
       "      <th>X_PATIENT</th>\n",
       "      <th>OS.time</th>\n",
       "      <th>stage</th>\n",
       "    </tr>\n",
       "    <tr>\n",
       "      <th>sample</th>\n",
       "      <th></th>\n",
       "      <th></th>\n",
       "      <th></th>\n",
       "      <th></th>\n",
       "    </tr>\n",
       "  </thead>\n",
       "  <tbody>\n",
       "    <tr>\n",
       "      <th>TCGA.2F.A9KO.01A</th>\n",
       "      <td>1</td>\n",
       "      <td>TCGA-2F-A9KO</td>\n",
       "      <td>734</td>\n",
       "      <td>4</td>\n",
       "    </tr>\n",
       "    <tr>\n",
       "      <th>TCGA.2F.A9KP.01A</th>\n",
       "      <td>1</td>\n",
       "      <td>TCGA-2F-A9KP</td>\n",
       "      <td>364</td>\n",
       "      <td>4</td>\n",
       "    </tr>\n",
       "    <tr>\n",
       "      <th>TCGA.2F.A9KQ.01A</th>\n",
       "      <td>0</td>\n",
       "      <td>TCGA-2F-A9KQ</td>\n",
       "      <td>2886</td>\n",
       "      <td>3</td>\n",
       "    </tr>\n",
       "    <tr>\n",
       "      <th>TCGA.2F.A9KR.01A</th>\n",
       "      <td>1</td>\n",
       "      <td>TCGA-2F-A9KR</td>\n",
       "      <td>3183</td>\n",
       "      <td>3</td>\n",
       "    </tr>\n",
       "    <tr>\n",
       "      <th>TCGA.2F.A9KT.01A</th>\n",
       "      <td>0</td>\n",
       "      <td>TCGA-2F-A9KT</td>\n",
       "      <td>2352</td>\n",
       "      <td>2</td>\n",
       "    </tr>\n",
       "    <tr>\n",
       "      <th>...</th>\n",
       "      <td>...</td>\n",
       "      <td>...</td>\n",
       "      <td>...</td>\n",
       "      <td>...</td>\n",
       "    </tr>\n",
       "    <tr>\n",
       "      <th>TCGA.ZF.AA56.01A</th>\n",
       "      <td>1</td>\n",
       "      <td>TCGA-ZF-AA56</td>\n",
       "      <td>259</td>\n",
       "      <td>3</td>\n",
       "    </tr>\n",
       "    <tr>\n",
       "      <th>TCGA.ZF.AA58.01A</th>\n",
       "      <td>0</td>\n",
       "      <td>TCGA-ZF-AA58</td>\n",
       "      <td>1649</td>\n",
       "      <td>4</td>\n",
       "    </tr>\n",
       "    <tr>\n",
       "      <th>TCGA.ZF.AA5H.01A</th>\n",
       "      <td>0</td>\n",
       "      <td>TCGA-ZF-AA5H</td>\n",
       "      <td>897</td>\n",
       "      <td>4</td>\n",
       "    </tr>\n",
       "    <tr>\n",
       "      <th>TCGA.ZF.AA5N.01A</th>\n",
       "      <td>1</td>\n",
       "      <td>TCGA-ZF-AA5N</td>\n",
       "      <td>168</td>\n",
       "      <td>4</td>\n",
       "    </tr>\n",
       "    <tr>\n",
       "      <th>TCGA.ZF.AA5P.01A</th>\n",
       "      <td>0</td>\n",
       "      <td>TCGA-ZF-AA5P</td>\n",
       "      <td>372</td>\n",
       "      <td>4</td>\n",
       "    </tr>\n",
       "  </tbody>\n",
       "</table>\n",
       "<p>422 rows × 4 columns</p>\n",
       "</div>"
      ],
      "text/plain": [
       "                  OS     X_PATIENT  OS.time  stage\n",
       "sample                                            \n",
       "TCGA.2F.A9KO.01A   1  TCGA-2F-A9KO      734      4\n",
       "TCGA.2F.A9KP.01A   1  TCGA-2F-A9KP      364      4\n",
       "TCGA.2F.A9KQ.01A   0  TCGA-2F-A9KQ     2886      3\n",
       "TCGA.2F.A9KR.01A   1  TCGA-2F-A9KR     3183      3\n",
       "TCGA.2F.A9KT.01A   0  TCGA-2F-A9KT     2352      2\n",
       "...               ..           ...      ...    ...\n",
       "TCGA.ZF.AA56.01A   1  TCGA-ZF-AA56      259      3\n",
       "TCGA.ZF.AA58.01A   0  TCGA-ZF-AA58     1649      4\n",
       "TCGA.ZF.AA5H.01A   0  TCGA-ZF-AA5H      897      4\n",
       "TCGA.ZF.AA5N.01A   1  TCGA-ZF-AA5N      168      4\n",
       "TCGA.ZF.AA5P.01A   0  TCGA-ZF-AA5P      372      4\n",
       "\n",
       "[422 rows x 4 columns]"
      ]
     },
     "execution_count": 36,
     "metadata": {},
     "output_type": "execute_result"
    }
   ],
   "source": [
    "label"
   ]
  },
  {
   "cell_type": "code",
   "execution_count": 84,
   "metadata": {},
   "outputs": [],
   "source": [
    "death_label=np.array([])\n",
    "for sample in df.index:\n",
    "    death_label = np.append(death_label,label.loc[sample][\"OS\"])"
   ]
  },
  {
   "cell_type": "code",
   "execution_count": 85,
   "metadata": {},
   "outputs": [
    {
     "data": {
      "text/plain": [
       "array([1., 1., 0., 1., 0., 1., 0., 1., 0., 1., 1., 1., 0., 0., 1., 1., 1.,\n",
       "       0., 0., 1., 0., 0., 1., 1., 0., 0., 1., 1., 1., 1., 1., 1., 0., 1.,\n",
       "       1., 1., 1., 1., 1., 1., 1., 1., 1., 1., 1., 1., 1., 1., 1., 1., 1.,\n",
       "       0., 0., 1., 1., 1., 1., 0., 1., 0., 0., 0., 1., 0., 0., 0., 1., 0.,\n",
       "       0., 0., 0., 0., 0., 0., 0., 1., 0., 0., 0., 0., 0., 0., 0., 0., 0.,\n",
       "       0., 1., 0., 1., 1., 1., 1., 1., 0., 0., 0., 1., 1., 1., 1., 0., 0.,\n",
       "       0., 1., 0., 0., 0., 0., 0., 1., 0., 1., 0., 0., 1., 1., 1., 1., 1.,\n",
       "       0., 0., 1., 1., 0., 1., 0., 0., 1., 0., 0., 0., 0., 0., 0., 0., 1.,\n",
       "       0., 0., 1., 0., 0., 0., 0., 1., 0., 0., 0., 1., 0., 0., 0., 1., 0.,\n",
       "       1., 0., 1., 1., 0., 1., 0., 0., 0., 0., 0., 0., 0., 0., 0., 0., 0.,\n",
       "       0., 0., 0., 1., 1., 1., 1., 1., 1., 1., 0., 1., 0., 0., 1., 1., 1.,\n",
       "       0., 1., 0., 1., 1., 1., 0., 0., 0., 0., 0., 1., 0., 0., 1., 0., 1.,\n",
       "       1., 0., 1., 1., 0., 0., 1., 1., 1., 0., 0., 0., 1., 0., 1., 1., 1.,\n",
       "       1., 0., 0., 1., 0., 1., 1., 0., 1., 0., 0., 0., 1., 1., 1., 1., 1.,\n",
       "       0., 0., 1., 0., 0., 1., 1., 1., 0., 0., 0., 0., 0., 0., 0., 0., 0.,\n",
       "       0., 0., 0., 0., 0., 0., 0., 1., 1., 1., 1., 1., 0., 0., 0., 1., 1.,\n",
       "       0., 1., 1., 0., 0., 0., 1., 1., 0., 0., 1., 0., 0., 0., 0., 0., 1.,\n",
       "       1., 0., 0., 0., 0., 1., 1., 0., 0., 0., 1., 1., 0., 0., 0., 0., 0.,\n",
       "       0., 0., 0., 0., 0., 0., 0., 0., 0., 0., 0., 0., 0., 1., 0., 1., 0.,\n",
       "       1., 0., 1., 1., 0., 0., 0., 0., 0., 0., 0., 0., 0., 0., 0., 1., 0.,\n",
       "       0., 1., 1., 1., 1., 1., 0., 1., 1., 1., 0., 1., 1., 1., 1., 1., 1.,\n",
       "       0., 1., 0., 1., 0., 1., 0., 0., 1., 1., 0., 1., 1., 1., 0., 0., 1.,\n",
       "       1., 1., 0., 1., 1., 1., 1., 0., 1., 0., 1., 1., 0., 0., 1., 0., 0.,\n",
       "       1., 0., 0., 1., 0., 0., 0., 1., 0., 1., 1., 0., 0., 0., 1., 1., 1.,\n",
       "       1., 1., 0., 0., 0., 0., 1., 0., 1., 1., 0., 0., 1., 0.])"
      ]
     },
     "execution_count": 85,
     "metadata": {},
     "output_type": "execute_result"
    }
   ],
   "source": [
    "death_label"
   ]
  },
  {
   "cell_type": "code",
   "execution_count": 86,
   "metadata": {},
   "outputs": [],
   "source": [
    "X = df\n",
    "y = death_label\n",
    "# Split the data into training and testing sets\n",
    "X_train, X_test, y_train, y_test = train_test_split(X, y, test_size=0.3, random_state=7)"
   ]
  },
  {
   "cell_type": "code",
   "execution_count": 40,
   "metadata": {},
   "outputs": [
    {
     "data": {
      "application/vnd.plotly.v1+json": {
       "config": {
        "plotlyServerURL": "https://plot.ly"
       },
       "data": [
        {
         "hovertemplate": "0=%{x}<br>1=%{y}<br>color=%{marker.color}<extra></extra>",
         "legendgroup": "",
         "marker": {
          "color": [
           1,
           1,
           0,
           1,
           0,
           1,
           0,
           1,
           0,
           1,
           1,
           1,
           0,
           0,
           1,
           1,
           1,
           0,
           0,
           1,
           0,
           0,
           1,
           1,
           0,
           0,
           1,
           1,
           1,
           1,
           1,
           1,
           0,
           1,
           1,
           1,
           1,
           1,
           1,
           1,
           1,
           1,
           1,
           1,
           1,
           1,
           1,
           1,
           1,
           1,
           1,
           0,
           0,
           1,
           1,
           1,
           1,
           0,
           1,
           0,
           0,
           0,
           1,
           0,
           0,
           0,
           1,
           0,
           0,
           0,
           0,
           0,
           0,
           0,
           0,
           1,
           0,
           0,
           0,
           0,
           0,
           0,
           0,
           0,
           0,
           0,
           1,
           0,
           1,
           1,
           1,
           1,
           1,
           0,
           0,
           0,
           1,
           1,
           1,
           1,
           0,
           0,
           0,
           1,
           0,
           0,
           0,
           0,
           0,
           1,
           0,
           1,
           0,
           0,
           1,
           1,
           1,
           1,
           1,
           0,
           0,
           1,
           1,
           0,
           1,
           0,
           0,
           1,
           0,
           0,
           0,
           0,
           0,
           0,
           0,
           1,
           0,
           0,
           1,
           0,
           0,
           0,
           0,
           1,
           0,
           0,
           0,
           1,
           0,
           0,
           0,
           1,
           0,
           1,
           0,
           1,
           1,
           0,
           1,
           0,
           0,
           0,
           0,
           0,
           0,
           0,
           0,
           0,
           0,
           0,
           0,
           0,
           0,
           1,
           1,
           1,
           1,
           1,
           1,
           1,
           0,
           1,
           0,
           0,
           1,
           1,
           1,
           0,
           1,
           0,
           1,
           1,
           1,
           0,
           0,
           0,
           0,
           0,
           1,
           0,
           0,
           1,
           0,
           1,
           1,
           0,
           1,
           1,
           0,
           0,
           1,
           1,
           1,
           0,
           0,
           0,
           1,
           0,
           1,
           1,
           1,
           1,
           0,
           0,
           1,
           0,
           1,
           1,
           0,
           1,
           0,
           0,
           0,
           1,
           1,
           1,
           1,
           1,
           0,
           0,
           1,
           0,
           0,
           1,
           1,
           1,
           0,
           0,
           0,
           0,
           0,
           0,
           0,
           0,
           0,
           0,
           0,
           0,
           0,
           0,
           0,
           0,
           1,
           1,
           1,
           1,
           1,
           0,
           0,
           0,
           1,
           1,
           0,
           1,
           1,
           0,
           0,
           0,
           1,
           1,
           0,
           0,
           1,
           0,
           0,
           0,
           0,
           0,
           1,
           1,
           0,
           0,
           0,
           0,
           1,
           1,
           0,
           0,
           0,
           1,
           1,
           0,
           0,
           0,
           0,
           0,
           0,
           0,
           0,
           0,
           0,
           0,
           0,
           0,
           0,
           0,
           0,
           0,
           0,
           1,
           0,
           1,
           0,
           1,
           0,
           1,
           1,
           0,
           0,
           0,
           0,
           0,
           0,
           0,
           0,
           0,
           0,
           0,
           1,
           0,
           0,
           1,
           1,
           1,
           1,
           1,
           0,
           1,
           1,
           1,
           0,
           1,
           1,
           1,
           1,
           1,
           1,
           0,
           1,
           0,
           1,
           0,
           1,
           0,
           0,
           1,
           1,
           0,
           1,
           1,
           1,
           0,
           0,
           1,
           1,
           1,
           0,
           1,
           1,
           1,
           1,
           0,
           1,
           0,
           1,
           1,
           0,
           0,
           1,
           0,
           0,
           1,
           0,
           0,
           1,
           0,
           0,
           0,
           1,
           0,
           1,
           1,
           0,
           0,
           0,
           1,
           1,
           1,
           1,
           1,
           0,
           0,
           0,
           0,
           1,
           0,
           1,
           1,
           0,
           0,
           1,
           0
          ],
          "coloraxis": "coloraxis",
          "symbol": "circle"
         },
         "mode": "markers",
         "name": "",
         "orientation": "v",
         "showlegend": false,
         "type": "scatter",
         "x": [
          10.999899864196777,
          13.13646125793457,
          -16.790557861328125,
          13.768545150756836,
          -1.5207167863845825,
          11.885851860046387,
          5.501010894775391,
          10.23151683807373,
          18.633703231811523,
          11.516712188720703,
          -1.9634615182876587,
          -4.73558235168457,
          -14.387775421142578,
          -25.9117374420166,
          4.230811595916748,
          -12.013500213623047,
          -19.066265106201172,
          -15.934020042419434,
          -2.5026462078094482,
          -11.541716575622559,
          3.3167383670806885,
          -3.0548205375671387,
          -9.237092971801758,
          9.7081937789917,
          6.165737152099609,
          6.193404197692871,
          -7.926943778991699,
          0.00755150243639946,
          -6.676782131195068,
          9.571742057800293,
          3.520139217376709,
          -1.7832518815994263,
          -8.81826114654541,
          -7.155993461608887,
          -19.371387481689453,
          -1.432742953300476,
          -4.252877235412598,
          3.0308616161346436,
          -8.69968318939209,
          -12.411791801452637,
          7.340743064880371,
          3.437798023223877,
          7.235811233520508,
          2.6016464233398438,
          16.341632843017578,
          -5.026208400726318,
          -19.803245544433594,
          -1.102366328239441,
          4.762990474700928,
          3.342144250869751,
          -24.999282836914062,
          -6.556125164031982,
          15.204564094543457,
          -5.073275566101074,
          -20.022781372070312,
          -13.59522819519043,
          -4.455928325653076,
          -22.647594451904297,
          -6.21084451675415,
          11.254919052124023,
          -17.588809967041016,
          -10.708066940307617,
          2.4073333740234375,
          -27.322622299194336,
          -25.927860260009766,
          4.637454986572266,
          -6.5256829261779785,
          11.506451606750488,
          -19.837446212768555,
          13.588659286499023,
          14.565385818481445,
          -5.519078254699707,
          -0.3844386041164398,
          -0.92820143699646,
          3.849548101425171,
          -0.10611195117235184,
          5.198200702667236,
          3.4902870655059814,
          10.418164253234863,
          3.787123203277588,
          12.954262733459473,
          7.99616813659668,
          13.960485458374023,
          3.4964520931243896,
          6.714035511016846,
          3.2124643325805664,
          -0.29544469714164734,
          8.96371078491211,
          -24.065074920654297,
          3.52530837059021,
          17.975996017456055,
          -4.25432825088501,
          3.4136765003204346,
          -4.397314071655273,
          0.40410226583480835,
          14.830939292907715,
          8.52353572845459,
          -8.369291305541992,
          13.557489395141602,
          -6.361008167266846,
          4.265715599060059,
          17.545501708984375,
          -1.938964605331421,
          -8.38025188446045,
          -4.636292934417725,
          16.44601821899414,
          9.871419906616211,
          -4.866127967834473,
          -5.09485387802124,
          6.478759765625,
          4.993906497955322,
          -22.815397262573242,
          -10.174878120422363,
          -4.5212321281433105,
          9.347628593444824,
          0.09509024769067764,
          -18.6446590423584,
          -7.482176780700684,
          -8.078471183776855,
          -5.761425018310547,
          -4.149998188018799,
          -14.859322547912598,
          -0.8788242340087891,
          -26.61626625061035,
          -23.38976287841797,
          -0.16143137216567993,
          13.043120384216309,
          -7.6057915687561035,
          13.595163345336914,
          6.933182239532471,
          3.2165262699127197,
          12.605814933776855,
          12.06701374053955,
          18.100622177124023,
          12.617640495300293,
          0.3207223117351532,
          -9.820460319519043,
          11.553959846496582,
          -6.0205793380737305,
          -18.481243133544922,
          5.335538864135742,
          -10.381952285766602,
          4.296470642089844,
          10.138008117675781,
          8.392640113830566,
          1.6016680002212524,
          -14.885921478271484,
          2.383260488510132,
          12.176409721374512,
          -12.702366828918457,
          -17.18185806274414,
          16.779470443725586,
          7.525221347808838,
          1.7238950729370117,
          17.841032028198242,
          1.265325665473938,
          -3.618448495864868,
          8.707229614257812,
          2.184203624725342,
          6.1599578857421875,
          2.5714237689971924,
          -15.954760551452637,
          4.608875751495361,
          -3.8498315811157227,
          10.062353134155273,
          11.095561981201172,
          14.985387802124023,
          -17.67898178100586,
          1.1573805809020996,
          -18.367923736572266,
          3.5485615730285645,
          3.906099319458008,
          6.957200050354004,
          -18.05866050720215,
          8.657841682434082,
          -22.825510025024414,
          -18.145381927490234,
          -18.423131942749023,
          -12.837616920471191,
          -7.105991363525391,
          -14.471884727478027,
          -24.40456199645996,
          -23.683969497680664,
          -2.8134560585021973,
          4.064772129058838,
          -0.38547584414482117,
          -8.073476791381836,
          -5.237170696258545,
          -23.33274269104004,
          -8.451827049255371,
          2.8330836296081543,
          13.71695613861084,
          5.522523403167725,
          9.816181182861328,
          10.348037719726562,
          7.698963642120361,
          7.961004257202148,
          17.866439819335938,
          -11.295867919921875,
          10.719882011413574,
          -16.067644119262695,
          -12.447723388671875,
          -18.172603607177734,
          7.978005409240723,
          -8.534196853637695,
          -10.29504680633545,
          4.334960460662842,
          13.43990421295166,
          -16.444988250732422,
          -16.546960830688477,
          16.287967681884766,
          17.49555015563965,
          -8.560197830200195,
          14.889549255371094,
          -0.8811044096946716,
          -9.366495132446289,
          -14.879988670349121,
          -17.566564559936523,
          -8.875247955322266,
          13.282217979431152,
          -13.142767906188965,
          -0.961930513381958,
          -22.03034782409668,
          11.829791069030762,
          -0.028318926692008972,
          15.316868782043457,
          -20.097997665405273,
          -13.939270973205566,
          -18.060531616210938,
          5.883358478546143,
          -17.06368064880371,
          -25.862062454223633,
          10.303160667419434,
          -24.284738540649414,
          -12.499371528625488,
          -11.986673355102539,
          -20.71843719482422,
          10.913473129272461,
          5.916740894317627,
          1.2059403657913208,
          -18.407751083374023,
          5.052712440490723,
          14.49184513092041,
          11.051939964294434,
          15.5173978805542,
          -4.391871929168701,
          -3.408013343811035,
          -8.753849983215332,
          -24.789894104003906,
          15.94849681854248,
          1.4786521196365356,
          3.58058500289917,
          -6.531508922576904,
          9.715554237365723,
          11.751744270324707,
          10.642220497131348,
          12.739103317260742,
          18.385517120361328,
          -23.524389266967773,
          11.439428329467773,
          -7.8921637535095215,
          7.996130466461182,
          12.297463417053223,
          2.490438461303711,
          -5.042943000793457,
          17.019807815551758,
          -15.713433265686035,
          -4.960574150085449,
          6.081665515899658,
          -18.482587814331055,
          7.0423970222473145,
          -2.1211180686950684,
          11.053471565246582,
          9.26279067993164,
          1.492421269416809,
          11.649224281311035,
          -0.6912173628807068,
          -1.4475735425949097,
          -2.2114462852478027,
          8.458358764648438,
          -7.335019111633301,
          12.542973518371582,
          -15.449069023132324,
          3.237208843231201,
          2.8686304092407227,
          13.021747589111328,
          10.082708358764648,
          14.342951774597168,
          -13.179571151733398,
          -10.113378524780273,
          4.767436981201172,
          10.632463455200195,
          11.99284839630127,
          11.076029777526855,
          2.8894217014312744,
          18.51649284362793,
          -15.67946720123291,
          15.93535327911377,
          -12.791478157043457,
          -3.3494763374328613,
          2.6963613033294678,
          -9.37441349029541,
          -15.059167861938477,
          8.878003120422363,
          9.522727012634277,
          5.114737033843994,
          6.152894496917725,
          8.926196098327637,
          7.659533977508545,
          1.3498491048812866,
          7.577403545379639,
          7.802677154541016,
          -10.619659423828125,
          3.235064744949341,
          12.35580825805664,
          13.499971389770508,
          -27.639053344726562,
          -11.022177696228027,
          -2.850745439529419,
          9.006878852844238,
          14.618547439575195,
          3.4714114665985107,
          8.724984169006348,
          0.6253295540809631,
          -26.698348999023438,
          3.3443849086761475,
          -3.8069496154785156,
          0.35246098041534424,
          -11.997547149658203,
          -24.865690231323242,
          -4.327101230621338,
          -13.922327995300293,
          -21.2585506439209,
          11.500025749206543,
          9.352811813354492,
          13.803851127624512,
          6.043111324310303,
          1.6424936056137085,
          6.90374231338501,
          -15.998997688293457,
          -16.59980583190918,
          8.545364379882812,
          4.386308193206787,
          10.166265487670898,
          17.474693298339844,
          10.51491641998291,
          1.081163763999939,
          -9.580073356628418,
          7.938107013702393,
          2.278812885284424,
          -16.655031204223633,
          7.759122371673584,
          -7.004656791687012,
          6.8645195960998535,
          5.573119640350342,
          2.206500291824341,
          6.8218770027160645,
          -26.996442794799805,
          11.481302261352539,
          -2.3102333545684814,
          -2.3586933612823486,
          -10.040813446044922,
          -17.257492065429688,
          -5.69286584854126,
          -11.044252395629883,
          -18.896469116210938,
          3.128594160079956,
          3.229559898376465,
          -2.7607569694519043,
          4.123377799987793,
          2.8039774894714355,
          10.663288116455078,
          3.440040111541748,
          -9.110586166381836,
          -11.255885124206543,
          13.058581352233887,
          13.855661392211914,
          15.673883438110352,
          8.253519058227539,
          -5.296712875366211,
          -21.95034408569336,
          -19.893573760986328,
          1.4288854598999023,
          -14.545802116394043,
          3.7510628700256348,
          -14.556208610534668,
          -18.680803298950195,
          9.045520782470703,
          -15.850646018981934,
          10.895545959472656,
          -6.690639495849609,
          15.737024307250977,
          16.141382217407227,
          9.633484840393066,
          15.867671012878418,
          14.62217903137207,
          13.137116432189941,
          12.471664428710938,
          -0.40374282002449036,
          8.670553207397461,
          -17.48676109313965,
          -22.18134880065918,
          -19.947608947753906,
          11.641973495483398,
          5.871322154998779,
          1.2566509246826172,
          -13.755634307861328,
          5.063812732696533,
          12.803136825561523,
          -16.23459815979004,
          -23.334640502929688,
          -23.928220748901367,
          -0.06408494710922241,
          10.645276069641113,
          7.542966842651367,
          -19.321834564208984,
          -10.14008617401123,
          -17.490856170654297,
          -16.86263084411621,
          -22.908428192138672,
          -27.26734733581543,
          2.8615458011627197
         ],
         "xaxis": "x",
         "y": [
          -1.4477722644805908,
          -2.570115566253662,
          4.123456001281738,
          7.003957748413086,
          2.2623932361602783,
          -16.111587524414062,
          -8.970293045043945,
          3.2343883514404297,
          -5.6405816078186035,
          -1.168035864830017,
          5.991945266723633,
          1.2718632221221924,
          -3.1625638008117676,
          6.579463481903076,
          -16.90322494506836,
          0.8360503911972046,
          5.2241058349609375,
          5.7876715660095215,
          -2.52851939201355,
          10.28217601776123,
          -13.969496726989746,
          3.1168911457061768,
          -1.5305384397506714,
          1.5410243272781372,
          -13.89197063446045,
          -13.979208946228027,
          4.055501937866211,
          -0.12877102196216583,
          -1.118747591972351,
          -5.24268913269043,
          13.365375518798828,
          -0.10151637345552444,
          9.277137756347656,
          -6.506333827972412,
          8.856488227844238,
          -4.4807634353637695,
          5.433549880981445,
          14.154632568359375,
          4.135947227478027,
          7.968641757965088,
          4.631420135498047,
          13.746184349060059,
          -2.7216174602508545,
          14.669571876525879,
          -5.554520606994629,
          13.530333518981934,
          9.6410551071167,
          -11.60417366027832,
          -6.691270351409912,
          8.851358413696289,
          4.814849853515625,
          -4.668826580047607,
          5.826602935791016,
          -1.1403372287750244,
          11.563445091247559,
          0.9098570346832275,
          -7.125338554382324,
          2.470517873764038,
          5.871125221252441,
          4.082953453063965,
          0.45190536975860596,
          0.7975464463233948,
          -14.409507751464844,
          5.941012859344482,
          5.233517169952393,
          -12.397388458251953,
          -7.228442192077637,
          -10.179564476013184,
          7.111396789550781,
          5.9764509201049805,
          0.7035479545593262,
          1.105875015258789,
          1.7914416790008545,
          -7.98450231552124,
          0.4376501142978668,
          -8.615457534790039,
          1.3874504566192627,
          -10.652894973754883,
          6.247660160064697,
          -0.24831624329090118,
          0.6482717394828796,
          -11.697650909423828,
          0.2643342912197113,
          -1.0487112998962402,
          1.0096009969711304,
          -1.891340970993042,
          2.9702093601226807,
          5.703032970428467,
          6.095459938049316,
          13.480319023132324,
          -5.092217445373535,
          -6.032504081726074,
          11.43961238861084,
          8.97545051574707,
          -6.174278259277344,
          7.861449241638184,
          4.3295087814331055,
          0.7109737992286682,
          -9.320016860961914,
          -0.9901862740516663,
          -16.76972198486328,
          0.49658748507499695,
          3.9370546340942383,
          8.667891502380371,
          8.152582168579102,
          1.873479962348938,
          8.78400993347168,
          -0.8302446603775024,
          3.403761863708496,
          -1.8240193128585815,
          -3.870582103729248,
          0.12117423117160797,
          4.566729545593262,
          8.324965476989746,
          -7.7660088539123535,
          -11.524444580078125,
          11.141141891479492,
          -0.4290754795074463,
          10.700736045837402,
          1.5818440914154053,
          -6.105086326599121,
          -2.467710256576538,
          -11.155754089355469,
          3.946164131164551,
          4.063094139099121,
          -3.7194135189056396,
          8.794404029846191,
          -6.356579303741455,
          -2.288149118423462,
          2.3184335231781006,
          0.36661964654922485,
          1.7972171306610107,
          -12.805512428283691,
          0.8334501385688782,
          7.365955352783203,
          -7.962345600128174,
          1.5604439973831177,
          6.812712669372559,
          -2.8023791313171387,
          7.949140548706055,
          5.283542156219482,
          -4.176246643066406,
          -7.282965660095215,
          9.582098007202148,
          2.3930716514587402,
          0.4198454022407532,
          -2.8702869415283203,
          -11.855491638183594,
          6.95891809463501,
          5.587627410888672,
          4.154975891113281,
          -4.27432918548584,
          -10.531347274780273,
          1.6639535427093506,
          4.643052577972412,
          -10.008761405944824,
          2.3552095890045166,
          -15.774178504943848,
          -7.553874492645264,
          -8.944007873535156,
          1.202915906906128,
          5.822636127471924,
          -0.15514464676380157,
          -10.631889343261719,
          -10.447000503540039,
          -6.733314037322998,
          -1.190141201019287,
          2.275273323059082,
          -9.043012619018555,
          -3.794767379760742,
          -6.902364253997803,
          1.1846777200698853,
          -8.3370943069458,
          -3.2098567485809326,
          -8.11345386505127,
          3.8531062602996826,
          5.462906837463379,
          7.23087739944458,
          1.0638203620910645,
          6.247902870178223,
          -5.080374240875244,
          3.5056514739990234,
          5.889919757843018,
          -5.179775714874268,
          -6.012102127075195,
          -14.330419540405273,
          5.866186618804932,
          6.097688674926758,
          2.8009228706359863,
          9.765422821044922,
          5.960990905761719,
          -9.684179306030273,
          -10.468118667602539,
          -4.126502990722656,
          -10.704414367675781,
          -5.892107009887695,
          -6.209521293640137,
          4.7277936935424805,
          2.5017709732055664,
          -0.3149690330028534,
          -3.8992772102355957,
          -2.5592517852783203,
          7.095428943634033,
          -8.984212875366211,
          2.179224729537964,
          2.5394480228424072,
          6.212403297424316,
          -3.0226831436157227,
          9.197893142700195,
          -3.719318389892578,
          -6.327268600463867,
          -5.899470806121826,
          7.683061599731445,
          -4.183505535125732,
          -4.738753318786621,
          -2.4966957569122314,
          1.852137565612793,
          3.9349918365478516,
          -0.14993195235729218,
          -5.391905307769775,
          -0.3307344913482666,
          4.563913822174072,
          3.325373888015747,
          -15.674053192138672,
          -1.9876186847686768,
          -13.415671348571777,
          1.2047709226608276,
          5.627302646636963,
          3.14341402053833,
          -3.019982099533081,
          -0.7945088744163513,
          4.530698299407959,
          -5.725399971008301,
          4.862823009490967,
          6.951552867889404,
          3.510770320892334,
          10.41740608215332,
          -13.675763130187988,
          -11.647056579589844,
          -7.409029960632324,
          1.7291003465652466,
          -7.634608268737793,
          -12.802692413330078,
          3.2118873596191406,
          6.768640041351318,
          -4.323294639587402,
          -4.137478351593018,
          -5.9189276695251465,
          2.386470079421997,
          -5.2646026611328125,
          -1.9051519632339478,
          10.508481979370117,
          6.238157272338867,
          -0.6160330772399902,
          5.606616497039795,
          1.3752517700195312,
          -12.335348129272461,
          -4.50111198425293,
          4.9180450439453125,
          -5.399774074554443,
          7.569497585296631,
          -16.19997787475586,
          2.1885552406311035,
          -3.8327817916870117,
          13.526973724365234,
          5.794666767120361,
          -1.0362895727157593,
          2.719146728515625,
          -4.986274719238281,
          -4.081540107727051,
          -7.704317092895508,
          -8.724610328674316,
          -14.734890937805176,
          8.314291000366211,
          3.933403968811035,
          7.762459754943848,
          -6.03351354598999,
          -6.42659330368042,
          5.178195953369141,
          8.233695983886719,
          -3.5681710243225098,
          3.818162202835083,
          1.8034796714782715,
          -4.289751052856445,
          -2.3538224697113037,
          -12.344541549682617,
          7.34537935256958,
          -8.465036392211914,
          2.3763937950134277,
          5.386124134063721,
          4.523684978485107,
          0.5668174028396606,
          -17.002954483032227,
          -5.692534446716309,
          4.763004302978516,
          -0.9010745882987976,
          10.202067375183105,
          7.577933311462402,
          -5.687806606292725,
          12.853349685668945,
          9.502616882324219,
          3.682971477508545,
          6.256529808044434,
          -2.66931414604187,
          0.39848592877388,
          10.056519508361816,
          -6.551746368408203,
          -9.948405265808105,
          -7.632120132446289,
          -11.268394470214844,
          -9.787714004516602,
          -2.3516275882720947,
          4.485178470611572,
          -3.012769937515259,
          -0.026678185909986496,
          3.771480083465576,
          5.901936054229736,
          -1.2417924404144287,
          -4.324889183044434,
          -15.642277717590332,
          -0.9289008975028992,
          7.706238269805908,
          -1.0967488288879395,
          -10.3457612991333,
          5.539595127105713,
          -9.75086498260498,
          -9.847738265991211,
          -8.81346321105957,
          2.582632303237915,
          3.2128734588623047,
          -2.8237762451171875,
          8.945384979248047,
          2.464492082595825,
          5.746336460113525,
          -8.989524841308594,
          -11.26182746887207,
          -8.136407852172852,
          -6.083583354949951,
          -9.610991477966309,
          0.8027903437614441,
          2.5868566036224365,
          -12.26834487915039,
          -8.633416175842285,
          -4.232990264892578,
          5.587944507598877,
          -7.014045715332031,
          -4.120826721191406,
          -0.5485446453094482,
          -3.9691970348358154,
          11.507372856140137,
          0.9051035642623901,
          -6.681049823760986,
          -8.039031982421875,
          -6.5777201652526855,
          -3.860697031021118,
          10.937175750732422,
          -4.672120094299316,
          3.2878341674804688,
          -14.194804191589355,
          -2.1246495246887207,
          0.020468318834900856,
          2.0100011825561523,
          8.096625328063965,
          6.879843235015869,
          -1.091113567352295,
          3.3827362060546875,
          8.428460121154785,
          -7.8443522453308105,
          0.16815271973609924,
          5.717595100402832,
          -4.8962483406066895,
          4.561683177947998,
          9.683945655822754,
          7.03684139251709,
          5.540010452270508,
          5.939952850341797,
          -13.879791259765625,
          -2.3008511066436768,
          -0.2520624101161957,
          2.8780484199523926,
          4.55863618850708,
          4.756420135498047,
          10.681148529052734,
          5.832282066345215,
          3.4621102809906006,
          7.528820514678955,
          11.168521881103516,
          3.8376553058624268,
          3.2117395401000977,
          -8.713293075561523,
          2.1114284992218018,
          -5.039303302764893,
          -2.661226749420166,
          4.871619701385498,
          8.285833358764648,
          2.5645601749420166,
          7.467068672180176,
          -6.951811790466309,
          -14.35666275024414,
          -6.6739325523376465,
          5.665940284729004,
          5.020087242126465,
          0.9355573058128357,
          -4.15134334564209,
          -10.262556076049805,
          -3.320573568344116,
          3.7558422088623047,
          4.8466267585754395,
          -16.728818893432617,
          11.100713729858398,
          1.5304474830627441,
          3.8156485557556152,
          -10.193278312683105,
          -2.6954290866851807,
          -4.199796199798584,
          2.7005815505981445,
          7.3392181396484375,
          5.019029140472412,
          -3.557955503463745,
          3.235642910003662,
          6.584168434143066,
          10.009566307067871
         ],
         "yaxis": "y"
        }
       ],
       "layout": {
        "coloraxis": {
         "colorbar": {
          "title": {
           "text": "color"
          }
         },
         "colorscale": [
          [
           0,
           "#0d0887"
          ],
          [
           0.1111111111111111,
           "#46039f"
          ],
          [
           0.2222222222222222,
           "#7201a8"
          ],
          [
           0.3333333333333333,
           "#9c179e"
          ],
          [
           0.4444444444444444,
           "#bd3786"
          ],
          [
           0.5555555555555556,
           "#d8576b"
          ],
          [
           0.6666666666666666,
           "#ed7953"
          ],
          [
           0.7777777777777778,
           "#fb9f3a"
          ],
          [
           0.8888888888888888,
           "#fdca26"
          ],
          [
           1,
           "#f0f921"
          ]
         ]
        },
        "legend": {
         "tracegroupgap": 0
        },
        "margin": {
         "t": 60
        },
        "template": {
         "data": {
          "bar": [
           {
            "error_x": {
             "color": "#2a3f5f"
            },
            "error_y": {
             "color": "#2a3f5f"
            },
            "marker": {
             "line": {
              "color": "#E5ECF6",
              "width": 0.5
             },
             "pattern": {
              "fillmode": "overlay",
              "size": 10,
              "solidity": 0.2
             }
            },
            "type": "bar"
           }
          ],
          "barpolar": [
           {
            "marker": {
             "line": {
              "color": "#E5ECF6",
              "width": 0.5
             },
             "pattern": {
              "fillmode": "overlay",
              "size": 10,
              "solidity": 0.2
             }
            },
            "type": "barpolar"
           }
          ],
          "carpet": [
           {
            "aaxis": {
             "endlinecolor": "#2a3f5f",
             "gridcolor": "white",
             "linecolor": "white",
             "minorgridcolor": "white",
             "startlinecolor": "#2a3f5f"
            },
            "baxis": {
             "endlinecolor": "#2a3f5f",
             "gridcolor": "white",
             "linecolor": "white",
             "minorgridcolor": "white",
             "startlinecolor": "#2a3f5f"
            },
            "type": "carpet"
           }
          ],
          "choropleth": [
           {
            "colorbar": {
             "outlinewidth": 0,
             "ticks": ""
            },
            "type": "choropleth"
           }
          ],
          "contour": [
           {
            "colorbar": {
             "outlinewidth": 0,
             "ticks": ""
            },
            "colorscale": [
             [
              0,
              "#0d0887"
             ],
             [
              0.1111111111111111,
              "#46039f"
             ],
             [
              0.2222222222222222,
              "#7201a8"
             ],
             [
              0.3333333333333333,
              "#9c179e"
             ],
             [
              0.4444444444444444,
              "#bd3786"
             ],
             [
              0.5555555555555556,
              "#d8576b"
             ],
             [
              0.6666666666666666,
              "#ed7953"
             ],
             [
              0.7777777777777778,
              "#fb9f3a"
             ],
             [
              0.8888888888888888,
              "#fdca26"
             ],
             [
              1,
              "#f0f921"
             ]
            ],
            "type": "contour"
           }
          ],
          "contourcarpet": [
           {
            "colorbar": {
             "outlinewidth": 0,
             "ticks": ""
            },
            "type": "contourcarpet"
           }
          ],
          "heatmap": [
           {
            "colorbar": {
             "outlinewidth": 0,
             "ticks": ""
            },
            "colorscale": [
             [
              0,
              "#0d0887"
             ],
             [
              0.1111111111111111,
              "#46039f"
             ],
             [
              0.2222222222222222,
              "#7201a8"
             ],
             [
              0.3333333333333333,
              "#9c179e"
             ],
             [
              0.4444444444444444,
              "#bd3786"
             ],
             [
              0.5555555555555556,
              "#d8576b"
             ],
             [
              0.6666666666666666,
              "#ed7953"
             ],
             [
              0.7777777777777778,
              "#fb9f3a"
             ],
             [
              0.8888888888888888,
              "#fdca26"
             ],
             [
              1,
              "#f0f921"
             ]
            ],
            "type": "heatmap"
           }
          ],
          "heatmapgl": [
           {
            "colorbar": {
             "outlinewidth": 0,
             "ticks": ""
            },
            "colorscale": [
             [
              0,
              "#0d0887"
             ],
             [
              0.1111111111111111,
              "#46039f"
             ],
             [
              0.2222222222222222,
              "#7201a8"
             ],
             [
              0.3333333333333333,
              "#9c179e"
             ],
             [
              0.4444444444444444,
              "#bd3786"
             ],
             [
              0.5555555555555556,
              "#d8576b"
             ],
             [
              0.6666666666666666,
              "#ed7953"
             ],
             [
              0.7777777777777778,
              "#fb9f3a"
             ],
             [
              0.8888888888888888,
              "#fdca26"
             ],
             [
              1,
              "#f0f921"
             ]
            ],
            "type": "heatmapgl"
           }
          ],
          "histogram": [
           {
            "marker": {
             "pattern": {
              "fillmode": "overlay",
              "size": 10,
              "solidity": 0.2
             }
            },
            "type": "histogram"
           }
          ],
          "histogram2d": [
           {
            "colorbar": {
             "outlinewidth": 0,
             "ticks": ""
            },
            "colorscale": [
             [
              0,
              "#0d0887"
             ],
             [
              0.1111111111111111,
              "#46039f"
             ],
             [
              0.2222222222222222,
              "#7201a8"
             ],
             [
              0.3333333333333333,
              "#9c179e"
             ],
             [
              0.4444444444444444,
              "#bd3786"
             ],
             [
              0.5555555555555556,
              "#d8576b"
             ],
             [
              0.6666666666666666,
              "#ed7953"
             ],
             [
              0.7777777777777778,
              "#fb9f3a"
             ],
             [
              0.8888888888888888,
              "#fdca26"
             ],
             [
              1,
              "#f0f921"
             ]
            ],
            "type": "histogram2d"
           }
          ],
          "histogram2dcontour": [
           {
            "colorbar": {
             "outlinewidth": 0,
             "ticks": ""
            },
            "colorscale": [
             [
              0,
              "#0d0887"
             ],
             [
              0.1111111111111111,
              "#46039f"
             ],
             [
              0.2222222222222222,
              "#7201a8"
             ],
             [
              0.3333333333333333,
              "#9c179e"
             ],
             [
              0.4444444444444444,
              "#bd3786"
             ],
             [
              0.5555555555555556,
              "#d8576b"
             ],
             [
              0.6666666666666666,
              "#ed7953"
             ],
             [
              0.7777777777777778,
              "#fb9f3a"
             ],
             [
              0.8888888888888888,
              "#fdca26"
             ],
             [
              1,
              "#f0f921"
             ]
            ],
            "type": "histogram2dcontour"
           }
          ],
          "mesh3d": [
           {
            "colorbar": {
             "outlinewidth": 0,
             "ticks": ""
            },
            "type": "mesh3d"
           }
          ],
          "parcoords": [
           {
            "line": {
             "colorbar": {
              "outlinewidth": 0,
              "ticks": ""
             }
            },
            "type": "parcoords"
           }
          ],
          "pie": [
           {
            "automargin": true,
            "type": "pie"
           }
          ],
          "scatter": [
           {
            "fillpattern": {
             "fillmode": "overlay",
             "size": 10,
             "solidity": 0.2
            },
            "type": "scatter"
           }
          ],
          "scatter3d": [
           {
            "line": {
             "colorbar": {
              "outlinewidth": 0,
              "ticks": ""
             }
            },
            "marker": {
             "colorbar": {
              "outlinewidth": 0,
              "ticks": ""
             }
            },
            "type": "scatter3d"
           }
          ],
          "scattercarpet": [
           {
            "marker": {
             "colorbar": {
              "outlinewidth": 0,
              "ticks": ""
             }
            },
            "type": "scattercarpet"
           }
          ],
          "scattergeo": [
           {
            "marker": {
             "colorbar": {
              "outlinewidth": 0,
              "ticks": ""
             }
            },
            "type": "scattergeo"
           }
          ],
          "scattergl": [
           {
            "marker": {
             "colorbar": {
              "outlinewidth": 0,
              "ticks": ""
             }
            },
            "type": "scattergl"
           }
          ],
          "scattermapbox": [
           {
            "marker": {
             "colorbar": {
              "outlinewidth": 0,
              "ticks": ""
             }
            },
            "type": "scattermapbox"
           }
          ],
          "scatterpolar": [
           {
            "marker": {
             "colorbar": {
              "outlinewidth": 0,
              "ticks": ""
             }
            },
            "type": "scatterpolar"
           }
          ],
          "scatterpolargl": [
           {
            "marker": {
             "colorbar": {
              "outlinewidth": 0,
              "ticks": ""
             }
            },
            "type": "scatterpolargl"
           }
          ],
          "scatterternary": [
           {
            "marker": {
             "colorbar": {
              "outlinewidth": 0,
              "ticks": ""
             }
            },
            "type": "scatterternary"
           }
          ],
          "surface": [
           {
            "colorbar": {
             "outlinewidth": 0,
             "ticks": ""
            },
            "colorscale": [
             [
              0,
              "#0d0887"
             ],
             [
              0.1111111111111111,
              "#46039f"
             ],
             [
              0.2222222222222222,
              "#7201a8"
             ],
             [
              0.3333333333333333,
              "#9c179e"
             ],
             [
              0.4444444444444444,
              "#bd3786"
             ],
             [
              0.5555555555555556,
              "#d8576b"
             ],
             [
              0.6666666666666666,
              "#ed7953"
             ],
             [
              0.7777777777777778,
              "#fb9f3a"
             ],
             [
              0.8888888888888888,
              "#fdca26"
             ],
             [
              1,
              "#f0f921"
             ]
            ],
            "type": "surface"
           }
          ],
          "table": [
           {
            "cells": {
             "fill": {
              "color": "#EBF0F8"
             },
             "line": {
              "color": "white"
             }
            },
            "header": {
             "fill": {
              "color": "#C8D4E3"
             },
             "line": {
              "color": "white"
             }
            },
            "type": "table"
           }
          ]
         },
         "layout": {
          "annotationdefaults": {
           "arrowcolor": "#2a3f5f",
           "arrowhead": 0,
           "arrowwidth": 1
          },
          "autotypenumbers": "strict",
          "coloraxis": {
           "colorbar": {
            "outlinewidth": 0,
            "ticks": ""
           }
          },
          "colorscale": {
           "diverging": [
            [
             0,
             "#8e0152"
            ],
            [
             0.1,
             "#c51b7d"
            ],
            [
             0.2,
             "#de77ae"
            ],
            [
             0.3,
             "#f1b6da"
            ],
            [
             0.4,
             "#fde0ef"
            ],
            [
             0.5,
             "#f7f7f7"
            ],
            [
             0.6,
             "#e6f5d0"
            ],
            [
             0.7,
             "#b8e186"
            ],
            [
             0.8,
             "#7fbc41"
            ],
            [
             0.9,
             "#4d9221"
            ],
            [
             1,
             "#276419"
            ]
           ],
           "sequential": [
            [
             0,
             "#0d0887"
            ],
            [
             0.1111111111111111,
             "#46039f"
            ],
            [
             0.2222222222222222,
             "#7201a8"
            ],
            [
             0.3333333333333333,
             "#9c179e"
            ],
            [
             0.4444444444444444,
             "#bd3786"
            ],
            [
             0.5555555555555556,
             "#d8576b"
            ],
            [
             0.6666666666666666,
             "#ed7953"
            ],
            [
             0.7777777777777778,
             "#fb9f3a"
            ],
            [
             0.8888888888888888,
             "#fdca26"
            ],
            [
             1,
             "#f0f921"
            ]
           ],
           "sequentialminus": [
            [
             0,
             "#0d0887"
            ],
            [
             0.1111111111111111,
             "#46039f"
            ],
            [
             0.2222222222222222,
             "#7201a8"
            ],
            [
             0.3333333333333333,
             "#9c179e"
            ],
            [
             0.4444444444444444,
             "#bd3786"
            ],
            [
             0.5555555555555556,
             "#d8576b"
            ],
            [
             0.6666666666666666,
             "#ed7953"
            ],
            [
             0.7777777777777778,
             "#fb9f3a"
            ],
            [
             0.8888888888888888,
             "#fdca26"
            ],
            [
             1,
             "#f0f921"
            ]
           ]
          },
          "colorway": [
           "#636efa",
           "#EF553B",
           "#00cc96",
           "#ab63fa",
           "#FFA15A",
           "#19d3f3",
           "#FF6692",
           "#B6E880",
           "#FF97FF",
           "#FECB52"
          ],
          "font": {
           "color": "#2a3f5f"
          },
          "geo": {
           "bgcolor": "white",
           "lakecolor": "white",
           "landcolor": "#E5ECF6",
           "showlakes": true,
           "showland": true,
           "subunitcolor": "white"
          },
          "hoverlabel": {
           "align": "left"
          },
          "hovermode": "closest",
          "mapbox": {
           "style": "light"
          },
          "paper_bgcolor": "white",
          "plot_bgcolor": "#E5ECF6",
          "polar": {
           "angularaxis": {
            "gridcolor": "white",
            "linecolor": "white",
            "ticks": ""
           },
           "bgcolor": "#E5ECF6",
           "radialaxis": {
            "gridcolor": "white",
            "linecolor": "white",
            "ticks": ""
           }
          },
          "scene": {
           "xaxis": {
            "backgroundcolor": "#E5ECF6",
            "gridcolor": "white",
            "gridwidth": 2,
            "linecolor": "white",
            "showbackground": true,
            "ticks": "",
            "zerolinecolor": "white"
           },
           "yaxis": {
            "backgroundcolor": "#E5ECF6",
            "gridcolor": "white",
            "gridwidth": 2,
            "linecolor": "white",
            "showbackground": true,
            "ticks": "",
            "zerolinecolor": "white"
           },
           "zaxis": {
            "backgroundcolor": "#E5ECF6",
            "gridcolor": "white",
            "gridwidth": 2,
            "linecolor": "white",
            "showbackground": true,
            "ticks": "",
            "zerolinecolor": "white"
           }
          },
          "shapedefaults": {
           "line": {
            "color": "#2a3f5f"
           }
          },
          "ternary": {
           "aaxis": {
            "gridcolor": "white",
            "linecolor": "white",
            "ticks": ""
           },
           "baxis": {
            "gridcolor": "white",
            "linecolor": "white",
            "ticks": ""
           },
           "bgcolor": "#E5ECF6",
           "caxis": {
            "gridcolor": "white",
            "linecolor": "white",
            "ticks": ""
           }
          },
          "title": {
           "x": 0.05
          },
          "xaxis": {
           "automargin": true,
           "gridcolor": "white",
           "linecolor": "white",
           "ticks": "",
           "title": {
            "standoff": 15
           },
           "zerolinecolor": "white",
           "zerolinewidth": 2
          },
          "yaxis": {
           "automargin": true,
           "gridcolor": "white",
           "linecolor": "white",
           "ticks": "",
           "title": {
            "standoff": 15
           },
           "zerolinecolor": "white",
           "zerolinewidth": 2
          }
         }
        },
        "xaxis": {
         "anchor": "y",
         "domain": [
          0,
          1
         ],
         "title": {
          "text": "0"
         }
        },
        "yaxis": {
         "anchor": "x",
         "domain": [
          0,
          1
         ],
         "title": {
          "text": "1"
         }
        }
       }
      },
      "text/html": [
       "<div>                            <div id=\"318719ef-a9c7-4284-905b-11c281d5e01a\" class=\"plotly-graph-div\" style=\"height:525px; width:100%;\"></div>            <script type=\"text/javascript\">                require([\"plotly\"], function(Plotly) {                    window.PLOTLYENV=window.PLOTLYENV || {};                                    if (document.getElementById(\"318719ef-a9c7-4284-905b-11c281d5e01a\")) {                    Plotly.newPlot(                        \"318719ef-a9c7-4284-905b-11c281d5e01a\",                        [{\"hovertemplate\":\"0=%{x}\\u003cbr\\u003e1=%{y}\\u003cbr\\u003ecolor=%{marker.color}\\u003cextra\\u003e\\u003c\\u002fextra\\u003e\",\"legendgroup\":\"\",\"marker\":{\"color\":[1.0,1.0,0.0,1.0,0.0,1.0,0.0,1.0,0.0,1.0,1.0,1.0,0.0,0.0,1.0,1.0,1.0,0.0,0.0,1.0,0.0,0.0,1.0,1.0,0.0,0.0,1.0,1.0,1.0,1.0,1.0,1.0,0.0,1.0,1.0,1.0,1.0,1.0,1.0,1.0,1.0,1.0,1.0,1.0,1.0,1.0,1.0,1.0,1.0,1.0,1.0,0.0,0.0,1.0,1.0,1.0,1.0,0.0,1.0,0.0,0.0,0.0,1.0,0.0,0.0,0.0,1.0,0.0,0.0,0.0,0.0,0.0,0.0,0.0,0.0,1.0,0.0,0.0,0.0,0.0,0.0,0.0,0.0,0.0,0.0,0.0,1.0,0.0,1.0,1.0,1.0,1.0,1.0,0.0,0.0,0.0,1.0,1.0,1.0,1.0,0.0,0.0,0.0,1.0,0.0,0.0,0.0,0.0,0.0,1.0,0.0,1.0,0.0,0.0,1.0,1.0,1.0,1.0,1.0,0.0,0.0,1.0,1.0,0.0,1.0,0.0,0.0,1.0,0.0,0.0,0.0,0.0,0.0,0.0,0.0,1.0,0.0,0.0,1.0,0.0,0.0,0.0,0.0,1.0,0.0,0.0,0.0,1.0,0.0,0.0,0.0,1.0,0.0,1.0,0.0,1.0,1.0,0.0,1.0,0.0,0.0,0.0,0.0,0.0,0.0,0.0,0.0,0.0,0.0,0.0,0.0,0.0,0.0,1.0,1.0,1.0,1.0,1.0,1.0,1.0,0.0,1.0,0.0,0.0,1.0,1.0,1.0,0.0,1.0,0.0,1.0,1.0,1.0,0.0,0.0,0.0,0.0,0.0,1.0,0.0,0.0,1.0,0.0,1.0,1.0,0.0,1.0,1.0,0.0,0.0,1.0,1.0,1.0,0.0,0.0,0.0,1.0,0.0,1.0,1.0,1.0,1.0,0.0,0.0,1.0,0.0,1.0,1.0,0.0,1.0,0.0,0.0,0.0,1.0,1.0,1.0,1.0,1.0,0.0,0.0,1.0,0.0,0.0,1.0,1.0,1.0,0.0,0.0,0.0,0.0,0.0,0.0,0.0,0.0,0.0,0.0,0.0,0.0,0.0,0.0,0.0,0.0,1.0,1.0,1.0,1.0,1.0,0.0,0.0,0.0,1.0,1.0,0.0,1.0,1.0,0.0,0.0,0.0,1.0,1.0,0.0,0.0,1.0,0.0,0.0,0.0,0.0,0.0,1.0,1.0,0.0,0.0,0.0,0.0,1.0,1.0,0.0,0.0,0.0,1.0,1.0,0.0,0.0,0.0,0.0,0.0,0.0,0.0,0.0,0.0,0.0,0.0,0.0,0.0,0.0,0.0,0.0,0.0,0.0,1.0,0.0,1.0,0.0,1.0,0.0,1.0,1.0,0.0,0.0,0.0,0.0,0.0,0.0,0.0,0.0,0.0,0.0,0.0,1.0,0.0,0.0,1.0,1.0,1.0,1.0,1.0,0.0,1.0,1.0,1.0,0.0,1.0,1.0,1.0,1.0,1.0,1.0,0.0,1.0,0.0,1.0,0.0,1.0,0.0,0.0,1.0,1.0,0.0,1.0,1.0,1.0,0.0,0.0,1.0,1.0,1.0,0.0,1.0,1.0,1.0,1.0,0.0,1.0,0.0,1.0,1.0,0.0,0.0,1.0,0.0,0.0,1.0,0.0,0.0,1.0,0.0,0.0,0.0,1.0,0.0,1.0,1.0,0.0,0.0,0.0,1.0,1.0,1.0,1.0,1.0,0.0,0.0,0.0,0.0,1.0,0.0,1.0,1.0,0.0,0.0,1.0,0.0],\"coloraxis\":\"coloraxis\",\"symbol\":\"circle\"},\"mode\":\"markers\",\"name\":\"\",\"orientation\":\"v\",\"showlegend\":false,\"x\":[10.999899864196777,13.13646125793457,-16.790557861328125,13.768545150756836,-1.5207167863845825,11.885851860046387,5.501010894775391,10.23151683807373,18.633703231811523,11.516712188720703,-1.9634615182876587,-4.73558235168457,-14.387775421142578,-25.9117374420166,4.230811595916748,-12.013500213623047,-19.066265106201172,-15.934020042419434,-2.5026462078094482,-11.541716575622559,3.3167383670806885,-3.0548205375671387,-9.237092971801758,9.7081937789917,6.165737152099609,6.193404197692871,-7.926943778991699,0.00755150243639946,-6.676782131195068,9.571742057800293,3.520139217376709,-1.7832518815994263,-8.81826114654541,-7.155993461608887,-19.371387481689453,-1.432742953300476,-4.252877235412598,3.0308616161346436,-8.69968318939209,-12.411791801452637,7.340743064880371,3.437798023223877,7.235811233520508,2.6016464233398438,16.341632843017578,-5.026208400726318,-19.803245544433594,-1.102366328239441,4.762990474700928,3.342144250869751,-24.999282836914062,-6.556125164031982,15.204564094543457,-5.073275566101074,-20.022781372070312,-13.59522819519043,-4.455928325653076,-22.647594451904297,-6.21084451675415,11.254919052124023,-17.588809967041016,-10.708066940307617,2.4073333740234375,-27.322622299194336,-25.927860260009766,4.637454986572266,-6.5256829261779785,11.506451606750488,-19.837446212768555,13.588659286499023,14.565385818481445,-5.519078254699707,-0.3844386041164398,-0.92820143699646,3.849548101425171,-0.10611195117235184,5.198200702667236,3.4902870655059814,10.418164253234863,3.787123203277588,12.954262733459473,7.99616813659668,13.960485458374023,3.4964520931243896,6.714035511016846,3.2124643325805664,-0.29544469714164734,8.96371078491211,-24.065074920654297,3.52530837059021,17.975996017456055,-4.25432825088501,3.4136765003204346,-4.397314071655273,0.40410226583480835,14.830939292907715,8.52353572845459,-8.369291305541992,13.557489395141602,-6.361008167266846,4.265715599060059,17.545501708984375,-1.938964605331421,-8.38025188446045,-4.636292934417725,16.44601821899414,9.871419906616211,-4.866127967834473,-5.09485387802124,6.478759765625,4.993906497955322,-22.815397262573242,-10.174878120422363,-4.5212321281433105,9.347628593444824,0.09509024769067764,-18.6446590423584,-7.482176780700684,-8.078471183776855,-5.761425018310547,-4.149998188018799,-14.859322547912598,-0.8788242340087891,-26.61626625061035,-23.38976287841797,-0.16143137216567993,13.043120384216309,-7.6057915687561035,13.595163345336914,6.933182239532471,3.2165262699127197,12.605814933776855,12.06701374053955,18.100622177124023,12.617640495300293,0.3207223117351532,-9.820460319519043,11.553959846496582,-6.0205793380737305,-18.481243133544922,5.335538864135742,-10.381952285766602,4.296470642089844,10.138008117675781,8.392640113830566,1.6016680002212524,-14.885921478271484,2.383260488510132,12.176409721374512,-12.702366828918457,-17.18185806274414,16.779470443725586,7.525221347808838,1.7238950729370117,17.841032028198242,1.265325665473938,-3.618448495864868,8.707229614257812,2.184203624725342,6.1599578857421875,2.5714237689971924,-15.954760551452637,4.608875751495361,-3.8498315811157227,10.062353134155273,11.095561981201172,14.985387802124023,-17.67898178100586,1.1573805809020996,-18.367923736572266,3.5485615730285645,3.906099319458008,6.957200050354004,-18.05866050720215,8.657841682434082,-22.825510025024414,-18.145381927490234,-18.423131942749023,-12.837616920471191,-7.105991363525391,-14.471884727478027,-24.40456199645996,-23.683969497680664,-2.8134560585021973,4.064772129058838,-0.38547584414482117,-8.073476791381836,-5.237170696258545,-23.33274269104004,-8.451827049255371,2.8330836296081543,13.71695613861084,5.522523403167725,9.816181182861328,10.348037719726562,7.698963642120361,7.961004257202148,17.866439819335938,-11.295867919921875,10.719882011413574,-16.067644119262695,-12.447723388671875,-18.172603607177734,7.978005409240723,-8.534196853637695,-10.29504680633545,4.334960460662842,13.43990421295166,-16.444988250732422,-16.546960830688477,16.287967681884766,17.49555015563965,-8.560197830200195,14.889549255371094,-0.8811044096946716,-9.366495132446289,-14.879988670349121,-17.566564559936523,-8.875247955322266,13.282217979431152,-13.142767906188965,-0.961930513381958,-22.03034782409668,11.829791069030762,-0.028318926692008972,15.316868782043457,-20.097997665405273,-13.939270973205566,-18.060531616210938,5.883358478546143,-17.06368064880371,-25.862062454223633,10.303160667419434,-24.284738540649414,-12.499371528625488,-11.986673355102539,-20.71843719482422,10.913473129272461,5.916740894317627,1.2059403657913208,-18.407751083374023,5.052712440490723,14.49184513092041,11.051939964294434,15.5173978805542,-4.391871929168701,-3.408013343811035,-8.753849983215332,-24.789894104003906,15.94849681854248,1.4786521196365356,3.58058500289917,-6.531508922576904,9.715554237365723,11.751744270324707,10.642220497131348,12.739103317260742,18.385517120361328,-23.524389266967773,11.439428329467773,-7.8921637535095215,7.996130466461182,12.297463417053223,2.490438461303711,-5.042943000793457,17.019807815551758,-15.713433265686035,-4.960574150085449,6.081665515899658,-18.482587814331055,7.0423970222473145,-2.1211180686950684,11.053471565246582,9.26279067993164,1.492421269416809,11.649224281311035,-0.6912173628807068,-1.4475735425949097,-2.2114462852478027,8.458358764648438,-7.335019111633301,12.542973518371582,-15.449069023132324,3.237208843231201,2.8686304092407227,13.021747589111328,10.082708358764648,14.342951774597168,-13.179571151733398,-10.113378524780273,4.767436981201172,10.632463455200195,11.99284839630127,11.076029777526855,2.8894217014312744,18.51649284362793,-15.67946720123291,15.93535327911377,-12.791478157043457,-3.3494763374328613,2.6963613033294678,-9.37441349029541,-15.059167861938477,8.878003120422363,9.522727012634277,5.114737033843994,6.152894496917725,8.926196098327637,7.659533977508545,1.3498491048812866,7.577403545379639,7.802677154541016,-10.619659423828125,3.235064744949341,12.35580825805664,13.499971389770508,-27.639053344726562,-11.022177696228027,-2.850745439529419,9.006878852844238,14.618547439575195,3.4714114665985107,8.724984169006348,0.6253295540809631,-26.698348999023438,3.3443849086761475,-3.8069496154785156,0.35246098041534424,-11.997547149658203,-24.865690231323242,-4.327101230621338,-13.922327995300293,-21.2585506439209,11.500025749206543,9.352811813354492,13.803851127624512,6.043111324310303,1.6424936056137085,6.90374231338501,-15.998997688293457,-16.59980583190918,8.545364379882812,4.386308193206787,10.166265487670898,17.474693298339844,10.51491641998291,1.081163763999939,-9.580073356628418,7.938107013702393,2.278812885284424,-16.655031204223633,7.759122371673584,-7.004656791687012,6.8645195960998535,5.573119640350342,2.206500291824341,6.8218770027160645,-26.996442794799805,11.481302261352539,-2.3102333545684814,-2.3586933612823486,-10.040813446044922,-17.257492065429688,-5.69286584854126,-11.044252395629883,-18.896469116210938,3.128594160079956,3.229559898376465,-2.7607569694519043,4.123377799987793,2.8039774894714355,10.663288116455078,3.440040111541748,-9.110586166381836,-11.255885124206543,13.058581352233887,13.855661392211914,15.673883438110352,8.253519058227539,-5.296712875366211,-21.95034408569336,-19.893573760986328,1.4288854598999023,-14.545802116394043,3.7510628700256348,-14.556208610534668,-18.680803298950195,9.045520782470703,-15.850646018981934,10.895545959472656,-6.690639495849609,15.737024307250977,16.141382217407227,9.633484840393066,15.867671012878418,14.62217903137207,13.137116432189941,12.471664428710938,-0.40374282002449036,8.670553207397461,-17.48676109313965,-22.18134880065918,-19.947608947753906,11.641973495483398,5.871322154998779,1.2566509246826172,-13.755634307861328,5.063812732696533,12.803136825561523,-16.23459815979004,-23.334640502929688,-23.928220748901367,-0.06408494710922241,10.645276069641113,7.542966842651367,-19.321834564208984,-10.14008617401123,-17.490856170654297,-16.86263084411621,-22.908428192138672,-27.26734733581543,2.8615458011627197],\"xaxis\":\"x\",\"y\":[-1.4477722644805908,-2.570115566253662,4.123456001281738,7.003957748413086,2.2623932361602783,-16.111587524414062,-8.970293045043945,3.2343883514404297,-5.6405816078186035,-1.168035864830017,5.991945266723633,1.2718632221221924,-3.1625638008117676,6.579463481903076,-16.90322494506836,0.8360503911972046,5.2241058349609375,5.7876715660095215,-2.52851939201355,10.28217601776123,-13.969496726989746,3.1168911457061768,-1.5305384397506714,1.5410243272781372,-13.89197063446045,-13.979208946228027,4.055501937866211,-0.12877102196216583,-1.118747591972351,-5.24268913269043,13.365375518798828,-0.10151637345552444,9.277137756347656,-6.506333827972412,8.856488227844238,-4.4807634353637695,5.433549880981445,14.154632568359375,4.135947227478027,7.968641757965088,4.631420135498047,13.746184349060059,-2.7216174602508545,14.669571876525879,-5.554520606994629,13.530333518981934,9.6410551071167,-11.60417366027832,-6.691270351409912,8.851358413696289,4.814849853515625,-4.668826580047607,5.826602935791016,-1.1403372287750244,11.563445091247559,0.9098570346832275,-7.125338554382324,2.470517873764038,5.871125221252441,4.082953453063965,0.45190536975860596,0.7975464463233948,-14.409507751464844,5.941012859344482,5.233517169952393,-12.397388458251953,-7.228442192077637,-10.179564476013184,7.111396789550781,5.9764509201049805,0.7035479545593262,1.105875015258789,1.7914416790008545,-7.98450231552124,0.4376501142978668,-8.615457534790039,1.3874504566192627,-10.652894973754883,6.247660160064697,-0.24831624329090118,0.6482717394828796,-11.697650909423828,0.2643342912197113,-1.0487112998962402,1.0096009969711304,-1.891340970993042,2.9702093601226807,5.703032970428467,6.095459938049316,13.480319023132324,-5.092217445373535,-6.032504081726074,11.43961238861084,8.97545051574707,-6.174278259277344,7.861449241638184,4.3295087814331055,0.7109737992286682,-9.320016860961914,-0.9901862740516663,-16.76972198486328,0.49658748507499695,3.9370546340942383,8.667891502380371,8.152582168579102,1.873479962348938,8.78400993347168,-0.8302446603775024,3.403761863708496,-1.8240193128585815,-3.870582103729248,0.12117423117160797,4.566729545593262,8.324965476989746,-7.7660088539123535,-11.524444580078125,11.141141891479492,-0.4290754795074463,10.700736045837402,1.5818440914154053,-6.105086326599121,-2.467710256576538,-11.155754089355469,3.946164131164551,4.063094139099121,-3.7194135189056396,8.794404029846191,-6.356579303741455,-2.288149118423462,2.3184335231781006,0.36661964654922485,1.7972171306610107,-12.805512428283691,0.8334501385688782,7.365955352783203,-7.962345600128174,1.5604439973831177,6.812712669372559,-2.8023791313171387,7.949140548706055,5.283542156219482,-4.176246643066406,-7.282965660095215,9.582098007202148,2.3930716514587402,0.4198454022407532,-2.8702869415283203,-11.855491638183594,6.95891809463501,5.587627410888672,4.154975891113281,-4.27432918548584,-10.531347274780273,1.6639535427093506,4.643052577972412,-10.008761405944824,2.3552095890045166,-15.774178504943848,-7.553874492645264,-8.944007873535156,1.202915906906128,5.822636127471924,-0.15514464676380157,-10.631889343261719,-10.447000503540039,-6.733314037322998,-1.190141201019287,2.275273323059082,-9.043012619018555,-3.794767379760742,-6.902364253997803,1.1846777200698853,-8.3370943069458,-3.2098567485809326,-8.11345386505127,3.8531062602996826,5.462906837463379,7.23087739944458,1.0638203620910645,6.247902870178223,-5.080374240875244,3.5056514739990234,5.889919757843018,-5.179775714874268,-6.012102127075195,-14.330419540405273,5.866186618804932,6.097688674926758,2.8009228706359863,9.765422821044922,5.960990905761719,-9.684179306030273,-10.468118667602539,-4.126502990722656,-10.704414367675781,-5.892107009887695,-6.209521293640137,4.7277936935424805,2.5017709732055664,-0.3149690330028534,-3.8992772102355957,-2.5592517852783203,7.095428943634033,-8.984212875366211,2.179224729537964,2.5394480228424072,6.212403297424316,-3.0226831436157227,9.197893142700195,-3.719318389892578,-6.327268600463867,-5.899470806121826,7.683061599731445,-4.183505535125732,-4.738753318786621,-2.4966957569122314,1.852137565612793,3.9349918365478516,-0.14993195235729218,-5.391905307769775,-0.3307344913482666,4.563913822174072,3.325373888015747,-15.674053192138672,-1.9876186847686768,-13.415671348571777,1.2047709226608276,5.627302646636963,3.14341402053833,-3.019982099533081,-0.7945088744163513,4.530698299407959,-5.725399971008301,4.862823009490967,6.951552867889404,3.510770320892334,10.41740608215332,-13.675763130187988,-11.647056579589844,-7.409029960632324,1.7291003465652466,-7.634608268737793,-12.802692413330078,3.2118873596191406,6.768640041351318,-4.323294639587402,-4.137478351593018,-5.9189276695251465,2.386470079421997,-5.2646026611328125,-1.9051519632339478,10.508481979370117,6.238157272338867,-0.6160330772399902,5.606616497039795,1.3752517700195312,-12.335348129272461,-4.50111198425293,4.9180450439453125,-5.399774074554443,7.569497585296631,-16.19997787475586,2.1885552406311035,-3.8327817916870117,13.526973724365234,5.794666767120361,-1.0362895727157593,2.719146728515625,-4.986274719238281,-4.081540107727051,-7.704317092895508,-8.724610328674316,-14.734890937805176,8.314291000366211,3.933403968811035,7.762459754943848,-6.03351354598999,-6.42659330368042,5.178195953369141,8.233695983886719,-3.5681710243225098,3.818162202835083,1.8034796714782715,-4.289751052856445,-2.3538224697113037,-12.344541549682617,7.34537935256958,-8.465036392211914,2.3763937950134277,5.386124134063721,4.523684978485107,0.5668174028396606,-17.002954483032227,-5.692534446716309,4.763004302978516,-0.9010745882987976,10.202067375183105,7.577933311462402,-5.687806606292725,12.853349685668945,9.502616882324219,3.682971477508545,6.256529808044434,-2.66931414604187,0.39848592877388,10.056519508361816,-6.551746368408203,-9.948405265808105,-7.632120132446289,-11.268394470214844,-9.787714004516602,-2.3516275882720947,4.485178470611572,-3.012769937515259,-0.026678185909986496,3.771480083465576,5.901936054229736,-1.2417924404144287,-4.324889183044434,-15.642277717590332,-0.9289008975028992,7.706238269805908,-1.0967488288879395,-10.3457612991333,5.539595127105713,-9.75086498260498,-9.847738265991211,-8.81346321105957,2.582632303237915,3.2128734588623047,-2.8237762451171875,8.945384979248047,2.464492082595825,5.746336460113525,-8.989524841308594,-11.26182746887207,-8.136407852172852,-6.083583354949951,-9.610991477966309,0.8027903437614441,2.5868566036224365,-12.26834487915039,-8.633416175842285,-4.232990264892578,5.587944507598877,-7.014045715332031,-4.120826721191406,-0.5485446453094482,-3.9691970348358154,11.507372856140137,0.9051035642623901,-6.681049823760986,-8.039031982421875,-6.5777201652526855,-3.860697031021118,10.937175750732422,-4.672120094299316,3.2878341674804688,-14.194804191589355,-2.1246495246887207,0.020468318834900856,2.0100011825561523,8.096625328063965,6.879843235015869,-1.091113567352295,3.3827362060546875,8.428460121154785,-7.8443522453308105,0.16815271973609924,5.717595100402832,-4.8962483406066895,4.561683177947998,9.683945655822754,7.03684139251709,5.540010452270508,5.939952850341797,-13.879791259765625,-2.3008511066436768,-0.2520624101161957,2.8780484199523926,4.55863618850708,4.756420135498047,10.681148529052734,5.832282066345215,3.4621102809906006,7.528820514678955,11.168521881103516,3.8376553058624268,3.2117395401000977,-8.713293075561523,2.1114284992218018,-5.039303302764893,-2.661226749420166,4.871619701385498,8.285833358764648,2.5645601749420166,7.467068672180176,-6.951811790466309,-14.35666275024414,-6.6739325523376465,5.665940284729004,5.020087242126465,0.9355573058128357,-4.15134334564209,-10.262556076049805,-3.320573568344116,3.7558422088623047,4.8466267585754395,-16.728818893432617,11.100713729858398,1.5304474830627441,3.8156485557556152,-10.193278312683105,-2.6954290866851807,-4.199796199798584,2.7005815505981445,7.3392181396484375,5.019029140472412,-3.557955503463745,3.235642910003662,6.584168434143066,10.009566307067871],\"yaxis\":\"y\",\"type\":\"scatter\"}],                        {\"template\":{\"data\":{\"histogram2dcontour\":[{\"type\":\"histogram2dcontour\",\"colorbar\":{\"outlinewidth\":0,\"ticks\":\"\"},\"colorscale\":[[0.0,\"#0d0887\"],[0.1111111111111111,\"#46039f\"],[0.2222222222222222,\"#7201a8\"],[0.3333333333333333,\"#9c179e\"],[0.4444444444444444,\"#bd3786\"],[0.5555555555555556,\"#d8576b\"],[0.6666666666666666,\"#ed7953\"],[0.7777777777777778,\"#fb9f3a\"],[0.8888888888888888,\"#fdca26\"],[1.0,\"#f0f921\"]]}],\"choropleth\":[{\"type\":\"choropleth\",\"colorbar\":{\"outlinewidth\":0,\"ticks\":\"\"}}],\"histogram2d\":[{\"type\":\"histogram2d\",\"colorbar\":{\"outlinewidth\":0,\"ticks\":\"\"},\"colorscale\":[[0.0,\"#0d0887\"],[0.1111111111111111,\"#46039f\"],[0.2222222222222222,\"#7201a8\"],[0.3333333333333333,\"#9c179e\"],[0.4444444444444444,\"#bd3786\"],[0.5555555555555556,\"#d8576b\"],[0.6666666666666666,\"#ed7953\"],[0.7777777777777778,\"#fb9f3a\"],[0.8888888888888888,\"#fdca26\"],[1.0,\"#f0f921\"]]}],\"heatmap\":[{\"type\":\"heatmap\",\"colorbar\":{\"outlinewidth\":0,\"ticks\":\"\"},\"colorscale\":[[0.0,\"#0d0887\"],[0.1111111111111111,\"#46039f\"],[0.2222222222222222,\"#7201a8\"],[0.3333333333333333,\"#9c179e\"],[0.4444444444444444,\"#bd3786\"],[0.5555555555555556,\"#d8576b\"],[0.6666666666666666,\"#ed7953\"],[0.7777777777777778,\"#fb9f3a\"],[0.8888888888888888,\"#fdca26\"],[1.0,\"#f0f921\"]]}],\"heatmapgl\":[{\"type\":\"heatmapgl\",\"colorbar\":{\"outlinewidth\":0,\"ticks\":\"\"},\"colorscale\":[[0.0,\"#0d0887\"],[0.1111111111111111,\"#46039f\"],[0.2222222222222222,\"#7201a8\"],[0.3333333333333333,\"#9c179e\"],[0.4444444444444444,\"#bd3786\"],[0.5555555555555556,\"#d8576b\"],[0.6666666666666666,\"#ed7953\"],[0.7777777777777778,\"#fb9f3a\"],[0.8888888888888888,\"#fdca26\"],[1.0,\"#f0f921\"]]}],\"contourcarpet\":[{\"type\":\"contourcarpet\",\"colorbar\":{\"outlinewidth\":0,\"ticks\":\"\"}}],\"contour\":[{\"type\":\"contour\",\"colorbar\":{\"outlinewidth\":0,\"ticks\":\"\"},\"colorscale\":[[0.0,\"#0d0887\"],[0.1111111111111111,\"#46039f\"],[0.2222222222222222,\"#7201a8\"],[0.3333333333333333,\"#9c179e\"],[0.4444444444444444,\"#bd3786\"],[0.5555555555555556,\"#d8576b\"],[0.6666666666666666,\"#ed7953\"],[0.7777777777777778,\"#fb9f3a\"],[0.8888888888888888,\"#fdca26\"],[1.0,\"#f0f921\"]]}],\"surface\":[{\"type\":\"surface\",\"colorbar\":{\"outlinewidth\":0,\"ticks\":\"\"},\"colorscale\":[[0.0,\"#0d0887\"],[0.1111111111111111,\"#46039f\"],[0.2222222222222222,\"#7201a8\"],[0.3333333333333333,\"#9c179e\"],[0.4444444444444444,\"#bd3786\"],[0.5555555555555556,\"#d8576b\"],[0.6666666666666666,\"#ed7953\"],[0.7777777777777778,\"#fb9f3a\"],[0.8888888888888888,\"#fdca26\"],[1.0,\"#f0f921\"]]}],\"mesh3d\":[{\"type\":\"mesh3d\",\"colorbar\":{\"outlinewidth\":0,\"ticks\":\"\"}}],\"scatter\":[{\"fillpattern\":{\"fillmode\":\"overlay\",\"size\":10,\"solidity\":0.2},\"type\":\"scatter\"}],\"parcoords\":[{\"type\":\"parcoords\",\"line\":{\"colorbar\":{\"outlinewidth\":0,\"ticks\":\"\"}}}],\"scatterpolargl\":[{\"type\":\"scatterpolargl\",\"marker\":{\"colorbar\":{\"outlinewidth\":0,\"ticks\":\"\"}}}],\"bar\":[{\"error_x\":{\"color\":\"#2a3f5f\"},\"error_y\":{\"color\":\"#2a3f5f\"},\"marker\":{\"line\":{\"color\":\"#E5ECF6\",\"width\":0.5},\"pattern\":{\"fillmode\":\"overlay\",\"size\":10,\"solidity\":0.2}},\"type\":\"bar\"}],\"scattergeo\":[{\"type\":\"scattergeo\",\"marker\":{\"colorbar\":{\"outlinewidth\":0,\"ticks\":\"\"}}}],\"scatterpolar\":[{\"type\":\"scatterpolar\",\"marker\":{\"colorbar\":{\"outlinewidth\":0,\"ticks\":\"\"}}}],\"histogram\":[{\"marker\":{\"pattern\":{\"fillmode\":\"overlay\",\"size\":10,\"solidity\":0.2}},\"type\":\"histogram\"}],\"scattergl\":[{\"type\":\"scattergl\",\"marker\":{\"colorbar\":{\"outlinewidth\":0,\"ticks\":\"\"}}}],\"scatter3d\":[{\"type\":\"scatter3d\",\"line\":{\"colorbar\":{\"outlinewidth\":0,\"ticks\":\"\"}},\"marker\":{\"colorbar\":{\"outlinewidth\":0,\"ticks\":\"\"}}}],\"scattermapbox\":[{\"type\":\"scattermapbox\",\"marker\":{\"colorbar\":{\"outlinewidth\":0,\"ticks\":\"\"}}}],\"scatterternary\":[{\"type\":\"scatterternary\",\"marker\":{\"colorbar\":{\"outlinewidth\":0,\"ticks\":\"\"}}}],\"scattercarpet\":[{\"type\":\"scattercarpet\",\"marker\":{\"colorbar\":{\"outlinewidth\":0,\"ticks\":\"\"}}}],\"carpet\":[{\"aaxis\":{\"endlinecolor\":\"#2a3f5f\",\"gridcolor\":\"white\",\"linecolor\":\"white\",\"minorgridcolor\":\"white\",\"startlinecolor\":\"#2a3f5f\"},\"baxis\":{\"endlinecolor\":\"#2a3f5f\",\"gridcolor\":\"white\",\"linecolor\":\"white\",\"minorgridcolor\":\"white\",\"startlinecolor\":\"#2a3f5f\"},\"type\":\"carpet\"}],\"table\":[{\"cells\":{\"fill\":{\"color\":\"#EBF0F8\"},\"line\":{\"color\":\"white\"}},\"header\":{\"fill\":{\"color\":\"#C8D4E3\"},\"line\":{\"color\":\"white\"}},\"type\":\"table\"}],\"barpolar\":[{\"marker\":{\"line\":{\"color\":\"#E5ECF6\",\"width\":0.5},\"pattern\":{\"fillmode\":\"overlay\",\"size\":10,\"solidity\":0.2}},\"type\":\"barpolar\"}],\"pie\":[{\"automargin\":true,\"type\":\"pie\"}]},\"layout\":{\"autotypenumbers\":\"strict\",\"colorway\":[\"#636efa\",\"#EF553B\",\"#00cc96\",\"#ab63fa\",\"#FFA15A\",\"#19d3f3\",\"#FF6692\",\"#B6E880\",\"#FF97FF\",\"#FECB52\"],\"font\":{\"color\":\"#2a3f5f\"},\"hovermode\":\"closest\",\"hoverlabel\":{\"align\":\"left\"},\"paper_bgcolor\":\"white\",\"plot_bgcolor\":\"#E5ECF6\",\"polar\":{\"bgcolor\":\"#E5ECF6\",\"angularaxis\":{\"gridcolor\":\"white\",\"linecolor\":\"white\",\"ticks\":\"\"},\"radialaxis\":{\"gridcolor\":\"white\",\"linecolor\":\"white\",\"ticks\":\"\"}},\"ternary\":{\"bgcolor\":\"#E5ECF6\",\"aaxis\":{\"gridcolor\":\"white\",\"linecolor\":\"white\",\"ticks\":\"\"},\"baxis\":{\"gridcolor\":\"white\",\"linecolor\":\"white\",\"ticks\":\"\"},\"caxis\":{\"gridcolor\":\"white\",\"linecolor\":\"white\",\"ticks\":\"\"}},\"coloraxis\":{\"colorbar\":{\"outlinewidth\":0,\"ticks\":\"\"}},\"colorscale\":{\"sequential\":[[0.0,\"#0d0887\"],[0.1111111111111111,\"#46039f\"],[0.2222222222222222,\"#7201a8\"],[0.3333333333333333,\"#9c179e\"],[0.4444444444444444,\"#bd3786\"],[0.5555555555555556,\"#d8576b\"],[0.6666666666666666,\"#ed7953\"],[0.7777777777777778,\"#fb9f3a\"],[0.8888888888888888,\"#fdca26\"],[1.0,\"#f0f921\"]],\"sequentialminus\":[[0.0,\"#0d0887\"],[0.1111111111111111,\"#46039f\"],[0.2222222222222222,\"#7201a8\"],[0.3333333333333333,\"#9c179e\"],[0.4444444444444444,\"#bd3786\"],[0.5555555555555556,\"#d8576b\"],[0.6666666666666666,\"#ed7953\"],[0.7777777777777778,\"#fb9f3a\"],[0.8888888888888888,\"#fdca26\"],[1.0,\"#f0f921\"]],\"diverging\":[[0,\"#8e0152\"],[0.1,\"#c51b7d\"],[0.2,\"#de77ae\"],[0.3,\"#f1b6da\"],[0.4,\"#fde0ef\"],[0.5,\"#f7f7f7\"],[0.6,\"#e6f5d0\"],[0.7,\"#b8e186\"],[0.8,\"#7fbc41\"],[0.9,\"#4d9221\"],[1,\"#276419\"]]},\"xaxis\":{\"gridcolor\":\"white\",\"linecolor\":\"white\",\"ticks\":\"\",\"title\":{\"standoff\":15},\"zerolinecolor\":\"white\",\"automargin\":true,\"zerolinewidth\":2},\"yaxis\":{\"gridcolor\":\"white\",\"linecolor\":\"white\",\"ticks\":\"\",\"title\":{\"standoff\":15},\"zerolinecolor\":\"white\",\"automargin\":true,\"zerolinewidth\":2},\"scene\":{\"xaxis\":{\"backgroundcolor\":\"#E5ECF6\",\"gridcolor\":\"white\",\"linecolor\":\"white\",\"showbackground\":true,\"ticks\":\"\",\"zerolinecolor\":\"white\",\"gridwidth\":2},\"yaxis\":{\"backgroundcolor\":\"#E5ECF6\",\"gridcolor\":\"white\",\"linecolor\":\"white\",\"showbackground\":true,\"ticks\":\"\",\"zerolinecolor\":\"white\",\"gridwidth\":2},\"zaxis\":{\"backgroundcolor\":\"#E5ECF6\",\"gridcolor\":\"white\",\"linecolor\":\"white\",\"showbackground\":true,\"ticks\":\"\",\"zerolinecolor\":\"white\",\"gridwidth\":2}},\"shapedefaults\":{\"line\":{\"color\":\"#2a3f5f\"}},\"annotationdefaults\":{\"arrowcolor\":\"#2a3f5f\",\"arrowhead\":0,\"arrowwidth\":1},\"geo\":{\"bgcolor\":\"white\",\"landcolor\":\"#E5ECF6\",\"subunitcolor\":\"white\",\"showland\":true,\"showlakes\":true,\"lakecolor\":\"white\"},\"title\":{\"x\":0.05},\"mapbox\":{\"style\":\"light\"}}},\"xaxis\":{\"anchor\":\"y\",\"domain\":[0.0,1.0],\"title\":{\"text\":\"0\"}},\"yaxis\":{\"anchor\":\"x\",\"domain\":[0.0,1.0],\"title\":{\"text\":\"1\"}},\"coloraxis\":{\"colorbar\":{\"title\":{\"text\":\"color\"}},\"colorscale\":[[0.0,\"#0d0887\"],[0.1111111111111111,\"#46039f\"],[0.2222222222222222,\"#7201a8\"],[0.3333333333333333,\"#9c179e\"],[0.4444444444444444,\"#bd3786\"],[0.5555555555555556,\"#d8576b\"],[0.6666666666666666,\"#ed7953\"],[0.7777777777777778,\"#fb9f3a\"],[0.8888888888888888,\"#fdca26\"],[1.0,\"#f0f921\"]]},\"legend\":{\"tracegroupgap\":0},\"margin\":{\"t\":60}},                        {\"responsive\": true}                    ).then(function(){\n",
       "                            \n",
       "var gd = document.getElementById('318719ef-a9c7-4284-905b-11c281d5e01a');\n",
       "var x = new MutationObserver(function (mutations, observer) {{\n",
       "        var display = window.getComputedStyle(gd).display;\n",
       "        if (!display || display === 'none') {{\n",
       "            console.log([gd, 'removed!']);\n",
       "            Plotly.purge(gd);\n",
       "            observer.disconnect();\n",
       "        }}\n",
       "}});\n",
       "\n",
       "// Listen for the removal of the full notebook cells\n",
       "var notebookContainer = gd.closest('#notebook-container');\n",
       "if (notebookContainer) {{\n",
       "    x.observe(notebookContainer, {childList: true});\n",
       "}}\n",
       "\n",
       "// Listen for the clearing of the current output cell\n",
       "var outputEl = gd.closest('.output');\n",
       "if (outputEl) {{\n",
       "    x.observe(outputEl, {childList: true});\n",
       "}}\n",
       "\n",
       "                        })                };                });            </script>        </div>"
      ]
     },
     "metadata": {},
     "output_type": "display_data"
    }
   ],
   "source": [
    "from sklearn.manifold import TSNE\n",
    "import plotly.express as px\n",
    "\n",
    "\n",
    "features = X\n",
    "\n",
    "tsne = TSNE(n_components=2, random_state=0)\n",
    "projections = tsne.fit_transform(features)\n",
    "\n",
    "fig = px.scatter(\n",
    "    projections, x=0, y=1,\n",
    "    color=y\n",
    ")\n",
    "fig.show()"
   ]
  },
  {
   "cell_type": "code",
   "execution_count": 41,
   "metadata": {},
   "outputs": [
    {
     "data": {
      "application/vnd.plotly.v1+json": {
       "config": {
        "plotlyServerURL": "https://plot.ly"
       },
       "data": [
        {
         "hovertemplate": "0=%{x}<br>1=%{y}<br>color=%{marker.color}<extra></extra>",
         "legendgroup": "",
         "marker": {
          "color": [
           1,
           1,
           0,
           1,
           0,
           1,
           0,
           1,
           0,
           1,
           1,
           1,
           0,
           0,
           1,
           1,
           1,
           0,
           0,
           1,
           0,
           0,
           1,
           1,
           0,
           0,
           1,
           1,
           1,
           1,
           1,
           1,
           0,
           1,
           1,
           1,
           1,
           1,
           1,
           1,
           1,
           1,
           1,
           1,
           1,
           1,
           1,
           1,
           1,
           1,
           1,
           0,
           0,
           1,
           1,
           1,
           1,
           0,
           1,
           0,
           0,
           0,
           1,
           0,
           0,
           0,
           1,
           0,
           0,
           0,
           0,
           0,
           0,
           0,
           0,
           1,
           0,
           0,
           0,
           0,
           0,
           0,
           0,
           0,
           0,
           0,
           1,
           0,
           1,
           1,
           1,
           1,
           1,
           0,
           0,
           0,
           1,
           1,
           1,
           1,
           0,
           0,
           0,
           1,
           0,
           0,
           0,
           0,
           0,
           1,
           0,
           1,
           0,
           0,
           1,
           1,
           1,
           1,
           1,
           0,
           0,
           1,
           1,
           0,
           1,
           0,
           0,
           1,
           0,
           0,
           0,
           0,
           0,
           0,
           0,
           1,
           0,
           0,
           1,
           0,
           0,
           0,
           0,
           1,
           0,
           0,
           0,
           1,
           0,
           0,
           0,
           1,
           0,
           1,
           0,
           1,
           1,
           0,
           1,
           0,
           0,
           0,
           0,
           0,
           0,
           0,
           0,
           0,
           0,
           0,
           0,
           0,
           0,
           1,
           1,
           1,
           1,
           1,
           1,
           1,
           0,
           1,
           0,
           0,
           1,
           1,
           1,
           0,
           1,
           0,
           1,
           1,
           1,
           0,
           0,
           0,
           0,
           0,
           1,
           0,
           0,
           1,
           0,
           1,
           1,
           0,
           1,
           1,
           0,
           0,
           1,
           1,
           1,
           0,
           0,
           0,
           1,
           0,
           1,
           1,
           1,
           1,
           0,
           0,
           1,
           0,
           1,
           1,
           0,
           1,
           0,
           0,
           0,
           1,
           1,
           1,
           1,
           1,
           0,
           0,
           1,
           0,
           0,
           1,
           1,
           1,
           0,
           0,
           0,
           0,
           0,
           0,
           0,
           0,
           0,
           0,
           0,
           0,
           0,
           0,
           0,
           0,
           1,
           1,
           1,
           1,
           1,
           0,
           0,
           0,
           1,
           1,
           0,
           1,
           1,
           0,
           0,
           0,
           1,
           1,
           0,
           0,
           1,
           0,
           0,
           0,
           0,
           0,
           1,
           1,
           0,
           0,
           0,
           0,
           1,
           1,
           0,
           0,
           0,
           1,
           1,
           0,
           0,
           0,
           0,
           0,
           0,
           0,
           0,
           0,
           0,
           0,
           0,
           0,
           0,
           0,
           0,
           0,
           0,
           1,
           0,
           1,
           0,
           1,
           0,
           1,
           1,
           0,
           0,
           0,
           0,
           0,
           0,
           0,
           0,
           0,
           0,
           0,
           1,
           0,
           0,
           1,
           1,
           1,
           1,
           1,
           0,
           1,
           1,
           1,
           0,
           1,
           1,
           1,
           1,
           1,
           1,
           0,
           1,
           0,
           1,
           0,
           1,
           0,
           0,
           1,
           1,
           0,
           1,
           1,
           1,
           0,
           0,
           1,
           1,
           1,
           0,
           1,
           1,
           1,
           1,
           0,
           1,
           0,
           1,
           1,
           0,
           0,
           1,
           0,
           0,
           1,
           0,
           0,
           1,
           0,
           0,
           0,
           1,
           0,
           1,
           1,
           0,
           0,
           0,
           1,
           1,
           1,
           1,
           1,
           0,
           0,
           0,
           0,
           1,
           0,
           1,
           1,
           0,
           0,
           1,
           0
          ],
          "coloraxis": "coloraxis",
          "symbol": "circle"
         },
         "mode": "markers",
         "name": "",
         "orientation": "v",
         "showlegend": false,
         "type": "scatter",
         "x": [
          6.645503520965576,
          6.496158599853516,
          11.56500244140625,
          7.9845194816589355,
          9.347753524780273,
          4.951057434082031,
          6.725446701049805,
          7.623162746429443,
          5.521290302276611,
          6.83637809753418,
          9.422712326049805,
          9.12393569946289,
          10.786272048950195,
          13.388228416442871,
          6.886996269226074,
          10.191229820251465,
          11.702832221984863,
          11.152528762817383,
          8.580552101135254,
          8.86207103729248,
          6.86470365524292,
          10.142189979553223,
          9.400596618652344,
          7.17082405090332,
          6.523465633392334,
          6.476320266723633,
          9.380152702331543,
          7.525565147399902,
          8.979843139648438,
          6.7378997802734375,
          6.871089458465576,
          8.752811431884766,
          9.383546829223633,
          8.670077323913574,
          10.912227630615234,
          8.07638168334961,
          8.728171348571777,
          6.902487277984619,
          9.851004600524902,
          10.269021034240723,
          7.071417331695557,
          6.8035407066345215,
          6.750038146972656,
          6.9165802001953125,
          5.547266006469727,
          10.675684928894043,
          11.28042221069336,
          7.3586320877075195,
          6.754125118255615,
          6.807103157043457,
          13.136248588562012,
          8.480085372924805,
          7.471955299377441,
          8.430222511291504,
          11.442002296447754,
          10.191349983215332,
          8.634783744812012,
          12.553104400634766,
          8.89752197265625,
          7.548681259155273,
          11.529158592224121,
          10.168255805969238,
          7.671444892883301,
          13.422150611877441,
          13.287371635437012,
          7.472375869750977,
          8.513943672180176,
          6.196028232574463,
          11.102190971374512,
          7.705309867858887,
          6.649665355682373,
          9.566671371459961,
          8.976740837097168,
          8.115273475646973,
          8.547212600708008,
          7.707634925842285,
          8.043248176574707,
          5.633445739746094,
          8.124432563781738,
          8.388032913208008,
          7.4900336265563965,
          5.830201625823975,
          6.488485336303711,
          8.068459510803223,
          6.2848711013793945,
          8.3480224609375,
          5.378891944885254,
          8.177693367004395,
          13.037508010864258,
          6.8582444190979,
          5.555590629577637,
          8.124439239501953,
          6.730819225311279,
          9.039341926574707,
          8.138299942016602,
          7.744074821472168,
          7.85303258895874,
          10.018896102905273,
          6.559370994567871,
          8.82274055480957,
          6.664717674255371,
          6.849070072174072,
          9.770771026611328,
          9.392633438110352,
          8.908918380737305,
          7.423603534698486,
          8.387380599975586,
          8.370430946350098,
          9.873202323913574,
          6.717781066894531,
          6.687690258026123,
          12.549661636352539,
          10.02440071105957,
          8.94522762298584,
          5.975409507751465,
          7.077077865600586,
          11.4558744430542,
          9.171558380126953,
          9.159847259521484,
          9.505870819091797,
          8.205883026123047,
          10.832460403442383,
          7.272012233734131,
          13.183770179748535,
          12.926803588867188,
          7.966429233551025,
          8.224300384521484,
          8.725513458251953,
          6.520376682281494,
          8.248019218444824,
          8.631928443908691,
          7.3604536056518555,
          5.290384292602539,
          7.162680625915527,
          8.123620986938477,
          7.78914213180542,
          9.806289672851562,
          8.06893253326416,
          8.798965454101562,
          11.517328262329102,
          7.179067134857178,
          9.570562362670898,
          6.856688022613525,
          8.425410270690918,
          7.9540276527404785,
          8.421666145324707,
          10.698297500610352,
          6.685174465179443,
          8.15045166015625,
          10.19732666015625,
          11.625387191772461,
          5.692570686340332,
          5.609363079071045,
          8.272109985351562,
          6.965847492218018,
          7.221478462219238,
          10.010442733764648,
          5.329376220703125,
          7.303656578063965,
          6.242674350738525,
          8.345848083496094,
          11.026016235351562,
          8.234646797180176,
          7.311390399932861,
          6.186357498168945,
          6.279087066650391,
          6.248708248138428,
          11.569565773010254,
          7.366880893707275,
          11.20103931427002,
          6.980588436126709,
          8.42330551147461,
          5.728515148162842,
          11.22636604309082,
          5.915669918060303,
          12.651494979858398,
          11.495497703552246,
          11.268799781799316,
          10.294347763061523,
          9.384306907653809,
          10.193942070007324,
          12.98459529876709,
          12.990806579589844,
          7.946649074554443,
          7.093616485595703,
          6.552483081817627,
          9.609833717346191,
          9.052168846130371,
          12.859931945800781,
          9.277356147766113,
          7.450183391571045,
          6.389617919921875,
          6.4086222648620605,
          6.281018257141113,
          6.5925726890563965,
          5.73769474029541,
          5.7761077880859375,
          6.8607354164123535,
          10.401700973510742,
          6.914813995361328,
          10.825136184692383,
          10.621186256408691,
          11.2919340133667,
          6.150008201599121,
          9.762430191040039,
          9.951873779296875,
          7.2587761878967285,
          6.402860164642334,
          10.82248306274414,
          11.050029754638672,
          5.44545841217041,
          5.432644844055176,
          9.415340423583984,
          5.9058966636657715,
          7.847079753875732,
          9.387006759643555,
          10.987954139709473,
          11.751862525939941,
          9.631654739379883,
          6.758258819580078,
          10.283493041992188,
          8.343408584594727,
          12.428635597229004,
          4.994978427886963,
          8.402497291564941,
          6.306865215301514,
          11.79354190826416,
          10.661232948303223,
          11.718419075012207,
          6.513387203216553,
          11.200392723083496,
          13.244304656982422,
          6.3887505531311035,
          12.864845275878906,
          10.152222633361816,
          10.543394088745117,
          11.537931442260742,
          5.304660320281982,
          6.425849437713623,
          7.662776470184326,
          11.596207618713379,
          6.1063232421875,
          6.537193298339844,
          7.4093241691589355,
          7.6095051765441895,
          8.310099601745605,
          8.306375503540039,
          10.135107040405273,
          12.819955825805664,
          5.570624351501465,
          8.054618835449219,
          6.646266937255859,
          9.128242492675781,
          7.1988525390625,
          7.910810470581055,
          7.108672142028809,
          5.658089637756348,
          5.742752552032471,
          12.923003196716309,
          6.33584451675415,
          9.30402660369873,
          5.282329559326172,
          7.350802898406982,
          7.925057411193848,
          10.58358383178711,
          7.187910556793213,
          11.030592918395996,
          9.873109817504883,
          6.263382434844971,
          11.165775299072266,
          5.650598526000977,
          7.610156536102295,
          5.150548458099365,
          8.562215805053711,
          8.352850914001465,
          8.146722793579102,
          8.283479690551758,
          8.468050956726074,
          9.417533874511719,
          8.544438362121582,
          9.339890480041504,
          7.455568313598633,
          11.026458740234375,
          7.756699562072754,
          8.44949722290039,
          5.501005172729492,
          8.29078197479248,
          6.493184566497803,
          10.37727165222168,
          9.695350646972656,
          6.887243747711182,
          7.214014053344727,
          4.937811851501465,
          6.168731212615967,
          7.036048889160156,
          6.901938438415527,
          10.414820671081543,
          7.669101238250732,
          9.93751335144043,
          8.727436065673828,
          6.857292175292969,
          10.197251319885254,
          11.074339866638184,
          6.807089805603027,
          6.7317657470703125,
          6.690690040588379,
          5.990567207336426,
          5.992995262145996,
          5.860822677612305,
          7.124933242797852,
          5.708462238311768,
          6.752353668212891,
          10.187334060668945,
          8.135435104370117,
          6.980621337890625,
          7.356022834777832,
          13.408527374267578,
          10.029631614685059,
          8.116938591003418,
          5.178050994873047,
          6.1562604904174805,
          6.874664306640625,
          7.026851177215576,
          7.1804022789001465,
          13.362372398376465,
          5.82493782043457,
          7.779144287109375,
          7.450597286224365,
          10.573506355285645,
          12.9197416305542,
          8.711377143859863,
          10.579465866088867,
          12.220155715942383,
          7.8980231285095215,
          6.150938034057617,
          5.5222086906433105,
          6.448858261108398,
          7.802860736846924,
          5.733794212341309,
          11.166802406311035,
          11.336482048034668,
          5.9275946617126465,
          6.685031414031982,
          6.118829727172852,
          7.11049222946167,
          6.2350592613220215,
          7.813302993774414,
          9.898297309875488,
          6.552440643310547,
          6.644400119781494,
          11.320615768432617,
          6.02914571762085,
          8.583662033081055,
          5.926889896392822,
          6.718632221221924,
          6.768285751342773,
          6.284625053405762,
          12.955101013183594,
          5.1830363273620605,
          8.829885482788086,
          9.217402458190918,
          9.985346794128418,
          11.328378677368164,
          8.965185165405273,
          9.932222366333008,
          11.706453323364258,
          6.934680938720703,
          6.840153217315674,
          9.382554054260254,
          7.344913959503174,
          7.711940288543701,
          7.845471382141113,
          6.743896007537842,
          9.626797676086426,
          10.076910018920898,
          7.931831359863281,
          6.026747703552246,
          6.147329807281494,
          7.471471309661865,
          9.79504108428955,
          12.568615913391113,
          11.667985916137695,
          6.8464250564575195,
          10.877573013305664,
          7.1890645027160645,
          11.034628868103027,
          11.400876998901367,
          7.772327899932861,
          11.396366119384766,
          5.612869739532471,
          9.786771774291992,
          5.6489081382751465,
          5.944756984710693,
          8.071083068847656,
          7.780783176422119,
          7.900703430175781,
          7.939736843109131,
          6.141737937927246,
          6.490259647369385,
          5.543904781341553,
          11.38611125946045,
          12.67009162902832,
          11.698284149169922,
          6.472363471984863,
          6.333585262298584,
          7.872463226318359,
          10.616219520568848,
          7.0822434425354,
          4.961516380310059,
          10.498807907104492,
          12.655523300170898,
          12.878005027770996,
          7.455567836761475,
          6.0450029373168945,
          6.406821250915527,
          11.469768524169922,
          9.824789047241211,
          11.413166046142578,
          11.085188865661621,
          12.763010025024414,
          13.437143325805664,
          6.730873107910156
         ],
         "xaxis": "x",
         "y": [
          7.652833461761475,
          7.80081844329834,
          5.738587379455566,
          8.79865550994873,
          6.767963886260986,
          6.493005752563477,
          6.045408248901367,
          8.111971855163574,
          7.738410472869873,
          7.769723415374756,
          6.930259704589844,
          6.453409194946289,
          4.344847202301025,
          5.078639507293701,
          7.3626885414123535,
          5.412525653839111,
          5.899545669555664,
          6.4055585861206055,
          5.969045639038086,
          8.399076461791992,
          6.682587146759033,
          6.934350490570068,
          5.58359432220459,
          7.757453441619873,
          6.210309028625488,
          6.310589790344238,
          4.419248580932617,
          4.9309515953063965,
          5.068899154663086,
          5.879258632659912,
          3.133693218231201,
          7.338445663452148,
          4.621851444244385,
          5.764512538909912,
          6.042654037475586,
          5.556718349456787,
          4.722847938537598,
          3.135378360748291,
          4.2743048667907715,
          6.6022772789001465,
          4.246408939361572,
          3.180150270462036,
          4.839484691619873,
          3.2171695232391357,
          7.522722244262695,
          5.731858730316162,
          6.6104021072387695,
          5.84706974029541,
          6.552587509155273,
          3.7458667755126953,
          4.994083881378174,
          5.863247871398926,
          8.609785079956055,
          4.997972011566162,
          6.6995673179626465,
          5.473005771636963,
          4.502417087554932,
          5.044226169586182,
          4.373335361480713,
          8.238005638122559,
          4.812398433685303,
          5.511913776397705,
          6.877346992492676,
          4.912952899932861,
          4.916891098022461,
          5.250849723815918,
          5.646541595458984,
          6.124402046203613,
          6.018520355224609,
          8.749410629272461,
          7.0979743003845215,
          6.245726108551025,
          6.954755783081055,
          6.323699951171875,
          7.303067684173584,
          6.222923755645752,
          7.235030651092529,
          7.020561218261719,
          8.141865730285645,
          7.212930679321289,
          7.393345355987549,
          5.581884384155273,
          7.062013626098633,
          6.878994464874268,
          7.490654945373535,
          6.735556602478027,
          7.596157073974609,
          7.824216365814209,
          5.3399977684021,
          3.2091100215911865,
          7.69647216796875,
          5.155399799346924,
          3.5022242069244385,
          4.154874324798584,
          6.140096664428711,
          8.958663940429688,
          7.931201457977295,
          5.951023101806641,
          5.401700973510742,
          4.983513355255127,
          7.2728047370910645,
          6.948462963104248,
          6.927093982696533,
          4.662508487701416,
          4.222988128662109,
          7.185871601104736,
          8.28111743927002,
          4.8108978271484375,
          6.69354772567749,
          4.860654830932617,
          4.962062835693359,
          5.298243999481201,
          4.445676326751709,
          4.172420978546143,
          5.803368091583252,
          5.736655235290527,
          6.603225231170654,
          5.052460670471191,
          4.544792175292969,
          6.42784309387207,
          5.19075345993042,
          4.5570831298828125,
          5.911862850189209,
          4.8478217124938965,
          5.073979377746582,
          6.016655921936035,
          8.675618171691895,
          5.770256519317627,
          7.743692398071289,
          7.668458461761475,
          7.186729907989502,
          7.582011699676514,
          6.71569299697876,
          7.006943702697754,
          8.610917091369629,
          5.887577056884766,
          5.387426376342773,
          8.443115234375,
          5.321575164794922,
          6.229428768157959,
          4.384408950805664,
          5.550940990447998,
          6.623328685760498,
          8.335308074951172,
          7.671306133270264,
          7.098857402801514,
          4.32741117477417,
          6.301238536834717,
          8.592147827148438,
          6.58088493347168,
          5.666030406951904,
          7.463095188140869,
          5.6760783195495605,
          7.100991725921631,
          8.769636154174805,
          6.127231597900391,
          6.70758056640625,
          5.7252197265625,
          6.04171085357666,
          6.040499687194824,
          7.403805732727051,
          6.384613037109375,
          7.348740577697754,
          6.022617816925049,
          5.883657455444336,
          6.261966228485107,
          7.392899036407471,
          5.383354663848877,
          6.146601676940918,
          4.233826637268066,
          6.550568580627441,
          7.536156177520752,
          5.762950897216797,
          4.251831531524658,
          5.5681562423706055,
          5.225337982177734,
          5.950930595397949,
          6.100919723510742,
          5.269629955291748,
          4.4262542724609375,
          4.2901153564453125,
          5.051163673400879,
          5.424059867858887,
          5.226738929748535,
          6.626077175140381,
          5.024127006530762,
          4.597200870513916,
          4.3483967781066895,
          5.141380310058594,
          4.582909107208252,
          4.240993976593018,
          5.593337059020996,
          5.68897819519043,
          5.81210470199585,
          5.623750686645508,
          5.186454772949219,
          5.277218818664551,
          8.807372093200684,
          5.1915364265441895,
          7.55019474029541,
          4.250792980194092,
          5.083053112030029,
          6.139047622680664,
          5.781622409820557,
          5.194705009460449,
          5.393870830535889,
          4.325953006744385,
          7.834270000457764,
          6.6129913330078125,
          4.159731388092041,
          7.502650260925293,
          7.6262078285217285,
          4.6853251457214355,
          7.710668087005615,
          5.621231555938721,
          5.555238246917725,
          5.26284122467041,
          5.670630931854248,
          5.776884078979492,
          6.714992523193359,
          5.372943878173828,
          7.6810760498046875,
          5.119993686676025,
          6.419162273406982,
          6.607670307159424,
          6.858684539794922,
          5.359522819519043,
          6.204614639282227,
          5.44706916809082,
          4.8977861404418945,
          4.703210353851318,
          4.911779403686523,
          6.1297783851623535,
          5.000727653503418,
          6.362733840942383,
          5.021888732910156,
          6.633785724639893,
          6.3805060386657715,
          6.337065696716309,
          6.196051597595215,
          5.321599006652832,
          6.945559978485107,
          6.853570938110352,
          7.967108249664307,
          8.752129554748535,
          5.344991683959961,
          5.478768348693848,
          5.589827537536621,
          5.110781192779541,
          7.374125957489014,
          6.775537967681885,
          3.617682456970215,
          4.37460994720459,
          7.376284122467041,
          8.429886817932129,
          7.845717906951904,
          6.515419006347656,
          7.895770072937012,
          5.239502429962158,
          4.517770290374756,
          4.694189071655273,
          5.794236183166504,
          7.694246292114258,
          6.549911975860596,
          5.658698081970215,
          8.910102844238281,
          4.673602104187012,
          6.5829033851623535,
          4.949597358703613,
          4.223005771636963,
          5.810516357421875,
          5.753365993499756,
          6.102971076965332,
          7.9878458976745605,
          4.71682596206665,
          8.472210884094238,
          6.160050392150879,
          6.2527923583984375,
          6.968939781188965,
          7.782805442810059,
          5.295443534851074,
          8.30529499053955,
          5.278284549713135,
          6.807317733764648,
          7.14410924911499,
          6.539534091949463,
          8.24912166595459,
          5.652658939361572,
          5.250030994415283,
          5.714196681976318,
          4.517205715179443,
          7.5379815101623535,
          6.50689172744751,
          6.515370845794678,
          4.513752460479736,
          6.969838619232178,
          6.778636932373047,
          8.844099998474121,
          4.276703834533691,
          6.44562292098999,
          3.7247560024261475,
          4.61775541305542,
          6.249186038970947,
          5.247251987457275,
          4.402425765991211,
          3.7310283184051514,
          5.2935357093811035,
          5.908448696136475,
          5.814891338348389,
          6.477590560913086,
          5.773220062255859,
          5.010449409484863,
          4.590181827545166,
          7.056673526763916,
          7.514633655548096,
          8.145963668823242,
          4.894579887390137,
          5.7669677734375,
          5.3413615226745605,
          5.894707679748535,
          7.346695899963379,
          3.9648971557617188,
          5.197160720825195,
          6.190887928009033,
          4.930002689361572,
          6.846442699432373,
          5.795380592346191,
          5.885636329650879,
          4.750076770782471,
          5.066215991973877,
          5.496203422546387,
          6.592577934265137,
          4.94419527053833,
          8.252225875854492,
          5.749721050262451,
          6.549829483032227,
          5.724828720092773,
          5.699745178222656,
          5.751031875610352,
          5.144933223724365,
          5.4340105056762695,
          5.566551208496094,
          6.145814418792725,
          6.096406936645508,
          8.874917030334473,
          6.300646781921387,
          6.326347351074219,
          5.594404220581055,
          4.774744033813477,
          3.4938459396362305,
          4.946343898773193,
          5.196284294128418,
          5.742145538330078,
          5.3523173332214355,
          5.220363616943359,
          3.4420928955078125,
          5.026230812072754,
          4.794485092163086,
          6.2697319984436035,
          6.479008674621582,
          6.693873405456543,
          5.029296398162842,
          6.0793538093566895,
          4.281384468078613,
          5.824930667877197,
          5.437024116516113,
          3.9979848861694336,
          6.250156879425049,
          6.648462295532227,
          4.292442798614502,
          6.6727447509765625,
          7.9842400550842285,
          3.6333060264587402,
          4.833654880523682,
          4.707161903381348,
          8.699563026428223,
          6.7184882164001465,
          7.424875736236572,
          7.0230231285095215,
          6.512025356292725,
          5.367042541503906,
          5.783388614654541,
          3.4657933712005615,
          6.068353652954102,
          4.711275577545166,
          6.200637340545654,
          6.663719654083252,
          8.05921459197998,
          5.3603620529174805,
          5.994429111480713,
          6.45155143737793,
          7.3745927810668945,
          7.46097993850708,
          7.9121599197387695,
          8.92452621459961,
          7.418179035186768,
          8.779133796691895,
          6.172715187072754,
          5.038837909698486,
          7.013121604919434,
          6.038045406341553,
          5.44293737411499,
          5.3687872886657715,
          6.587587356567383,
          5.872842311859131,
          6.530654430389404,
          5.549640655517578,
          4.56191873550415,
          6.472104072570801,
          6.790291786193848,
          5.194192409515381,
          5.058184623718262,
          5.908957004547119,
          5.289147853851318,
          4.97855281829834,
          5.468241214752197,
          4.991611480712891,
          5.742384910583496,
          4.28142786026001,
          5.03624153137207,
          4.886307716369629,
          3.5660560131073
         ],
         "yaxis": "y"
        }
       ],
       "layout": {
        "coloraxis": {
         "colorbar": {
          "title": {
           "text": "color"
          }
         },
         "colorscale": [
          [
           0,
           "#0d0887"
          ],
          [
           0.1111111111111111,
           "#46039f"
          ],
          [
           0.2222222222222222,
           "#7201a8"
          ],
          [
           0.3333333333333333,
           "#9c179e"
          ],
          [
           0.4444444444444444,
           "#bd3786"
          ],
          [
           0.5555555555555556,
           "#d8576b"
          ],
          [
           0.6666666666666666,
           "#ed7953"
          ],
          [
           0.7777777777777778,
           "#fb9f3a"
          ],
          [
           0.8888888888888888,
           "#fdca26"
          ],
          [
           1,
           "#f0f921"
          ]
         ]
        },
        "legend": {
         "tracegroupgap": 0
        },
        "margin": {
         "t": 60
        },
        "template": {
         "data": {
          "bar": [
           {
            "error_x": {
             "color": "#2a3f5f"
            },
            "error_y": {
             "color": "#2a3f5f"
            },
            "marker": {
             "line": {
              "color": "#E5ECF6",
              "width": 0.5
             },
             "pattern": {
              "fillmode": "overlay",
              "size": 10,
              "solidity": 0.2
             }
            },
            "type": "bar"
           }
          ],
          "barpolar": [
           {
            "marker": {
             "line": {
              "color": "#E5ECF6",
              "width": 0.5
             },
             "pattern": {
              "fillmode": "overlay",
              "size": 10,
              "solidity": 0.2
             }
            },
            "type": "barpolar"
           }
          ],
          "carpet": [
           {
            "aaxis": {
             "endlinecolor": "#2a3f5f",
             "gridcolor": "white",
             "linecolor": "white",
             "minorgridcolor": "white",
             "startlinecolor": "#2a3f5f"
            },
            "baxis": {
             "endlinecolor": "#2a3f5f",
             "gridcolor": "white",
             "linecolor": "white",
             "minorgridcolor": "white",
             "startlinecolor": "#2a3f5f"
            },
            "type": "carpet"
           }
          ],
          "choropleth": [
           {
            "colorbar": {
             "outlinewidth": 0,
             "ticks": ""
            },
            "type": "choropleth"
           }
          ],
          "contour": [
           {
            "colorbar": {
             "outlinewidth": 0,
             "ticks": ""
            },
            "colorscale": [
             [
              0,
              "#0d0887"
             ],
             [
              0.1111111111111111,
              "#46039f"
             ],
             [
              0.2222222222222222,
              "#7201a8"
             ],
             [
              0.3333333333333333,
              "#9c179e"
             ],
             [
              0.4444444444444444,
              "#bd3786"
             ],
             [
              0.5555555555555556,
              "#d8576b"
             ],
             [
              0.6666666666666666,
              "#ed7953"
             ],
             [
              0.7777777777777778,
              "#fb9f3a"
             ],
             [
              0.8888888888888888,
              "#fdca26"
             ],
             [
              1,
              "#f0f921"
             ]
            ],
            "type": "contour"
           }
          ],
          "contourcarpet": [
           {
            "colorbar": {
             "outlinewidth": 0,
             "ticks": ""
            },
            "type": "contourcarpet"
           }
          ],
          "heatmap": [
           {
            "colorbar": {
             "outlinewidth": 0,
             "ticks": ""
            },
            "colorscale": [
             [
              0,
              "#0d0887"
             ],
             [
              0.1111111111111111,
              "#46039f"
             ],
             [
              0.2222222222222222,
              "#7201a8"
             ],
             [
              0.3333333333333333,
              "#9c179e"
             ],
             [
              0.4444444444444444,
              "#bd3786"
             ],
             [
              0.5555555555555556,
              "#d8576b"
             ],
             [
              0.6666666666666666,
              "#ed7953"
             ],
             [
              0.7777777777777778,
              "#fb9f3a"
             ],
             [
              0.8888888888888888,
              "#fdca26"
             ],
             [
              1,
              "#f0f921"
             ]
            ],
            "type": "heatmap"
           }
          ],
          "heatmapgl": [
           {
            "colorbar": {
             "outlinewidth": 0,
             "ticks": ""
            },
            "colorscale": [
             [
              0,
              "#0d0887"
             ],
             [
              0.1111111111111111,
              "#46039f"
             ],
             [
              0.2222222222222222,
              "#7201a8"
             ],
             [
              0.3333333333333333,
              "#9c179e"
             ],
             [
              0.4444444444444444,
              "#bd3786"
             ],
             [
              0.5555555555555556,
              "#d8576b"
             ],
             [
              0.6666666666666666,
              "#ed7953"
             ],
             [
              0.7777777777777778,
              "#fb9f3a"
             ],
             [
              0.8888888888888888,
              "#fdca26"
             ],
             [
              1,
              "#f0f921"
             ]
            ],
            "type": "heatmapgl"
           }
          ],
          "histogram": [
           {
            "marker": {
             "pattern": {
              "fillmode": "overlay",
              "size": 10,
              "solidity": 0.2
             }
            },
            "type": "histogram"
           }
          ],
          "histogram2d": [
           {
            "colorbar": {
             "outlinewidth": 0,
             "ticks": ""
            },
            "colorscale": [
             [
              0,
              "#0d0887"
             ],
             [
              0.1111111111111111,
              "#46039f"
             ],
             [
              0.2222222222222222,
              "#7201a8"
             ],
             [
              0.3333333333333333,
              "#9c179e"
             ],
             [
              0.4444444444444444,
              "#bd3786"
             ],
             [
              0.5555555555555556,
              "#d8576b"
             ],
             [
              0.6666666666666666,
              "#ed7953"
             ],
             [
              0.7777777777777778,
              "#fb9f3a"
             ],
             [
              0.8888888888888888,
              "#fdca26"
             ],
             [
              1,
              "#f0f921"
             ]
            ],
            "type": "histogram2d"
           }
          ],
          "histogram2dcontour": [
           {
            "colorbar": {
             "outlinewidth": 0,
             "ticks": ""
            },
            "colorscale": [
             [
              0,
              "#0d0887"
             ],
             [
              0.1111111111111111,
              "#46039f"
             ],
             [
              0.2222222222222222,
              "#7201a8"
             ],
             [
              0.3333333333333333,
              "#9c179e"
             ],
             [
              0.4444444444444444,
              "#bd3786"
             ],
             [
              0.5555555555555556,
              "#d8576b"
             ],
             [
              0.6666666666666666,
              "#ed7953"
             ],
             [
              0.7777777777777778,
              "#fb9f3a"
             ],
             [
              0.8888888888888888,
              "#fdca26"
             ],
             [
              1,
              "#f0f921"
             ]
            ],
            "type": "histogram2dcontour"
           }
          ],
          "mesh3d": [
           {
            "colorbar": {
             "outlinewidth": 0,
             "ticks": ""
            },
            "type": "mesh3d"
           }
          ],
          "parcoords": [
           {
            "line": {
             "colorbar": {
              "outlinewidth": 0,
              "ticks": ""
             }
            },
            "type": "parcoords"
           }
          ],
          "pie": [
           {
            "automargin": true,
            "type": "pie"
           }
          ],
          "scatter": [
           {
            "fillpattern": {
             "fillmode": "overlay",
             "size": 10,
             "solidity": 0.2
            },
            "type": "scatter"
           }
          ],
          "scatter3d": [
           {
            "line": {
             "colorbar": {
              "outlinewidth": 0,
              "ticks": ""
             }
            },
            "marker": {
             "colorbar": {
              "outlinewidth": 0,
              "ticks": ""
             }
            },
            "type": "scatter3d"
           }
          ],
          "scattercarpet": [
           {
            "marker": {
             "colorbar": {
              "outlinewidth": 0,
              "ticks": ""
             }
            },
            "type": "scattercarpet"
           }
          ],
          "scattergeo": [
           {
            "marker": {
             "colorbar": {
              "outlinewidth": 0,
              "ticks": ""
             }
            },
            "type": "scattergeo"
           }
          ],
          "scattergl": [
           {
            "marker": {
             "colorbar": {
              "outlinewidth": 0,
              "ticks": ""
             }
            },
            "type": "scattergl"
           }
          ],
          "scattermapbox": [
           {
            "marker": {
             "colorbar": {
              "outlinewidth": 0,
              "ticks": ""
             }
            },
            "type": "scattermapbox"
           }
          ],
          "scatterpolar": [
           {
            "marker": {
             "colorbar": {
              "outlinewidth": 0,
              "ticks": ""
             }
            },
            "type": "scatterpolar"
           }
          ],
          "scatterpolargl": [
           {
            "marker": {
             "colorbar": {
              "outlinewidth": 0,
              "ticks": ""
             }
            },
            "type": "scatterpolargl"
           }
          ],
          "scatterternary": [
           {
            "marker": {
             "colorbar": {
              "outlinewidth": 0,
              "ticks": ""
             }
            },
            "type": "scatterternary"
           }
          ],
          "surface": [
           {
            "colorbar": {
             "outlinewidth": 0,
             "ticks": ""
            },
            "colorscale": [
             [
              0,
              "#0d0887"
             ],
             [
              0.1111111111111111,
              "#46039f"
             ],
             [
              0.2222222222222222,
              "#7201a8"
             ],
             [
              0.3333333333333333,
              "#9c179e"
             ],
             [
              0.4444444444444444,
              "#bd3786"
             ],
             [
              0.5555555555555556,
              "#d8576b"
             ],
             [
              0.6666666666666666,
              "#ed7953"
             ],
             [
              0.7777777777777778,
              "#fb9f3a"
             ],
             [
              0.8888888888888888,
              "#fdca26"
             ],
             [
              1,
              "#f0f921"
             ]
            ],
            "type": "surface"
           }
          ],
          "table": [
           {
            "cells": {
             "fill": {
              "color": "#EBF0F8"
             },
             "line": {
              "color": "white"
             }
            },
            "header": {
             "fill": {
              "color": "#C8D4E3"
             },
             "line": {
              "color": "white"
             }
            },
            "type": "table"
           }
          ]
         },
         "layout": {
          "annotationdefaults": {
           "arrowcolor": "#2a3f5f",
           "arrowhead": 0,
           "arrowwidth": 1
          },
          "autotypenumbers": "strict",
          "coloraxis": {
           "colorbar": {
            "outlinewidth": 0,
            "ticks": ""
           }
          },
          "colorscale": {
           "diverging": [
            [
             0,
             "#8e0152"
            ],
            [
             0.1,
             "#c51b7d"
            ],
            [
             0.2,
             "#de77ae"
            ],
            [
             0.3,
             "#f1b6da"
            ],
            [
             0.4,
             "#fde0ef"
            ],
            [
             0.5,
             "#f7f7f7"
            ],
            [
             0.6,
             "#e6f5d0"
            ],
            [
             0.7,
             "#b8e186"
            ],
            [
             0.8,
             "#7fbc41"
            ],
            [
             0.9,
             "#4d9221"
            ],
            [
             1,
             "#276419"
            ]
           ],
           "sequential": [
            [
             0,
             "#0d0887"
            ],
            [
             0.1111111111111111,
             "#46039f"
            ],
            [
             0.2222222222222222,
             "#7201a8"
            ],
            [
             0.3333333333333333,
             "#9c179e"
            ],
            [
             0.4444444444444444,
             "#bd3786"
            ],
            [
             0.5555555555555556,
             "#d8576b"
            ],
            [
             0.6666666666666666,
             "#ed7953"
            ],
            [
             0.7777777777777778,
             "#fb9f3a"
            ],
            [
             0.8888888888888888,
             "#fdca26"
            ],
            [
             1,
             "#f0f921"
            ]
           ],
           "sequentialminus": [
            [
             0,
             "#0d0887"
            ],
            [
             0.1111111111111111,
             "#46039f"
            ],
            [
             0.2222222222222222,
             "#7201a8"
            ],
            [
             0.3333333333333333,
             "#9c179e"
            ],
            [
             0.4444444444444444,
             "#bd3786"
            ],
            [
             0.5555555555555556,
             "#d8576b"
            ],
            [
             0.6666666666666666,
             "#ed7953"
            ],
            [
             0.7777777777777778,
             "#fb9f3a"
            ],
            [
             0.8888888888888888,
             "#fdca26"
            ],
            [
             1,
             "#f0f921"
            ]
           ]
          },
          "colorway": [
           "#636efa",
           "#EF553B",
           "#00cc96",
           "#ab63fa",
           "#FFA15A",
           "#19d3f3",
           "#FF6692",
           "#B6E880",
           "#FF97FF",
           "#FECB52"
          ],
          "font": {
           "color": "#2a3f5f"
          },
          "geo": {
           "bgcolor": "white",
           "lakecolor": "white",
           "landcolor": "#E5ECF6",
           "showlakes": true,
           "showland": true,
           "subunitcolor": "white"
          },
          "hoverlabel": {
           "align": "left"
          },
          "hovermode": "closest",
          "mapbox": {
           "style": "light"
          },
          "paper_bgcolor": "white",
          "plot_bgcolor": "#E5ECF6",
          "polar": {
           "angularaxis": {
            "gridcolor": "white",
            "linecolor": "white",
            "ticks": ""
           },
           "bgcolor": "#E5ECF6",
           "radialaxis": {
            "gridcolor": "white",
            "linecolor": "white",
            "ticks": ""
           }
          },
          "scene": {
           "xaxis": {
            "backgroundcolor": "#E5ECF6",
            "gridcolor": "white",
            "gridwidth": 2,
            "linecolor": "white",
            "showbackground": true,
            "ticks": "",
            "zerolinecolor": "white"
           },
           "yaxis": {
            "backgroundcolor": "#E5ECF6",
            "gridcolor": "white",
            "gridwidth": 2,
            "linecolor": "white",
            "showbackground": true,
            "ticks": "",
            "zerolinecolor": "white"
           },
           "zaxis": {
            "backgroundcolor": "#E5ECF6",
            "gridcolor": "white",
            "gridwidth": 2,
            "linecolor": "white",
            "showbackground": true,
            "ticks": "",
            "zerolinecolor": "white"
           }
          },
          "shapedefaults": {
           "line": {
            "color": "#2a3f5f"
           }
          },
          "ternary": {
           "aaxis": {
            "gridcolor": "white",
            "linecolor": "white",
            "ticks": ""
           },
           "baxis": {
            "gridcolor": "white",
            "linecolor": "white",
            "ticks": ""
           },
           "bgcolor": "#E5ECF6",
           "caxis": {
            "gridcolor": "white",
            "linecolor": "white",
            "ticks": ""
           }
          },
          "title": {
           "x": 0.05
          },
          "xaxis": {
           "automargin": true,
           "gridcolor": "white",
           "linecolor": "white",
           "ticks": "",
           "title": {
            "standoff": 15
           },
           "zerolinecolor": "white",
           "zerolinewidth": 2
          },
          "yaxis": {
           "automargin": true,
           "gridcolor": "white",
           "linecolor": "white",
           "ticks": "",
           "title": {
            "standoff": 15
           },
           "zerolinecolor": "white",
           "zerolinewidth": 2
          }
         }
        },
        "xaxis": {
         "anchor": "y",
         "domain": [
          0,
          1
         ],
         "title": {
          "text": "0"
         }
        },
        "yaxis": {
         "anchor": "x",
         "domain": [
          0,
          1
         ],
         "title": {
          "text": "1"
         }
        }
       }
      },
      "text/html": [
       "<div>                            <div id=\"c32fb035-8095-4b6f-96fc-f0025ae9efcd\" class=\"plotly-graph-div\" style=\"height:525px; width:100%;\"></div>            <script type=\"text/javascript\">                require([\"plotly\"], function(Plotly) {                    window.PLOTLYENV=window.PLOTLYENV || {};                                    if (document.getElementById(\"c32fb035-8095-4b6f-96fc-f0025ae9efcd\")) {                    Plotly.newPlot(                        \"c32fb035-8095-4b6f-96fc-f0025ae9efcd\",                        [{\"hovertemplate\":\"0=%{x}\\u003cbr\\u003e1=%{y}\\u003cbr\\u003ecolor=%{marker.color}\\u003cextra\\u003e\\u003c\\u002fextra\\u003e\",\"legendgroup\":\"\",\"marker\":{\"color\":[1.0,1.0,0.0,1.0,0.0,1.0,0.0,1.0,0.0,1.0,1.0,1.0,0.0,0.0,1.0,1.0,1.0,0.0,0.0,1.0,0.0,0.0,1.0,1.0,0.0,0.0,1.0,1.0,1.0,1.0,1.0,1.0,0.0,1.0,1.0,1.0,1.0,1.0,1.0,1.0,1.0,1.0,1.0,1.0,1.0,1.0,1.0,1.0,1.0,1.0,1.0,0.0,0.0,1.0,1.0,1.0,1.0,0.0,1.0,0.0,0.0,0.0,1.0,0.0,0.0,0.0,1.0,0.0,0.0,0.0,0.0,0.0,0.0,0.0,0.0,1.0,0.0,0.0,0.0,0.0,0.0,0.0,0.0,0.0,0.0,0.0,1.0,0.0,1.0,1.0,1.0,1.0,1.0,0.0,0.0,0.0,1.0,1.0,1.0,1.0,0.0,0.0,0.0,1.0,0.0,0.0,0.0,0.0,0.0,1.0,0.0,1.0,0.0,0.0,1.0,1.0,1.0,1.0,1.0,0.0,0.0,1.0,1.0,0.0,1.0,0.0,0.0,1.0,0.0,0.0,0.0,0.0,0.0,0.0,0.0,1.0,0.0,0.0,1.0,0.0,0.0,0.0,0.0,1.0,0.0,0.0,0.0,1.0,0.0,0.0,0.0,1.0,0.0,1.0,0.0,1.0,1.0,0.0,1.0,0.0,0.0,0.0,0.0,0.0,0.0,0.0,0.0,0.0,0.0,0.0,0.0,0.0,0.0,1.0,1.0,1.0,1.0,1.0,1.0,1.0,0.0,1.0,0.0,0.0,1.0,1.0,1.0,0.0,1.0,0.0,1.0,1.0,1.0,0.0,0.0,0.0,0.0,0.0,1.0,0.0,0.0,1.0,0.0,1.0,1.0,0.0,1.0,1.0,0.0,0.0,1.0,1.0,1.0,0.0,0.0,0.0,1.0,0.0,1.0,1.0,1.0,1.0,0.0,0.0,1.0,0.0,1.0,1.0,0.0,1.0,0.0,0.0,0.0,1.0,1.0,1.0,1.0,1.0,0.0,0.0,1.0,0.0,0.0,1.0,1.0,1.0,0.0,0.0,0.0,0.0,0.0,0.0,0.0,0.0,0.0,0.0,0.0,0.0,0.0,0.0,0.0,0.0,1.0,1.0,1.0,1.0,1.0,0.0,0.0,0.0,1.0,1.0,0.0,1.0,1.0,0.0,0.0,0.0,1.0,1.0,0.0,0.0,1.0,0.0,0.0,0.0,0.0,0.0,1.0,1.0,0.0,0.0,0.0,0.0,1.0,1.0,0.0,0.0,0.0,1.0,1.0,0.0,0.0,0.0,0.0,0.0,0.0,0.0,0.0,0.0,0.0,0.0,0.0,0.0,0.0,0.0,0.0,0.0,0.0,1.0,0.0,1.0,0.0,1.0,0.0,1.0,1.0,0.0,0.0,0.0,0.0,0.0,0.0,0.0,0.0,0.0,0.0,0.0,1.0,0.0,0.0,1.0,1.0,1.0,1.0,1.0,0.0,1.0,1.0,1.0,0.0,1.0,1.0,1.0,1.0,1.0,1.0,0.0,1.0,0.0,1.0,0.0,1.0,0.0,0.0,1.0,1.0,0.0,1.0,1.0,1.0,0.0,0.0,1.0,1.0,1.0,0.0,1.0,1.0,1.0,1.0,0.0,1.0,0.0,1.0,1.0,0.0,0.0,1.0,0.0,0.0,1.0,0.0,0.0,1.0,0.0,0.0,0.0,1.0,0.0,1.0,1.0,0.0,0.0,0.0,1.0,1.0,1.0,1.0,1.0,0.0,0.0,0.0,0.0,1.0,0.0,1.0,1.0,0.0,0.0,1.0,0.0],\"coloraxis\":\"coloraxis\",\"symbol\":\"circle\"},\"mode\":\"markers\",\"name\":\"\",\"orientation\":\"v\",\"showlegend\":false,\"x\":[6.645503520965576,6.496158599853516,11.56500244140625,7.9845194816589355,9.347753524780273,4.951057434082031,6.725446701049805,7.623162746429443,5.521290302276611,6.83637809753418,9.422712326049805,9.12393569946289,10.786272048950195,13.388228416442871,6.886996269226074,10.191229820251465,11.702832221984863,11.152528762817383,8.580552101135254,8.86207103729248,6.86470365524292,10.142189979553223,9.400596618652344,7.17082405090332,6.523465633392334,6.476320266723633,9.380152702331543,7.525565147399902,8.979843139648438,6.7378997802734375,6.871089458465576,8.752811431884766,9.383546829223633,8.670077323913574,10.912227630615234,8.07638168334961,8.728171348571777,6.902487277984619,9.851004600524902,10.269021034240723,7.071417331695557,6.8035407066345215,6.750038146972656,6.9165802001953125,5.547266006469727,10.675684928894043,11.28042221069336,7.3586320877075195,6.754125118255615,6.807103157043457,13.136248588562012,8.480085372924805,7.471955299377441,8.430222511291504,11.442002296447754,10.191349983215332,8.634783744812012,12.553104400634766,8.89752197265625,7.548681259155273,11.529158592224121,10.168255805969238,7.671444892883301,13.422150611877441,13.287371635437012,7.472375869750977,8.513943672180176,6.196028232574463,11.102190971374512,7.705309867858887,6.649665355682373,9.566671371459961,8.976740837097168,8.115273475646973,8.547212600708008,7.707634925842285,8.043248176574707,5.633445739746094,8.124432563781738,8.388032913208008,7.4900336265563965,5.830201625823975,6.488485336303711,8.068459510803223,6.2848711013793945,8.3480224609375,5.378891944885254,8.177693367004395,13.037508010864258,6.8582444190979,5.555590629577637,8.124439239501953,6.730819225311279,9.039341926574707,8.138299942016602,7.744074821472168,7.85303258895874,10.018896102905273,6.559370994567871,8.82274055480957,6.664717674255371,6.849070072174072,9.770771026611328,9.392633438110352,8.908918380737305,7.423603534698486,8.387380599975586,8.370430946350098,9.873202323913574,6.717781066894531,6.687690258026123,12.549661636352539,10.02440071105957,8.94522762298584,5.975409507751465,7.077077865600586,11.4558744430542,9.171558380126953,9.159847259521484,9.505870819091797,8.205883026123047,10.832460403442383,7.272012233734131,13.183770179748535,12.926803588867188,7.966429233551025,8.224300384521484,8.725513458251953,6.520376682281494,8.248019218444824,8.631928443908691,7.3604536056518555,5.290384292602539,7.162680625915527,8.123620986938477,7.78914213180542,9.806289672851562,8.06893253326416,8.798965454101562,11.517328262329102,7.179067134857178,9.570562362670898,6.856688022613525,8.425410270690918,7.9540276527404785,8.421666145324707,10.698297500610352,6.685174465179443,8.15045166015625,10.19732666015625,11.625387191772461,5.692570686340332,5.609363079071045,8.272109985351562,6.965847492218018,7.221478462219238,10.010442733764648,5.329376220703125,7.303656578063965,6.242674350738525,8.345848083496094,11.026016235351562,8.234646797180176,7.311390399932861,6.186357498168945,6.279087066650391,6.248708248138428,11.569565773010254,7.366880893707275,11.20103931427002,6.980588436126709,8.42330551147461,5.728515148162842,11.22636604309082,5.915669918060303,12.651494979858398,11.495497703552246,11.268799781799316,10.294347763061523,9.384306907653809,10.193942070007324,12.98459529876709,12.990806579589844,7.946649074554443,7.093616485595703,6.552483081817627,9.609833717346191,9.052168846130371,12.859931945800781,9.277356147766113,7.450183391571045,6.389617919921875,6.4086222648620605,6.281018257141113,6.5925726890563965,5.73769474029541,5.7761077880859375,6.8607354164123535,10.401700973510742,6.914813995361328,10.825136184692383,10.621186256408691,11.2919340133667,6.150008201599121,9.762430191040039,9.951873779296875,7.2587761878967285,6.402860164642334,10.82248306274414,11.050029754638672,5.44545841217041,5.432644844055176,9.415340423583984,5.9058966636657715,7.847079753875732,9.387006759643555,10.987954139709473,11.751862525939941,9.631654739379883,6.758258819580078,10.283493041992188,8.343408584594727,12.428635597229004,4.994978427886963,8.402497291564941,6.306865215301514,11.79354190826416,10.661232948303223,11.718419075012207,6.513387203216553,11.200392723083496,13.244304656982422,6.3887505531311035,12.864845275878906,10.152222633361816,10.543394088745117,11.537931442260742,5.304660320281982,6.425849437713623,7.662776470184326,11.596207618713379,6.1063232421875,6.537193298339844,7.4093241691589355,7.6095051765441895,8.310099601745605,8.306375503540039,10.135107040405273,12.819955825805664,5.570624351501465,8.054618835449219,6.646266937255859,9.128242492675781,7.1988525390625,7.910810470581055,7.108672142028809,5.658089637756348,5.742752552032471,12.923003196716309,6.33584451675415,9.30402660369873,5.282329559326172,7.350802898406982,7.925057411193848,10.58358383178711,7.187910556793213,11.030592918395996,9.873109817504883,6.263382434844971,11.165775299072266,5.650598526000977,7.610156536102295,5.150548458099365,8.562215805053711,8.352850914001465,8.146722793579102,8.283479690551758,8.468050956726074,9.417533874511719,8.544438362121582,9.339890480041504,7.455568313598633,11.026458740234375,7.756699562072754,8.44949722290039,5.501005172729492,8.29078197479248,6.493184566497803,10.37727165222168,9.695350646972656,6.887243747711182,7.214014053344727,4.937811851501465,6.168731212615967,7.036048889160156,6.901938438415527,10.414820671081543,7.669101238250732,9.93751335144043,8.727436065673828,6.857292175292969,10.197251319885254,11.074339866638184,6.807089805603027,6.7317657470703125,6.690690040588379,5.990567207336426,5.992995262145996,5.860822677612305,7.124933242797852,5.708462238311768,6.752353668212891,10.187334060668945,8.135435104370117,6.980621337890625,7.356022834777832,13.408527374267578,10.029631614685059,8.116938591003418,5.178050994873047,6.1562604904174805,6.874664306640625,7.026851177215576,7.1804022789001465,13.362372398376465,5.82493782043457,7.779144287109375,7.450597286224365,10.573506355285645,12.9197416305542,8.711377143859863,10.579465866088867,12.220155715942383,7.8980231285095215,6.150938034057617,5.5222086906433105,6.448858261108398,7.802860736846924,5.733794212341309,11.166802406311035,11.336482048034668,5.9275946617126465,6.685031414031982,6.118829727172852,7.11049222946167,6.2350592613220215,7.813302993774414,9.898297309875488,6.552440643310547,6.644400119781494,11.320615768432617,6.02914571762085,8.583662033081055,5.926889896392822,6.718632221221924,6.768285751342773,6.284625053405762,12.955101013183594,5.1830363273620605,8.829885482788086,9.217402458190918,9.985346794128418,11.328378677368164,8.965185165405273,9.932222366333008,11.706453323364258,6.934680938720703,6.840153217315674,9.382554054260254,7.344913959503174,7.711940288543701,7.845471382141113,6.743896007537842,9.626797676086426,10.076910018920898,7.931831359863281,6.026747703552246,6.147329807281494,7.471471309661865,9.79504108428955,12.568615913391113,11.667985916137695,6.8464250564575195,10.877573013305664,7.1890645027160645,11.034628868103027,11.400876998901367,7.772327899932861,11.396366119384766,5.612869739532471,9.786771774291992,5.6489081382751465,5.944756984710693,8.071083068847656,7.780783176422119,7.900703430175781,7.939736843109131,6.141737937927246,6.490259647369385,5.543904781341553,11.38611125946045,12.67009162902832,11.698284149169922,6.472363471984863,6.333585262298584,7.872463226318359,10.616219520568848,7.0822434425354,4.961516380310059,10.498807907104492,12.655523300170898,12.878005027770996,7.455567836761475,6.0450029373168945,6.406821250915527,11.469768524169922,9.824789047241211,11.413166046142578,11.085188865661621,12.763010025024414,13.437143325805664,6.730873107910156],\"xaxis\":\"x\",\"y\":[7.652833461761475,7.80081844329834,5.738587379455566,8.79865550994873,6.767963886260986,6.493005752563477,6.045408248901367,8.111971855163574,7.738410472869873,7.769723415374756,6.930259704589844,6.453409194946289,4.344847202301025,5.078639507293701,7.3626885414123535,5.412525653839111,5.899545669555664,6.4055585861206055,5.969045639038086,8.399076461791992,6.682587146759033,6.934350490570068,5.58359432220459,7.757453441619873,6.210309028625488,6.310589790344238,4.419248580932617,4.9309515953063965,5.068899154663086,5.879258632659912,3.133693218231201,7.338445663452148,4.621851444244385,5.764512538909912,6.042654037475586,5.556718349456787,4.722847938537598,3.135378360748291,4.2743048667907715,6.6022772789001465,4.246408939361572,3.180150270462036,4.839484691619873,3.2171695232391357,7.522722244262695,5.731858730316162,6.6104021072387695,5.84706974029541,6.552587509155273,3.7458667755126953,4.994083881378174,5.863247871398926,8.609785079956055,4.997972011566162,6.6995673179626465,5.473005771636963,4.502417087554932,5.044226169586182,4.373335361480713,8.238005638122559,4.812398433685303,5.511913776397705,6.877346992492676,4.912952899932861,4.916891098022461,5.250849723815918,5.646541595458984,6.124402046203613,6.018520355224609,8.749410629272461,7.0979743003845215,6.245726108551025,6.954755783081055,6.323699951171875,7.303067684173584,6.222923755645752,7.235030651092529,7.020561218261719,8.141865730285645,7.212930679321289,7.393345355987549,5.581884384155273,7.062013626098633,6.878994464874268,7.490654945373535,6.735556602478027,7.596157073974609,7.824216365814209,5.3399977684021,3.2091100215911865,7.69647216796875,5.155399799346924,3.5022242069244385,4.154874324798584,6.140096664428711,8.958663940429688,7.931201457977295,5.951023101806641,5.401700973510742,4.983513355255127,7.2728047370910645,6.948462963104248,6.927093982696533,4.662508487701416,4.222988128662109,7.185871601104736,8.28111743927002,4.8108978271484375,6.69354772567749,4.860654830932617,4.962062835693359,5.298243999481201,4.445676326751709,4.172420978546143,5.803368091583252,5.736655235290527,6.603225231170654,5.052460670471191,4.544792175292969,6.42784309387207,5.19075345993042,4.5570831298828125,5.911862850189209,4.8478217124938965,5.073979377746582,6.016655921936035,8.675618171691895,5.770256519317627,7.743692398071289,7.668458461761475,7.186729907989502,7.582011699676514,6.71569299697876,7.006943702697754,8.610917091369629,5.887577056884766,5.387426376342773,8.443115234375,5.321575164794922,6.229428768157959,4.384408950805664,5.550940990447998,6.623328685760498,8.335308074951172,7.671306133270264,7.098857402801514,4.32741117477417,6.301238536834717,8.592147827148438,6.58088493347168,5.666030406951904,7.463095188140869,5.6760783195495605,7.100991725921631,8.769636154174805,6.127231597900391,6.70758056640625,5.7252197265625,6.04171085357666,6.040499687194824,7.403805732727051,6.384613037109375,7.348740577697754,6.022617816925049,5.883657455444336,6.261966228485107,7.392899036407471,5.383354663848877,6.146601676940918,4.233826637268066,6.550568580627441,7.536156177520752,5.762950897216797,4.251831531524658,5.5681562423706055,5.225337982177734,5.950930595397949,6.100919723510742,5.269629955291748,4.4262542724609375,4.2901153564453125,5.051163673400879,5.424059867858887,5.226738929748535,6.626077175140381,5.024127006530762,4.597200870513916,4.3483967781066895,5.141380310058594,4.582909107208252,4.240993976593018,5.593337059020996,5.68897819519043,5.81210470199585,5.623750686645508,5.186454772949219,5.277218818664551,8.807372093200684,5.1915364265441895,7.55019474029541,4.250792980194092,5.083053112030029,6.139047622680664,5.781622409820557,5.194705009460449,5.393870830535889,4.325953006744385,7.834270000457764,6.6129913330078125,4.159731388092041,7.502650260925293,7.6262078285217285,4.6853251457214355,7.710668087005615,5.621231555938721,5.555238246917725,5.26284122467041,5.670630931854248,5.776884078979492,6.714992523193359,5.372943878173828,7.6810760498046875,5.119993686676025,6.419162273406982,6.607670307159424,6.858684539794922,5.359522819519043,6.204614639282227,5.44706916809082,4.8977861404418945,4.703210353851318,4.911779403686523,6.1297783851623535,5.000727653503418,6.362733840942383,5.021888732910156,6.633785724639893,6.3805060386657715,6.337065696716309,6.196051597595215,5.321599006652832,6.945559978485107,6.853570938110352,7.967108249664307,8.752129554748535,5.344991683959961,5.478768348693848,5.589827537536621,5.110781192779541,7.374125957489014,6.775537967681885,3.617682456970215,4.37460994720459,7.376284122467041,8.429886817932129,7.845717906951904,6.515419006347656,7.895770072937012,5.239502429962158,4.517770290374756,4.694189071655273,5.794236183166504,7.694246292114258,6.549911975860596,5.658698081970215,8.910102844238281,4.673602104187012,6.5829033851623535,4.949597358703613,4.223005771636963,5.810516357421875,5.753365993499756,6.102971076965332,7.9878458976745605,4.71682596206665,8.472210884094238,6.160050392150879,6.2527923583984375,6.968939781188965,7.782805442810059,5.295443534851074,8.30529499053955,5.278284549713135,6.807317733764648,7.14410924911499,6.539534091949463,8.24912166595459,5.652658939361572,5.250030994415283,5.714196681976318,4.517205715179443,7.5379815101623535,6.50689172744751,6.515370845794678,4.513752460479736,6.969838619232178,6.778636932373047,8.844099998474121,4.276703834533691,6.44562292098999,3.7247560024261475,4.61775541305542,6.249186038970947,5.247251987457275,4.402425765991211,3.7310283184051514,5.2935357093811035,5.908448696136475,5.814891338348389,6.477590560913086,5.773220062255859,5.010449409484863,4.590181827545166,7.056673526763916,7.514633655548096,8.145963668823242,4.894579887390137,5.7669677734375,5.3413615226745605,5.894707679748535,7.346695899963379,3.9648971557617188,5.197160720825195,6.190887928009033,4.930002689361572,6.846442699432373,5.795380592346191,5.885636329650879,4.750076770782471,5.066215991973877,5.496203422546387,6.592577934265137,4.94419527053833,8.252225875854492,5.749721050262451,6.549829483032227,5.724828720092773,5.699745178222656,5.751031875610352,5.144933223724365,5.4340105056762695,5.566551208496094,6.145814418792725,6.096406936645508,8.874917030334473,6.300646781921387,6.326347351074219,5.594404220581055,4.774744033813477,3.4938459396362305,4.946343898773193,5.196284294128418,5.742145538330078,5.3523173332214355,5.220363616943359,3.4420928955078125,5.026230812072754,4.794485092163086,6.2697319984436035,6.479008674621582,6.693873405456543,5.029296398162842,6.0793538093566895,4.281384468078613,5.824930667877197,5.437024116516113,3.9979848861694336,6.250156879425049,6.648462295532227,4.292442798614502,6.6727447509765625,7.9842400550842285,3.6333060264587402,4.833654880523682,4.707161903381348,8.699563026428223,6.7184882164001465,7.424875736236572,7.0230231285095215,6.512025356292725,5.367042541503906,5.783388614654541,3.4657933712005615,6.068353652954102,4.711275577545166,6.200637340545654,6.663719654083252,8.05921459197998,5.3603620529174805,5.994429111480713,6.45155143737793,7.3745927810668945,7.46097993850708,7.9121599197387695,8.92452621459961,7.418179035186768,8.779133796691895,6.172715187072754,5.038837909698486,7.013121604919434,6.038045406341553,5.44293737411499,5.3687872886657715,6.587587356567383,5.872842311859131,6.530654430389404,5.549640655517578,4.56191873550415,6.472104072570801,6.790291786193848,5.194192409515381,5.058184623718262,5.908957004547119,5.289147853851318,4.97855281829834,5.468241214752197,4.991611480712891,5.742384910583496,4.28142786026001,5.03624153137207,4.886307716369629,3.5660560131073],\"yaxis\":\"y\",\"type\":\"scatter\"}],                        {\"template\":{\"data\":{\"histogram2dcontour\":[{\"type\":\"histogram2dcontour\",\"colorbar\":{\"outlinewidth\":0,\"ticks\":\"\"},\"colorscale\":[[0.0,\"#0d0887\"],[0.1111111111111111,\"#46039f\"],[0.2222222222222222,\"#7201a8\"],[0.3333333333333333,\"#9c179e\"],[0.4444444444444444,\"#bd3786\"],[0.5555555555555556,\"#d8576b\"],[0.6666666666666666,\"#ed7953\"],[0.7777777777777778,\"#fb9f3a\"],[0.8888888888888888,\"#fdca26\"],[1.0,\"#f0f921\"]]}],\"choropleth\":[{\"type\":\"choropleth\",\"colorbar\":{\"outlinewidth\":0,\"ticks\":\"\"}}],\"histogram2d\":[{\"type\":\"histogram2d\",\"colorbar\":{\"outlinewidth\":0,\"ticks\":\"\"},\"colorscale\":[[0.0,\"#0d0887\"],[0.1111111111111111,\"#46039f\"],[0.2222222222222222,\"#7201a8\"],[0.3333333333333333,\"#9c179e\"],[0.4444444444444444,\"#bd3786\"],[0.5555555555555556,\"#d8576b\"],[0.6666666666666666,\"#ed7953\"],[0.7777777777777778,\"#fb9f3a\"],[0.8888888888888888,\"#fdca26\"],[1.0,\"#f0f921\"]]}],\"heatmap\":[{\"type\":\"heatmap\",\"colorbar\":{\"outlinewidth\":0,\"ticks\":\"\"},\"colorscale\":[[0.0,\"#0d0887\"],[0.1111111111111111,\"#46039f\"],[0.2222222222222222,\"#7201a8\"],[0.3333333333333333,\"#9c179e\"],[0.4444444444444444,\"#bd3786\"],[0.5555555555555556,\"#d8576b\"],[0.6666666666666666,\"#ed7953\"],[0.7777777777777778,\"#fb9f3a\"],[0.8888888888888888,\"#fdca26\"],[1.0,\"#f0f921\"]]}],\"heatmapgl\":[{\"type\":\"heatmapgl\",\"colorbar\":{\"outlinewidth\":0,\"ticks\":\"\"},\"colorscale\":[[0.0,\"#0d0887\"],[0.1111111111111111,\"#46039f\"],[0.2222222222222222,\"#7201a8\"],[0.3333333333333333,\"#9c179e\"],[0.4444444444444444,\"#bd3786\"],[0.5555555555555556,\"#d8576b\"],[0.6666666666666666,\"#ed7953\"],[0.7777777777777778,\"#fb9f3a\"],[0.8888888888888888,\"#fdca26\"],[1.0,\"#f0f921\"]]}],\"contourcarpet\":[{\"type\":\"contourcarpet\",\"colorbar\":{\"outlinewidth\":0,\"ticks\":\"\"}}],\"contour\":[{\"type\":\"contour\",\"colorbar\":{\"outlinewidth\":0,\"ticks\":\"\"},\"colorscale\":[[0.0,\"#0d0887\"],[0.1111111111111111,\"#46039f\"],[0.2222222222222222,\"#7201a8\"],[0.3333333333333333,\"#9c179e\"],[0.4444444444444444,\"#bd3786\"],[0.5555555555555556,\"#d8576b\"],[0.6666666666666666,\"#ed7953\"],[0.7777777777777778,\"#fb9f3a\"],[0.8888888888888888,\"#fdca26\"],[1.0,\"#f0f921\"]]}],\"surface\":[{\"type\":\"surface\",\"colorbar\":{\"outlinewidth\":0,\"ticks\":\"\"},\"colorscale\":[[0.0,\"#0d0887\"],[0.1111111111111111,\"#46039f\"],[0.2222222222222222,\"#7201a8\"],[0.3333333333333333,\"#9c179e\"],[0.4444444444444444,\"#bd3786\"],[0.5555555555555556,\"#d8576b\"],[0.6666666666666666,\"#ed7953\"],[0.7777777777777778,\"#fb9f3a\"],[0.8888888888888888,\"#fdca26\"],[1.0,\"#f0f921\"]]}],\"mesh3d\":[{\"type\":\"mesh3d\",\"colorbar\":{\"outlinewidth\":0,\"ticks\":\"\"}}],\"scatter\":[{\"fillpattern\":{\"fillmode\":\"overlay\",\"size\":10,\"solidity\":0.2},\"type\":\"scatter\"}],\"parcoords\":[{\"type\":\"parcoords\",\"line\":{\"colorbar\":{\"outlinewidth\":0,\"ticks\":\"\"}}}],\"scatterpolargl\":[{\"type\":\"scatterpolargl\",\"marker\":{\"colorbar\":{\"outlinewidth\":0,\"ticks\":\"\"}}}],\"bar\":[{\"error_x\":{\"color\":\"#2a3f5f\"},\"error_y\":{\"color\":\"#2a3f5f\"},\"marker\":{\"line\":{\"color\":\"#E5ECF6\",\"width\":0.5},\"pattern\":{\"fillmode\":\"overlay\",\"size\":10,\"solidity\":0.2}},\"type\":\"bar\"}],\"scattergeo\":[{\"type\":\"scattergeo\",\"marker\":{\"colorbar\":{\"outlinewidth\":0,\"ticks\":\"\"}}}],\"scatterpolar\":[{\"type\":\"scatterpolar\",\"marker\":{\"colorbar\":{\"outlinewidth\":0,\"ticks\":\"\"}}}],\"histogram\":[{\"marker\":{\"pattern\":{\"fillmode\":\"overlay\",\"size\":10,\"solidity\":0.2}},\"type\":\"histogram\"}],\"scattergl\":[{\"type\":\"scattergl\",\"marker\":{\"colorbar\":{\"outlinewidth\":0,\"ticks\":\"\"}}}],\"scatter3d\":[{\"type\":\"scatter3d\",\"line\":{\"colorbar\":{\"outlinewidth\":0,\"ticks\":\"\"}},\"marker\":{\"colorbar\":{\"outlinewidth\":0,\"ticks\":\"\"}}}],\"scattermapbox\":[{\"type\":\"scattermapbox\",\"marker\":{\"colorbar\":{\"outlinewidth\":0,\"ticks\":\"\"}}}],\"scatterternary\":[{\"type\":\"scatterternary\",\"marker\":{\"colorbar\":{\"outlinewidth\":0,\"ticks\":\"\"}}}],\"scattercarpet\":[{\"type\":\"scattercarpet\",\"marker\":{\"colorbar\":{\"outlinewidth\":0,\"ticks\":\"\"}}}],\"carpet\":[{\"aaxis\":{\"endlinecolor\":\"#2a3f5f\",\"gridcolor\":\"white\",\"linecolor\":\"white\",\"minorgridcolor\":\"white\",\"startlinecolor\":\"#2a3f5f\"},\"baxis\":{\"endlinecolor\":\"#2a3f5f\",\"gridcolor\":\"white\",\"linecolor\":\"white\",\"minorgridcolor\":\"white\",\"startlinecolor\":\"#2a3f5f\"},\"type\":\"carpet\"}],\"table\":[{\"cells\":{\"fill\":{\"color\":\"#EBF0F8\"},\"line\":{\"color\":\"white\"}},\"header\":{\"fill\":{\"color\":\"#C8D4E3\"},\"line\":{\"color\":\"white\"}},\"type\":\"table\"}],\"barpolar\":[{\"marker\":{\"line\":{\"color\":\"#E5ECF6\",\"width\":0.5},\"pattern\":{\"fillmode\":\"overlay\",\"size\":10,\"solidity\":0.2}},\"type\":\"barpolar\"}],\"pie\":[{\"automargin\":true,\"type\":\"pie\"}]},\"layout\":{\"autotypenumbers\":\"strict\",\"colorway\":[\"#636efa\",\"#EF553B\",\"#00cc96\",\"#ab63fa\",\"#FFA15A\",\"#19d3f3\",\"#FF6692\",\"#B6E880\",\"#FF97FF\",\"#FECB52\"],\"font\":{\"color\":\"#2a3f5f\"},\"hovermode\":\"closest\",\"hoverlabel\":{\"align\":\"left\"},\"paper_bgcolor\":\"white\",\"plot_bgcolor\":\"#E5ECF6\",\"polar\":{\"bgcolor\":\"#E5ECF6\",\"angularaxis\":{\"gridcolor\":\"white\",\"linecolor\":\"white\",\"ticks\":\"\"},\"radialaxis\":{\"gridcolor\":\"white\",\"linecolor\":\"white\",\"ticks\":\"\"}},\"ternary\":{\"bgcolor\":\"#E5ECF6\",\"aaxis\":{\"gridcolor\":\"white\",\"linecolor\":\"white\",\"ticks\":\"\"},\"baxis\":{\"gridcolor\":\"white\",\"linecolor\":\"white\",\"ticks\":\"\"},\"caxis\":{\"gridcolor\":\"white\",\"linecolor\":\"white\",\"ticks\":\"\"}},\"coloraxis\":{\"colorbar\":{\"outlinewidth\":0,\"ticks\":\"\"}},\"colorscale\":{\"sequential\":[[0.0,\"#0d0887\"],[0.1111111111111111,\"#46039f\"],[0.2222222222222222,\"#7201a8\"],[0.3333333333333333,\"#9c179e\"],[0.4444444444444444,\"#bd3786\"],[0.5555555555555556,\"#d8576b\"],[0.6666666666666666,\"#ed7953\"],[0.7777777777777778,\"#fb9f3a\"],[0.8888888888888888,\"#fdca26\"],[1.0,\"#f0f921\"]],\"sequentialminus\":[[0.0,\"#0d0887\"],[0.1111111111111111,\"#46039f\"],[0.2222222222222222,\"#7201a8\"],[0.3333333333333333,\"#9c179e\"],[0.4444444444444444,\"#bd3786\"],[0.5555555555555556,\"#d8576b\"],[0.6666666666666666,\"#ed7953\"],[0.7777777777777778,\"#fb9f3a\"],[0.8888888888888888,\"#fdca26\"],[1.0,\"#f0f921\"]],\"diverging\":[[0,\"#8e0152\"],[0.1,\"#c51b7d\"],[0.2,\"#de77ae\"],[0.3,\"#f1b6da\"],[0.4,\"#fde0ef\"],[0.5,\"#f7f7f7\"],[0.6,\"#e6f5d0\"],[0.7,\"#b8e186\"],[0.8,\"#7fbc41\"],[0.9,\"#4d9221\"],[1,\"#276419\"]]},\"xaxis\":{\"gridcolor\":\"white\",\"linecolor\":\"white\",\"ticks\":\"\",\"title\":{\"standoff\":15},\"zerolinecolor\":\"white\",\"automargin\":true,\"zerolinewidth\":2},\"yaxis\":{\"gridcolor\":\"white\",\"linecolor\":\"white\",\"ticks\":\"\",\"title\":{\"standoff\":15},\"zerolinecolor\":\"white\",\"automargin\":true,\"zerolinewidth\":2},\"scene\":{\"xaxis\":{\"backgroundcolor\":\"#E5ECF6\",\"gridcolor\":\"white\",\"linecolor\":\"white\",\"showbackground\":true,\"ticks\":\"\",\"zerolinecolor\":\"white\",\"gridwidth\":2},\"yaxis\":{\"backgroundcolor\":\"#E5ECF6\",\"gridcolor\":\"white\",\"linecolor\":\"white\",\"showbackground\":true,\"ticks\":\"\",\"zerolinecolor\":\"white\",\"gridwidth\":2},\"zaxis\":{\"backgroundcolor\":\"#E5ECF6\",\"gridcolor\":\"white\",\"linecolor\":\"white\",\"showbackground\":true,\"ticks\":\"\",\"zerolinecolor\":\"white\",\"gridwidth\":2}},\"shapedefaults\":{\"line\":{\"color\":\"#2a3f5f\"}},\"annotationdefaults\":{\"arrowcolor\":\"#2a3f5f\",\"arrowhead\":0,\"arrowwidth\":1},\"geo\":{\"bgcolor\":\"white\",\"landcolor\":\"#E5ECF6\",\"subunitcolor\":\"white\",\"showland\":true,\"showlakes\":true,\"lakecolor\":\"white\"},\"title\":{\"x\":0.05},\"mapbox\":{\"style\":\"light\"}}},\"xaxis\":{\"anchor\":\"y\",\"domain\":[0.0,1.0],\"title\":{\"text\":\"0\"}},\"yaxis\":{\"anchor\":\"x\",\"domain\":[0.0,1.0],\"title\":{\"text\":\"1\"}},\"coloraxis\":{\"colorbar\":{\"title\":{\"text\":\"color\"}},\"colorscale\":[[0.0,\"#0d0887\"],[0.1111111111111111,\"#46039f\"],[0.2222222222222222,\"#7201a8\"],[0.3333333333333333,\"#9c179e\"],[0.4444444444444444,\"#bd3786\"],[0.5555555555555556,\"#d8576b\"],[0.6666666666666666,\"#ed7953\"],[0.7777777777777778,\"#fb9f3a\"],[0.8888888888888888,\"#fdca26\"],[1.0,\"#f0f921\"]]},\"legend\":{\"tracegroupgap\":0},\"margin\":{\"t\":60}},                        {\"responsive\": true}                    ).then(function(){\n",
       "                            \n",
       "var gd = document.getElementById('c32fb035-8095-4b6f-96fc-f0025ae9efcd');\n",
       "var x = new MutationObserver(function (mutations, observer) {{\n",
       "        var display = window.getComputedStyle(gd).display;\n",
       "        if (!display || display === 'none') {{\n",
       "            console.log([gd, 'removed!']);\n",
       "            Plotly.purge(gd);\n",
       "            observer.disconnect();\n",
       "        }}\n",
       "}});\n",
       "\n",
       "// Listen for the removal of the full notebook cells\n",
       "var notebookContainer = gd.closest('#notebook-container');\n",
       "if (notebookContainer) {{\n",
       "    x.observe(notebookContainer, {childList: true});\n",
       "}}\n",
       "\n",
       "// Listen for the clearing of the current output cell\n",
       "var outputEl = gd.closest('.output');\n",
       "if (outputEl) {{\n",
       "    x.observe(outputEl, {childList: true});\n",
       "}}\n",
       "\n",
       "                        })                };                });            </script>        </div>"
      ]
     },
     "metadata": {},
     "output_type": "display_data"
    }
   ],
   "source": [
    "from umap import UMAP\n",
    "import plotly.express as px\n",
    "\n",
    "umap_2d = UMAP(n_components=2, init='random', random_state=0)\n",
    "\n",
    "proj_2d = umap_2d.fit_transform(X)\n",
    "\n",
    "fig_2d = px.scatter(\n",
    "    proj_2d, x=0, y=1,\n",
    "    color=y\n",
    ")\n",
    "\n",
    "fig_2d.show()\n"
   ]
  },
  {
   "cell_type": "code",
   "execution_count": 42,
   "metadata": {},
   "outputs": [
    {
     "data": {
      "image/png": "[encoded data removed]",
      "text/plain": [
       "<Figure size 640x480 with 1 Axes>"
      ]
     },
     "metadata": {},
     "output_type": "display_data"
    }
   ],
   "source": [
    "from sklearn.manifold import TSNE\n",
    "# Assuming your data is stored in the variable 'data'\n",
    "tsne = TSNE(n_components=2)\n",
    "embedded_data = tsne.fit_transform(X)\n",
    "\n",
    "# Step 2: Separate data points by class\n",
    "class_1_indices = np.where(y == 0)[0]\n",
    "class_2_indices = np.where(y == 1)[0]\n",
    "\n",
    "class_1_data = embedded_data[class_1_indices]\n",
    "class_2_data = embedded_data[class_2_indices]\n",
    "\n",
    "# Step 3: Plot the t-SNE plot with different colors for each class\n",
    "plt.scatter(class_1_data[:, 0], class_1_data[:, 1], color='red', label='Not death')\n",
    "plt.scatter(class_2_data[:, 0], class_2_data[:, 1], color='blue', label='death')\n",
    "\n",
    "plt.title('t-SNE Plot')\n",
    "plt.xlabel('Dimension 1')\n",
    "plt.ylabel('Dimension 2')\n",
    "plt.legend()\n",
    "plt.show()"
   ]
  },
  {
   "cell_type": "code",
   "execution_count": 137,
   "metadata": {},
   "outputs": [],
   "source": [
    "from sklearn.ensemble import RandomForestClassifier\n",
    "from sklearn.model_selection import GridSearchCV\n",
    "\n",
    "model=RandomForestClassifier(random_state=42)\n",
    "\n",
    "# defining parameter range\n",
    "param_grid = { \n",
    "    'max_features': ['auto', 'sqrt', 'log2'],\n",
    "    'max_depth' : [10,12,14,16,20],\n",
    "    'criterion' :['gini', 'entropy']\n",
    "}"
   ]
  },
  {
   "cell_type": "code",
   "execution_count": 142,
   "metadata": {},
   "outputs": [],
   "source": [
    "from sklearn.linear_model import RidgeClassifier\n",
    "model=RidgeClassifier()\n",
    "param_grid = {'alpha':[0.001,0.01,0.1,1 ]}"
   ]
  },
  {
   "cell_type": "code",
   "execution_count": 134,
   "metadata": {},
   "outputs": [],
   "source": [
    "model = xgb.XGBClassifier(random_state=42)\n",
    "\n",
    "# Defining parameter range\n",
    "param_grid = {\n",
    "    'max_depth': [3],\n",
    "    'learning_rate': [0.1 ,0.01, 0.001],\n",
    "    'n_estimators': [100],\n",
    "    'gamma': [ 0.1,0.01,0.001],\n",
    "    'subsample': [0.8, 1.0],\n",
    "    'colsample_bytree': [ 0.5, 0.8]\n",
    "}"
   ]
  },
  {
   "cell_type": "code",
   "execution_count": 143,
   "metadata": {},
   "outputs": [
    {
     "name": "stdout",
     "output_type": "stream",
     "text": [
      "Fitting 5 folds for each of 4 candidates, totalling 20 fits\n",
      "              precision    recall  f1-score   support\n",
      "\n",
      "         0.0       0.53      0.52      0.53        63\n",
      "         1.0       0.54      0.55      0.54        64\n",
      "\n",
      "    accuracy                           0.54       127\n",
      "   macro avg       0.54      0.54      0.54       127\n",
      "weighted avg       0.54      0.54      0.54       127\n",
      "\n"
     ]
    }
   ],
   "source": [
    "grid = GridSearchCV(model, param_grid, refit = True, verbose = 1)\n",
    "  \n",
    "# fitting the model for grid search\n",
    "grid.fit(X_train, y_train)\n",
    "from sklearn.metrics import classification_report, confusion_matrix\n",
    "grid_predictions = grid.predict(X_test)\n",
    "print(classification_report(y_test, grid_predictions))"
   ]
  },
  {
   "cell_type": "code",
   "execution_count": 144,
   "metadata": {},
   "outputs": [],
   "source": [
    "def roc(X_train,y_train,model,label):\n",
    "    cv = StratifiedKFold(n_splits=6)\n",
    "    classifier = model\n",
    "    tprs = []\n",
    "    aucs = []\n",
    "    mean_fpr = np.linspace(0, 1, 100)\n",
    "\n",
    "    fig, ax = plt.subplots(figsize=(6, 6))\n",
    "    for fold, (train, test) in enumerate(cv.split(X_train, y_train)):\n",
    "        classifier.fit(X_train.iloc[train], y_train[train])\n",
    "        viz = RocCurveDisplay.from_estimator(\n",
    "            classifier,\n",
    "            X_train.iloc[test],\n",
    "            y_train[test],\n",
    "            name=f\"ROC fold {fold}\",\n",
    "            alpha=0.3,\n",
    "            lw=1,\n",
    "            ax=ax,\n",
    "        )\n",
    "        interp_tpr = np.interp(mean_fpr, viz.fpr, viz.tpr)\n",
    "        interp_tpr[0] = 0.0\n",
    "        tprs.append(interp_tpr)\n",
    "        aucs.append(viz.roc_auc)\n",
    "    ax.plot([0, 1], [0, 1], \"k--\", label=\"chance level (AUC = 0.5)\")\n",
    "\n",
    "    mean_tpr = np.mean(tprs, axis=0)\n",
    "    mean_tpr[-1] = 1.0\n",
    "    mean_auc = auc(mean_fpr, mean_tpr)\n",
    "    std_auc = np.std(aucs)\n",
    "    ax.plot(\n",
    "        mean_fpr,\n",
    "        mean_tpr,\n",
    "        color=\"b\",\n",
    "        label=r\"Mean ROC (AUC = %0.2f $\\pm$ %0.2f)\" % (mean_auc, std_auc),\n",
    "        lw=2,\n",
    "        alpha=0.8,\n",
    "    )\n",
    "\n",
    "    std_tpr = np.std(tprs, axis=0)\n",
    "    tprs_upper = np.minimum(mean_tpr + std_tpr, 1)\n",
    "    tprs_lower = np.maximum(mean_tpr - std_tpr, 0)\n",
    "    ax.fill_between(\n",
    "        mean_fpr,\n",
    "        tprs_lower,\n",
    "        tprs_upper,\n",
    "        color=\"grey\",\n",
    "        alpha=0.2,\n",
    "        label=r\"$\\pm$ 1 std. dev.\",\n",
    "    )\n",
    "\n",
    "    ax.set(\n",
    "        xlim=[-0.05, 1.05],\n",
    "        ylim=[-0.05, 1.05],\n",
    "        xlabel=\"False Positive Rate\",\n",
    "        ylabel=\"True Positive Rate\",\n",
    "        title=label,\n",
    "    )\n",
    "    ax.axis(\"square\")\n",
    "    ax.legend(loc=\"lower right\")\n",
    "    plt.show()\n"
   ]
  },
  {
   "cell_type": "code",
   "execution_count": 145,
   "metadata": {},
   "outputs": [
    {
     "data": {
      "text/html": [
       "<style>#sk-container-id-5 {color: black;background-color: white;}#sk-container-id-5 pre{padding: 0;}#sk-container-id-5 div.sk-toggleable {background-color: white;}#sk-container-id-5 label.sk-toggleable__label {cursor: pointer;display: block;width: 100%;margin-bottom: 0;padding: 0.3em;box-sizing: border-box;text-align: center;}#sk-container-id-5 label.sk-toggleable__label-arrow:before {content: \"▸\";float: left;margin-right: 0.25em;color: #696969;}#sk-container-id-5 label.sk-toggleable__label-arrow:hover:before {color: black;}#sk-container-id-5 div.sk-estimator:hover label.sk-toggleable__label-arrow:before {color: black;}#sk-container-id-5 div.sk-toggleable__content {max-height: 0;max-width: 0;overflow: hidden;text-align: left;background-color: #f0f8ff;}#sk-container-id-5 div.sk-toggleable__content pre {margin: 0.2em;color: black;border-radius: 0.25em;background-color: #f0f8ff;}#sk-container-id-5 input.sk-toggleable__control:checked~div.sk-toggleable__content {max-height: 200px;max-width: 100%;overflow: auto;}#sk-container-id-5 input.sk-toggleable__control:checked~label.sk-toggleable__label-arrow:before {content: \"▾\";}#sk-container-id-5 div.sk-estimator input.sk-toggleable__control:checked~label.sk-toggleable__label {background-color: #d4ebff;}#sk-container-id-5 div.sk-label input.sk-toggleable__control:checked~label.sk-toggleable__label {background-color: #d4ebff;}#sk-container-id-5 input.sk-hidden--visually {border: 0;clip: rect(1px 1px 1px 1px);clip: rect(1px, 1px, 1px, 1px);height: 1px;margin: -1px;overflow: hidden;padding: 0;position: absolute;width: 1px;}#sk-container-id-5 div.sk-estimator {font-family: monospace;background-color: #f0f8ff;border: 1px dotted black;border-radius: 0.25em;box-sizing: border-box;margin-bottom: 0.5em;}#sk-container-id-5 div.sk-estimator:hover {background-color: #d4ebff;}#sk-container-id-5 div.sk-parallel-item::after {content: \"\";width: 100%;border-bottom: 1px solid gray;flex-grow: 1;}#sk-container-id-5 div.sk-label:hover label.sk-toggleable__label {background-color: #d4ebff;}#sk-container-id-5 div.sk-serial::before {content: \"\";position: absolute;border-left: 1px solid gray;box-sizing: border-box;top: 0;bottom: 0;left: 50%;z-index: 0;}#sk-container-id-5 div.sk-serial {display: flex;flex-direction: column;align-items: center;background-color: white;padding-right: 0.2em;padding-left: 0.2em;position: relative;}#sk-container-id-5 div.sk-item {position: relative;z-index: 1;}#sk-container-id-5 div.sk-parallel {display: flex;align-items: stretch;justify-content: center;background-color: white;position: relative;}#sk-container-id-5 div.sk-item::before, #sk-container-id-5 div.sk-parallel-item::before {content: \"\";position: absolute;border-left: 1px solid gray;box-sizing: border-box;top: 0;bottom: 0;left: 50%;z-index: -1;}#sk-container-id-5 div.sk-parallel-item {display: flex;flex-direction: column;z-index: 1;position: relative;background-color: white;}#sk-container-id-5 div.sk-parallel-item:first-child::after {align-self: flex-end;width: 50%;}#sk-container-id-5 div.sk-parallel-item:last-child::after {align-self: flex-start;width: 50%;}#sk-container-id-5 div.sk-parallel-item:only-child::after {width: 0;}#sk-container-id-5 div.sk-dashed-wrapped {border: 1px dashed gray;margin: 0 0.4em 0.5em 0.4em;box-sizing: border-box;padding-bottom: 0.4em;background-color: white;}#sk-container-id-5 div.sk-label label {font-family: monospace;font-weight: bold;display: inline-block;line-height: 1.2em;}#sk-container-id-5 div.sk-label-container {text-align: center;}#sk-container-id-5 div.sk-container {/* jupyter's `normalize.less` sets `[hidden] { display: none; }` but bootstrap.min.css set `[hidden] { display: none !important; }` so we also need the `!important` here to be able to override the default hidden behavior on the sphinx rendered scikit-learn.org. See: https://github.com/scikit-learn/scikit-learn/issues/21755 */display: inline-block !important;position: relative;}#sk-container-id-5 div.sk-text-repr-fallback {display: none;}</style><div id=\"sk-container-id-5\" class=\"sk-top-container\"><div class=\"sk-text-repr-fallback\"><pre>RidgeClassifier()</pre><b>In a Jupyter environment, please rerun this cell to show the HTML representation or trust the notebook. <br />On GitHub, the HTML representation is unable to render, please try loading this page with nbviewer.org.</b></div><div class=\"sk-container\" hidden><div class=\"sk-item\"><div class=\"sk-estimator sk-toggleable\"><input class=\"sk-toggleable__control sk-hidden--visually\" id=\"sk-estimator-id-5\" type=\"checkbox\" checked><label for=\"sk-estimator-id-5\" class=\"sk-toggleable__label sk-toggleable__label-arrow\">RidgeClassifier</label><div class=\"sk-toggleable__content\"><pre>RidgeClassifier()</pre></div></div></div></div></div>"
      ],
      "text/plain": [
       "RidgeClassifier()"
      ]
     },
     "execution_count": 145,
     "metadata": {},
     "output_type": "execute_result"
    }
   ],
   "source": [
    "model"
   ]
  },
  {
   "cell_type": "code",
   "execution_count": 146,
   "metadata": {},
   "outputs": [
    {
     "data": {
      "image/png": "[encoded data removed]",
      "text/plain": [
       "<Figure size 600x600 with 1 Axes>"
      ]
     },
     "metadata": {},
     "output_type": "display_data"
    }
   ],
   "source": [
    "model = grid.best_estimator_\n",
    "label=\"ROC curve of testing data\"\n",
    "roc(X_test,y_test,model,label)"
   ]
  },
  {
   "cell_type": "code",
   "execution_count": 47,
   "metadata": {},
   "outputs": [
    {
     "data": {
      "text/html": [
       "<style>#sk-container-id-1 {color: black;background-color: white;}#sk-container-id-1 pre{padding: 0;}#sk-container-id-1 div.sk-toggleable {background-color: white;}#sk-container-id-1 label.sk-toggleable__label {cursor: pointer;display: block;width: 100%;margin-bottom: 0;padding: 0.3em;box-sizing: border-box;text-align: center;}#sk-container-id-1 label.sk-toggleable__label-arrow:before {content: \"▸\";float: left;margin-right: 0.25em;color: #696969;}#sk-container-id-1 label.sk-toggleable__label-arrow:hover:before {color: black;}#sk-container-id-1 div.sk-estimator:hover label.sk-toggleable__label-arrow:before {color: black;}#sk-container-id-1 div.sk-toggleable__content {max-height: 0;max-width: 0;overflow: hidden;text-align: left;background-color: #f0f8ff;}#sk-container-id-1 div.sk-toggleable__content pre {margin: 0.2em;color: black;border-radius: 0.25em;background-color: #f0f8ff;}#sk-container-id-1 input.sk-toggleable__control:checked~div.sk-toggleable__content {max-height: 200px;max-width: 100%;overflow: auto;}#sk-container-id-1 input.sk-toggleable__control:checked~label.sk-toggleable__label-arrow:before {content: \"▾\";}#sk-container-id-1 div.sk-estimator input.sk-toggleable__control:checked~label.sk-toggleable__label {background-color: #d4ebff;}#sk-container-id-1 div.sk-label input.sk-toggleable__control:checked~label.sk-toggleable__label {background-color: #d4ebff;}#sk-container-id-1 input.sk-hidden--visually {border: 0;clip: rect(1px 1px 1px 1px);clip: rect(1px, 1px, 1px, 1px);height: 1px;margin: -1px;overflow: hidden;padding: 0;position: absolute;width: 1px;}#sk-container-id-1 div.sk-estimator {font-family: monospace;background-color: #f0f8ff;border: 1px dotted black;border-radius: 0.25em;box-sizing: border-box;margin-bottom: 0.5em;}#sk-container-id-1 div.sk-estimator:hover {background-color: #d4ebff;}#sk-container-id-1 div.sk-parallel-item::after {content: \"\";width: 100%;border-bottom: 1px solid gray;flex-grow: 1;}#sk-container-id-1 div.sk-label:hover label.sk-toggleable__label {background-color: #d4ebff;}#sk-container-id-1 div.sk-serial::before {content: \"\";position: absolute;border-left: 1px solid gray;box-sizing: border-box;top: 0;bottom: 0;left: 50%;z-index: 0;}#sk-container-id-1 div.sk-serial {display: flex;flex-direction: column;align-items: center;background-color: white;padding-right: 0.2em;padding-left: 0.2em;position: relative;}#sk-container-id-1 div.sk-item {position: relative;z-index: 1;}#sk-container-id-1 div.sk-parallel {display: flex;align-items: stretch;justify-content: center;background-color: white;position: relative;}#sk-container-id-1 div.sk-item::before, #sk-container-id-1 div.sk-parallel-item::before {content: \"\";position: absolute;border-left: 1px solid gray;box-sizing: border-box;top: 0;bottom: 0;left: 50%;z-index: -1;}#sk-container-id-1 div.sk-parallel-item {display: flex;flex-direction: column;z-index: 1;position: relative;background-color: white;}#sk-container-id-1 div.sk-parallel-item:first-child::after {align-self: flex-end;width: 50%;}#sk-container-id-1 div.sk-parallel-item:last-child::after {align-self: flex-start;width: 50%;}#sk-container-id-1 div.sk-parallel-item:only-child::after {width: 0;}#sk-container-id-1 div.sk-dashed-wrapped {border: 1px dashed gray;margin: 0 0.4em 0.5em 0.4em;box-sizing: border-box;padding-bottom: 0.4em;background-color: white;}#sk-container-id-1 div.sk-label label {font-family: monospace;font-weight: bold;display: inline-block;line-height: 1.2em;}#sk-container-id-1 div.sk-label-container {text-align: center;}#sk-container-id-1 div.sk-container {/* jupyter's `normalize.less` sets `[hidden] { display: none; }` but bootstrap.min.css set `[hidden] { display: none !important; }` so we also need the `!important` here to be able to override the default hidden behavior on the sphinx rendered scikit-learn.org. See: https://github.com/scikit-learn/scikit-learn/issues/21755 */display: inline-block !important;position: relative;}#sk-container-id-1 div.sk-text-repr-fallback {display: none;}</style><div id=\"sk-container-id-1\" class=\"sk-top-container\"><div class=\"sk-text-repr-fallback\"><pre>XGBClassifier(base_score=None, booster=None, callbacks=None,\n",
       "              colsample_bylevel=None, colsample_bynode=None,\n",
       "              colsample_bytree=0.5, early_stopping_rounds=None,\n",
       "              enable_categorical=False, eval_metric=None, feature_types=None,\n",
       "              gamma=0.1, gpu_id=None, grow_policy=None, importance_type=None,\n",
       "              interaction_constraints=None, learning_rate=0.1, max_bin=None,\n",
       "              max_cat_threshold=None, max_cat_to_onehot=None,\n",
       "              max_delta_step=None, max_depth=3, max_leaves=None,\n",
       "              min_child_weight=None, missing=nan, monotone_constraints=None,\n",
       "              n_estimators=100, n_jobs=None, num_parallel_tree=None,\n",
       "              predictor=None, random_state=42, ...)</pre><b>In a Jupyter environment, please rerun this cell to show the HTML representation or trust the notebook. <br />On GitHub, the HTML representation is unable to render, please try loading this page with nbviewer.org.</b></div><div class=\"sk-container\" hidden><div class=\"sk-item\"><div class=\"sk-estimator sk-toggleable\"><input class=\"sk-toggleable__control sk-hidden--visually\" id=\"sk-estimator-id-1\" type=\"checkbox\" checked><label for=\"sk-estimator-id-1\" class=\"sk-toggleable__label sk-toggleable__label-arrow\">XGBClassifier</label><div class=\"sk-toggleable__content\"><pre>XGBClassifier(base_score=None, booster=None, callbacks=None,\n",
       "              colsample_bylevel=None, colsample_bynode=None,\n",
       "              colsample_bytree=0.5, early_stopping_rounds=None,\n",
       "              enable_categorical=False, eval_metric=None, feature_types=None,\n",
       "              gamma=0.1, gpu_id=None, grow_policy=None, importance_type=None,\n",
       "              interaction_constraints=None, learning_rate=0.1, max_bin=None,\n",
       "              max_cat_threshold=None, max_cat_to_onehot=None,\n",
       "              max_delta_step=None, max_depth=3, max_leaves=None,\n",
       "              min_child_weight=None, missing=nan, monotone_constraints=None,\n",
       "              n_estimators=100, n_jobs=None, num_parallel_tree=None,\n",
       "              predictor=None, random_state=42, ...)</pre></div></div></div></div></div>"
      ],
      "text/plain": [
       "XGBClassifier(base_score=None, booster=None, callbacks=None,\n",
       "              colsample_bylevel=None, colsample_bynode=None,\n",
       "              colsample_bytree=0.5, early_stopping_rounds=None,\n",
       "              enable_categorical=False, eval_metric=None, feature_types=None,\n",
       "              gamma=0.1, gpu_id=None, grow_policy=None, importance_type=None,\n",
       "              interaction_constraints=None, learning_rate=0.1, max_bin=None,\n",
       "              max_cat_threshold=None, max_cat_to_onehot=None,\n",
       "              max_delta_step=None, max_depth=3, max_leaves=None,\n",
       "              min_child_weight=None, missing=nan, monotone_constraints=None,\n",
       "              n_estimators=100, n_jobs=None, num_parallel_tree=None,\n",
       "              predictor=None, random_state=42, ...)"
      ]
     },
     "execution_count": 47,
     "metadata": {},
     "output_type": "execute_result"
    }
   ],
   "source": [
    "model_RF = grid.best_estimator_\n",
    "model_RF.fit(X_train,y_train)"
   ]
  },
  {
   "cell_type": "code",
   "execution_count": 48,
   "metadata": {},
   "outputs": [],
   "source": [
    "# for important features:\n",
    "important_feat = model_RF.feature_importances_\n",
    "#get indices of those important features\n",
    "idx = important_feat.argsort(kind= \"quicksort\")\n",
    "idx= idx[::-1][:18]"
   ]
  },
  {
   "cell_type": "code",
   "execution_count": 49,
   "metadata": {},
   "outputs": [
    {
     "data": {
      "text/plain": [
       "113    ENSG00000162729\n",
       "217    ENSG00000232612\n",
       "82     ENSG00000143369\n",
       "36     ENSG00000114480\n",
       "56     ENSG00000134014\n",
       "93     ENSG00000148840\n",
       "174    ENSG00000188542\n",
       "5      ENSG00000007237\n",
       "46     ENSG00000125498\n",
       "89     ENSG00000147647\n",
       "76     ENSG00000139178\n",
       "39     ENSG00000116001\n",
       "6      ENSG00000012232\n",
       "150    ENSG00000173239\n",
       "1      ENSG00000004776\n",
       "88     ENSG00000145916\n",
       "119    ENSG00000164045\n",
       "11     ENSG00000072818\n",
       "Name: genes, dtype: object"
      ]
     },
     "execution_count": 49,
     "metadata": {},
     "output_type": "execute_result"
    }
   ],
   "source": [
    "genes_ensemble_id[idx]"
   ]
  },
  {
   "attachments": {},
   "cell_type": "markdown",
   "metadata": {},
   "source": [
    "ENSG00000184697\n",
    "ENSG00000237412\n",
    "ENSG00000265787\n",
    "ENSG00000277586"
   ]
  }
 ],
 "metadata": {
  "kernelspec": {
   "display_name": "project4",
   "language": "python",
   "name": "python3"
  },
  "language_info": {
   "codemirror_mode": {
    "name": "ipython",
    "version": 3
   },
   "file_extension": ".py",
   "mimetype": "text/x-python",
   "name": "python",
   "nbconvert_exporter": "python",
   "pygments_lexer": "ipython3",
   "version": "3.11.3"
  },
  "orig_nbformat": 4
 },
 "nbformat": 4,
 "nbformat_minor": 2
}
