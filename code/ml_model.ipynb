{
 "cells": [
  {
   "cell_type": "code",
   "execution_count": 128,
   "metadata": {},
   "outputs": [],
   "source": [
    "import warnings\n",
    "warnings.filterwarnings('ignore')\n",
    "\n",
    "import pandas as pd\n",
    "from sklearn.model_selection import train_test_split\n",
    "import numpy as np\n",
    "import xgboost as xgb\n",
    "from sklearn.model_selection import StratifiedKFold\n",
    "\n",
    "from sklearn.metrics import RocCurveDisplay\n",
    "from sklearn.model_selection import KFold\n",
    "from sklearn.model_selection import StratifiedKFold\n",
    "from sklearn.metrics import auc\n",
    "import matplotlib.pyplot as plt\n",
    "from imblearn.over_sampling import SMOTE\n",
    "from sklearn.preprocessing import StandardScaler\n",
    "scaler = StandardScaler()\n"
   ]
  },
  {
   "cell_type": "code",
   "execution_count": 129,
   "metadata": {},
   "outputs": [],
   "source": [
    "#df_stage = pd.read_csv(\"../results/gene_exp_analysis/cnv_genes_exp_stage.combine.csv\",\n",
    "                 #header=0,sep=\"\\t\")\n",
    "df = pd.read_csv(\"../results/gene_exp_analysis/lasso_selected_count.csv\",\n",
    "                 header=0,sep=\"\\t\")\n",
    "label = pd.read_csv(\"../results/gene_exp_analysis/clinical.csv\",\n",
    "                    header=0,sep=\"\\t\")"
   ]
  },
  {
   "cell_type": "code",
   "execution_count": 130,
   "metadata": {},
   "outputs": [
    {
     "data": {
      "text/html": [
       "<div>\n",
       "<style scoped>\n",
       "    .dataframe tbody tr th:only-of-type {\n",
       "        vertical-align: middle;\n",
       "    }\n",
       "\n",
       "    .dataframe tbody tr th {\n",
       "        vertical-align: top;\n",
       "    }\n",
       "\n",
       "    .dataframe thead th {\n",
       "        text-align: right;\n",
       "    }\n",
       "</style>\n",
       "<table border=\"1\" class=\"dataframe\">\n",
       "  <thead>\n",
       "    <tr style=\"text-align: right;\">\n",
       "      <th></th>\n",
       "      <th>sample</th>\n",
       "      <th>OS</th>\n",
       "      <th>X_PATIENT</th>\n",
       "      <th>OS.time</th>\n",
       "      <th>stage</th>\n",
       "    </tr>\n",
       "  </thead>\n",
       "  <tbody>\n",
       "    <tr>\n",
       "      <th>0</th>\n",
       "      <td>TCGA.2F.A9KQ.01A</td>\n",
       "      <td>0</td>\n",
       "      <td>TCGA-2F-A9KQ</td>\n",
       "      <td>2886</td>\n",
       "      <td>3</td>\n",
       "    </tr>\n",
       "    <tr>\n",
       "      <th>1</th>\n",
       "      <td>TCGA.2F.A9KT.01A</td>\n",
       "      <td>0</td>\n",
       "      <td>TCGA-2F-A9KT</td>\n",
       "      <td>2352</td>\n",
       "      <td>2</td>\n",
       "    </tr>\n",
       "    <tr>\n",
       "      <th>2</th>\n",
       "      <td>TCGA.2F.A9KW.01A</td>\n",
       "      <td>1</td>\n",
       "      <td>TCGA-2F-A9KW</td>\n",
       "      <td>254</td>\n",
       "      <td>3</td>\n",
       "    </tr>\n",
       "    <tr>\n",
       "      <th>3</th>\n",
       "      <td>TCGA.4Z.AA7M.01A</td>\n",
       "      <td>0</td>\n",
       "      <td>TCGA-4Z-AA7M</td>\n",
       "      <td>495</td>\n",
       "      <td>3</td>\n",
       "    </tr>\n",
       "    <tr>\n",
       "      <th>4</th>\n",
       "      <td>TCGA.4Z.AA7N.01A</td>\n",
       "      <td>1</td>\n",
       "      <td>TCGA-4Z-AA7N</td>\n",
       "      <td>1367</td>\n",
       "      <td>3</td>\n",
       "    </tr>\n",
       "    <tr>\n",
       "      <th>...</th>\n",
       "      <td>...</td>\n",
       "      <td>...</td>\n",
       "      <td>...</td>\n",
       "      <td>...</td>\n",
       "      <td>...</td>\n",
       "    </tr>\n",
       "    <tr>\n",
       "      <th>287</th>\n",
       "      <td>TCGA.ZF.AA51.01A</td>\n",
       "      <td>0</td>\n",
       "      <td>TCGA-ZF-AA51</td>\n",
       "      <td>1714</td>\n",
       "      <td>2</td>\n",
       "    </tr>\n",
       "    <tr>\n",
       "      <th>288</th>\n",
       "      <td>TCGA.ZF.AA53.01A</td>\n",
       "      <td>0</td>\n",
       "      <td>TCGA-ZF-AA53</td>\n",
       "      <td>1761</td>\n",
       "      <td>2</td>\n",
       "    </tr>\n",
       "    <tr>\n",
       "      <th>289</th>\n",
       "      <td>TCGA.ZF.AA58.01A</td>\n",
       "      <td>0</td>\n",
       "      <td>TCGA-ZF-AA58</td>\n",
       "      <td>1649</td>\n",
       "      <td>4</td>\n",
       "    </tr>\n",
       "    <tr>\n",
       "      <th>290</th>\n",
       "      <td>TCGA.ZF.AA5H.01A</td>\n",
       "      <td>0</td>\n",
       "      <td>TCGA-ZF-AA5H</td>\n",
       "      <td>897</td>\n",
       "      <td>4</td>\n",
       "    </tr>\n",
       "    <tr>\n",
       "      <th>291</th>\n",
       "      <td>TCGA.ZF.AA5P.01A</td>\n",
       "      <td>0</td>\n",
       "      <td>TCGA-ZF-AA5P</td>\n",
       "      <td>372</td>\n",
       "      <td>4</td>\n",
       "    </tr>\n",
       "  </tbody>\n",
       "</table>\n",
       "<p>292 rows × 5 columns</p>\n",
       "</div>"
      ],
      "text/plain": [
       "               sample  OS     X_PATIENT  OS.time  stage\n",
       "0    TCGA.2F.A9KQ.01A   0  TCGA-2F-A9KQ     2886      3\n",
       "1    TCGA.2F.A9KT.01A   0  TCGA-2F-A9KT     2352      2\n",
       "2    TCGA.2F.A9KW.01A   1  TCGA-2F-A9KW      254      3\n",
       "3    TCGA.4Z.AA7M.01A   0  TCGA-4Z-AA7M      495      3\n",
       "4    TCGA.4Z.AA7N.01A   1  TCGA-4Z-AA7N     1367      3\n",
       "..                ...  ..           ...      ...    ...\n",
       "287  TCGA.ZF.AA51.01A   0  TCGA-ZF-AA51     1714      2\n",
       "288  TCGA.ZF.AA53.01A   0  TCGA-ZF-AA53     1761      2\n",
       "289  TCGA.ZF.AA58.01A   0  TCGA-ZF-AA58     1649      4\n",
       "290  TCGA.ZF.AA5H.01A   0  TCGA-ZF-AA5H      897      4\n",
       "291  TCGA.ZF.AA5P.01A   0  TCGA-ZF-AA5P      372      4\n",
       "\n",
       "[292 rows x 5 columns]"
      ]
     },
     "execution_count": 130,
     "metadata": {},
     "output_type": "execute_result"
    }
   ],
   "source": [
    "label"
   ]
  },
  {
   "cell_type": "code",
   "execution_count": 131,
   "metadata": {},
   "outputs": [
    {
     "data": {
      "text/plain": [
       "OS\n",
       "0    189\n",
       "1    103\n",
       "Name: count, dtype: int64"
      ]
     },
     "execution_count": 131,
     "metadata": {},
     "output_type": "execute_result"
    }
   ],
   "source": [
    "label[\"OS\"].value_counts()"
   ]
  },
  {
   "cell_type": "code",
   "execution_count": 132,
   "metadata": {},
   "outputs": [
    {
     "data": {
      "text/html": [
       "<div>\n",
       "<style scoped>\n",
       "    .dataframe tbody tr th:only-of-type {\n",
       "        vertical-align: middle;\n",
       "    }\n",
       "\n",
       "    .dataframe tbody tr th {\n",
       "        vertical-align: top;\n",
       "    }\n",
       "\n",
       "    .dataframe thead th {\n",
       "        text-align: right;\n",
       "    }\n",
       "</style>\n",
       "<table border=\"1\" class=\"dataframe\">\n",
       "  <thead>\n",
       "    <tr style=\"text-align: right;\">\n",
       "      <th></th>\n",
       "      <th>TCGA.2F.A9KQ.01A</th>\n",
       "      <th>TCGA.2F.A9KT.01A</th>\n",
       "      <th>TCGA.2F.A9KW.01A</th>\n",
       "      <th>TCGA.4Z.AA7M.01A</th>\n",
       "      <th>TCGA.4Z.AA7N.01A</th>\n",
       "      <th>TCGA.4Z.AA7O.01A</th>\n",
       "      <th>TCGA.4Z.AA7R.01A</th>\n",
       "      <th>TCGA.4Z.AA7W.01A</th>\n",
       "      <th>TCGA.4Z.AA7Y.01A</th>\n",
       "      <th>TCGA.4Z.AA81.01A</th>\n",
       "      <th>...</th>\n",
       "      <th>TCGA.ZF.A9RM.01A</th>\n",
       "      <th>TCGA.ZF.AA4V.01A</th>\n",
       "      <th>TCGA.ZF.AA4W.01A</th>\n",
       "      <th>TCGA.ZF.AA4X.01A</th>\n",
       "      <th>TCGA.ZF.AA51.01A</th>\n",
       "      <th>TCGA.ZF.AA53.01A</th>\n",
       "      <th>TCGA.ZF.AA58.01A</th>\n",
       "      <th>TCGA.ZF.AA5H.01A</th>\n",
       "      <th>TCGA.ZF.AA5P.01A</th>\n",
       "      <th>genes</th>\n",
       "    </tr>\n",
       "  </thead>\n",
       "  <tbody>\n",
       "    <tr>\n",
       "      <th>0</th>\n",
       "      <td>5425</td>\n",
       "      <td>3333</td>\n",
       "      <td>2656</td>\n",
       "      <td>8436</td>\n",
       "      <td>2546</td>\n",
       "      <td>7942</td>\n",
       "      <td>6302</td>\n",
       "      <td>1505</td>\n",
       "      <td>6467</td>\n",
       "      <td>3650</td>\n",
       "      <td>...</td>\n",
       "      <td>6645</td>\n",
       "      <td>2751</td>\n",
       "      <td>1014</td>\n",
       "      <td>17287</td>\n",
       "      <td>2241</td>\n",
       "      <td>1238</td>\n",
       "      <td>3376</td>\n",
       "      <td>2865</td>\n",
       "      <td>3383</td>\n",
       "      <td>ENSG00000000003</td>\n",
       "    </tr>\n",
       "    <tr>\n",
       "      <th>1</th>\n",
       "      <td>75</td>\n",
       "      <td>50</td>\n",
       "      <td>112</td>\n",
       "      <td>38</td>\n",
       "      <td>90</td>\n",
       "      <td>21</td>\n",
       "      <td>100</td>\n",
       "      <td>125</td>\n",
       "      <td>41</td>\n",
       "      <td>17</td>\n",
       "      <td>...</td>\n",
       "      <td>16</td>\n",
       "      <td>285</td>\n",
       "      <td>212</td>\n",
       "      <td>15</td>\n",
       "      <td>54</td>\n",
       "      <td>107</td>\n",
       "      <td>100</td>\n",
       "      <td>494</td>\n",
       "      <td>237</td>\n",
       "      <td>ENSG00000013619</td>\n",
       "    </tr>\n",
       "    <tr>\n",
       "      <th>2</th>\n",
       "      <td>4825</td>\n",
       "      <td>10042</td>\n",
       "      <td>12345</td>\n",
       "      <td>3910</td>\n",
       "      <td>1253</td>\n",
       "      <td>1652</td>\n",
       "      <td>4148</td>\n",
       "      <td>1984</td>\n",
       "      <td>4584</td>\n",
       "      <td>2699</td>\n",
       "      <td>...</td>\n",
       "      <td>10869</td>\n",
       "      <td>3480</td>\n",
       "      <td>1842</td>\n",
       "      <td>4973</td>\n",
       "      <td>4107</td>\n",
       "      <td>975</td>\n",
       "      <td>3954</td>\n",
       "      <td>4856</td>\n",
       "      <td>4887</td>\n",
       "      <td>ENSG00000025772</td>\n",
       "    </tr>\n",
       "    <tr>\n",
       "      <th>3</th>\n",
       "      <td>1965</td>\n",
       "      <td>1643</td>\n",
       "      <td>5597</td>\n",
       "      <td>4014</td>\n",
       "      <td>1105</td>\n",
       "      <td>1128</td>\n",
       "      <td>3006</td>\n",
       "      <td>891</td>\n",
       "      <td>2233</td>\n",
       "      <td>2269</td>\n",
       "      <td>...</td>\n",
       "      <td>4327</td>\n",
       "      <td>2061</td>\n",
       "      <td>1625</td>\n",
       "      <td>3128</td>\n",
       "      <td>1565</td>\n",
       "      <td>838</td>\n",
       "      <td>2415</td>\n",
       "      <td>2834</td>\n",
       "      <td>2208</td>\n",
       "      <td>ENSG00000030066</td>\n",
       "    </tr>\n",
       "    <tr>\n",
       "      <th>4</th>\n",
       "      <td>835</td>\n",
       "      <td>316</td>\n",
       "      <td>687</td>\n",
       "      <td>395</td>\n",
       "      <td>348</td>\n",
       "      <td>238</td>\n",
       "      <td>345</td>\n",
       "      <td>64</td>\n",
       "      <td>538</td>\n",
       "      <td>379</td>\n",
       "      <td>...</td>\n",
       "      <td>939</td>\n",
       "      <td>276</td>\n",
       "      <td>179</td>\n",
       "      <td>518</td>\n",
       "      <td>168</td>\n",
       "      <td>150</td>\n",
       "      <td>352</td>\n",
       "      <td>484</td>\n",
       "      <td>348</td>\n",
       "      <td>ENSG00000037749</td>\n",
       "    </tr>\n",
       "    <tr>\n",
       "      <th>...</th>\n",
       "      <td>...</td>\n",
       "      <td>...</td>\n",
       "      <td>...</td>\n",
       "      <td>...</td>\n",
       "      <td>...</td>\n",
       "      <td>...</td>\n",
       "      <td>...</td>\n",
       "      <td>...</td>\n",
       "      <td>...</td>\n",
       "      <td>...</td>\n",
       "      <td>...</td>\n",
       "      <td>...</td>\n",
       "      <td>...</td>\n",
       "      <td>...</td>\n",
       "      <td>...</td>\n",
       "      <td>...</td>\n",
       "      <td>...</td>\n",
       "      <td>...</td>\n",
       "      <td>...</td>\n",
       "      <td>...</td>\n",
       "      <td>...</td>\n",
       "    </tr>\n",
       "    <tr>\n",
       "      <th>237</th>\n",
       "      <td>266</td>\n",
       "      <td>1636</td>\n",
       "      <td>118</td>\n",
       "      <td>367</td>\n",
       "      <td>635</td>\n",
       "      <td>158</td>\n",
       "      <td>220</td>\n",
       "      <td>188</td>\n",
       "      <td>402</td>\n",
       "      <td>220</td>\n",
       "      <td>...</td>\n",
       "      <td>350</td>\n",
       "      <td>415</td>\n",
       "      <td>5849</td>\n",
       "      <td>375</td>\n",
       "      <td>227</td>\n",
       "      <td>331</td>\n",
       "      <td>352</td>\n",
       "      <td>329</td>\n",
       "      <td>159</td>\n",
       "      <td>ENSG00000162757</td>\n",
       "    </tr>\n",
       "    <tr>\n",
       "      <th>238</th>\n",
       "      <td>1</td>\n",
       "      <td>0</td>\n",
       "      <td>1</td>\n",
       "      <td>0</td>\n",
       "      <td>3</td>\n",
       "      <td>0</td>\n",
       "      <td>158</td>\n",
       "      <td>3</td>\n",
       "      <td>3</td>\n",
       "      <td>0</td>\n",
       "      <td>...</td>\n",
       "      <td>2</td>\n",
       "      <td>36</td>\n",
       "      <td>16</td>\n",
       "      <td>10</td>\n",
       "      <td>3</td>\n",
       "      <td>5</td>\n",
       "      <td>879</td>\n",
       "      <td>3</td>\n",
       "      <td>66</td>\n",
       "      <td>ENSG00000162891</td>\n",
       "    </tr>\n",
       "    <tr>\n",
       "      <th>239</th>\n",
       "      <td>7916</td>\n",
       "      <td>5039</td>\n",
       "      <td>5801</td>\n",
       "      <td>5869</td>\n",
       "      <td>4086</td>\n",
       "      <td>3341</td>\n",
       "      <td>4353</td>\n",
       "      <td>2195</td>\n",
       "      <td>7053</td>\n",
       "      <td>3799</td>\n",
       "      <td>...</td>\n",
       "      <td>6881</td>\n",
       "      <td>6489</td>\n",
       "      <td>3419</td>\n",
       "      <td>5796</td>\n",
       "      <td>3528</td>\n",
       "      <td>3282</td>\n",
       "      <td>4734</td>\n",
       "      <td>5130</td>\n",
       "      <td>4124</td>\n",
       "      <td>ENSG00000162923</td>\n",
       "    </tr>\n",
       "    <tr>\n",
       "      <th>240</th>\n",
       "      <td>102</td>\n",
       "      <td>70</td>\n",
       "      <td>404</td>\n",
       "      <td>208</td>\n",
       "      <td>158</td>\n",
       "      <td>110</td>\n",
       "      <td>219</td>\n",
       "      <td>148</td>\n",
       "      <td>141</td>\n",
       "      <td>25</td>\n",
       "      <td>...</td>\n",
       "      <td>50</td>\n",
       "      <td>79</td>\n",
       "      <td>32</td>\n",
       "      <td>20</td>\n",
       "      <td>65</td>\n",
       "      <td>117</td>\n",
       "      <td>178</td>\n",
       "      <td>150</td>\n",
       "      <td>97</td>\n",
       "      <td>ENSG00000162946</td>\n",
       "    </tr>\n",
       "    <tr>\n",
       "      <th>241</th>\n",
       "      <td>1797</td>\n",
       "      <td>1410</td>\n",
       "      <td>1837</td>\n",
       "      <td>1501</td>\n",
       "      <td>454</td>\n",
       "      <td>1490</td>\n",
       "      <td>4191</td>\n",
       "      <td>2102</td>\n",
       "      <td>1852</td>\n",
       "      <td>1614</td>\n",
       "      <td>...</td>\n",
       "      <td>1795</td>\n",
       "      <td>3505</td>\n",
       "      <td>2133</td>\n",
       "      <td>2284</td>\n",
       "      <td>1417</td>\n",
       "      <td>1675</td>\n",
       "      <td>2494</td>\n",
       "      <td>2258</td>\n",
       "      <td>1161</td>\n",
       "      <td>ENSG00000162961</td>\n",
       "    </tr>\n",
       "  </tbody>\n",
       "</table>\n",
       "<p>242 rows × 293 columns</p>\n",
       "</div>"
      ],
      "text/plain": [
       "     TCGA.2F.A9KQ.01A  TCGA.2F.A9KT.01A  TCGA.2F.A9KW.01A  TCGA.4Z.AA7M.01A  \\\n",
       "0                5425              3333              2656              8436   \n",
       "1                  75                50               112                38   \n",
       "2                4825             10042             12345              3910   \n",
       "3                1965              1643              5597              4014   \n",
       "4                 835               316               687               395   \n",
       "..                ...               ...               ...               ...   \n",
       "237               266              1636               118               367   \n",
       "238                 1                 0                 1                 0   \n",
       "239              7916              5039              5801              5869   \n",
       "240               102                70               404               208   \n",
       "241              1797              1410              1837              1501   \n",
       "\n",
       "     TCGA.4Z.AA7N.01A  TCGA.4Z.AA7O.01A  TCGA.4Z.AA7R.01A  TCGA.4Z.AA7W.01A  \\\n",
       "0                2546              7942              6302              1505   \n",
       "1                  90                21               100               125   \n",
       "2                1253              1652              4148              1984   \n",
       "3                1105              1128              3006               891   \n",
       "4                 348               238               345                64   \n",
       "..                ...               ...               ...               ...   \n",
       "237               635               158               220               188   \n",
       "238                 3                 0               158                 3   \n",
       "239              4086              3341              4353              2195   \n",
       "240               158               110               219               148   \n",
       "241               454              1490              4191              2102   \n",
       "\n",
       "     TCGA.4Z.AA7Y.01A  TCGA.4Z.AA81.01A  ...  TCGA.ZF.A9RM.01A  \\\n",
       "0                6467              3650  ...              6645   \n",
       "1                  41                17  ...                16   \n",
       "2                4584              2699  ...             10869   \n",
       "3                2233              2269  ...              4327   \n",
       "4                 538               379  ...               939   \n",
       "..                ...               ...  ...               ...   \n",
       "237               402               220  ...               350   \n",
       "238                 3                 0  ...                 2   \n",
       "239              7053              3799  ...              6881   \n",
       "240               141                25  ...                50   \n",
       "241              1852              1614  ...              1795   \n",
       "\n",
       "     TCGA.ZF.AA4V.01A  TCGA.ZF.AA4W.01A  TCGA.ZF.AA4X.01A  TCGA.ZF.AA51.01A  \\\n",
       "0                2751              1014             17287              2241   \n",
       "1                 285               212                15                54   \n",
       "2                3480              1842              4973              4107   \n",
       "3                2061              1625              3128              1565   \n",
       "4                 276               179               518               168   \n",
       "..                ...               ...               ...               ...   \n",
       "237               415              5849               375               227   \n",
       "238                36                16                10                 3   \n",
       "239              6489              3419              5796              3528   \n",
       "240                79                32                20                65   \n",
       "241              3505              2133              2284              1417   \n",
       "\n",
       "     TCGA.ZF.AA53.01A  TCGA.ZF.AA58.01A  TCGA.ZF.AA5H.01A  TCGA.ZF.AA5P.01A  \\\n",
       "0                1238              3376              2865              3383   \n",
       "1                 107               100               494               237   \n",
       "2                 975              3954              4856              4887   \n",
       "3                 838              2415              2834              2208   \n",
       "4                 150               352               484               348   \n",
       "..                ...               ...               ...               ...   \n",
       "237               331               352               329               159   \n",
       "238                 5               879                 3                66   \n",
       "239              3282              4734              5130              4124   \n",
       "240               117               178               150                97   \n",
       "241              1675              2494              2258              1161   \n",
       "\n",
       "               genes  \n",
       "0    ENSG00000000003  \n",
       "1    ENSG00000013619  \n",
       "2    ENSG00000025772  \n",
       "3    ENSG00000030066  \n",
       "4    ENSG00000037749  \n",
       "..               ...  \n",
       "237  ENSG00000162757  \n",
       "238  ENSG00000162891  \n",
       "239  ENSG00000162923  \n",
       "240  ENSG00000162946  \n",
       "241  ENSG00000162961  \n",
       "\n",
       "[242 rows x 293 columns]"
      ]
     },
     "execution_count": 132,
     "metadata": {},
     "output_type": "execute_result"
    }
   ],
   "source": [
    "df"
   ]
  },
  {
   "cell_type": "code",
   "execution_count": 133,
   "metadata": {},
   "outputs": [],
   "source": [
    "genes_ensemble_id = df[\"genes\"]\n",
    "df = df.drop([\"genes\"],axis=1)\n",
    "#genes_ensemble_id_stage = df_stage[\"genes\"]\n",
    "#df_stage = df_stage.drop([\"genes\"],axis=1)"
   ]
  },
  {
   "cell_type": "code",
   "execution_count": 134,
   "metadata": {},
   "outputs": [],
   "source": [
    "df = df.T\n",
    "#df.rename(columns=genes_ensemble_id,inplace=True)\n",
    "# df_stage = df_stage.T\n",
    "# df_stage.rename(columns=genes_ensemble_id_stage,inplace=True)"
   ]
  },
  {
   "cell_type": "code",
   "execution_count": 135,
   "metadata": {},
   "outputs": [
    {
     "data": {
      "text/html": [
       "<div>\n",
       "<style scoped>\n",
       "    .dataframe tbody tr th:only-of-type {\n",
       "        vertical-align: middle;\n",
       "    }\n",
       "\n",
       "    .dataframe tbody tr th {\n",
       "        vertical-align: top;\n",
       "    }\n",
       "\n",
       "    .dataframe thead th {\n",
       "        text-align: right;\n",
       "    }\n",
       "</style>\n",
       "<table border=\"1\" class=\"dataframe\">\n",
       "  <thead>\n",
       "    <tr style=\"text-align: right;\">\n",
       "      <th></th>\n",
       "      <th>0</th>\n",
       "      <th>1</th>\n",
       "      <th>2</th>\n",
       "      <th>3</th>\n",
       "      <th>4</th>\n",
       "      <th>5</th>\n",
       "      <th>6</th>\n",
       "      <th>7</th>\n",
       "      <th>8</th>\n",
       "      <th>9</th>\n",
       "      <th>...</th>\n",
       "      <th>232</th>\n",
       "      <th>233</th>\n",
       "      <th>234</th>\n",
       "      <th>235</th>\n",
       "      <th>236</th>\n",
       "      <th>237</th>\n",
       "      <th>238</th>\n",
       "      <th>239</th>\n",
       "      <th>240</th>\n",
       "      <th>241</th>\n",
       "    </tr>\n",
       "  </thead>\n",
       "  <tbody>\n",
       "    <tr>\n",
       "      <th>TCGA.2F.A9KQ.01A</th>\n",
       "      <td>5425</td>\n",
       "      <td>75</td>\n",
       "      <td>4825</td>\n",
       "      <td>1965</td>\n",
       "      <td>835</td>\n",
       "      <td>19651</td>\n",
       "      <td>114</td>\n",
       "      <td>1256</td>\n",
       "      <td>2643</td>\n",
       "      <td>2612</td>\n",
       "      <td>...</td>\n",
       "      <td>145</td>\n",
       "      <td>875</td>\n",
       "      <td>327</td>\n",
       "      <td>470</td>\n",
       "      <td>5826</td>\n",
       "      <td>266</td>\n",
       "      <td>1</td>\n",
       "      <td>7916</td>\n",
       "      <td>102</td>\n",
       "      <td>1797</td>\n",
       "    </tr>\n",
       "    <tr>\n",
       "      <th>TCGA.2F.A9KT.01A</th>\n",
       "      <td>3333</td>\n",
       "      <td>50</td>\n",
       "      <td>10042</td>\n",
       "      <td>1643</td>\n",
       "      <td>316</td>\n",
       "      <td>3856</td>\n",
       "      <td>23</td>\n",
       "      <td>1036</td>\n",
       "      <td>4801</td>\n",
       "      <td>2020</td>\n",
       "      <td>...</td>\n",
       "      <td>757</td>\n",
       "      <td>4590</td>\n",
       "      <td>69</td>\n",
       "      <td>147</td>\n",
       "      <td>8328</td>\n",
       "      <td>1636</td>\n",
       "      <td>0</td>\n",
       "      <td>5039</td>\n",
       "      <td>70</td>\n",
       "      <td>1410</td>\n",
       "    </tr>\n",
       "    <tr>\n",
       "      <th>TCGA.2F.A9KW.01A</th>\n",
       "      <td>2656</td>\n",
       "      <td>112</td>\n",
       "      <td>12345</td>\n",
       "      <td>5597</td>\n",
       "      <td>687</td>\n",
       "      <td>5378</td>\n",
       "      <td>90</td>\n",
       "      <td>1748</td>\n",
       "      <td>2728</td>\n",
       "      <td>2176</td>\n",
       "      <td>...</td>\n",
       "      <td>19</td>\n",
       "      <td>3107</td>\n",
       "      <td>362</td>\n",
       "      <td>1268</td>\n",
       "      <td>11725</td>\n",
       "      <td>118</td>\n",
       "      <td>1</td>\n",
       "      <td>5801</td>\n",
       "      <td>404</td>\n",
       "      <td>1837</td>\n",
       "    </tr>\n",
       "    <tr>\n",
       "      <th>TCGA.4Z.AA7M.01A</th>\n",
       "      <td>8436</td>\n",
       "      <td>38</td>\n",
       "      <td>3910</td>\n",
       "      <td>4014</td>\n",
       "      <td>395</td>\n",
       "      <td>3171</td>\n",
       "      <td>13</td>\n",
       "      <td>1226</td>\n",
       "      <td>3903</td>\n",
       "      <td>1193</td>\n",
       "      <td>...</td>\n",
       "      <td>577</td>\n",
       "      <td>3410</td>\n",
       "      <td>102</td>\n",
       "      <td>932</td>\n",
       "      <td>19256</td>\n",
       "      <td>367</td>\n",
       "      <td>0</td>\n",
       "      <td>5869</td>\n",
       "      <td>208</td>\n",
       "      <td>1501</td>\n",
       "    </tr>\n",
       "    <tr>\n",
       "      <th>TCGA.4Z.AA7N.01A</th>\n",
       "      <td>2546</td>\n",
       "      <td>90</td>\n",
       "      <td>1253</td>\n",
       "      <td>1105</td>\n",
       "      <td>348</td>\n",
       "      <td>4794</td>\n",
       "      <td>445</td>\n",
       "      <td>758</td>\n",
       "      <td>1946</td>\n",
       "      <td>567</td>\n",
       "      <td>...</td>\n",
       "      <td>167</td>\n",
       "      <td>2981</td>\n",
       "      <td>308</td>\n",
       "      <td>1674</td>\n",
       "      <td>4159</td>\n",
       "      <td>635</td>\n",
       "      <td>3</td>\n",
       "      <td>4086</td>\n",
       "      <td>158</td>\n",
       "      <td>454</td>\n",
       "    </tr>\n",
       "    <tr>\n",
       "      <th>...</th>\n",
       "      <td>...</td>\n",
       "      <td>...</td>\n",
       "      <td>...</td>\n",
       "      <td>...</td>\n",
       "      <td>...</td>\n",
       "      <td>...</td>\n",
       "      <td>...</td>\n",
       "      <td>...</td>\n",
       "      <td>...</td>\n",
       "      <td>...</td>\n",
       "      <td>...</td>\n",
       "      <td>...</td>\n",
       "      <td>...</td>\n",
       "      <td>...</td>\n",
       "      <td>...</td>\n",
       "      <td>...</td>\n",
       "      <td>...</td>\n",
       "      <td>...</td>\n",
       "      <td>...</td>\n",
       "      <td>...</td>\n",
       "      <td>...</td>\n",
       "    </tr>\n",
       "    <tr>\n",
       "      <th>TCGA.ZF.AA51.01A</th>\n",
       "      <td>2241</td>\n",
       "      <td>54</td>\n",
       "      <td>4107</td>\n",
       "      <td>1565</td>\n",
       "      <td>168</td>\n",
       "      <td>4661</td>\n",
       "      <td>60</td>\n",
       "      <td>764</td>\n",
       "      <td>3225</td>\n",
       "      <td>873</td>\n",
       "      <td>...</td>\n",
       "      <td>20</td>\n",
       "      <td>2318</td>\n",
       "      <td>287</td>\n",
       "      <td>2289</td>\n",
       "      <td>6377</td>\n",
       "      <td>227</td>\n",
       "      <td>3</td>\n",
       "      <td>3528</td>\n",
       "      <td>65</td>\n",
       "      <td>1417</td>\n",
       "    </tr>\n",
       "    <tr>\n",
       "      <th>TCGA.ZF.AA53.01A</th>\n",
       "      <td>1238</td>\n",
       "      <td>107</td>\n",
       "      <td>975</td>\n",
       "      <td>838</td>\n",
       "      <td>150</td>\n",
       "      <td>3717</td>\n",
       "      <td>1013</td>\n",
       "      <td>861</td>\n",
       "      <td>1486</td>\n",
       "      <td>914</td>\n",
       "      <td>...</td>\n",
       "      <td>2388</td>\n",
       "      <td>11756</td>\n",
       "      <td>6826</td>\n",
       "      <td>1197</td>\n",
       "      <td>9241</td>\n",
       "      <td>331</td>\n",
       "      <td>5</td>\n",
       "      <td>3282</td>\n",
       "      <td>117</td>\n",
       "      <td>1675</td>\n",
       "    </tr>\n",
       "    <tr>\n",
       "      <th>TCGA.ZF.AA58.01A</th>\n",
       "      <td>3376</td>\n",
       "      <td>100</td>\n",
       "      <td>3954</td>\n",
       "      <td>2415</td>\n",
       "      <td>352</td>\n",
       "      <td>7459</td>\n",
       "      <td>342</td>\n",
       "      <td>1701</td>\n",
       "      <td>1802</td>\n",
       "      <td>2442</td>\n",
       "      <td>...</td>\n",
       "      <td>2749</td>\n",
       "      <td>9230</td>\n",
       "      <td>334</td>\n",
       "      <td>21491</td>\n",
       "      <td>15169</td>\n",
       "      <td>352</td>\n",
       "      <td>879</td>\n",
       "      <td>4734</td>\n",
       "      <td>178</td>\n",
       "      <td>2494</td>\n",
       "    </tr>\n",
       "    <tr>\n",
       "      <th>TCGA.ZF.AA5H.01A</th>\n",
       "      <td>2865</td>\n",
       "      <td>494</td>\n",
       "      <td>4856</td>\n",
       "      <td>2834</td>\n",
       "      <td>484</td>\n",
       "      <td>9794</td>\n",
       "      <td>1077</td>\n",
       "      <td>1810</td>\n",
       "      <td>8589</td>\n",
       "      <td>2843</td>\n",
       "      <td>...</td>\n",
       "      <td>195</td>\n",
       "      <td>5358</td>\n",
       "      <td>478</td>\n",
       "      <td>13507</td>\n",
       "      <td>24957</td>\n",
       "      <td>329</td>\n",
       "      <td>3</td>\n",
       "      <td>5130</td>\n",
       "      <td>150</td>\n",
       "      <td>2258</td>\n",
       "    </tr>\n",
       "    <tr>\n",
       "      <th>TCGA.ZF.AA5P.01A</th>\n",
       "      <td>3383</td>\n",
       "      <td>237</td>\n",
       "      <td>4887</td>\n",
       "      <td>2208</td>\n",
       "      <td>348</td>\n",
       "      <td>4830</td>\n",
       "      <td>484</td>\n",
       "      <td>1395</td>\n",
       "      <td>3061</td>\n",
       "      <td>1340</td>\n",
       "      <td>...</td>\n",
       "      <td>1889</td>\n",
       "      <td>7077</td>\n",
       "      <td>1334</td>\n",
       "      <td>1734</td>\n",
       "      <td>5796</td>\n",
       "      <td>159</td>\n",
       "      <td>66</td>\n",
       "      <td>4124</td>\n",
       "      <td>97</td>\n",
       "      <td>1161</td>\n",
       "    </tr>\n",
       "  </tbody>\n",
       "</table>\n",
       "<p>292 rows × 242 columns</p>\n",
       "</div>"
      ],
      "text/plain": [
       "                   0    1      2     3    4      5     6     7     8     9    \\\n",
       "TCGA.2F.A9KQ.01A  5425   75   4825  1965  835  19651   114  1256  2643  2612   \n",
       "TCGA.2F.A9KT.01A  3333   50  10042  1643  316   3856    23  1036  4801  2020   \n",
       "TCGA.2F.A9KW.01A  2656  112  12345  5597  687   5378    90  1748  2728  2176   \n",
       "TCGA.4Z.AA7M.01A  8436   38   3910  4014  395   3171    13  1226  3903  1193   \n",
       "TCGA.4Z.AA7N.01A  2546   90   1253  1105  348   4794   445   758  1946   567   \n",
       "...                ...  ...    ...   ...  ...    ...   ...   ...   ...   ...   \n",
       "TCGA.ZF.AA51.01A  2241   54   4107  1565  168   4661    60   764  3225   873   \n",
       "TCGA.ZF.AA53.01A  1238  107    975   838  150   3717  1013   861  1486   914   \n",
       "TCGA.ZF.AA58.01A  3376  100   3954  2415  352   7459   342  1701  1802  2442   \n",
       "TCGA.ZF.AA5H.01A  2865  494   4856  2834  484   9794  1077  1810  8589  2843   \n",
       "TCGA.ZF.AA5P.01A  3383  237   4887  2208  348   4830   484  1395  3061  1340   \n",
       "\n",
       "                  ...   232    233   234    235    236   237  238   239  240  \\\n",
       "TCGA.2F.A9KQ.01A  ...   145    875   327    470   5826   266    1  7916  102   \n",
       "TCGA.2F.A9KT.01A  ...   757   4590    69    147   8328  1636    0  5039   70   \n",
       "TCGA.2F.A9KW.01A  ...    19   3107   362   1268  11725   118    1  5801  404   \n",
       "TCGA.4Z.AA7M.01A  ...   577   3410   102    932  19256   367    0  5869  208   \n",
       "TCGA.4Z.AA7N.01A  ...   167   2981   308   1674   4159   635    3  4086  158   \n",
       "...               ...   ...    ...   ...    ...    ...   ...  ...   ...  ...   \n",
       "TCGA.ZF.AA51.01A  ...    20   2318   287   2289   6377   227    3  3528   65   \n",
       "TCGA.ZF.AA53.01A  ...  2388  11756  6826   1197   9241   331    5  3282  117   \n",
       "TCGA.ZF.AA58.01A  ...  2749   9230   334  21491  15169   352  879  4734  178   \n",
       "TCGA.ZF.AA5H.01A  ...   195   5358   478  13507  24957   329    3  5130  150   \n",
       "TCGA.ZF.AA5P.01A  ...  1889   7077  1334   1734   5796   159   66  4124   97   \n",
       "\n",
       "                   241  \n",
       "TCGA.2F.A9KQ.01A  1797  \n",
       "TCGA.2F.A9KT.01A  1410  \n",
       "TCGA.2F.A9KW.01A  1837  \n",
       "TCGA.4Z.AA7M.01A  1501  \n",
       "TCGA.4Z.AA7N.01A   454  \n",
       "...                ...  \n",
       "TCGA.ZF.AA51.01A  1417  \n",
       "TCGA.ZF.AA53.01A  1675  \n",
       "TCGA.ZF.AA58.01A  2494  \n",
       "TCGA.ZF.AA5H.01A  2258  \n",
       "TCGA.ZF.AA5P.01A  1161  \n",
       "\n",
       "[292 rows x 242 columns]"
      ]
     },
     "execution_count": 135,
     "metadata": {},
     "output_type": "execute_result"
    }
   ],
   "source": [
    "df"
   ]
  },
  {
   "cell_type": "code",
   "execution_count": 136,
   "metadata": {},
   "outputs": [],
   "source": [
    "label= label.set_index('sample')"
   ]
  },
  {
   "cell_type": "code",
   "execution_count": 137,
   "metadata": {},
   "outputs": [
    {
     "data": {
      "text/html": [
       "<div>\n",
       "<style scoped>\n",
       "    .dataframe tbody tr th:only-of-type {\n",
       "        vertical-align: middle;\n",
       "    }\n",
       "\n",
       "    .dataframe tbody tr th {\n",
       "        vertical-align: top;\n",
       "    }\n",
       "\n",
       "    .dataframe thead th {\n",
       "        text-align: right;\n",
       "    }\n",
       "</style>\n",
       "<table border=\"1\" class=\"dataframe\">\n",
       "  <thead>\n",
       "    <tr style=\"text-align: right;\">\n",
       "      <th></th>\n",
       "      <th>OS</th>\n",
       "      <th>X_PATIENT</th>\n",
       "      <th>OS.time</th>\n",
       "      <th>stage</th>\n",
       "    </tr>\n",
       "    <tr>\n",
       "      <th>sample</th>\n",
       "      <th></th>\n",
       "      <th></th>\n",
       "      <th></th>\n",
       "      <th></th>\n",
       "    </tr>\n",
       "  </thead>\n",
       "  <tbody>\n",
       "    <tr>\n",
       "      <th>TCGA.2F.A9KQ.01A</th>\n",
       "      <td>0</td>\n",
       "      <td>TCGA-2F-A9KQ</td>\n",
       "      <td>2886</td>\n",
       "      <td>3</td>\n",
       "    </tr>\n",
       "    <tr>\n",
       "      <th>TCGA.2F.A9KT.01A</th>\n",
       "      <td>0</td>\n",
       "      <td>TCGA-2F-A9KT</td>\n",
       "      <td>2352</td>\n",
       "      <td>2</td>\n",
       "    </tr>\n",
       "    <tr>\n",
       "      <th>TCGA.2F.A9KW.01A</th>\n",
       "      <td>1</td>\n",
       "      <td>TCGA-2F-A9KW</td>\n",
       "      <td>254</td>\n",
       "      <td>3</td>\n",
       "    </tr>\n",
       "    <tr>\n",
       "      <th>TCGA.4Z.AA7M.01A</th>\n",
       "      <td>0</td>\n",
       "      <td>TCGA-4Z-AA7M</td>\n",
       "      <td>495</td>\n",
       "      <td>3</td>\n",
       "    </tr>\n",
       "    <tr>\n",
       "      <th>TCGA.4Z.AA7N.01A</th>\n",
       "      <td>1</td>\n",
       "      <td>TCGA-4Z-AA7N</td>\n",
       "      <td>1367</td>\n",
       "      <td>3</td>\n",
       "    </tr>\n",
       "    <tr>\n",
       "      <th>...</th>\n",
       "      <td>...</td>\n",
       "      <td>...</td>\n",
       "      <td>...</td>\n",
       "      <td>...</td>\n",
       "    </tr>\n",
       "    <tr>\n",
       "      <th>TCGA.ZF.AA51.01A</th>\n",
       "      <td>0</td>\n",
       "      <td>TCGA-ZF-AA51</td>\n",
       "      <td>1714</td>\n",
       "      <td>2</td>\n",
       "    </tr>\n",
       "    <tr>\n",
       "      <th>TCGA.ZF.AA53.01A</th>\n",
       "      <td>0</td>\n",
       "      <td>TCGA-ZF-AA53</td>\n",
       "      <td>1761</td>\n",
       "      <td>2</td>\n",
       "    </tr>\n",
       "    <tr>\n",
       "      <th>TCGA.ZF.AA58.01A</th>\n",
       "      <td>0</td>\n",
       "      <td>TCGA-ZF-AA58</td>\n",
       "      <td>1649</td>\n",
       "      <td>4</td>\n",
       "    </tr>\n",
       "    <tr>\n",
       "      <th>TCGA.ZF.AA5H.01A</th>\n",
       "      <td>0</td>\n",
       "      <td>TCGA-ZF-AA5H</td>\n",
       "      <td>897</td>\n",
       "      <td>4</td>\n",
       "    </tr>\n",
       "    <tr>\n",
       "      <th>TCGA.ZF.AA5P.01A</th>\n",
       "      <td>0</td>\n",
       "      <td>TCGA-ZF-AA5P</td>\n",
       "      <td>372</td>\n",
       "      <td>4</td>\n",
       "    </tr>\n",
       "  </tbody>\n",
       "</table>\n",
       "<p>292 rows × 4 columns</p>\n",
       "</div>"
      ],
      "text/plain": [
       "                  OS     X_PATIENT  OS.time  stage\n",
       "sample                                            \n",
       "TCGA.2F.A9KQ.01A   0  TCGA-2F-A9KQ     2886      3\n",
       "TCGA.2F.A9KT.01A   0  TCGA-2F-A9KT     2352      2\n",
       "TCGA.2F.A9KW.01A   1  TCGA-2F-A9KW      254      3\n",
       "TCGA.4Z.AA7M.01A   0  TCGA-4Z-AA7M      495      3\n",
       "TCGA.4Z.AA7N.01A   1  TCGA-4Z-AA7N     1367      3\n",
       "...               ..           ...      ...    ...\n",
       "TCGA.ZF.AA51.01A   0  TCGA-ZF-AA51     1714      2\n",
       "TCGA.ZF.AA53.01A   0  TCGA-ZF-AA53     1761      2\n",
       "TCGA.ZF.AA58.01A   0  TCGA-ZF-AA58     1649      4\n",
       "TCGA.ZF.AA5H.01A   0  TCGA-ZF-AA5H      897      4\n",
       "TCGA.ZF.AA5P.01A   0  TCGA-ZF-AA5P      372      4\n",
       "\n",
       "[292 rows x 4 columns]"
      ]
     },
     "execution_count": 137,
     "metadata": {},
     "output_type": "execute_result"
    }
   ],
   "source": [
    "label"
   ]
  },
  {
   "cell_type": "code",
   "execution_count": 138,
   "metadata": {},
   "outputs": [],
   "source": [
    "death_label=np.array([])\n",
    "for sample in df.index:\n",
    "    death_label = np.append(death_label,label.loc[sample][\"OS\"])"
   ]
  },
  {
   "cell_type": "code",
   "execution_count": 139,
   "metadata": {},
   "outputs": [
    {
     "data": {
      "text/plain": [
       "array([0., 0., 1., 0., 1., 0., 1., 0., 0., 1., 1., 0., 1., 0., 0., 0., 0.,\n",
       "       0., 1., 1., 1., 1., 1., 1., 1., 1., 1., 1., 1., 1., 1., 1., 1., 1.,\n",
       "       0., 0., 1., 1., 1., 0., 1., 0., 0., 0., 1., 0., 0., 0., 0., 0., 0.,\n",
       "       0., 0., 0., 1., 0., 0., 0., 0., 0., 0., 0., 0., 0., 0., 1., 0., 1.,\n",
       "       1., 0., 0., 1., 0., 0., 1., 0., 0., 1., 1., 1., 1., 1., 0., 0., 1.,\n",
       "       1., 0., 1., 0., 0., 1., 0., 0., 0., 0., 0., 0., 0., 0., 0., 0., 0.,\n",
       "       0., 0., 0., 0., 1., 1., 1., 0., 1., 0., 0., 0., 0., 0., 0., 0., 0.,\n",
       "       1., 1., 1., 1., 1., 1., 1., 0., 1., 0., 0., 1., 1., 1., 0., 1., 0.,\n",
       "       1., 1., 1., 0., 0., 0., 0., 0., 1., 0., 0., 0., 0., 1., 0., 1., 1.,\n",
       "       0., 0., 0., 1., 0., 1., 1., 1., 1., 0., 0., 1., 0., 1., 0., 1., 0.,\n",
       "       0., 0., 1., 1., 1., 1., 1., 0., 0., 0., 0., 1., 1., 1., 0., 0., 0.,\n",
       "       0., 0., 0., 0., 0., 0., 0., 1., 1., 1., 1., 1., 0., 0., 0., 0., 1.,\n",
       "       0., 0., 0., 1., 1., 0., 0., 1., 0., 0., 0., 0., 1., 1., 0., 0., 0.,\n",
       "       1., 0., 0., 1., 1., 0., 0., 0., 0., 0., 0., 0., 0., 1., 0., 1., 0.,\n",
       "       1., 0., 1., 1., 0., 0., 0., 0., 0., 0., 0., 0., 0., 0., 0., 0., 0.,\n",
       "       1., 0., 0., 0., 0., 0., 0., 0., 0., 0., 0., 0., 0., 0., 0., 0., 0.,\n",
       "       0., 1., 0., 0., 1., 0., 0., 0., 0., 0., 0., 0., 0., 0., 0., 0., 0.,\n",
       "       0., 0., 0.])"
      ]
     },
     "execution_count": 139,
     "metadata": {},
     "output_type": "execute_result"
    }
   ],
   "source": [
    "death_label"
   ]
  },
  {
   "cell_type": "code",
   "execution_count": 176,
   "metadata": {},
   "outputs": [],
   "source": [
    "scaled_df = scaler.fit_transform(df)\n",
    "X = scaled_df\n",
    "y = death_label\n",
    "# Split the data into training and testing sets\n",
    "X_train, X_test, y_train, y_test = train_test_split(X, y, test_size=0.4, random_state=7)\n"
   ]
  },
  {
   "cell_type": "code",
   "execution_count": 179,
   "metadata": {},
   "outputs": [
    {
     "data": {
      "application/vnd.plotly.v1+json": {
       "config": {
        "plotlyServerURL": "https://plot.ly"
       },
       "data": [
        {
         "hovertemplate": "0=%{x}<br>1=%{y}<br>color=%{marker.color}<extra></extra>",
         "legendgroup": "",
         "marker": {
          "color": [
           0,
           0,
           1,
           0,
           1,
           0,
           1,
           0,
           0,
           1,
           1,
           0,
           1,
           0,
           0,
           0,
           0,
           0,
           1,
           1,
           1,
           1,
           1,
           1,
           1,
           1,
           1,
           1,
           1,
           1,
           1,
           1,
           1,
           1,
           0,
           0,
           1,
           1,
           1,
           0,
           1,
           0,
           0,
           0,
           1,
           0,
           0,
           0,
           0,
           0,
           0,
           0,
           0,
           0,
           1,
           0,
           0,
           0,
           0,
           0,
           0,
           0,
           0,
           0,
           0,
           1,
           0,
           1,
           1,
           0,
           0,
           1,
           0,
           0,
           1,
           0,
           0,
           1,
           1,
           1,
           1,
           1,
           0,
           0,
           1,
           1,
           0,
           1,
           0,
           0,
           1,
           0,
           0,
           0,
           0,
           0,
           0,
           0,
           0,
           0,
           0,
           0,
           0,
           0,
           0,
           0,
           1,
           1,
           1,
           0,
           1,
           0,
           0,
           0,
           0,
           0,
           0,
           0,
           0,
           1,
           1,
           1,
           1,
           1,
           1,
           1,
           0,
           1,
           0,
           0,
           1,
           1,
           1,
           0,
           1,
           0,
           1,
           1,
           1,
           0,
           0,
           0,
           0,
           0,
           1,
           0,
           0,
           0,
           0,
           1,
           0,
           1,
           1,
           0,
           0,
           0,
           1,
           0,
           1,
           1,
           1,
           1,
           0,
           0,
           1,
           0,
           1,
           0,
           1,
           0,
           0,
           0,
           1,
           1,
           1,
           1,
           1,
           0,
           0,
           0,
           0,
           1,
           1,
           1,
           0,
           0,
           0,
           0,
           0,
           0,
           0,
           0,
           0,
           0,
           1,
           1,
           1,
           1,
           1,
           0,
           0,
           0,
           0,
           1,
           0,
           0,
           0,
           1,
           1,
           0,
           0,
           1,
           0,
           0,
           0,
           0,
           1,
           1,
           0,
           0,
           0,
           1,
           0,
           0,
           1,
           1,
           0,
           0,
           0,
           0,
           0,
           0,
           0,
           0,
           1,
           0,
           1,
           0,
           1,
           0,
           1,
           1,
           0,
           0,
           0,
           0,
           0,
           0,
           0,
           0,
           0,
           0,
           0,
           0,
           0,
           1,
           0,
           0,
           0,
           0,
           0,
           0,
           0,
           0,
           0,
           0,
           0,
           0,
           0,
           0,
           0,
           0,
           0,
           1,
           0,
           0,
           1,
           0,
           0,
           0,
           0,
           0,
           0,
           0,
           0,
           0,
           0,
           0,
           0,
           0,
           0,
           0
          ],
          "coloraxis": "coloraxis",
          "symbol": "circle"
         },
         "mode": "markers",
         "name": "",
         "orientation": "v",
         "showlegend": false,
         "type": "scatter",
         "x": [
          3.193977117538452,
          -0.017999865114688873,
          0.26651909947395325,
          3.7940309047698975,
          -5.1052422523498535,
          -2.517340898513794,
          5.025256633758545,
          -4.887761116027832,
          0.9147696495056152,
          -4.514115810394287,
          -0.48595088720321655,
          -2.177492618560791,
          0.9704998135566711,
          9.417933464050293,
          -0.5662841200828552,
          -8.840824127197266,
          -8.91534423828125,
          -0.4555748403072357,
          -6.5426154136657715,
          -0.6927000284194946,
          -8.014111518859863,
          -1.4333456754684448,
          -4.282288551330566,
          0.45134109258651733,
          -8.005365371704102,
          0.3110761344432831,
          -8.529328346252441,
          -3.6380860805511475,
          -4.495087623596191,
          -4.865643501281738,
          -5.305964469909668,
          -1.3713637590408325,
          -7.325089931488037,
          -3.495512008666992,
          7.0521392822265625,
          0.3757459819316864,
          3.453890085220337,
          0.00509003596380353,
          0.8791856169700623,
          1.807209849357605,
          5.097047805786133,
          6.697381019592285,
          -0.26970526576042175,
          -2.822514772415161,
          6.967665672302246,
          -3.994637966156006,
          0.2429255247116089,
          -2.363797903060913,
          5.247175693511963,
          -3.0963668823242188,
          0.798184871673584,
          -0.9459884166717529,
          -2.7511441707611084,
          -2.214240074157715,
          -3.2108945846557617,
          -1.5014044046401978,
          -2.8333539962768555,
          5.244179725646973,
          -1.9804307222366333,
          -1.9255234003067017,
          -4.179477691650391,
          -1.7261335849761963,
          -2.2406435012817383,
          -4.402828693389893,
          -3.3470871448516846,
          -0.792167603969574,
          2.908102512359619,
          -0.197489932179451,
          -8.00646686553955,
          4.362006664276123,
          -1.340395450592041,
          -4.618922710418701,
          6.314183712005615,
          -0.3542724549770355,
          -2.365535020828247,
          -0.9893411993980408,
          10.001639366149902,
          4.759006977081299,
          -1.4836946725845337,
          3.701566457748413,
          8.447783470153809,
          -0.09418962150812149,
          5.061275482177734,
          3.872637987136841,
          -1.0331097841262817,
          7.1984639167785645,
          -2.0080008506774902,
          -3.438739776611328,
          -9.496932983398438,
          -1.3051940202713013,
          5.027327060699463,
          -3.1149966716766357,
          -2.241325616836548,
          1.3024319410324097,
          3.467982292175293,
          -1.3310654163360596,
          -4.1369309425354,
          -0.22701764106750488,
          -2.511443853378296,
          -9.51042366027832,
          7.410097122192383,
          -4.016023635864258,
          -5.674226760864258,
          3.4608137607574463,
          4.7908148765563965,
          -2.2502243518829346,
          2.906615972518921,
          1.062410593032837,
          -2.8707242012023926,
          -5.022522449493408,
          2.7611441612243652,
          6.111442565917969,
          -2.926725387573242,
          -8.663521766662598,
          3.3394486904144287,
          -2.2801737785339355,
          -1.628164529800415,
          8.170663833618164,
          5.71404504776001,
          -1.5554695129394531,
          4.254509449005127,
          3.4329657554626465,
          2.9546172618865967,
          2.2395682334899902,
          1.5840692520141602,
          0.4794585704803467,
          -0.9092226028442383,
          3.5430498123168945,
          2.888998508453369,
          6.37643575668335,
          8.885139465332031,
          0.43451887369155884,
          1.127478003501892,
          0.1309891641139984,
          -3.651702404022217,
          0.5315873622894287,
          1.546798586845398,
          1.826215147972107,
          5.048184871673584,
          8.26711368560791,
          8.529685020446777,
          -6.44449520111084,
          -6.089703559875488,
          -1.9462889432907104,
          -6.833579063415527,
          -1.3605870008468628,
          -6.056855201721191,
          -2.7111854553222656,
          1.013114094734192,
          2.94457745552063,
          -2.410226583480835,
          0.7077447772026062,
          0.5994758009910583,
          0.18102051317691803,
          1.459967851638794,
          0.8837305307388306,
          -1.6898444890975952,
          6.630382061004639,
          -1.1659018993377686,
          2.598468065261841,
          5.377574920654297,
          1.7491097450256348,
          0.1878248006105423,
          -0.5765243768692017,
          5.077305793762207,
          9.624262809753418,
          -3.4844369888305664,
          -4.382681369781494,
          1.524520993232727,
          4.070362567901611,
          -3.6037163734436035,
          3.854072093963623,
          5.956450462341309,
          -1.4490094184875488,
          -2.2571022510528564,
          2.2654035091400146,
          1.6805483102798462,
          9.366888999938965,
          7.733318328857422,
          1.3226014375686646,
          8.145782470703125,
          4.366780757904053,
          -5.7556939125061035,
          2.4333760738372803,
          2.3796706199645996,
          8.238700866699219,
          -0.044796910136938095,
          1.963936686515808,
          -0.9821467399597168,
          -7.995251178741455,
          -0.3443053662776947,
          4.1246466636657715,
          1.2379649877548218,
          5.470219135284424,
          6.518298149108887,
          7.329185485839844,
          2.2960801124572754,
          5.167128562927246,
          -1.355871319770813,
          -2.929215669631958,
          0.5964969396591187,
          -1.5417412519454956,
          -3.385448455810547,
          3.5409598350524902,
          6.377948760986328,
          6.93569278717041,
          7.763549327850342,
          2.0318965911865234,
          7.643166542053223,
          7.026826858520508,
          5.407026767730713,
          1.4204827547073364,
          6.560902118682861,
          3.284783124923706,
          4.960564136505127,
          -6.7796406745910645,
          1.2235634326934814,
          0.24163390696048737,
          0.7660775184631348,
          1.6814780235290527,
          0.9988241195678711,
          -2.4335341453552246,
          -3.870053768157959,
          -5.744391441345215,
          1.6332465410232544,
          -7.021979808807373,
          -2.124311685562134,
          7.497097969055176,
          -7.562550067901611,
          -2.1319329738616943,
          -6.451817035675049,
          4.668574333190918,
          4.363879203796387,
          -1.4904823303222656,
          -5.077165603637695,
          -2.3762741088867188,
          -3.1320693492889404,
          -2.156798839569092,
          -7.50957727432251,
          -4.483162879943848,
          0.4845488369464874,
          6.766711235046387,
          0.5242595672607422,
          -1.5581769943237305,
          -3.938775062561035,
          -3.659365653991699,
          -2.346205949783325,
          -5.103189945220947,
          -3.0792720317840576,
          -3.9471073150634766,
          -4.102273941040039,
          -3.737699270248413,
          2.020918130874634,
          0.45601943135261536,
          -1.1205297708511353,
          -4.9364728927612305,
          -7.20220947265625,
          -0.9901663661003113,
          -1.2205535173416138,
          -0.8959128260612488,
          -4.990251064300537,
          -1.8027293682098389,
          0.28424370288848877,
          2.8472793102264404,
          8.616862297058105,
          8.815600395202637,
          -2.5781190395355225,
          8.831729888916016,
          -4.6843390464782715,
          -0.5819137096405029,
          -3.184420585632324,
          -4.263187408447266,
          -4.639608383178711,
          -3.0169198513031006,
          2.2904155254364014,
          -0.41492360830307007,
          2.150890588760376,
          6.573363304138184,
          4.023171901702881,
          -3.635159730911255,
          -1.0774716138839722,
          -6.400846004486084,
          1.9534847736358643,
          7.087202548980713,
          0.44139981269836426,
          -4.0916748046875,
          6.839090824127197,
          -4.007192134857178,
          -6.340456008911133,
          -0.7034320831298828,
          1.6343693733215332,
          -2.9712276458740234
         ],
         "xaxis": "x",
         "y": [
          4.354104518890381,
          5.443127155303955,
          0.37093570828437805,
          6.123194694519043,
          5.338228225708008,
          4.302578926086426,
          6.489001274108887,
          -1.3467836380004883,
          4.285152435302734,
          -4.085997581481934,
          -4.822022438049316,
          4.941588401794434,
          -9.330707550048828,
          1.3803396224975586,
          3.954899311065674,
          4.331870079040527,
          4.3590192794799805,
          -2.900597095489502,
          2.7862868309020996,
          3.2334837913513184,
          7.179809093475342,
          -9.70545768737793,
          6.198629379272461,
          2.5944042205810547,
          7.180847644805908,
          -1.1092453002929688,
          7.455257415771484,
          4.781954288482666,
          3.8083677291870117,
          4.141464710235596,
          3.082357168197632,
          4.606924057006836,
          0.7923883199691772,
          -6.499752998352051,
          -5.969103813171387,
          1.6000736951828003,
          -1.5522077083587646,
          2.0822789669036865,
          7.288471698760986,
          -8.445130348205566,
          -7.350357532501221,
          -1.6124318838119507,
          -6.24772834777832,
          -5.350686550140381,
          -5.641011714935303,
          4.402131080627441,
          4.07658576965332,
          -2.791134834289551,
          0.9606727361679077,
          6.817354679107666,
          4.197027683258057,
          0.6844100952148438,
          5.785584449768066,
          -0.7690981030464172,
          1.3482471704483032,
          1.5659253597259521,
          0.07886616885662079,
          1.7995154857635498,
          1.2732088565826416,
          1.2537230253219604,
          0.380879670381546,
          5.662710666656494,
          6.7665019035339355,
          0.8603479862213135,
          5.1887335777282715,
          4.293201923370361,
          1.7236409187316895,
          5.3922343254089355,
          7.159316062927246,
          -6.845432758331299,
          -0.20618537068367004,
          -5.5568060874938965,
          -2.3302178382873535,
          6.292458534240723,
          -6.896875858306885,
          -10.333465576171875,
          -3.3518786430358887,
          2.70223331451416,
          7.513327598571777,
          -6.046970367431641,
          4.164178848266602,
          -0.44836002588272095,
          -1.6929292678833008,
          -1.3158137798309326,
          -10.199080467224121,
          -0.026151183992624283,
          -6.230556488037109,
          -8.480703353881836,
          -2.4052352905273438,
          6.373793601989746,
          -4.935360431671143,
          1.6991709470748901,
          0.0888286605477333,
          -0.0645599365234375,
          -2.629119634628296,
          4.789479732513428,
          -2.197005033493042,
          -4.782011985778809,
          3.4555914402008057,
          -2.4037344455718994,
          -1.478822112083435,
          4.344914436340332,
          4.727087497711182,
          3.781719923019409,
          -1.9669309854507446,
          9.048029899597168,
          -0.8061815500259399,
          5.443113327026367,
          5.710235595703125,
          1.8141708374023438,
          0.28779155015945435,
          -0.025435402989387512,
          1.9936338663101196,
          2.217090606689453,
          1.6333379745483398,
          8.786833763122559,
          -5.681186676025391,
          -0.7098201513290405,
          0.5867730379104614,
          -5.573264122009277,
          4.787900447845459,
          -8.016622543334961,
          -7.915607452392578,
          -5.725341796875,
          -7.347864151000977,
          -9.309362411499023,
          -10.065054893493652,
          -6.977142810821533,
          -5.421639442443848,
          -2.3813283443450928,
          -1.8273473978042603,
          -0.8783217668533325,
          3.2806992530822754,
          -3.2924091815948486,
          -8.496729850769043,
          -10.178999900817871,
          0.8732939958572388,
          0.08896911144256592,
          -3.1822257041931152,
          0.9582512378692627,
          -1.6581859588623047,
          -0.3774794042110443,
          -0.31312909722328186,
          -0.0722179189324379,
          2.6940901279449463,
          3.1374075412750244,
          5.275089263916016,
          -2.7596442699432373,
          -3.5573229789733887,
          2.993678092956543,
          -4.535669326782227,
          6.918858528137207,
          -9.009952545166016,
          3.3948187828063965,
          -1.3131040334701538,
          -2.7749667167663574,
          -7.445440292358398,
          -3.759528398513794,
          -3.3734636306762695,
          2.9061901569366455,
          -3.3630270957946777,
          1.1981563568115234,
          -7.676560401916504,
          7.276105880737305,
          0.12936967611312866,
          -0.4691151976585388,
          -4.046685695648193,
          -4.135865211486816,
          1.2546337842941284,
          -8.382966995239258,
          -6.6700897216796875,
          0.8309070467948914,
          -4.887540340423584,
          -1.8080617189407349,
          -5.842648983001709,
          -4.986927509307861,
          6.192201614379883,
          -0.5409667491912842,
          2.281012773513794,
          2.731990098953247,
          0.8520857095718384,
          0.6864959001541138,
          8.973913192749023,
          -3.3990087509155273,
          -0.3484632670879364,
          -2.5463714599609375,
          -5.437605857849121,
          3.0946667194366455,
          -4.288741588592529,
          7.1506757736206055,
          -6.908022403717041,
          3.060148000717163,
          1.0650913715362549,
          -7.542808532714844,
          2.3363046646118164,
          -2.5516536235809326,
          -4.923610210418701,
          0.41180726885795593,
          -7.625810146331787,
          -0.07517587393522263,
          -6.743191242218018,
          -8.069977760314941,
          4.118013381958008,
          0.12960390746593475,
          1.2578831911087036,
          -3.0947930812835693,
          -1.8975975513458252,
          5.092532157897949,
          -1.6490250825881958,
          -3.840421199798584,
          3.527959108352661,
          -6.747971057891846,
          -1.1946791410446167,
          0.25983884930610657,
          -0.38419264554977417,
          -6.091287136077881,
          -4.9857025146484375,
          -4.233006000518799,
          -0.0017905521672219038,
          -1.5827090740203857,
          2.000908613204956,
          -3.640789270401001,
          2.6635868549346924,
          8.97800350189209,
          -4.485904693603516,
          -0.37057024240493774,
          -8.857460021972656,
          -1.0100586414337158,
          -0.5926703214645386,
          3.191169023513794,
          -3.1463937759399414,
          4.796449184417725,
          1.977446436882019,
          3.6864254474639893,
          1.0146467685699463,
          5.9462127685546875,
          3.729982376098633,
          2.6999683380126953,
          -2.16054105758667,
          -8.41269302368164,
          8.949172973632812,
          -4.778609275817871,
          9.107282638549805,
          -4.914379596710205,
          -2.3974196910858154,
          3.0528836250305176,
          3.862971544265747,
          -7.490054130554199,
          5.048243045806885,
          5.160921573638916,
          4.929863929748535,
          4.850123882293701,
          -3.326080083847046,
          -7.854395866394043,
          -5.488492012023926,
          7.204057693481445,
          -1.084182620048523,
          -7.070681095123291,
          -6.573895454406738,
          2.5951268672943115,
          4.813014030456543,
          -4.769787788391113,
          -4.10193395614624,
          6.241660118103027,
          -3.9385056495666504,
          -3.943024158477783,
          4.8566436767578125,
          -4.847036361694336,
          4.656537055969238,
          1.2713720798492432,
          4.010249137878418,
          0.7225449681282043,
          3.2100040912628174,
          5.603034496307373,
          3.9057352542877197,
          4.275800704956055,
          1.7161144018173218,
          1.974287986755371,
          1.55258047580719,
          7.404349327087402,
          5.36859130859375,
          -3.67559814453125,
          5.058603763580322,
          0.7457771897315979,
          -6.179755687713623,
          -2.559441089630127,
          0.15520034730434418,
          5.66828727722168,
          4.503903388977051,
          -7.7378997802734375,
          -8.13291072845459,
          3.0813426971435547
         ],
         "yaxis": "y"
        }
       ],
       "layout": {
        "coloraxis": {
         "colorbar": {
          "title": {
           "text": "color"
          }
         },
         "colorscale": [
          [
           0,
           "#0d0887"
          ],
          [
           0.1111111111111111,
           "#46039f"
          ],
          [
           0.2222222222222222,
           "#7201a8"
          ],
          [
           0.3333333333333333,
           "#9c179e"
          ],
          [
           0.4444444444444444,
           "#bd3786"
          ],
          [
           0.5555555555555556,
           "#d8576b"
          ],
          [
           0.6666666666666666,
           "#ed7953"
          ],
          [
           0.7777777777777778,
           "#fb9f3a"
          ],
          [
           0.8888888888888888,
           "#fdca26"
          ],
          [
           1,
           "#f0f921"
          ]
         ]
        },
        "legend": {
         "tracegroupgap": 0
        },
        "margin": {
         "t": 60
        },
        "template": {
         "data": {
          "bar": [
           {
            "error_x": {
             "color": "#2a3f5f"
            },
            "error_y": {
             "color": "#2a3f5f"
            },
            "marker": {
             "line": {
              "color": "#E5ECF6",
              "width": 0.5
             },
             "pattern": {
              "fillmode": "overlay",
              "size": 10,
              "solidity": 0.2
             }
            },
            "type": "bar"
           }
          ],
          "barpolar": [
           {
            "marker": {
             "line": {
              "color": "#E5ECF6",
              "width": 0.5
             },
             "pattern": {
              "fillmode": "overlay",
              "size": 10,
              "solidity": 0.2
             }
            },
            "type": "barpolar"
           }
          ],
          "carpet": [
           {
            "aaxis": {
             "endlinecolor": "#2a3f5f",
             "gridcolor": "white",
             "linecolor": "white",
             "minorgridcolor": "white",
             "startlinecolor": "#2a3f5f"
            },
            "baxis": {
             "endlinecolor": "#2a3f5f",
             "gridcolor": "white",
             "linecolor": "white",
             "minorgridcolor": "white",
             "startlinecolor": "#2a3f5f"
            },
            "type": "carpet"
           }
          ],
          "choropleth": [
           {
            "colorbar": {
             "outlinewidth": 0,
             "ticks": ""
            },
            "type": "choropleth"
           }
          ],
          "contour": [
           {
            "colorbar": {
             "outlinewidth": 0,
             "ticks": ""
            },
            "colorscale": [
             [
              0,
              "#0d0887"
             ],
             [
              0.1111111111111111,
              "#46039f"
             ],
             [
              0.2222222222222222,
              "#7201a8"
             ],
             [
              0.3333333333333333,
              "#9c179e"
             ],
             [
              0.4444444444444444,
              "#bd3786"
             ],
             [
              0.5555555555555556,
              "#d8576b"
             ],
             [
              0.6666666666666666,
              "#ed7953"
             ],
             [
              0.7777777777777778,
              "#fb9f3a"
             ],
             [
              0.8888888888888888,
              "#fdca26"
             ],
             [
              1,
              "#f0f921"
             ]
            ],
            "type": "contour"
           }
          ],
          "contourcarpet": [
           {
            "colorbar": {
             "outlinewidth": 0,
             "ticks": ""
            },
            "type": "contourcarpet"
           }
          ],
          "heatmap": [
           {
            "colorbar": {
             "outlinewidth": 0,
             "ticks": ""
            },
            "colorscale": [
             [
              0,
              "#0d0887"
             ],
             [
              0.1111111111111111,
              "#46039f"
             ],
             [
              0.2222222222222222,
              "#7201a8"
             ],
             [
              0.3333333333333333,
              "#9c179e"
             ],
             [
              0.4444444444444444,
              "#bd3786"
             ],
             [
              0.5555555555555556,
              "#d8576b"
             ],
             [
              0.6666666666666666,
              "#ed7953"
             ],
             [
              0.7777777777777778,
              "#fb9f3a"
             ],
             [
              0.8888888888888888,
              "#fdca26"
             ],
             [
              1,
              "#f0f921"
             ]
            ],
            "type": "heatmap"
           }
          ],
          "heatmapgl": [
           {
            "colorbar": {
             "outlinewidth": 0,
             "ticks": ""
            },
            "colorscale": [
             [
              0,
              "#0d0887"
             ],
             [
              0.1111111111111111,
              "#46039f"
             ],
             [
              0.2222222222222222,
              "#7201a8"
             ],
             [
              0.3333333333333333,
              "#9c179e"
             ],
             [
              0.4444444444444444,
              "#bd3786"
             ],
             [
              0.5555555555555556,
              "#d8576b"
             ],
             [
              0.6666666666666666,
              "#ed7953"
             ],
             [
              0.7777777777777778,
              "#fb9f3a"
             ],
             [
              0.8888888888888888,
              "#fdca26"
             ],
             [
              1,
              "#f0f921"
             ]
            ],
            "type": "heatmapgl"
           }
          ],
          "histogram": [
           {
            "marker": {
             "pattern": {
              "fillmode": "overlay",
              "size": 10,
              "solidity": 0.2
             }
            },
            "type": "histogram"
           }
          ],
          "histogram2d": [
           {
            "colorbar": {
             "outlinewidth": 0,
             "ticks": ""
            },
            "colorscale": [
             [
              0,
              "#0d0887"
             ],
             [
              0.1111111111111111,
              "#46039f"
             ],
             [
              0.2222222222222222,
              "#7201a8"
             ],
             [
              0.3333333333333333,
              "#9c179e"
             ],
             [
              0.4444444444444444,
              "#bd3786"
             ],
             [
              0.5555555555555556,
              "#d8576b"
             ],
             [
              0.6666666666666666,
              "#ed7953"
             ],
             [
              0.7777777777777778,
              "#fb9f3a"
             ],
             [
              0.8888888888888888,
              "#fdca26"
             ],
             [
              1,
              "#f0f921"
             ]
            ],
            "type": "histogram2d"
           }
          ],
          "histogram2dcontour": [
           {
            "colorbar": {
             "outlinewidth": 0,
             "ticks": ""
            },
            "colorscale": [
             [
              0,
              "#0d0887"
             ],
             [
              0.1111111111111111,
              "#46039f"
             ],
             [
              0.2222222222222222,
              "#7201a8"
             ],
             [
              0.3333333333333333,
              "#9c179e"
             ],
             [
              0.4444444444444444,
              "#bd3786"
             ],
             [
              0.5555555555555556,
              "#d8576b"
             ],
             [
              0.6666666666666666,
              "#ed7953"
             ],
             [
              0.7777777777777778,
              "#fb9f3a"
             ],
             [
              0.8888888888888888,
              "#fdca26"
             ],
             [
              1,
              "#f0f921"
             ]
            ],
            "type": "histogram2dcontour"
           }
          ],
          "mesh3d": [
           {
            "colorbar": {
             "outlinewidth": 0,
             "ticks": ""
            },
            "type": "mesh3d"
           }
          ],
          "parcoords": [
           {
            "line": {
             "colorbar": {
              "outlinewidth": 0,
              "ticks": ""
             }
            },
            "type": "parcoords"
           }
          ],
          "pie": [
           {
            "automargin": true,
            "type": "pie"
           }
          ],
          "scatter": [
           {
            "fillpattern": {
             "fillmode": "overlay",
             "size": 10,
             "solidity": 0.2
            },
            "type": "scatter"
           }
          ],
          "scatter3d": [
           {
            "line": {
             "colorbar": {
              "outlinewidth": 0,
              "ticks": ""
             }
            },
            "marker": {
             "colorbar": {
              "outlinewidth": 0,
              "ticks": ""
             }
            },
            "type": "scatter3d"
           }
          ],
          "scattercarpet": [
           {
            "marker": {
             "colorbar": {
              "outlinewidth": 0,
              "ticks": ""
             }
            },
            "type": "scattercarpet"
           }
          ],
          "scattergeo": [
           {
            "marker": {
             "colorbar": {
              "outlinewidth": 0,
              "ticks": ""
             }
            },
            "type": "scattergeo"
           }
          ],
          "scattergl": [
           {
            "marker": {
             "colorbar": {
              "outlinewidth": 0,
              "ticks": ""
             }
            },
            "type": "scattergl"
           }
          ],
          "scattermapbox": [
           {
            "marker": {
             "colorbar": {
              "outlinewidth": 0,
              "ticks": ""
             }
            },
            "type": "scattermapbox"
           }
          ],
          "scatterpolar": [
           {
            "marker": {
             "colorbar": {
              "outlinewidth": 0,
              "ticks": ""
             }
            },
            "type": "scatterpolar"
           }
          ],
          "scatterpolargl": [
           {
            "marker": {
             "colorbar": {
              "outlinewidth": 0,
              "ticks": ""
             }
            },
            "type": "scatterpolargl"
           }
          ],
          "scatterternary": [
           {
            "marker": {
             "colorbar": {
              "outlinewidth": 0,
              "ticks": ""
             }
            },
            "type": "scatterternary"
           }
          ],
          "surface": [
           {
            "colorbar": {
             "outlinewidth": 0,
             "ticks": ""
            },
            "colorscale": [
             [
              0,
              "#0d0887"
             ],
             [
              0.1111111111111111,
              "#46039f"
             ],
             [
              0.2222222222222222,
              "#7201a8"
             ],
             [
              0.3333333333333333,
              "#9c179e"
             ],
             [
              0.4444444444444444,
              "#bd3786"
             ],
             [
              0.5555555555555556,
              "#d8576b"
             ],
             [
              0.6666666666666666,
              "#ed7953"
             ],
             [
              0.7777777777777778,
              "#fb9f3a"
             ],
             [
              0.8888888888888888,
              "#fdca26"
             ],
             [
              1,
              "#f0f921"
             ]
            ],
            "type": "surface"
           }
          ],
          "table": [
           {
            "cells": {
             "fill": {
              "color": "#EBF0F8"
             },
             "line": {
              "color": "white"
             }
            },
            "header": {
             "fill": {
              "color": "#C8D4E3"
             },
             "line": {
              "color": "white"
             }
            },
            "type": "table"
           }
          ]
         },
         "layout": {
          "annotationdefaults": {
           "arrowcolor": "#2a3f5f",
           "arrowhead": 0,
           "arrowwidth": 1
          },
          "autotypenumbers": "strict",
          "coloraxis": {
           "colorbar": {
            "outlinewidth": 0,
            "ticks": ""
           }
          },
          "colorscale": {
           "diverging": [
            [
             0,
             "#8e0152"
            ],
            [
             0.1,
             "#c51b7d"
            ],
            [
             0.2,
             "#de77ae"
            ],
            [
             0.3,
             "#f1b6da"
            ],
            [
             0.4,
             "#fde0ef"
            ],
            [
             0.5,
             "#f7f7f7"
            ],
            [
             0.6,
             "#e6f5d0"
            ],
            [
             0.7,
             "#b8e186"
            ],
            [
             0.8,
             "#7fbc41"
            ],
            [
             0.9,
             "#4d9221"
            ],
            [
             1,
             "#276419"
            ]
           ],
           "sequential": [
            [
             0,
             "#0d0887"
            ],
            [
             0.1111111111111111,
             "#46039f"
            ],
            [
             0.2222222222222222,
             "#7201a8"
            ],
            [
             0.3333333333333333,
             "#9c179e"
            ],
            [
             0.4444444444444444,
             "#bd3786"
            ],
            [
             0.5555555555555556,
             "#d8576b"
            ],
            [
             0.6666666666666666,
             "#ed7953"
            ],
            [
             0.7777777777777778,
             "#fb9f3a"
            ],
            [
             0.8888888888888888,
             "#fdca26"
            ],
            [
             1,
             "#f0f921"
            ]
           ],
           "sequentialminus": [
            [
             0,
             "#0d0887"
            ],
            [
             0.1111111111111111,
             "#46039f"
            ],
            [
             0.2222222222222222,
             "#7201a8"
            ],
            [
             0.3333333333333333,
             "#9c179e"
            ],
            [
             0.4444444444444444,
             "#bd3786"
            ],
            [
             0.5555555555555556,
             "#d8576b"
            ],
            [
             0.6666666666666666,
             "#ed7953"
            ],
            [
             0.7777777777777778,
             "#fb9f3a"
            ],
            [
             0.8888888888888888,
             "#fdca26"
            ],
            [
             1,
             "#f0f921"
            ]
           ]
          },
          "colorway": [
           "#636efa",
           "#EF553B",
           "#00cc96",
           "#ab63fa",
           "#FFA15A",
           "#19d3f3",
           "#FF6692",
           "#B6E880",
           "#FF97FF",
           "#FECB52"
          ],
          "font": {
           "color": "#2a3f5f"
          },
          "geo": {
           "bgcolor": "white",
           "lakecolor": "white",
           "landcolor": "#E5ECF6",
           "showlakes": true,
           "showland": true,
           "subunitcolor": "white"
          },
          "hoverlabel": {
           "align": "left"
          },
          "hovermode": "closest",
          "mapbox": {
           "style": "light"
          },
          "paper_bgcolor": "white",
          "plot_bgcolor": "#E5ECF6",
          "polar": {
           "angularaxis": {
            "gridcolor": "white",
            "linecolor": "white",
            "ticks": ""
           },
           "bgcolor": "#E5ECF6",
           "radialaxis": {
            "gridcolor": "white",
            "linecolor": "white",
            "ticks": ""
           }
          },
          "scene": {
           "xaxis": {
            "backgroundcolor": "#E5ECF6",
            "gridcolor": "white",
            "gridwidth": 2,
            "linecolor": "white",
            "showbackground": true,
            "ticks": "",
            "zerolinecolor": "white"
           },
           "yaxis": {
            "backgroundcolor": "#E5ECF6",
            "gridcolor": "white",
            "gridwidth": 2,
            "linecolor": "white",
            "showbackground": true,
            "ticks": "",
            "zerolinecolor": "white"
           },
           "zaxis": {
            "backgroundcolor": "#E5ECF6",
            "gridcolor": "white",
            "gridwidth": 2,
            "linecolor": "white",
            "showbackground": true,
            "ticks": "",
            "zerolinecolor": "white"
           }
          },
          "shapedefaults": {
           "line": {
            "color": "#2a3f5f"
           }
          },
          "ternary": {
           "aaxis": {
            "gridcolor": "white",
            "linecolor": "white",
            "ticks": ""
           },
           "baxis": {
            "gridcolor": "white",
            "linecolor": "white",
            "ticks": ""
           },
           "bgcolor": "#E5ECF6",
           "caxis": {
            "gridcolor": "white",
            "linecolor": "white",
            "ticks": ""
           }
          },
          "title": {
           "x": 0.05
          },
          "xaxis": {
           "automargin": true,
           "gridcolor": "white",
           "linecolor": "white",
           "ticks": "",
           "title": {
            "standoff": 15
           },
           "zerolinecolor": "white",
           "zerolinewidth": 2
          },
          "yaxis": {
           "automargin": true,
           "gridcolor": "white",
           "linecolor": "white",
           "ticks": "",
           "title": {
            "standoff": 15
           },
           "zerolinecolor": "white",
           "zerolinewidth": 2
          }
         }
        },
        "xaxis": {
         "anchor": "y",
         "domain": [
          0,
          1
         ],
         "title": {
          "text": "0"
         }
        },
        "yaxis": {
         "anchor": "x",
         "domain": [
          0,
          1
         ],
         "title": {
          "text": "1"
         }
        }
       }
      },
      "text/html": [
       "<div>                            <div id=\"4dea62a0-ca49-47e9-b6d5-b165c1d6028a\" class=\"plotly-graph-div\" style=\"height:525px; width:100%;\"></div>            <script type=\"text/javascript\">                require([\"plotly\"], function(Plotly) {                    window.PLOTLYENV=window.PLOTLYENV || {};                                    if (document.getElementById(\"4dea62a0-ca49-47e9-b6d5-b165c1d6028a\")) {                    Plotly.newPlot(                        \"4dea62a0-ca49-47e9-b6d5-b165c1d6028a\",                        [{\"hovertemplate\":\"0=%{x}\\u003cbr\\u003e1=%{y}\\u003cbr\\u003ecolor=%{marker.color}\\u003cextra\\u003e\\u003c\\u002fextra\\u003e\",\"legendgroup\":\"\",\"marker\":{\"color\":[0.0,0.0,1.0,0.0,1.0,0.0,1.0,0.0,0.0,1.0,1.0,0.0,1.0,0.0,0.0,0.0,0.0,0.0,1.0,1.0,1.0,1.0,1.0,1.0,1.0,1.0,1.0,1.0,1.0,1.0,1.0,1.0,1.0,1.0,0.0,0.0,1.0,1.0,1.0,0.0,1.0,0.0,0.0,0.0,1.0,0.0,0.0,0.0,0.0,0.0,0.0,0.0,0.0,0.0,1.0,0.0,0.0,0.0,0.0,0.0,0.0,0.0,0.0,0.0,0.0,1.0,0.0,1.0,1.0,0.0,0.0,1.0,0.0,0.0,1.0,0.0,0.0,1.0,1.0,1.0,1.0,1.0,0.0,0.0,1.0,1.0,0.0,1.0,0.0,0.0,1.0,0.0,0.0,0.0,0.0,0.0,0.0,0.0,0.0,0.0,0.0,0.0,0.0,0.0,0.0,0.0,1.0,1.0,1.0,0.0,1.0,0.0,0.0,0.0,0.0,0.0,0.0,0.0,0.0,1.0,1.0,1.0,1.0,1.0,1.0,1.0,0.0,1.0,0.0,0.0,1.0,1.0,1.0,0.0,1.0,0.0,1.0,1.0,1.0,0.0,0.0,0.0,0.0,0.0,1.0,0.0,0.0,0.0,0.0,1.0,0.0,1.0,1.0,0.0,0.0,0.0,1.0,0.0,1.0,1.0,1.0,1.0,0.0,0.0,1.0,0.0,1.0,0.0,1.0,0.0,0.0,0.0,1.0,1.0,1.0,1.0,1.0,0.0,0.0,0.0,0.0,1.0,1.0,1.0,0.0,0.0,0.0,0.0,0.0,0.0,0.0,0.0,0.0,0.0,1.0,1.0,1.0,1.0,1.0,0.0,0.0,0.0,0.0,1.0,0.0,0.0,0.0,1.0,1.0,0.0,0.0,1.0,0.0,0.0,0.0,0.0,1.0,1.0,0.0,0.0,0.0,1.0,0.0,0.0,1.0,1.0,0.0,0.0,0.0,0.0,0.0,0.0,0.0,0.0,1.0,0.0,1.0,0.0,1.0,0.0,1.0,1.0,0.0,0.0,0.0,0.0,0.0,0.0,0.0,0.0,0.0,0.0,0.0,0.0,0.0,1.0,0.0,0.0,0.0,0.0,0.0,0.0,0.0,0.0,0.0,0.0,0.0,0.0,0.0,0.0,0.0,0.0,0.0,1.0,0.0,0.0,1.0,0.0,0.0,0.0,0.0,0.0,0.0,0.0,0.0,0.0,0.0,0.0,0.0,0.0,0.0,0.0],\"coloraxis\":\"coloraxis\",\"symbol\":\"circle\"},\"mode\":\"markers\",\"name\":\"\",\"orientation\":\"v\",\"showlegend\":false,\"x\":[3.193977117538452,-0.017999865114688873,0.26651909947395325,3.7940309047698975,-5.1052422523498535,-2.517340898513794,5.025256633758545,-4.887761116027832,0.9147696495056152,-4.514115810394287,-0.48595088720321655,-2.177492618560791,0.9704998135566711,9.417933464050293,-0.5662841200828552,-8.840824127197266,-8.91534423828125,-0.4555748403072357,-6.5426154136657715,-0.6927000284194946,-8.014111518859863,-1.4333456754684448,-4.282288551330566,0.45134109258651733,-8.005365371704102,0.3110761344432831,-8.529328346252441,-3.6380860805511475,-4.495087623596191,-4.865643501281738,-5.305964469909668,-1.3713637590408325,-7.325089931488037,-3.495512008666992,7.0521392822265625,0.3757459819316864,3.453890085220337,0.00509003596380353,0.8791856169700623,1.807209849357605,5.097047805786133,6.697381019592285,-0.26970526576042175,-2.822514772415161,6.967665672302246,-3.994637966156006,0.2429255247116089,-2.363797903060913,5.247175693511963,-3.0963668823242188,0.798184871673584,-0.9459884166717529,-2.7511441707611084,-2.214240074157715,-3.2108945846557617,-1.5014044046401978,-2.8333539962768555,5.244179725646973,-1.9804307222366333,-1.9255234003067017,-4.179477691650391,-1.7261335849761963,-2.2406435012817383,-4.402828693389893,-3.3470871448516846,-0.792167603969574,2.908102512359619,-0.197489932179451,-8.00646686553955,4.362006664276123,-1.340395450592041,-4.618922710418701,6.314183712005615,-0.3542724549770355,-2.365535020828247,-0.9893411993980408,10.001639366149902,4.759006977081299,-1.4836946725845337,3.701566457748413,8.447783470153809,-0.09418962150812149,5.061275482177734,3.872637987136841,-1.0331097841262817,7.1984639167785645,-2.0080008506774902,-3.438739776611328,-9.496932983398438,-1.3051940202713013,5.027327060699463,-3.1149966716766357,-2.241325616836548,1.3024319410324097,3.467982292175293,-1.3310654163360596,-4.1369309425354,-0.22701764106750488,-2.511443853378296,-9.51042366027832,7.410097122192383,-4.016023635864258,-5.674226760864258,3.4608137607574463,4.7908148765563965,-2.2502243518829346,2.906615972518921,1.062410593032837,-2.8707242012023926,-5.022522449493408,2.7611441612243652,6.111442565917969,-2.926725387573242,-8.663521766662598,3.3394486904144287,-2.2801737785339355,-1.628164529800415,8.170663833618164,5.71404504776001,-1.5554695129394531,4.254509449005127,3.4329657554626465,2.9546172618865967,2.2395682334899902,1.5840692520141602,0.4794585704803467,-0.9092226028442383,3.5430498123168945,2.888998508453369,6.37643575668335,8.885139465332031,0.43451887369155884,1.127478003501892,0.1309891641139984,-3.651702404022217,0.5315873622894287,1.546798586845398,1.826215147972107,5.048184871673584,8.26711368560791,8.529685020446777,-6.44449520111084,-6.089703559875488,-1.9462889432907104,-6.833579063415527,-1.3605870008468628,-6.056855201721191,-2.7111854553222656,1.013114094734192,2.94457745552063,-2.410226583480835,0.7077447772026062,0.5994758009910583,0.18102051317691803,1.459967851638794,0.8837305307388306,-1.6898444890975952,6.630382061004639,-1.1659018993377686,2.598468065261841,5.377574920654297,1.7491097450256348,0.1878248006105423,-0.5765243768692017,5.077305793762207,9.624262809753418,-3.4844369888305664,-4.382681369781494,1.524520993232727,4.070362567901611,-3.6037163734436035,3.854072093963623,5.956450462341309,-1.4490094184875488,-2.2571022510528564,2.2654035091400146,1.6805483102798462,9.366888999938965,7.733318328857422,1.3226014375686646,8.145782470703125,4.366780757904053,-5.7556939125061035,2.4333760738372803,2.3796706199645996,8.238700866699219,-0.044796910136938095,1.963936686515808,-0.9821467399597168,-7.995251178741455,-0.3443053662776947,4.1246466636657715,1.2379649877548218,5.470219135284424,6.518298149108887,7.329185485839844,2.2960801124572754,5.167128562927246,-1.355871319770813,-2.929215669631958,0.5964969396591187,-1.5417412519454956,-3.385448455810547,3.5409598350524902,6.377948760986328,6.93569278717041,7.763549327850342,2.0318965911865234,7.643166542053223,7.026826858520508,5.407026767730713,1.4204827547073364,6.560902118682861,3.284783124923706,4.960564136505127,-6.7796406745910645,1.2235634326934814,0.24163390696048737,0.7660775184631348,1.6814780235290527,0.9988241195678711,-2.4335341453552246,-3.870053768157959,-5.744391441345215,1.6332465410232544,-7.021979808807373,-2.124311685562134,7.497097969055176,-7.562550067901611,-2.1319329738616943,-6.451817035675049,4.668574333190918,4.363879203796387,-1.4904823303222656,-5.077165603637695,-2.3762741088867188,-3.1320693492889404,-2.156798839569092,-7.50957727432251,-4.483162879943848,0.4845488369464874,6.766711235046387,0.5242595672607422,-1.5581769943237305,-3.938775062561035,-3.659365653991699,-2.346205949783325,-5.103189945220947,-3.0792720317840576,-3.9471073150634766,-4.102273941040039,-3.737699270248413,2.020918130874634,0.45601943135261536,-1.1205297708511353,-4.9364728927612305,-7.20220947265625,-0.9901663661003113,-1.2205535173416138,-0.8959128260612488,-4.990251064300537,-1.8027293682098389,0.28424370288848877,2.8472793102264404,8.616862297058105,8.815600395202637,-2.5781190395355225,8.831729888916016,-4.6843390464782715,-0.5819137096405029,-3.184420585632324,-4.263187408447266,-4.639608383178711,-3.0169198513031006,2.2904155254364014,-0.41492360830307007,2.150890588760376,6.573363304138184,4.023171901702881,-3.635159730911255,-1.0774716138839722,-6.400846004486084,1.9534847736358643,7.087202548980713,0.44139981269836426,-4.0916748046875,6.839090824127197,-4.007192134857178,-6.340456008911133,-0.7034320831298828,1.6343693733215332,-2.9712276458740234],\"xaxis\":\"x\",\"y\":[4.354104518890381,5.443127155303955,0.37093570828437805,6.123194694519043,5.338228225708008,4.302578926086426,6.489001274108887,-1.3467836380004883,4.285152435302734,-4.085997581481934,-4.822022438049316,4.941588401794434,-9.330707550048828,1.3803396224975586,3.954899311065674,4.331870079040527,4.3590192794799805,-2.900597095489502,2.7862868309020996,3.2334837913513184,7.179809093475342,-9.70545768737793,6.198629379272461,2.5944042205810547,7.180847644805908,-1.1092453002929688,7.455257415771484,4.781954288482666,3.8083677291870117,4.141464710235596,3.082357168197632,4.606924057006836,0.7923883199691772,-6.499752998352051,-5.969103813171387,1.6000736951828003,-1.5522077083587646,2.0822789669036865,7.288471698760986,-8.445130348205566,-7.350357532501221,-1.6124318838119507,-6.24772834777832,-5.350686550140381,-5.641011714935303,4.402131080627441,4.07658576965332,-2.791134834289551,0.9606727361679077,6.817354679107666,4.197027683258057,0.6844100952148438,5.785584449768066,-0.7690981030464172,1.3482471704483032,1.5659253597259521,0.07886616885662079,1.7995154857635498,1.2732088565826416,1.2537230253219604,0.380879670381546,5.662710666656494,6.7665019035339355,0.8603479862213135,5.1887335777282715,4.293201923370361,1.7236409187316895,5.3922343254089355,7.159316062927246,-6.845432758331299,-0.20618537068367004,-5.5568060874938965,-2.3302178382873535,6.292458534240723,-6.896875858306885,-10.333465576171875,-3.3518786430358887,2.70223331451416,7.513327598571777,-6.046970367431641,4.164178848266602,-0.44836002588272095,-1.6929292678833008,-1.3158137798309326,-10.199080467224121,-0.026151183992624283,-6.230556488037109,-8.480703353881836,-2.4052352905273438,6.373793601989746,-4.935360431671143,1.6991709470748901,0.0888286605477333,-0.0645599365234375,-2.629119634628296,4.789479732513428,-2.197005033493042,-4.782011985778809,3.4555914402008057,-2.4037344455718994,-1.478822112083435,4.344914436340332,4.727087497711182,3.781719923019409,-1.9669309854507446,9.048029899597168,-0.8061815500259399,5.443113327026367,5.710235595703125,1.8141708374023438,0.28779155015945435,-0.025435402989387512,1.9936338663101196,2.217090606689453,1.6333379745483398,8.786833763122559,-5.681186676025391,-0.7098201513290405,0.5867730379104614,-5.573264122009277,4.787900447845459,-8.016622543334961,-7.915607452392578,-5.725341796875,-7.347864151000977,-9.309362411499023,-10.065054893493652,-6.977142810821533,-5.421639442443848,-2.3813283443450928,-1.8273473978042603,-0.8783217668533325,3.2806992530822754,-3.2924091815948486,-8.496729850769043,-10.178999900817871,0.8732939958572388,0.08896911144256592,-3.1822257041931152,0.9582512378692627,-1.6581859588623047,-0.3774794042110443,-0.31312909722328186,-0.0722179189324379,2.6940901279449463,3.1374075412750244,5.275089263916016,-2.7596442699432373,-3.5573229789733887,2.993678092956543,-4.535669326782227,6.918858528137207,-9.009952545166016,3.3948187828063965,-1.3131040334701538,-2.7749667167663574,-7.445440292358398,-3.759528398513794,-3.3734636306762695,2.9061901569366455,-3.3630270957946777,1.1981563568115234,-7.676560401916504,7.276105880737305,0.12936967611312866,-0.4691151976585388,-4.046685695648193,-4.135865211486816,1.2546337842941284,-8.382966995239258,-6.6700897216796875,0.8309070467948914,-4.887540340423584,-1.8080617189407349,-5.842648983001709,-4.986927509307861,6.192201614379883,-0.5409667491912842,2.281012773513794,2.731990098953247,0.8520857095718384,0.6864959001541138,8.973913192749023,-3.3990087509155273,-0.3484632670879364,-2.5463714599609375,-5.437605857849121,3.0946667194366455,-4.288741588592529,7.1506757736206055,-6.908022403717041,3.060148000717163,1.0650913715362549,-7.542808532714844,2.3363046646118164,-2.5516536235809326,-4.923610210418701,0.41180726885795593,-7.625810146331787,-0.07517587393522263,-6.743191242218018,-8.069977760314941,4.118013381958008,0.12960390746593475,1.2578831911087036,-3.0947930812835693,-1.8975975513458252,5.092532157897949,-1.6490250825881958,-3.840421199798584,3.527959108352661,-6.747971057891846,-1.1946791410446167,0.25983884930610657,-0.38419264554977417,-6.091287136077881,-4.9857025146484375,-4.233006000518799,-0.0017905521672219038,-1.5827090740203857,2.000908613204956,-3.640789270401001,2.6635868549346924,8.97800350189209,-4.485904693603516,-0.37057024240493774,-8.857460021972656,-1.0100586414337158,-0.5926703214645386,3.191169023513794,-3.1463937759399414,4.796449184417725,1.977446436882019,3.6864254474639893,1.0146467685699463,5.9462127685546875,3.729982376098633,2.6999683380126953,-2.16054105758667,-8.41269302368164,8.949172973632812,-4.778609275817871,9.107282638549805,-4.914379596710205,-2.3974196910858154,3.0528836250305176,3.862971544265747,-7.490054130554199,5.048243045806885,5.160921573638916,4.929863929748535,4.850123882293701,-3.326080083847046,-7.854395866394043,-5.488492012023926,7.204057693481445,-1.084182620048523,-7.070681095123291,-6.573895454406738,2.5951268672943115,4.813014030456543,-4.769787788391113,-4.10193395614624,6.241660118103027,-3.9385056495666504,-3.943024158477783,4.8566436767578125,-4.847036361694336,4.656537055969238,1.2713720798492432,4.010249137878418,0.7225449681282043,3.2100040912628174,5.603034496307373,3.9057352542877197,4.275800704956055,1.7161144018173218,1.974287986755371,1.55258047580719,7.404349327087402,5.36859130859375,-3.67559814453125,5.058603763580322,0.7457771897315979,-6.179755687713623,-2.559441089630127,0.15520034730434418,5.66828727722168,4.503903388977051,-7.7378997802734375,-8.13291072845459,3.0813426971435547],\"yaxis\":\"y\",\"type\":\"scatter\"}],                        {\"template\":{\"data\":{\"histogram2dcontour\":[{\"type\":\"histogram2dcontour\",\"colorbar\":{\"outlinewidth\":0,\"ticks\":\"\"},\"colorscale\":[[0.0,\"#0d0887\"],[0.1111111111111111,\"#46039f\"],[0.2222222222222222,\"#7201a8\"],[0.3333333333333333,\"#9c179e\"],[0.4444444444444444,\"#bd3786\"],[0.5555555555555556,\"#d8576b\"],[0.6666666666666666,\"#ed7953\"],[0.7777777777777778,\"#fb9f3a\"],[0.8888888888888888,\"#fdca26\"],[1.0,\"#f0f921\"]]}],\"choropleth\":[{\"type\":\"choropleth\",\"colorbar\":{\"outlinewidth\":0,\"ticks\":\"\"}}],\"histogram2d\":[{\"type\":\"histogram2d\",\"colorbar\":{\"outlinewidth\":0,\"ticks\":\"\"},\"colorscale\":[[0.0,\"#0d0887\"],[0.1111111111111111,\"#46039f\"],[0.2222222222222222,\"#7201a8\"],[0.3333333333333333,\"#9c179e\"],[0.4444444444444444,\"#bd3786\"],[0.5555555555555556,\"#d8576b\"],[0.6666666666666666,\"#ed7953\"],[0.7777777777777778,\"#fb9f3a\"],[0.8888888888888888,\"#fdca26\"],[1.0,\"#f0f921\"]]}],\"heatmap\":[{\"type\":\"heatmap\",\"colorbar\":{\"outlinewidth\":0,\"ticks\":\"\"},\"colorscale\":[[0.0,\"#0d0887\"],[0.1111111111111111,\"#46039f\"],[0.2222222222222222,\"#7201a8\"],[0.3333333333333333,\"#9c179e\"],[0.4444444444444444,\"#bd3786\"],[0.5555555555555556,\"#d8576b\"],[0.6666666666666666,\"#ed7953\"],[0.7777777777777778,\"#fb9f3a\"],[0.8888888888888888,\"#fdca26\"],[1.0,\"#f0f921\"]]}],\"heatmapgl\":[{\"type\":\"heatmapgl\",\"colorbar\":{\"outlinewidth\":0,\"ticks\":\"\"},\"colorscale\":[[0.0,\"#0d0887\"],[0.1111111111111111,\"#46039f\"],[0.2222222222222222,\"#7201a8\"],[0.3333333333333333,\"#9c179e\"],[0.4444444444444444,\"#bd3786\"],[0.5555555555555556,\"#d8576b\"],[0.6666666666666666,\"#ed7953\"],[0.7777777777777778,\"#fb9f3a\"],[0.8888888888888888,\"#fdca26\"],[1.0,\"#f0f921\"]]}],\"contourcarpet\":[{\"type\":\"contourcarpet\",\"colorbar\":{\"outlinewidth\":0,\"ticks\":\"\"}}],\"contour\":[{\"type\":\"contour\",\"colorbar\":{\"outlinewidth\":0,\"ticks\":\"\"},\"colorscale\":[[0.0,\"#0d0887\"],[0.1111111111111111,\"#46039f\"],[0.2222222222222222,\"#7201a8\"],[0.3333333333333333,\"#9c179e\"],[0.4444444444444444,\"#bd3786\"],[0.5555555555555556,\"#d8576b\"],[0.6666666666666666,\"#ed7953\"],[0.7777777777777778,\"#fb9f3a\"],[0.8888888888888888,\"#fdca26\"],[1.0,\"#f0f921\"]]}],\"surface\":[{\"type\":\"surface\",\"colorbar\":{\"outlinewidth\":0,\"ticks\":\"\"},\"colorscale\":[[0.0,\"#0d0887\"],[0.1111111111111111,\"#46039f\"],[0.2222222222222222,\"#7201a8\"],[0.3333333333333333,\"#9c179e\"],[0.4444444444444444,\"#bd3786\"],[0.5555555555555556,\"#d8576b\"],[0.6666666666666666,\"#ed7953\"],[0.7777777777777778,\"#fb9f3a\"],[0.8888888888888888,\"#fdca26\"],[1.0,\"#f0f921\"]]}],\"mesh3d\":[{\"type\":\"mesh3d\",\"colorbar\":{\"outlinewidth\":0,\"ticks\":\"\"}}],\"scatter\":[{\"fillpattern\":{\"fillmode\":\"overlay\",\"size\":10,\"solidity\":0.2},\"type\":\"scatter\"}],\"parcoords\":[{\"type\":\"parcoords\",\"line\":{\"colorbar\":{\"outlinewidth\":0,\"ticks\":\"\"}}}],\"scatterpolargl\":[{\"type\":\"scatterpolargl\",\"marker\":{\"colorbar\":{\"outlinewidth\":0,\"ticks\":\"\"}}}],\"bar\":[{\"error_x\":{\"color\":\"#2a3f5f\"},\"error_y\":{\"color\":\"#2a3f5f\"},\"marker\":{\"line\":{\"color\":\"#E5ECF6\",\"width\":0.5},\"pattern\":{\"fillmode\":\"overlay\",\"size\":10,\"solidity\":0.2}},\"type\":\"bar\"}],\"scattergeo\":[{\"type\":\"scattergeo\",\"marker\":{\"colorbar\":{\"outlinewidth\":0,\"ticks\":\"\"}}}],\"scatterpolar\":[{\"type\":\"scatterpolar\",\"marker\":{\"colorbar\":{\"outlinewidth\":0,\"ticks\":\"\"}}}],\"histogram\":[{\"marker\":{\"pattern\":{\"fillmode\":\"overlay\",\"size\":10,\"solidity\":0.2}},\"type\":\"histogram\"}],\"scattergl\":[{\"type\":\"scattergl\",\"marker\":{\"colorbar\":{\"outlinewidth\":0,\"ticks\":\"\"}}}],\"scatter3d\":[{\"type\":\"scatter3d\",\"line\":{\"colorbar\":{\"outlinewidth\":0,\"ticks\":\"\"}},\"marker\":{\"colorbar\":{\"outlinewidth\":0,\"ticks\":\"\"}}}],\"scattermapbox\":[{\"type\":\"scattermapbox\",\"marker\":{\"colorbar\":{\"outlinewidth\":0,\"ticks\":\"\"}}}],\"scatterternary\":[{\"type\":\"scatterternary\",\"marker\":{\"colorbar\":{\"outlinewidth\":0,\"ticks\":\"\"}}}],\"scattercarpet\":[{\"type\":\"scattercarpet\",\"marker\":{\"colorbar\":{\"outlinewidth\":0,\"ticks\":\"\"}}}],\"carpet\":[{\"aaxis\":{\"endlinecolor\":\"#2a3f5f\",\"gridcolor\":\"white\",\"linecolor\":\"white\",\"minorgridcolor\":\"white\",\"startlinecolor\":\"#2a3f5f\"},\"baxis\":{\"endlinecolor\":\"#2a3f5f\",\"gridcolor\":\"white\",\"linecolor\":\"white\",\"minorgridcolor\":\"white\",\"startlinecolor\":\"#2a3f5f\"},\"type\":\"carpet\"}],\"table\":[{\"cells\":{\"fill\":{\"color\":\"#EBF0F8\"},\"line\":{\"color\":\"white\"}},\"header\":{\"fill\":{\"color\":\"#C8D4E3\"},\"line\":{\"color\":\"white\"}},\"type\":\"table\"}],\"barpolar\":[{\"marker\":{\"line\":{\"color\":\"#E5ECF6\",\"width\":0.5},\"pattern\":{\"fillmode\":\"overlay\",\"size\":10,\"solidity\":0.2}},\"type\":\"barpolar\"}],\"pie\":[{\"automargin\":true,\"type\":\"pie\"}]},\"layout\":{\"autotypenumbers\":\"strict\",\"colorway\":[\"#636efa\",\"#EF553B\",\"#00cc96\",\"#ab63fa\",\"#FFA15A\",\"#19d3f3\",\"#FF6692\",\"#B6E880\",\"#FF97FF\",\"#FECB52\"],\"font\":{\"color\":\"#2a3f5f\"},\"hovermode\":\"closest\",\"hoverlabel\":{\"align\":\"left\"},\"paper_bgcolor\":\"white\",\"plot_bgcolor\":\"#E5ECF6\",\"polar\":{\"bgcolor\":\"#E5ECF6\",\"angularaxis\":{\"gridcolor\":\"white\",\"linecolor\":\"white\",\"ticks\":\"\"},\"radialaxis\":{\"gridcolor\":\"white\",\"linecolor\":\"white\",\"ticks\":\"\"}},\"ternary\":{\"bgcolor\":\"#E5ECF6\",\"aaxis\":{\"gridcolor\":\"white\",\"linecolor\":\"white\",\"ticks\":\"\"},\"baxis\":{\"gridcolor\":\"white\",\"linecolor\":\"white\",\"ticks\":\"\"},\"caxis\":{\"gridcolor\":\"white\",\"linecolor\":\"white\",\"ticks\":\"\"}},\"coloraxis\":{\"colorbar\":{\"outlinewidth\":0,\"ticks\":\"\"}},\"colorscale\":{\"sequential\":[[0.0,\"#0d0887\"],[0.1111111111111111,\"#46039f\"],[0.2222222222222222,\"#7201a8\"],[0.3333333333333333,\"#9c179e\"],[0.4444444444444444,\"#bd3786\"],[0.5555555555555556,\"#d8576b\"],[0.6666666666666666,\"#ed7953\"],[0.7777777777777778,\"#fb9f3a\"],[0.8888888888888888,\"#fdca26\"],[1.0,\"#f0f921\"]],\"sequentialminus\":[[0.0,\"#0d0887\"],[0.1111111111111111,\"#46039f\"],[0.2222222222222222,\"#7201a8\"],[0.3333333333333333,\"#9c179e\"],[0.4444444444444444,\"#bd3786\"],[0.5555555555555556,\"#d8576b\"],[0.6666666666666666,\"#ed7953\"],[0.7777777777777778,\"#fb9f3a\"],[0.8888888888888888,\"#fdca26\"],[1.0,\"#f0f921\"]],\"diverging\":[[0,\"#8e0152\"],[0.1,\"#c51b7d\"],[0.2,\"#de77ae\"],[0.3,\"#f1b6da\"],[0.4,\"#fde0ef\"],[0.5,\"#f7f7f7\"],[0.6,\"#e6f5d0\"],[0.7,\"#b8e186\"],[0.8,\"#7fbc41\"],[0.9,\"#4d9221\"],[1,\"#276419\"]]},\"xaxis\":{\"gridcolor\":\"white\",\"linecolor\":\"white\",\"ticks\":\"\",\"title\":{\"standoff\":15},\"zerolinecolor\":\"white\",\"automargin\":true,\"zerolinewidth\":2},\"yaxis\":{\"gridcolor\":\"white\",\"linecolor\":\"white\",\"ticks\":\"\",\"title\":{\"standoff\":15},\"zerolinecolor\":\"white\",\"automargin\":true,\"zerolinewidth\":2},\"scene\":{\"xaxis\":{\"backgroundcolor\":\"#E5ECF6\",\"gridcolor\":\"white\",\"linecolor\":\"white\",\"showbackground\":true,\"ticks\":\"\",\"zerolinecolor\":\"white\",\"gridwidth\":2},\"yaxis\":{\"backgroundcolor\":\"#E5ECF6\",\"gridcolor\":\"white\",\"linecolor\":\"white\",\"showbackground\":true,\"ticks\":\"\",\"zerolinecolor\":\"white\",\"gridwidth\":2},\"zaxis\":{\"backgroundcolor\":\"#E5ECF6\",\"gridcolor\":\"white\",\"linecolor\":\"white\",\"showbackground\":true,\"ticks\":\"\",\"zerolinecolor\":\"white\",\"gridwidth\":2}},\"shapedefaults\":{\"line\":{\"color\":\"#2a3f5f\"}},\"annotationdefaults\":{\"arrowcolor\":\"#2a3f5f\",\"arrowhead\":0,\"arrowwidth\":1},\"geo\":{\"bgcolor\":\"white\",\"landcolor\":\"#E5ECF6\",\"subunitcolor\":\"white\",\"showland\":true,\"showlakes\":true,\"lakecolor\":\"white\"},\"title\":{\"x\":0.05},\"mapbox\":{\"style\":\"light\"}}},\"xaxis\":{\"anchor\":\"y\",\"domain\":[0.0,1.0],\"title\":{\"text\":\"0\"}},\"yaxis\":{\"anchor\":\"x\",\"domain\":[0.0,1.0],\"title\":{\"text\":\"1\"}},\"coloraxis\":{\"colorbar\":{\"title\":{\"text\":\"color\"}},\"colorscale\":[[0.0,\"#0d0887\"],[0.1111111111111111,\"#46039f\"],[0.2222222222222222,\"#7201a8\"],[0.3333333333333333,\"#9c179e\"],[0.4444444444444444,\"#bd3786\"],[0.5555555555555556,\"#d8576b\"],[0.6666666666666666,\"#ed7953\"],[0.7777777777777778,\"#fb9f3a\"],[0.8888888888888888,\"#fdca26\"],[1.0,\"#f0f921\"]]},\"legend\":{\"tracegroupgap\":0},\"margin\":{\"t\":60}},                        {\"responsive\": true}                    ).then(function(){\n",
       "                            \n",
       "var gd = document.getElementById('4dea62a0-ca49-47e9-b6d5-b165c1d6028a');\n",
       "var x = new MutationObserver(function (mutations, observer) {{\n",
       "        var display = window.getComputedStyle(gd).display;\n",
       "        if (!display || display === 'none') {{\n",
       "            console.log([gd, 'removed!']);\n",
       "            Plotly.purge(gd);\n",
       "            observer.disconnect();\n",
       "        }}\n",
       "}});\n",
       "\n",
       "// Listen for the removal of the full notebook cells\n",
       "var notebookContainer = gd.closest('#notebook-container');\n",
       "if (notebookContainer) {{\n",
       "    x.observe(notebookContainer, {childList: true});\n",
       "}}\n",
       "\n",
       "// Listen for the clearing of the current output cell\n",
       "var outputEl = gd.closest('.output');\n",
       "if (outputEl) {{\n",
       "    x.observe(outputEl, {childList: true});\n",
       "}}\n",
       "\n",
       "                        })                };                });            </script>        </div>"
      ]
     },
     "metadata": {},
     "output_type": "display_data"
    }
   ],
   "source": [
    "from sklearn.manifold import TSNE\n",
    "import plotly.express as px\n",
    "\n",
    "\n",
    "features = X\n",
    "\n",
    "tsne = TSNE(n_components=2, random_state=0)\n",
    "projections = tsne.fit_transform(features)\n",
    "\n",
    "fig = px.scatter(\n",
    "    projections, x=0, y=1,\n",
    "    color=y\n",
    ")\n",
    "fig.show()"
   ]
  },
  {
   "cell_type": "code",
   "execution_count": 180,
   "metadata": {},
   "outputs": [
    {
     "data": {
      "application/vnd.plotly.v1+json": {
       "config": {
        "plotlyServerURL": "https://plot.ly"
       },
       "data": [
        {
         "hovertemplate": "0=%{x}<br>1=%{y}<br>color=%{marker.color}<extra></extra>",
         "legendgroup": "",
         "marker": {
          "color": [
           0,
           0,
           1,
           0,
           1,
           0,
           1,
           0,
           0,
           1,
           1,
           0,
           1,
           0,
           0,
           0,
           0,
           0,
           1,
           1,
           1,
           1,
           1,
           1,
           1,
           1,
           1,
           1,
           1,
           1,
           1,
           1,
           1,
           1,
           0,
           0,
           1,
           1,
           1,
           0,
           1,
           0,
           0,
           0,
           1,
           0,
           0,
           0,
           0,
           0,
           0,
           0,
           0,
           0,
           1,
           0,
           0,
           0,
           0,
           0,
           0,
           0,
           0,
           0,
           0,
           1,
           0,
           1,
           1,
           0,
           0,
           1,
           0,
           0,
           1,
           0,
           0,
           1,
           1,
           1,
           1,
           1,
           0,
           0,
           1,
           1,
           0,
           1,
           0,
           0,
           1,
           0,
           0,
           0,
           0,
           0,
           0,
           0,
           0,
           0,
           0,
           0,
           0,
           0,
           0,
           0,
           1,
           1,
           1,
           0,
           1,
           0,
           0,
           0,
           0,
           0,
           0,
           0,
           0,
           1,
           1,
           1,
           1,
           1,
           1,
           1,
           0,
           1,
           0,
           0,
           1,
           1,
           1,
           0,
           1,
           0,
           1,
           1,
           1,
           0,
           0,
           0,
           0,
           0,
           1,
           0,
           0,
           0,
           0,
           1,
           0,
           1,
           1,
           0,
           0,
           0,
           1,
           0,
           1,
           1,
           1,
           1,
           0,
           0,
           1,
           0,
           1,
           0,
           1,
           0,
           0,
           0,
           1,
           1,
           1,
           1,
           1,
           0,
           0,
           0,
           0,
           1,
           1,
           1,
           0,
           0,
           0,
           0,
           0,
           0,
           0,
           0,
           0,
           0,
           1,
           1,
           1,
           1,
           1,
           0,
           0,
           0,
           0,
           1,
           0,
           0,
           0,
           1,
           1,
           0,
           0,
           1,
           0,
           0,
           0,
           0,
           1,
           1,
           0,
           0,
           0,
           1,
           0,
           0,
           1,
           1,
           0,
           0,
           0,
           0,
           0,
           0,
           0,
           0,
           1,
           0,
           1,
           0,
           1,
           0,
           1,
           1,
           0,
           0,
           0,
           0,
           0,
           0,
           0,
           0,
           0,
           0,
           0,
           0,
           0,
           1,
           0,
           0,
           0,
           0,
           0,
           0,
           0,
           0,
           0,
           0,
           0,
           0,
           0,
           0,
           0,
           0,
           0,
           1,
           0,
           0,
           1,
           0,
           0,
           0,
           0,
           0,
           0,
           0,
           0,
           0,
           0,
           0,
           0,
           0,
           0,
           0
          ],
          "coloraxis": "coloraxis",
          "symbol": "circle"
         },
         "mode": "markers",
         "name": "",
         "orientation": "v",
         "showlegend": false,
         "type": "scatter",
         "x": [
          -4.940269947052002,
          -5.776339530944824,
          -5.334721088409424,
          -4.70128059387207,
          -6.7217864990234375,
          -6.353113174438477,
          -4.242086410522461,
          -5.181069850921631,
          -5.806029796600342,
          -4.42516565322876,
          -3.149414300918579,
          -6.896592140197754,
          -2.9669687747955322,
          -3.767719030380249,
          -6.08754301071167,
          -6.039746284484863,
          -6.3922953605651855,
          -3.9180116653442383,
          -6.048345565795898,
          -5.493238925933838,
          -6.341512680053711,
          -3.7985124588012695,
          -7.328433990478516,
          -5.132460594177246,
          -6.423167705535889,
          -4.638889789581299,
          -6.300973415374756,
          -7.299999713897705,
          -6.641285419464111,
          -6.891510009765625,
          -6.438929557800293,
          -6.053849220275879,
          -5.882107734680176,
          -2.829343557357788,
          -2.343505859375,
          -5.482207775115967,
          -3.603991985321045,
          -5.495223522186279,
          -5.958386421203613,
          -2.838348627090454,
          -2.1312031745910645,
          -2.7859714031219482,
          -3.011131763458252,
          -3.688424825668335,
          -2.441295862197876,
          -6.865990161895752,
          -5.935401916503906,
          -5.585803031921387,
          -4.471701622009277,
          -7.237180709838867,
          -5.674881458282471,
          -5.633663177490234,
          -7.120388507843018,
          -5.354034423828125,
          -6.532987594604492,
          -6.192005157470703,
          -6.014087677001953,
          -4.365085601806641,
          -6.1176629066467285,
          -5.866445064544678,
          -6.629759788513184,
          -6.7078094482421875,
          -6.658575057983398,
          -6.871633052825928,
          -7.185743808746338,
          -6.025105953216553,
          -5.07572078704834,
          -6.265199184417725,
          -6.257789134979248,
          -2.2872283458709717,
          -5.358058452606201,
          -3.5359249114990234,
          -3.157661199569702,
          -5.698343753814697,
          -3.365224599838257,
          -3.425245523452759,
          -2.5498666763305664,
          -4.150964736938477,
          -6.544485569000244,
          -2.433440685272217,
          -2.780640125274658,
          -4.911649227142334,
          -3.6939756870269775,
          -3.574906587600708,
          -3.6650495529174805,
          -2.965677499771118,
          -3.549649715423584,
          -2.8820950984954834,
          -4.79095458984375,
          -6.433640956878662,
          -2.6604480743408203,
          -6.5016937255859375,
          -5.573441028594971,
          -4.465446472167969,
          -3.405261516571045,
          -6.208555698394775,
          -4.952087879180908,
          -3.2032928466796875,
          -5.703106880187988,
          -4.738283157348633,
          -3.0388476848602295,
          -7.25649881362915,
          -7.138474941253662,
          -4.657545566558838,
          -3.5055129528045654,
          -6.537656784057617,
          -3.885435104370117,
          -5.505523204803467,
          -7.0396552085876465,
          -7.031129360198975,
          -4.555301666259766,
          -3.5946171283721924,
          -6.542727947235107,
          -4.623649597167969,
          -4.898073673248291,
          -6.795507907867432,
          -3.6549136638641357,
          -3.6049575805664062,
          -3.995727300643921,
          -3.8003602027893066,
          -4.8720879554748535,
          -2.2485547065734863,
          -2.481562376022339,
          -2.811246871948242,
          -2.699976921081543,
          -3.049257278442383,
          -3.51808500289917,
          -2.373605251312256,
          -2.7070472240448,
          -2.9051308631896973,
          -3.0619332790374756,
          -4.967892169952393,
          -4.997239589691162,
          -3.470092535018921,
          -3.046485185623169,
          -3.149527072906494,
          -4.595071315765381,
          -4.509324550628662,
          -3.096034526824951,
          -4.3364176750183105,
          -3.0837063789367676,
          -5.180665969848633,
          -5.3787431716918945,
          -5.506596565246582,
          -6.068438529968262,
          -5.508350372314453,
          -7.16807746887207,
          -5.5792717933654785,
          -3.596482515335083,
          -4.3418498039245605,
          -4.240635395050049,
          -6.196238040924072,
          -2.9684762954711914,
          -5.378686904907227,
          -4.555240154266357,
          -3.8523504734039307,
          -3.5364151000976562,
          -2.4569549560546875,
          -4.053952217102051,
          -4.493154525756836,
          -2.9998271465301514,
          -4.706744194030762,
          -3.211440324783325,
          -6.065605640411377,
          -4.123894691467285,
          -3.1152050495147705,
          -3.9762871265411377,
          -4.261791229248047,
          -4.7935895919799805,
          -2.053346633911133,
          -2.9939920902252197,
          -4.443966388702393,
          -2.442521333694458,
          -5.218520641326904,
          -3.396733283996582,
          -3.070803165435791,
          -5.653571128845215,
          -3.124244451522827,
          -3.6384384632110596,
          -5.316359519958496,
          -3.5211548805236816,
          -4.541559219360352,
          -5.951013565063477,
          -3.4546902179718018,
          -4.034090995788574,
          -2.781642436981201,
          -2.8191370964050293,
          -4.935451507568359,
          -3.282474994659424,
          -6.257078170776367,
          -3.472658157348633,
          -4.221214294433594,
          -4.843277931213379,
          -2.3019721508026123,
          -4.278007507324219,
          -2.793088674545288,
          -3.0037429332733154,
          -4.2070817947387695,
          -3.751417636871338,
          -5.944650650024414,
          -3.3657402992248535,
          -3.7017128467559814,
          -6.5555877685546875,
          -4.308321475982666,
          -3.799393653869629,
          -2.6341612339019775,
          -3.1156833171844482,
          -5.543095111846924,
          -3.1271138191223145,
          -2.5286996364593506,
          -4.626204490661621,
          -2.7823309898376465,
          -2.876631259918213,
          -4.2494354248046875,
          -4.0051960945129395,
          -3.1299984455108643,
          -3.3180551528930664,
          -3.6345326900482178,
          -4.800396919250488,
          -4.096463680267334,
          -5.305501461029053,
          -4.5965681076049805,
          -6.416428565979004,
          -5.998360633850098,
          -3.295461416244507,
          -5.2350287437438965,
          -3.9228060245513916,
          -3.2458791732788086,
          -5.014580249786377,
          -5.5207672119140625,
          -6.615492343902588,
          -4.5942511558532715,
          -4.934536933898926,
          -5.690508842468262,
          -7.097443103790283,
          -6.839605808258057,
          -6.251007080078125,
          -5.3170552253723145,
          -4.377694129943848,
          -3.0492959022521973,
          -5.851224899291992,
          -2.691594362258911,
          -6.023500442504883,
          -4.022664546966553,
          -4.885810852050781,
          -6.437404155731201,
          -6.074748992919922,
          -4.049581050872803,
          -6.991729259490967,
          -7.23675012588501,
          -7.125660419464111,
          -6.992501735687256,
          -3.419140338897705,
          -3.2410888671875,
          -3.1269617080688477,
          -6.5691304206848145,
          -4.820854187011719,
          -3.6586050987243652,
          -3.611781120300293,
          -5.9070587158203125,
          -7.10450553894043,
          -4.052321434020996,
          -3.551697254180908,
          -5.04310417175293,
          -3.167773485183716,
          -3.1142079830169678,
          -6.8785810470581055,
          -3.257096767425537,
          -6.965226650238037,
          -5.163374900817871,
          -6.329154968261719,
          -6.719883918762207,
          -6.589812278747559,
          -6.973803520202637,
          -5.037679195404053,
          -5.986494541168213,
          -5.049572467803955,
          -3.9094343185424805,
          -5.0193305015563965,
          -7.113134860992432,
          -5.961288928985596,
          -3.969273805618286,
          -5.4892897605896,
          -3.524880886077881,
          -3.2142934799194336,
          -4.9726762771606445,
          -3.416691541671753,
          -6.976896286010742,
          -7.120844841003418,
          -3.6453444957733154,
          -2.8342931270599365,
          -6.095024585723877
         ],
         "xaxis": "x",
         "y": [
          5.523674011230469,
          4.540516376495361,
          4.400211811065674,
          5.001953601837158,
          2.9042022228240967,
          3.7906463146209717,
          4.951204299926758,
          2.457343339920044,
          5.197895050048828,
          2.3877291679382324,
          3.1544883251190186,
          4.562369346618652,
          1.8155803680419922,
          5.145055770874023,
          5.272268772125244,
          4.607120037078857,
          4.799183368682861,
          2.888101100921631,
          3.1232523918151855,
          3.9303441047668457,
          2.460496664047241,
          1.742140293121338,
          4.190145492553711,
          4.267423629760742,
          2.483996868133545,
          3.573662042617798,
          2.3341128826141357,
          3.841090202331543,
          3.3375155925750732,
          3.45174241065979,
          3.28402042388916,
          4.395196437835693,
          3.0132534503936768,
          3.2988040447235107,
          4.961310863494873,
          5.561472415924072,
          4.640279769897461,
          4.253394603729248,
          4.317433834075928,
          2.2486112117767334,
          3.042032480239868,
          6.004112720489502,
          2.6741244792938232,
          2.5863051414489746,
          4.994175910949707,
          3.679818868637085,
          5.338934898376465,
          2.8284125328063965,
          6.30402135848999,
          4.576938152313232,
          5.374125957489014,
          5.858950138092041,
          4.695307731628418,
          6.5447540283203125,
          5.71670389175415,
          5.86716365814209,
          6.270224094390869,
          6.206116676330566,
          6.045493125915527,
          5.980489730834961,
          5.891788005828857,
          5.074292182922363,
          5.358428478240967,
          5.74055290222168,
          4.282456398010254,
          4.797689437866211,
          5.965188980102539,
          4.471063613891602,
          2.5024890899658203,
          3.158363103866577,
          6.239196300506592,
          4.117445468902588,
          5.275728702545166,
          4.065588474273682,
          2.4486076831817627,
          1.5771061182022095,
          4.357477188110352,
          5.321951389312744,
          4.527338981628418,
          3.370562791824341,
          3.9505717754364014,
          3.7380950450897217,
          5.309771537780762,
          4.813490390777588,
          1.679782748222351,
          5.511341571807861,
          2.5553219318389893,
          2.6717352867126465,
          2.9213814735412598,
          4.374337673187256,
          4.488216876983643,
          5.556339740753174,
          6.2534098625183105,
          4.041776657104492,
          4.664481163024902,
          4.834867000579834,
          2.2213046550750732,
          2.9945428371429443,
          3.2450897693634033,
          2.8941054344177246,
          5.5170512199401855,
          3.825388193130493,
          3.2392542362213135,
          5.2078857421875,
          4.770679950714111,
          5.355630397796631,
          4.570144176483154,
          4.8770012855529785,
          4.580878257751465,
          5.104879379272461,
          4.981292247772217,
          6.31818151473999,
          5.490122318267822,
          4.6762542724609375,
          6.039700031280518,
          4.871486663818359,
          2.545973062515259,
          5.797135353088379,
          6.272180080413818,
          2.5900022983551025,
          5.112450122833252,
          2.6796114444732666,
          2.5744149684906006,
          3.3544673919677734,
          2.4395904541015625,
          1.7278839349746704,
          1.6176365613937378,
          3.116501808166504,
          3.4574294090270996,
          5.0845561027526855,
          5.93283224105835,
          3.4763083457946777,
          4.405452251434326,
          3.249342441558838,
          2.660985231399536,
          1.835687518119812,
          4.200418949127197,
          4.185279369354248,
          4.794910430908203,
          4.752894878387451,
          5.651275157928467,
          2.96921706199646,
          3.250800848007202,
          6.319637775421143,
          3.1180968284606934,
          3.933180093765259,
          3.190969944000244,
          2.8531196117401123,
          3.3571979999542236,
          4.594974517822266,
          2.414407730102539,
          4.978909969329834,
          1.899497628211975,
          4.511472225189209,
          3.726835250854492,
          3.538555860519409,
          2.2509775161743164,
          5.358422756195068,
          3.0068564414978027,
          4.479825973510742,
          4.850346088409424,
          4.2681145668029785,
          2.1060526371002197,
          4.20367431640625,
          5.988945960998535,
          5.700318813323975,
          2.735464572906494,
          2.4233036041259766,
          4.159243583679199,
          2.7864415645599365,
          3.187054395675659,
          5.9234442710876465,
          4.880627632141113,
          4.06135892868042,
          2.7713141441345215,
          3.545667886734009,
          5.0152387619018555,
          5.526970863342285,
          5.569484233856201,
          5.029723644256592,
          5.578887939453125,
          5.840642929077148,
          3.357011079788208,
          4.021237850189209,
          4.464132308959961,
          5.379012584686279,
          2.8948745727539062,
          4.799872398376465,
          3.3461997509002686,
          2.427523374557495,
          2.482095718383789,
          5.051394939422607,
          3.900930881500244,
          2.7862117290496826,
          5.505551815032959,
          5.642143726348877,
          3.6365244388580322,
          5.996884346008301,
          1.982805848121643,
          6.272589683532715,
          2.3777477741241455,
          1.95296311378479,
          3.905748128890991,
          5.396703243255615,
          5.867843151092529,
          5.508285045623779,
          5.816874980926514,
          5.2714385986328125,
          5.857912063598633,
          5.459350109100342,
          5.696621417999268,
          2.82820987701416,
          5.698826789855957,
          5.184980869293213,
          5.488790512084961,
          4.522881984710693,
          3.7798428535461426,
          2.9084107875823975,
          3.8517446517944336,
          4.006482124328613,
          5.6397385597229,
          2.2674286365509033,
          3.710763454437256,
          3.516982078552246,
          3.776695966720581,
          2.991584300994873,
          1.9240901470184326,
          5.565889358520508,
          3.2024781703948975,
          3.4620516300201416,
          3.090437412261963,
          5.1621479988098145,
          5.833422660827637,
          4.489515781402588,
          5.241169452667236,
          5.026547908782959,
          2.9322519302368164,
          3.157186985015869,
          3.5879671573638916,
          2.595777750015259,
          5.1125969886779785,
          5.223608016967773,
          5.26050329208374,
          2.77885103225708,
          2.3438310623168945,
          3.8730533123016357,
          3.679171323776245,
          2.1066830158233643,
          3.9958884716033936,
          3.8954951763153076,
          3.6577672958374023,
          3.692359447479248,
          4.133286476135254,
          2.1523754596710205,
          3.05665922164917,
          4.0164289474487305,
          3.047177791595459,
          2.0212514400482178,
          2.202333927154541,
          4.174924373626709,
          3.308711528778076,
          2.701690196990967,
          2.96026349067688,
          5.080738544464111,
          6.170446872711182,
          6.2492523193359375,
          3.8834869861602783,
          6.291173458099365,
          3.4013257026672363,
          4.642879962921143,
          3.1506664752960205,
          5.778825283050537,
          3.2189269065856934,
          4.336261749267578,
          5.1627373695373535,
          4.753876686096191,
          4.9454851150512695,
          5.819751262664795,
          5.878899097442627,
          4.353902339935303,
          4.417938709259033,
          2.355923891067505,
          5.260274887084961,
          5.371841907501221,
          2.773015022277832,
          2.270763874053955,
          5.444602012634277,
          3.819606304168701,
          3.3067374229431152,
          2.1670963764190674,
          2.160343885421753,
          2.7083051204681396
         ],
         "yaxis": "y"
        }
       ],
       "layout": {
        "coloraxis": {
         "colorbar": {
          "title": {
           "text": "color"
          }
         },
         "colorscale": [
          [
           0,
           "#0d0887"
          ],
          [
           0.1111111111111111,
           "#46039f"
          ],
          [
           0.2222222222222222,
           "#7201a8"
          ],
          [
           0.3333333333333333,
           "#9c179e"
          ],
          [
           0.4444444444444444,
           "#bd3786"
          ],
          [
           0.5555555555555556,
           "#d8576b"
          ],
          [
           0.6666666666666666,
           "#ed7953"
          ],
          [
           0.7777777777777778,
           "#fb9f3a"
          ],
          [
           0.8888888888888888,
           "#fdca26"
          ],
          [
           1,
           "#f0f921"
          ]
         ]
        },
        "legend": {
         "tracegroupgap": 0
        },
        "margin": {
         "t": 60
        },
        "template": {
         "data": {
          "bar": [
           {
            "error_x": {
             "color": "#2a3f5f"
            },
            "error_y": {
             "color": "#2a3f5f"
            },
            "marker": {
             "line": {
              "color": "#E5ECF6",
              "width": 0.5
             },
             "pattern": {
              "fillmode": "overlay",
              "size": 10,
              "solidity": 0.2
             }
            },
            "type": "bar"
           }
          ],
          "barpolar": [
           {
            "marker": {
             "line": {
              "color": "#E5ECF6",
              "width": 0.5
             },
             "pattern": {
              "fillmode": "overlay",
              "size": 10,
              "solidity": 0.2
             }
            },
            "type": "barpolar"
           }
          ],
          "carpet": [
           {
            "aaxis": {
             "endlinecolor": "#2a3f5f",
             "gridcolor": "white",
             "linecolor": "white",
             "minorgridcolor": "white",
             "startlinecolor": "#2a3f5f"
            },
            "baxis": {
             "endlinecolor": "#2a3f5f",
             "gridcolor": "white",
             "linecolor": "white",
             "minorgridcolor": "white",
             "startlinecolor": "#2a3f5f"
            },
            "type": "carpet"
           }
          ],
          "choropleth": [
           {
            "colorbar": {
             "outlinewidth": 0,
             "ticks": ""
            },
            "type": "choropleth"
           }
          ],
          "contour": [
           {
            "colorbar": {
             "outlinewidth": 0,
             "ticks": ""
            },
            "colorscale": [
             [
              0,
              "#0d0887"
             ],
             [
              0.1111111111111111,
              "#46039f"
             ],
             [
              0.2222222222222222,
              "#7201a8"
             ],
             [
              0.3333333333333333,
              "#9c179e"
             ],
             [
              0.4444444444444444,
              "#bd3786"
             ],
             [
              0.5555555555555556,
              "#d8576b"
             ],
             [
              0.6666666666666666,
              "#ed7953"
             ],
             [
              0.7777777777777778,
              "#fb9f3a"
             ],
             [
              0.8888888888888888,
              "#fdca26"
             ],
             [
              1,
              "#f0f921"
             ]
            ],
            "type": "contour"
           }
          ],
          "contourcarpet": [
           {
            "colorbar": {
             "outlinewidth": 0,
             "ticks": ""
            },
            "type": "contourcarpet"
           }
          ],
          "heatmap": [
           {
            "colorbar": {
             "outlinewidth": 0,
             "ticks": ""
            },
            "colorscale": [
             [
              0,
              "#0d0887"
             ],
             [
              0.1111111111111111,
              "#46039f"
             ],
             [
              0.2222222222222222,
              "#7201a8"
             ],
             [
              0.3333333333333333,
              "#9c179e"
             ],
             [
              0.4444444444444444,
              "#bd3786"
             ],
             [
              0.5555555555555556,
              "#d8576b"
             ],
             [
              0.6666666666666666,
              "#ed7953"
             ],
             [
              0.7777777777777778,
              "#fb9f3a"
             ],
             [
              0.8888888888888888,
              "#fdca26"
             ],
             [
              1,
              "#f0f921"
             ]
            ],
            "type": "heatmap"
           }
          ],
          "heatmapgl": [
           {
            "colorbar": {
             "outlinewidth": 0,
             "ticks": ""
            },
            "colorscale": [
             [
              0,
              "#0d0887"
             ],
             [
              0.1111111111111111,
              "#46039f"
             ],
             [
              0.2222222222222222,
              "#7201a8"
             ],
             [
              0.3333333333333333,
              "#9c179e"
             ],
             [
              0.4444444444444444,
              "#bd3786"
             ],
             [
              0.5555555555555556,
              "#d8576b"
             ],
             [
              0.6666666666666666,
              "#ed7953"
             ],
             [
              0.7777777777777778,
              "#fb9f3a"
             ],
             [
              0.8888888888888888,
              "#fdca26"
             ],
             [
              1,
              "#f0f921"
             ]
            ],
            "type": "heatmapgl"
           }
          ],
          "histogram": [
           {
            "marker": {
             "pattern": {
              "fillmode": "overlay",
              "size": 10,
              "solidity": 0.2
             }
            },
            "type": "histogram"
           }
          ],
          "histogram2d": [
           {
            "colorbar": {
             "outlinewidth": 0,
             "ticks": ""
            },
            "colorscale": [
             [
              0,
              "#0d0887"
             ],
             [
              0.1111111111111111,
              "#46039f"
             ],
             [
              0.2222222222222222,
              "#7201a8"
             ],
             [
              0.3333333333333333,
              "#9c179e"
             ],
             [
              0.4444444444444444,
              "#bd3786"
             ],
             [
              0.5555555555555556,
              "#d8576b"
             ],
             [
              0.6666666666666666,
              "#ed7953"
             ],
             [
              0.7777777777777778,
              "#fb9f3a"
             ],
             [
              0.8888888888888888,
              "#fdca26"
             ],
             [
              1,
              "#f0f921"
             ]
            ],
            "type": "histogram2d"
           }
          ],
          "histogram2dcontour": [
           {
            "colorbar": {
             "outlinewidth": 0,
             "ticks": ""
            },
            "colorscale": [
             [
              0,
              "#0d0887"
             ],
             [
              0.1111111111111111,
              "#46039f"
             ],
             [
              0.2222222222222222,
              "#7201a8"
             ],
             [
              0.3333333333333333,
              "#9c179e"
             ],
             [
              0.4444444444444444,
              "#bd3786"
             ],
             [
              0.5555555555555556,
              "#d8576b"
             ],
             [
              0.6666666666666666,
              "#ed7953"
             ],
             [
              0.7777777777777778,
              "#fb9f3a"
             ],
             [
              0.8888888888888888,
              "#fdca26"
             ],
             [
              1,
              "#f0f921"
             ]
            ],
            "type": "histogram2dcontour"
           }
          ],
          "mesh3d": [
           {
            "colorbar": {
             "outlinewidth": 0,
             "ticks": ""
            },
            "type": "mesh3d"
           }
          ],
          "parcoords": [
           {
            "line": {
             "colorbar": {
              "outlinewidth": 0,
              "ticks": ""
             }
            },
            "type": "parcoords"
           }
          ],
          "pie": [
           {
            "automargin": true,
            "type": "pie"
           }
          ],
          "scatter": [
           {
            "fillpattern": {
             "fillmode": "overlay",
             "size": 10,
             "solidity": 0.2
            },
            "type": "scatter"
           }
          ],
          "scatter3d": [
           {
            "line": {
             "colorbar": {
              "outlinewidth": 0,
              "ticks": ""
             }
            },
            "marker": {
             "colorbar": {
              "outlinewidth": 0,
              "ticks": ""
             }
            },
            "type": "scatter3d"
           }
          ],
          "scattercarpet": [
           {
            "marker": {
             "colorbar": {
              "outlinewidth": 0,
              "ticks": ""
             }
            },
            "type": "scattercarpet"
           }
          ],
          "scattergeo": [
           {
            "marker": {
             "colorbar": {
              "outlinewidth": 0,
              "ticks": ""
             }
            },
            "type": "scattergeo"
           }
          ],
          "scattergl": [
           {
            "marker": {
             "colorbar": {
              "outlinewidth": 0,
              "ticks": ""
             }
            },
            "type": "scattergl"
           }
          ],
          "scattermapbox": [
           {
            "marker": {
             "colorbar": {
              "outlinewidth": 0,
              "ticks": ""
             }
            },
            "type": "scattermapbox"
           }
          ],
          "scatterpolar": [
           {
            "marker": {
             "colorbar": {
              "outlinewidth": 0,
              "ticks": ""
             }
            },
            "type": "scatterpolar"
           }
          ],
          "scatterpolargl": [
           {
            "marker": {
             "colorbar": {
              "outlinewidth": 0,
              "ticks": ""
             }
            },
            "type": "scatterpolargl"
           }
          ],
          "scatterternary": [
           {
            "marker": {
             "colorbar": {
              "outlinewidth": 0,
              "ticks": ""
             }
            },
            "type": "scatterternary"
           }
          ],
          "surface": [
           {
            "colorbar": {
             "outlinewidth": 0,
             "ticks": ""
            },
            "colorscale": [
             [
              0,
              "#0d0887"
             ],
             [
              0.1111111111111111,
              "#46039f"
             ],
             [
              0.2222222222222222,
              "#7201a8"
             ],
             [
              0.3333333333333333,
              "#9c179e"
             ],
             [
              0.4444444444444444,
              "#bd3786"
             ],
             [
              0.5555555555555556,
              "#d8576b"
             ],
             [
              0.6666666666666666,
              "#ed7953"
             ],
             [
              0.7777777777777778,
              "#fb9f3a"
             ],
             [
              0.8888888888888888,
              "#fdca26"
             ],
             [
              1,
              "#f0f921"
             ]
            ],
            "type": "surface"
           }
          ],
          "table": [
           {
            "cells": {
             "fill": {
              "color": "#EBF0F8"
             },
             "line": {
              "color": "white"
             }
            },
            "header": {
             "fill": {
              "color": "#C8D4E3"
             },
             "line": {
              "color": "white"
             }
            },
            "type": "table"
           }
          ]
         },
         "layout": {
          "annotationdefaults": {
           "arrowcolor": "#2a3f5f",
           "arrowhead": 0,
           "arrowwidth": 1
          },
          "autotypenumbers": "strict",
          "coloraxis": {
           "colorbar": {
            "outlinewidth": 0,
            "ticks": ""
           }
          },
          "colorscale": {
           "diverging": [
            [
             0,
             "#8e0152"
            ],
            [
             0.1,
             "#c51b7d"
            ],
            [
             0.2,
             "#de77ae"
            ],
            [
             0.3,
             "#f1b6da"
            ],
            [
             0.4,
             "#fde0ef"
            ],
            [
             0.5,
             "#f7f7f7"
            ],
            [
             0.6,
             "#e6f5d0"
            ],
            [
             0.7,
             "#b8e186"
            ],
            [
             0.8,
             "#7fbc41"
            ],
            [
             0.9,
             "#4d9221"
            ],
            [
             1,
             "#276419"
            ]
           ],
           "sequential": [
            [
             0,
             "#0d0887"
            ],
            [
             0.1111111111111111,
             "#46039f"
            ],
            [
             0.2222222222222222,
             "#7201a8"
            ],
            [
             0.3333333333333333,
             "#9c179e"
            ],
            [
             0.4444444444444444,
             "#bd3786"
            ],
            [
             0.5555555555555556,
             "#d8576b"
            ],
            [
             0.6666666666666666,
             "#ed7953"
            ],
            [
             0.7777777777777778,
             "#fb9f3a"
            ],
            [
             0.8888888888888888,
             "#fdca26"
            ],
            [
             1,
             "#f0f921"
            ]
           ],
           "sequentialminus": [
            [
             0,
             "#0d0887"
            ],
            [
             0.1111111111111111,
             "#46039f"
            ],
            [
             0.2222222222222222,
             "#7201a8"
            ],
            [
             0.3333333333333333,
             "#9c179e"
            ],
            [
             0.4444444444444444,
             "#bd3786"
            ],
            [
             0.5555555555555556,
             "#d8576b"
            ],
            [
             0.6666666666666666,
             "#ed7953"
            ],
            [
             0.7777777777777778,
             "#fb9f3a"
            ],
            [
             0.8888888888888888,
             "#fdca26"
            ],
            [
             1,
             "#f0f921"
            ]
           ]
          },
          "colorway": [
           "#636efa",
           "#EF553B",
           "#00cc96",
           "#ab63fa",
           "#FFA15A",
           "#19d3f3",
           "#FF6692",
           "#B6E880",
           "#FF97FF",
           "#FECB52"
          ],
          "font": {
           "color": "#2a3f5f"
          },
          "geo": {
           "bgcolor": "white",
           "lakecolor": "white",
           "landcolor": "#E5ECF6",
           "showlakes": true,
           "showland": true,
           "subunitcolor": "white"
          },
          "hoverlabel": {
           "align": "left"
          },
          "hovermode": "closest",
          "mapbox": {
           "style": "light"
          },
          "paper_bgcolor": "white",
          "plot_bgcolor": "#E5ECF6",
          "polar": {
           "angularaxis": {
            "gridcolor": "white",
            "linecolor": "white",
            "ticks": ""
           },
           "bgcolor": "#E5ECF6",
           "radialaxis": {
            "gridcolor": "white",
            "linecolor": "white",
            "ticks": ""
           }
          },
          "scene": {
           "xaxis": {
            "backgroundcolor": "#E5ECF6",
            "gridcolor": "white",
            "gridwidth": 2,
            "linecolor": "white",
            "showbackground": true,
            "ticks": "",
            "zerolinecolor": "white"
           },
           "yaxis": {
            "backgroundcolor": "#E5ECF6",
            "gridcolor": "white",
            "gridwidth": 2,
            "linecolor": "white",
            "showbackground": true,
            "ticks": "",
            "zerolinecolor": "white"
           },
           "zaxis": {
            "backgroundcolor": "#E5ECF6",
            "gridcolor": "white",
            "gridwidth": 2,
            "linecolor": "white",
            "showbackground": true,
            "ticks": "",
            "zerolinecolor": "white"
           }
          },
          "shapedefaults": {
           "line": {
            "color": "#2a3f5f"
           }
          },
          "ternary": {
           "aaxis": {
            "gridcolor": "white",
            "linecolor": "white",
            "ticks": ""
           },
           "baxis": {
            "gridcolor": "white",
            "linecolor": "white",
            "ticks": ""
           },
           "bgcolor": "#E5ECF6",
           "caxis": {
            "gridcolor": "white",
            "linecolor": "white",
            "ticks": ""
           }
          },
          "title": {
           "x": 0.05
          },
          "xaxis": {
           "automargin": true,
           "gridcolor": "white",
           "linecolor": "white",
           "ticks": "",
           "title": {
            "standoff": 15
           },
           "zerolinecolor": "white",
           "zerolinewidth": 2
          },
          "yaxis": {
           "automargin": true,
           "gridcolor": "white",
           "linecolor": "white",
           "ticks": "",
           "title": {
            "standoff": 15
           },
           "zerolinecolor": "white",
           "zerolinewidth": 2
          }
         }
        },
        "xaxis": {
         "anchor": "y",
         "domain": [
          0,
          1
         ],
         "title": {
          "text": "0"
         }
        },
        "yaxis": {
         "anchor": "x",
         "domain": [
          0,
          1
         ],
         "title": {
          "text": "1"
         }
        }
       }
      },
      "text/html": [
       "<div>                            <div id=\"cc46047c-d063-4300-8365-9245190c2289\" class=\"plotly-graph-div\" style=\"height:525px; width:100%;\"></div>            <script type=\"text/javascript\">                require([\"plotly\"], function(Plotly) {                    window.PLOTLYENV=window.PLOTLYENV || {};                                    if (document.getElementById(\"cc46047c-d063-4300-8365-9245190c2289\")) {                    Plotly.newPlot(                        \"cc46047c-d063-4300-8365-9245190c2289\",                        [{\"hovertemplate\":\"0=%{x}\\u003cbr\\u003e1=%{y}\\u003cbr\\u003ecolor=%{marker.color}\\u003cextra\\u003e\\u003c\\u002fextra\\u003e\",\"legendgroup\":\"\",\"marker\":{\"color\":[0.0,0.0,1.0,0.0,1.0,0.0,1.0,0.0,0.0,1.0,1.0,0.0,1.0,0.0,0.0,0.0,0.0,0.0,1.0,1.0,1.0,1.0,1.0,1.0,1.0,1.0,1.0,1.0,1.0,1.0,1.0,1.0,1.0,1.0,0.0,0.0,1.0,1.0,1.0,0.0,1.0,0.0,0.0,0.0,1.0,0.0,0.0,0.0,0.0,0.0,0.0,0.0,0.0,0.0,1.0,0.0,0.0,0.0,0.0,0.0,0.0,0.0,0.0,0.0,0.0,1.0,0.0,1.0,1.0,0.0,0.0,1.0,0.0,0.0,1.0,0.0,0.0,1.0,1.0,1.0,1.0,1.0,0.0,0.0,1.0,1.0,0.0,1.0,0.0,0.0,1.0,0.0,0.0,0.0,0.0,0.0,0.0,0.0,0.0,0.0,0.0,0.0,0.0,0.0,0.0,0.0,1.0,1.0,1.0,0.0,1.0,0.0,0.0,0.0,0.0,0.0,0.0,0.0,0.0,1.0,1.0,1.0,1.0,1.0,1.0,1.0,0.0,1.0,0.0,0.0,1.0,1.0,1.0,0.0,1.0,0.0,1.0,1.0,1.0,0.0,0.0,0.0,0.0,0.0,1.0,0.0,0.0,0.0,0.0,1.0,0.0,1.0,1.0,0.0,0.0,0.0,1.0,0.0,1.0,1.0,1.0,1.0,0.0,0.0,1.0,0.0,1.0,0.0,1.0,0.0,0.0,0.0,1.0,1.0,1.0,1.0,1.0,0.0,0.0,0.0,0.0,1.0,1.0,1.0,0.0,0.0,0.0,0.0,0.0,0.0,0.0,0.0,0.0,0.0,1.0,1.0,1.0,1.0,1.0,0.0,0.0,0.0,0.0,1.0,0.0,0.0,0.0,1.0,1.0,0.0,0.0,1.0,0.0,0.0,0.0,0.0,1.0,1.0,0.0,0.0,0.0,1.0,0.0,0.0,1.0,1.0,0.0,0.0,0.0,0.0,0.0,0.0,0.0,0.0,1.0,0.0,1.0,0.0,1.0,0.0,1.0,1.0,0.0,0.0,0.0,0.0,0.0,0.0,0.0,0.0,0.0,0.0,0.0,0.0,0.0,1.0,0.0,0.0,0.0,0.0,0.0,0.0,0.0,0.0,0.0,0.0,0.0,0.0,0.0,0.0,0.0,0.0,0.0,1.0,0.0,0.0,1.0,0.0,0.0,0.0,0.0,0.0,0.0,0.0,0.0,0.0,0.0,0.0,0.0,0.0,0.0,0.0],\"coloraxis\":\"coloraxis\",\"symbol\":\"circle\"},\"mode\":\"markers\",\"name\":\"\",\"orientation\":\"v\",\"showlegend\":false,\"x\":[-4.940269947052002,-5.776339530944824,-5.334721088409424,-4.70128059387207,-6.7217864990234375,-6.353113174438477,-4.242086410522461,-5.181069850921631,-5.806029796600342,-4.42516565322876,-3.149414300918579,-6.896592140197754,-2.9669687747955322,-3.767719030380249,-6.08754301071167,-6.039746284484863,-6.3922953605651855,-3.9180116653442383,-6.048345565795898,-5.493238925933838,-6.341512680053711,-3.7985124588012695,-7.328433990478516,-5.132460594177246,-6.423167705535889,-4.638889789581299,-6.300973415374756,-7.299999713897705,-6.641285419464111,-6.891510009765625,-6.438929557800293,-6.053849220275879,-5.882107734680176,-2.829343557357788,-2.343505859375,-5.482207775115967,-3.603991985321045,-5.495223522186279,-5.958386421203613,-2.838348627090454,-2.1312031745910645,-2.7859714031219482,-3.011131763458252,-3.688424825668335,-2.441295862197876,-6.865990161895752,-5.935401916503906,-5.585803031921387,-4.471701622009277,-7.237180709838867,-5.674881458282471,-5.633663177490234,-7.120388507843018,-5.354034423828125,-6.532987594604492,-6.192005157470703,-6.014087677001953,-4.365085601806641,-6.1176629066467285,-5.866445064544678,-6.629759788513184,-6.7078094482421875,-6.658575057983398,-6.871633052825928,-7.185743808746338,-6.025105953216553,-5.07572078704834,-6.265199184417725,-6.257789134979248,-2.2872283458709717,-5.358058452606201,-3.5359249114990234,-3.157661199569702,-5.698343753814697,-3.365224599838257,-3.425245523452759,-2.5498666763305664,-4.150964736938477,-6.544485569000244,-2.433440685272217,-2.780640125274658,-4.911649227142334,-3.6939756870269775,-3.574906587600708,-3.6650495529174805,-2.965677499771118,-3.549649715423584,-2.8820950984954834,-4.79095458984375,-6.433640956878662,-2.6604480743408203,-6.5016937255859375,-5.573441028594971,-4.465446472167969,-3.405261516571045,-6.208555698394775,-4.952087879180908,-3.2032928466796875,-5.703106880187988,-4.738283157348633,-3.0388476848602295,-7.25649881362915,-7.138474941253662,-4.657545566558838,-3.5055129528045654,-6.537656784057617,-3.885435104370117,-5.505523204803467,-7.0396552085876465,-7.031129360198975,-4.555301666259766,-3.5946171283721924,-6.542727947235107,-4.623649597167969,-4.898073673248291,-6.795507907867432,-3.6549136638641357,-3.6049575805664062,-3.995727300643921,-3.8003602027893066,-4.8720879554748535,-2.2485547065734863,-2.481562376022339,-2.811246871948242,-2.699976921081543,-3.049257278442383,-3.51808500289917,-2.373605251312256,-2.7070472240448,-2.9051308631896973,-3.0619332790374756,-4.967892169952393,-4.997239589691162,-3.470092535018921,-3.046485185623169,-3.149527072906494,-4.595071315765381,-4.509324550628662,-3.096034526824951,-4.3364176750183105,-3.0837063789367676,-5.180665969848633,-5.3787431716918945,-5.506596565246582,-6.068438529968262,-5.508350372314453,-7.16807746887207,-5.5792717933654785,-3.596482515335083,-4.3418498039245605,-4.240635395050049,-6.196238040924072,-2.9684762954711914,-5.378686904907227,-4.555240154266357,-3.8523504734039307,-3.5364151000976562,-2.4569549560546875,-4.053952217102051,-4.493154525756836,-2.9998271465301514,-4.706744194030762,-3.211440324783325,-6.065605640411377,-4.123894691467285,-3.1152050495147705,-3.9762871265411377,-4.261791229248047,-4.7935895919799805,-2.053346633911133,-2.9939920902252197,-4.443966388702393,-2.442521333694458,-5.218520641326904,-3.396733283996582,-3.070803165435791,-5.653571128845215,-3.124244451522827,-3.6384384632110596,-5.316359519958496,-3.5211548805236816,-4.541559219360352,-5.951013565063477,-3.4546902179718018,-4.034090995788574,-2.781642436981201,-2.8191370964050293,-4.935451507568359,-3.282474994659424,-6.257078170776367,-3.472658157348633,-4.221214294433594,-4.843277931213379,-2.3019721508026123,-4.278007507324219,-2.793088674545288,-3.0037429332733154,-4.2070817947387695,-3.751417636871338,-5.944650650024414,-3.3657402992248535,-3.7017128467559814,-6.5555877685546875,-4.308321475982666,-3.799393653869629,-2.6341612339019775,-3.1156833171844482,-5.543095111846924,-3.1271138191223145,-2.5286996364593506,-4.626204490661621,-2.7823309898376465,-2.876631259918213,-4.2494354248046875,-4.0051960945129395,-3.1299984455108643,-3.3180551528930664,-3.6345326900482178,-4.800396919250488,-4.096463680267334,-5.305501461029053,-4.5965681076049805,-6.416428565979004,-5.998360633850098,-3.295461416244507,-5.2350287437438965,-3.9228060245513916,-3.2458791732788086,-5.014580249786377,-5.5207672119140625,-6.615492343902588,-4.5942511558532715,-4.934536933898926,-5.690508842468262,-7.097443103790283,-6.839605808258057,-6.251007080078125,-5.3170552253723145,-4.377694129943848,-3.0492959022521973,-5.851224899291992,-2.691594362258911,-6.023500442504883,-4.022664546966553,-4.885810852050781,-6.437404155731201,-6.074748992919922,-4.049581050872803,-6.991729259490967,-7.23675012588501,-7.125660419464111,-6.992501735687256,-3.419140338897705,-3.2410888671875,-3.1269617080688477,-6.5691304206848145,-4.820854187011719,-3.6586050987243652,-3.611781120300293,-5.9070587158203125,-7.10450553894043,-4.052321434020996,-3.551697254180908,-5.04310417175293,-3.167773485183716,-3.1142079830169678,-6.8785810470581055,-3.257096767425537,-6.965226650238037,-5.163374900817871,-6.329154968261719,-6.719883918762207,-6.589812278747559,-6.973803520202637,-5.037679195404053,-5.986494541168213,-5.049572467803955,-3.9094343185424805,-5.0193305015563965,-7.113134860992432,-5.961288928985596,-3.969273805618286,-5.4892897605896,-3.524880886077881,-3.2142934799194336,-4.9726762771606445,-3.416691541671753,-6.976896286010742,-7.120844841003418,-3.6453444957733154,-2.8342931270599365,-6.095024585723877],\"xaxis\":\"x\",\"y\":[5.523674011230469,4.540516376495361,4.400211811065674,5.001953601837158,2.9042022228240967,3.7906463146209717,4.951204299926758,2.457343339920044,5.197895050048828,2.3877291679382324,3.1544883251190186,4.562369346618652,1.8155803680419922,5.145055770874023,5.272268772125244,4.607120037078857,4.799183368682861,2.888101100921631,3.1232523918151855,3.9303441047668457,2.460496664047241,1.742140293121338,4.190145492553711,4.267423629760742,2.483996868133545,3.573662042617798,2.3341128826141357,3.841090202331543,3.3375155925750732,3.45174241065979,3.28402042388916,4.395196437835693,3.0132534503936768,3.2988040447235107,4.961310863494873,5.561472415924072,4.640279769897461,4.253394603729248,4.317433834075928,2.2486112117767334,3.042032480239868,6.004112720489502,2.6741244792938232,2.5863051414489746,4.994175910949707,3.679818868637085,5.338934898376465,2.8284125328063965,6.30402135848999,4.576938152313232,5.374125957489014,5.858950138092041,4.695307731628418,6.5447540283203125,5.71670389175415,5.86716365814209,6.270224094390869,6.206116676330566,6.045493125915527,5.980489730834961,5.891788005828857,5.074292182922363,5.358428478240967,5.74055290222168,4.282456398010254,4.797689437866211,5.965188980102539,4.471063613891602,2.5024890899658203,3.158363103866577,6.239196300506592,4.117445468902588,5.275728702545166,4.065588474273682,2.4486076831817627,1.5771061182022095,4.357477188110352,5.321951389312744,4.527338981628418,3.370562791824341,3.9505717754364014,3.7380950450897217,5.309771537780762,4.813490390777588,1.679782748222351,5.511341571807861,2.5553219318389893,2.6717352867126465,2.9213814735412598,4.374337673187256,4.488216876983643,5.556339740753174,6.2534098625183105,4.041776657104492,4.664481163024902,4.834867000579834,2.2213046550750732,2.9945428371429443,3.2450897693634033,2.8941054344177246,5.5170512199401855,3.825388193130493,3.2392542362213135,5.2078857421875,4.770679950714111,5.355630397796631,4.570144176483154,4.8770012855529785,4.580878257751465,5.104879379272461,4.981292247772217,6.31818151473999,5.490122318267822,4.6762542724609375,6.039700031280518,4.871486663818359,2.545973062515259,5.797135353088379,6.272180080413818,2.5900022983551025,5.112450122833252,2.6796114444732666,2.5744149684906006,3.3544673919677734,2.4395904541015625,1.7278839349746704,1.6176365613937378,3.116501808166504,3.4574294090270996,5.0845561027526855,5.93283224105835,3.4763083457946777,4.405452251434326,3.249342441558838,2.660985231399536,1.835687518119812,4.200418949127197,4.185279369354248,4.794910430908203,4.752894878387451,5.651275157928467,2.96921706199646,3.250800848007202,6.319637775421143,3.1180968284606934,3.933180093765259,3.190969944000244,2.8531196117401123,3.3571979999542236,4.594974517822266,2.414407730102539,4.978909969329834,1.899497628211975,4.511472225189209,3.726835250854492,3.538555860519409,2.2509775161743164,5.358422756195068,3.0068564414978027,4.479825973510742,4.850346088409424,4.2681145668029785,2.1060526371002197,4.20367431640625,5.988945960998535,5.700318813323975,2.735464572906494,2.4233036041259766,4.159243583679199,2.7864415645599365,3.187054395675659,5.9234442710876465,4.880627632141113,4.06135892868042,2.7713141441345215,3.545667886734009,5.0152387619018555,5.526970863342285,5.569484233856201,5.029723644256592,5.578887939453125,5.840642929077148,3.357011079788208,4.021237850189209,4.464132308959961,5.379012584686279,2.8948745727539062,4.799872398376465,3.3461997509002686,2.427523374557495,2.482095718383789,5.051394939422607,3.900930881500244,2.7862117290496826,5.505551815032959,5.642143726348877,3.6365244388580322,5.996884346008301,1.982805848121643,6.272589683532715,2.3777477741241455,1.95296311378479,3.905748128890991,5.396703243255615,5.867843151092529,5.508285045623779,5.816874980926514,5.2714385986328125,5.857912063598633,5.459350109100342,5.696621417999268,2.82820987701416,5.698826789855957,5.184980869293213,5.488790512084961,4.522881984710693,3.7798428535461426,2.9084107875823975,3.8517446517944336,4.006482124328613,5.6397385597229,2.2674286365509033,3.710763454437256,3.516982078552246,3.776695966720581,2.991584300994873,1.9240901470184326,5.565889358520508,3.2024781703948975,3.4620516300201416,3.090437412261963,5.1621479988098145,5.833422660827637,4.489515781402588,5.241169452667236,5.026547908782959,2.9322519302368164,3.157186985015869,3.5879671573638916,2.595777750015259,5.1125969886779785,5.223608016967773,5.26050329208374,2.77885103225708,2.3438310623168945,3.8730533123016357,3.679171323776245,2.1066830158233643,3.9958884716033936,3.8954951763153076,3.6577672958374023,3.692359447479248,4.133286476135254,2.1523754596710205,3.05665922164917,4.0164289474487305,3.047177791595459,2.0212514400482178,2.202333927154541,4.174924373626709,3.308711528778076,2.701690196990967,2.96026349067688,5.080738544464111,6.170446872711182,6.2492523193359375,3.8834869861602783,6.291173458099365,3.4013257026672363,4.642879962921143,3.1506664752960205,5.778825283050537,3.2189269065856934,4.336261749267578,5.1627373695373535,4.753876686096191,4.9454851150512695,5.819751262664795,5.878899097442627,4.353902339935303,4.417938709259033,2.355923891067505,5.260274887084961,5.371841907501221,2.773015022277832,2.270763874053955,5.444602012634277,3.819606304168701,3.3067374229431152,2.1670963764190674,2.160343885421753,2.7083051204681396],\"yaxis\":\"y\",\"type\":\"scatter\"}],                        {\"template\":{\"data\":{\"histogram2dcontour\":[{\"type\":\"histogram2dcontour\",\"colorbar\":{\"outlinewidth\":0,\"ticks\":\"\"},\"colorscale\":[[0.0,\"#0d0887\"],[0.1111111111111111,\"#46039f\"],[0.2222222222222222,\"#7201a8\"],[0.3333333333333333,\"#9c179e\"],[0.4444444444444444,\"#bd3786\"],[0.5555555555555556,\"#d8576b\"],[0.6666666666666666,\"#ed7953\"],[0.7777777777777778,\"#fb9f3a\"],[0.8888888888888888,\"#fdca26\"],[1.0,\"#f0f921\"]]}],\"choropleth\":[{\"type\":\"choropleth\",\"colorbar\":{\"outlinewidth\":0,\"ticks\":\"\"}}],\"histogram2d\":[{\"type\":\"histogram2d\",\"colorbar\":{\"outlinewidth\":0,\"ticks\":\"\"},\"colorscale\":[[0.0,\"#0d0887\"],[0.1111111111111111,\"#46039f\"],[0.2222222222222222,\"#7201a8\"],[0.3333333333333333,\"#9c179e\"],[0.4444444444444444,\"#bd3786\"],[0.5555555555555556,\"#d8576b\"],[0.6666666666666666,\"#ed7953\"],[0.7777777777777778,\"#fb9f3a\"],[0.8888888888888888,\"#fdca26\"],[1.0,\"#f0f921\"]]}],\"heatmap\":[{\"type\":\"heatmap\",\"colorbar\":{\"outlinewidth\":0,\"ticks\":\"\"},\"colorscale\":[[0.0,\"#0d0887\"],[0.1111111111111111,\"#46039f\"],[0.2222222222222222,\"#7201a8\"],[0.3333333333333333,\"#9c179e\"],[0.4444444444444444,\"#bd3786\"],[0.5555555555555556,\"#d8576b\"],[0.6666666666666666,\"#ed7953\"],[0.7777777777777778,\"#fb9f3a\"],[0.8888888888888888,\"#fdca26\"],[1.0,\"#f0f921\"]]}],\"heatmapgl\":[{\"type\":\"heatmapgl\",\"colorbar\":{\"outlinewidth\":0,\"ticks\":\"\"},\"colorscale\":[[0.0,\"#0d0887\"],[0.1111111111111111,\"#46039f\"],[0.2222222222222222,\"#7201a8\"],[0.3333333333333333,\"#9c179e\"],[0.4444444444444444,\"#bd3786\"],[0.5555555555555556,\"#d8576b\"],[0.6666666666666666,\"#ed7953\"],[0.7777777777777778,\"#fb9f3a\"],[0.8888888888888888,\"#fdca26\"],[1.0,\"#f0f921\"]]}],\"contourcarpet\":[{\"type\":\"contourcarpet\",\"colorbar\":{\"outlinewidth\":0,\"ticks\":\"\"}}],\"contour\":[{\"type\":\"contour\",\"colorbar\":{\"outlinewidth\":0,\"ticks\":\"\"},\"colorscale\":[[0.0,\"#0d0887\"],[0.1111111111111111,\"#46039f\"],[0.2222222222222222,\"#7201a8\"],[0.3333333333333333,\"#9c179e\"],[0.4444444444444444,\"#bd3786\"],[0.5555555555555556,\"#d8576b\"],[0.6666666666666666,\"#ed7953\"],[0.7777777777777778,\"#fb9f3a\"],[0.8888888888888888,\"#fdca26\"],[1.0,\"#f0f921\"]]}],\"surface\":[{\"type\":\"surface\",\"colorbar\":{\"outlinewidth\":0,\"ticks\":\"\"},\"colorscale\":[[0.0,\"#0d0887\"],[0.1111111111111111,\"#46039f\"],[0.2222222222222222,\"#7201a8\"],[0.3333333333333333,\"#9c179e\"],[0.4444444444444444,\"#bd3786\"],[0.5555555555555556,\"#d8576b\"],[0.6666666666666666,\"#ed7953\"],[0.7777777777777778,\"#fb9f3a\"],[0.8888888888888888,\"#fdca26\"],[1.0,\"#f0f921\"]]}],\"mesh3d\":[{\"type\":\"mesh3d\",\"colorbar\":{\"outlinewidth\":0,\"ticks\":\"\"}}],\"scatter\":[{\"fillpattern\":{\"fillmode\":\"overlay\",\"size\":10,\"solidity\":0.2},\"type\":\"scatter\"}],\"parcoords\":[{\"type\":\"parcoords\",\"line\":{\"colorbar\":{\"outlinewidth\":0,\"ticks\":\"\"}}}],\"scatterpolargl\":[{\"type\":\"scatterpolargl\",\"marker\":{\"colorbar\":{\"outlinewidth\":0,\"ticks\":\"\"}}}],\"bar\":[{\"error_x\":{\"color\":\"#2a3f5f\"},\"error_y\":{\"color\":\"#2a3f5f\"},\"marker\":{\"line\":{\"color\":\"#E5ECF6\",\"width\":0.5},\"pattern\":{\"fillmode\":\"overlay\",\"size\":10,\"solidity\":0.2}},\"type\":\"bar\"}],\"scattergeo\":[{\"type\":\"scattergeo\",\"marker\":{\"colorbar\":{\"outlinewidth\":0,\"ticks\":\"\"}}}],\"scatterpolar\":[{\"type\":\"scatterpolar\",\"marker\":{\"colorbar\":{\"outlinewidth\":0,\"ticks\":\"\"}}}],\"histogram\":[{\"marker\":{\"pattern\":{\"fillmode\":\"overlay\",\"size\":10,\"solidity\":0.2}},\"type\":\"histogram\"}],\"scattergl\":[{\"type\":\"scattergl\",\"marker\":{\"colorbar\":{\"outlinewidth\":0,\"ticks\":\"\"}}}],\"scatter3d\":[{\"type\":\"scatter3d\",\"line\":{\"colorbar\":{\"outlinewidth\":0,\"ticks\":\"\"}},\"marker\":{\"colorbar\":{\"outlinewidth\":0,\"ticks\":\"\"}}}],\"scattermapbox\":[{\"type\":\"scattermapbox\",\"marker\":{\"colorbar\":{\"outlinewidth\":0,\"ticks\":\"\"}}}],\"scatterternary\":[{\"type\":\"scatterternary\",\"marker\":{\"colorbar\":{\"outlinewidth\":0,\"ticks\":\"\"}}}],\"scattercarpet\":[{\"type\":\"scattercarpet\",\"marker\":{\"colorbar\":{\"outlinewidth\":0,\"ticks\":\"\"}}}],\"carpet\":[{\"aaxis\":{\"endlinecolor\":\"#2a3f5f\",\"gridcolor\":\"white\",\"linecolor\":\"white\",\"minorgridcolor\":\"white\",\"startlinecolor\":\"#2a3f5f\"},\"baxis\":{\"endlinecolor\":\"#2a3f5f\",\"gridcolor\":\"white\",\"linecolor\":\"white\",\"minorgridcolor\":\"white\",\"startlinecolor\":\"#2a3f5f\"},\"type\":\"carpet\"}],\"table\":[{\"cells\":{\"fill\":{\"color\":\"#EBF0F8\"},\"line\":{\"color\":\"white\"}},\"header\":{\"fill\":{\"color\":\"#C8D4E3\"},\"line\":{\"color\":\"white\"}},\"type\":\"table\"}],\"barpolar\":[{\"marker\":{\"line\":{\"color\":\"#E5ECF6\",\"width\":0.5},\"pattern\":{\"fillmode\":\"overlay\",\"size\":10,\"solidity\":0.2}},\"type\":\"barpolar\"}],\"pie\":[{\"automargin\":true,\"type\":\"pie\"}]},\"layout\":{\"autotypenumbers\":\"strict\",\"colorway\":[\"#636efa\",\"#EF553B\",\"#00cc96\",\"#ab63fa\",\"#FFA15A\",\"#19d3f3\",\"#FF6692\",\"#B6E880\",\"#FF97FF\",\"#FECB52\"],\"font\":{\"color\":\"#2a3f5f\"},\"hovermode\":\"closest\",\"hoverlabel\":{\"align\":\"left\"},\"paper_bgcolor\":\"white\",\"plot_bgcolor\":\"#E5ECF6\",\"polar\":{\"bgcolor\":\"#E5ECF6\",\"angularaxis\":{\"gridcolor\":\"white\",\"linecolor\":\"white\",\"ticks\":\"\"},\"radialaxis\":{\"gridcolor\":\"white\",\"linecolor\":\"white\",\"ticks\":\"\"}},\"ternary\":{\"bgcolor\":\"#E5ECF6\",\"aaxis\":{\"gridcolor\":\"white\",\"linecolor\":\"white\",\"ticks\":\"\"},\"baxis\":{\"gridcolor\":\"white\",\"linecolor\":\"white\",\"ticks\":\"\"},\"caxis\":{\"gridcolor\":\"white\",\"linecolor\":\"white\",\"ticks\":\"\"}},\"coloraxis\":{\"colorbar\":{\"outlinewidth\":0,\"ticks\":\"\"}},\"colorscale\":{\"sequential\":[[0.0,\"#0d0887\"],[0.1111111111111111,\"#46039f\"],[0.2222222222222222,\"#7201a8\"],[0.3333333333333333,\"#9c179e\"],[0.4444444444444444,\"#bd3786\"],[0.5555555555555556,\"#d8576b\"],[0.6666666666666666,\"#ed7953\"],[0.7777777777777778,\"#fb9f3a\"],[0.8888888888888888,\"#fdca26\"],[1.0,\"#f0f921\"]],\"sequentialminus\":[[0.0,\"#0d0887\"],[0.1111111111111111,\"#46039f\"],[0.2222222222222222,\"#7201a8\"],[0.3333333333333333,\"#9c179e\"],[0.4444444444444444,\"#bd3786\"],[0.5555555555555556,\"#d8576b\"],[0.6666666666666666,\"#ed7953\"],[0.7777777777777778,\"#fb9f3a\"],[0.8888888888888888,\"#fdca26\"],[1.0,\"#f0f921\"]],\"diverging\":[[0,\"#8e0152\"],[0.1,\"#c51b7d\"],[0.2,\"#de77ae\"],[0.3,\"#f1b6da\"],[0.4,\"#fde0ef\"],[0.5,\"#f7f7f7\"],[0.6,\"#e6f5d0\"],[0.7,\"#b8e186\"],[0.8,\"#7fbc41\"],[0.9,\"#4d9221\"],[1,\"#276419\"]]},\"xaxis\":{\"gridcolor\":\"white\",\"linecolor\":\"white\",\"ticks\":\"\",\"title\":{\"standoff\":15},\"zerolinecolor\":\"white\",\"automargin\":true,\"zerolinewidth\":2},\"yaxis\":{\"gridcolor\":\"white\",\"linecolor\":\"white\",\"ticks\":\"\",\"title\":{\"standoff\":15},\"zerolinecolor\":\"white\",\"automargin\":true,\"zerolinewidth\":2},\"scene\":{\"xaxis\":{\"backgroundcolor\":\"#E5ECF6\",\"gridcolor\":\"white\",\"linecolor\":\"white\",\"showbackground\":true,\"ticks\":\"\",\"zerolinecolor\":\"white\",\"gridwidth\":2},\"yaxis\":{\"backgroundcolor\":\"#E5ECF6\",\"gridcolor\":\"white\",\"linecolor\":\"white\",\"showbackground\":true,\"ticks\":\"\",\"zerolinecolor\":\"white\",\"gridwidth\":2},\"zaxis\":{\"backgroundcolor\":\"#E5ECF6\",\"gridcolor\":\"white\",\"linecolor\":\"white\",\"showbackground\":true,\"ticks\":\"\",\"zerolinecolor\":\"white\",\"gridwidth\":2}},\"shapedefaults\":{\"line\":{\"color\":\"#2a3f5f\"}},\"annotationdefaults\":{\"arrowcolor\":\"#2a3f5f\",\"arrowhead\":0,\"arrowwidth\":1},\"geo\":{\"bgcolor\":\"white\",\"landcolor\":\"#E5ECF6\",\"subunitcolor\":\"white\",\"showland\":true,\"showlakes\":true,\"lakecolor\":\"white\"},\"title\":{\"x\":0.05},\"mapbox\":{\"style\":\"light\"}}},\"xaxis\":{\"anchor\":\"y\",\"domain\":[0.0,1.0],\"title\":{\"text\":\"0\"}},\"yaxis\":{\"anchor\":\"x\",\"domain\":[0.0,1.0],\"title\":{\"text\":\"1\"}},\"coloraxis\":{\"colorbar\":{\"title\":{\"text\":\"color\"}},\"colorscale\":[[0.0,\"#0d0887\"],[0.1111111111111111,\"#46039f\"],[0.2222222222222222,\"#7201a8\"],[0.3333333333333333,\"#9c179e\"],[0.4444444444444444,\"#bd3786\"],[0.5555555555555556,\"#d8576b\"],[0.6666666666666666,\"#ed7953\"],[0.7777777777777778,\"#fb9f3a\"],[0.8888888888888888,\"#fdca26\"],[1.0,\"#f0f921\"]]},\"legend\":{\"tracegroupgap\":0},\"margin\":{\"t\":60}},                        {\"responsive\": true}                    ).then(function(){\n",
       "                            \n",
       "var gd = document.getElementById('cc46047c-d063-4300-8365-9245190c2289');\n",
       "var x = new MutationObserver(function (mutations, observer) {{\n",
       "        var display = window.getComputedStyle(gd).display;\n",
       "        if (!display || display === 'none') {{\n",
       "            console.log([gd, 'removed!']);\n",
       "            Plotly.purge(gd);\n",
       "            observer.disconnect();\n",
       "        }}\n",
       "}});\n",
       "\n",
       "// Listen for the removal of the full notebook cells\n",
       "var notebookContainer = gd.closest('#notebook-container');\n",
       "if (notebookContainer) {{\n",
       "    x.observe(notebookContainer, {childList: true});\n",
       "}}\n",
       "\n",
       "// Listen for the clearing of the current output cell\n",
       "var outputEl = gd.closest('.output');\n",
       "if (outputEl) {{\n",
       "    x.observe(outputEl, {childList: true});\n",
       "}}\n",
       "\n",
       "                        })                };                });            </script>        </div>"
      ]
     },
     "metadata": {},
     "output_type": "display_data"
    }
   ],
   "source": [
    "from umap import UMAP\n",
    "import plotly.express as px\n",
    "\n",
    "umap_2d = UMAP(n_components=2, init='random', random_state=0)\n",
    "\n",
    "proj_2d = umap_2d.fit_transform(X)\n",
    "\n",
    "fig_2d = px.scatter(\n",
    "    proj_2d, x=0, y=1,\n",
    "    color=y\n",
    ")\n",
    "\n",
    "fig_2d.show()\n"
   ]
  },
  {
   "cell_type": "code",
   "execution_count": 181,
   "metadata": {},
   "outputs": [
    {
     "data": {
      "image/png": "[encoded data removed]",
      "text/plain": [
       "<Figure size 640x480 with 1 Axes>"
      ]
     },
     "metadata": {},
     "output_type": "display_data"
    }
   ],
   "source": [
    "from sklearn.manifold import TSNE\n",
    "# Assuming your data is stored in the variable 'data'\n",
    "tsne = TSNE(n_components=2)\n",
    "embedded_data = tsne.fit_transform(X)\n",
    "\n",
    "# Step 2: Separate data points by class\n",
    "class_1_indices = np.where(y == 0)[0]\n",
    "class_2_indices = np.where(y == 1)[0]\n",
    "\n",
    "class_1_data = embedded_data[class_1_indices]\n",
    "class_2_data = embedded_data[class_2_indices]\n",
    "\n",
    "# Step 3: Plot the t-SNE plot with different colors for each class\n",
    "plt.scatter(class_1_data[:, 0], class_1_data[:, 1], color='red', label='Not death')\n",
    "plt.scatter(class_2_data[:, 0], class_2_data[:, 1], color='blue', label='death')\n",
    "\n",
    "plt.title('t-SNE Plot')\n",
    "plt.xlabel('Dimension 1')\n",
    "plt.ylabel('Dimension 2')\n",
    "plt.legend()\n",
    "plt.show()"
   ]
  },
  {
   "cell_type": "code",
   "execution_count": 195,
   "metadata": {},
   "outputs": [],
   "source": [
    "from sklearn.ensemble import RandomForestClassifier\n",
    "from sklearn.model_selection import GridSearchCV\n",
    "\n",
    "model=RandomForestClassifier(random_state=42)\n",
    "\n",
    "# defining parameter range\n",
    "param_grid = { \n",
    "    'max_features': ['auto', 'sqrt', 'log2'],\n",
    "    'max_depth' : [10,12,14,16,20],\n",
    "    'criterion' :['gini', 'entropy']\n",
    "}"
   ]
  },
  {
   "cell_type": "code",
   "execution_count": 183,
   "metadata": {},
   "outputs": [],
   "source": [
    "# from sklearn.linear_model import RidgeClassifier\n",
    "# model=RidgeClassifier()\n",
    "# param_grid = {'alpha':[0.001,0.01,0.1,1 ]}"
   ]
  },
  {
   "cell_type": "code",
   "execution_count": null,
   "metadata": {},
   "outputs": [],
   "source": []
  },
  {
   "cell_type": "code",
   "execution_count": 192,
   "metadata": {},
   "outputs": [],
   "source": [
    "# model = xgb.XGBClassifier(random_state=42)\n",
    "\n",
    "# # Defining parameter range\n",
    "# param_grid = {\n",
    "#     'max_depth': [3],\n",
    "#     'learning_rate': [0.1 ,0.01, 0.001],\n",
    "#     'n_estimators': [100],\n",
    "#     'gamma': [ 0.1,0.01,0.001],\n",
    "#     'subsample': [0.8, 1.0],\n",
    "#     'colsample_bytree': [ 0.5, 0.8]\n",
    "# }"
   ]
  },
  {
   "cell_type": "code",
   "execution_count": 196,
   "metadata": {},
   "outputs": [
    {
     "name": "stdout",
     "output_type": "stream",
     "text": [
      "Fitting 5 folds for each of 30 candidates, totalling 150 fits\n",
      "              precision    recall  f1-score   support\n",
      "\n",
      "         0.0       0.76      0.78      0.77        78\n",
      "         1.0       0.54      0.51      0.53        39\n",
      "\n",
      "    accuracy                           0.69       117\n",
      "   macro avg       0.65      0.65      0.65       117\n",
      "weighted avg       0.69      0.69      0.69       117\n",
      "\n"
     ]
    }
   ],
   "source": [
    "grid = GridSearchCV(model, param_grid, refit = True, verbose = 1)\n",
    "  \n",
    "# fitting the model for grid search\n",
    "grid.fit(X_train, y_train)\n",
    "from sklearn.metrics import classification_report, confusion_matrix\n",
    "grid_predictions = grid.predict(X_test)\n",
    "print(classification_report(y_test, grid_predictions))"
   ]
  },
  {
   "cell_type": "code",
   "execution_count": 186,
   "metadata": {},
   "outputs": [],
   "source": [
    "def roc(X_train,y_train,model,label):\n",
    "    cv = StratifiedKFold(n_splits=6)\n",
    "    classifier = model\n",
    "    tprs = []\n",
    "    aucs = []\n",
    "    mean_fpr = np.linspace(0, 1, 100)\n",
    "\n",
    "    fig, ax = plt.subplots(figsize=(6, 6))\n",
    "    for fold, (train, test) in enumerate(cv.split(X_train, y_train)):\n",
    "        classifier.fit(X_train.iloc[train], y_train[train])\n",
    "        viz = RocCurveDisplay.from_estimator(\n",
    "            classifier,\n",
    "            X_train.iloc[test],\n",
    "            y_train[test],\n",
    "            name=f\"ROC fold {fold}\",\n",
    "            alpha=0.3,\n",
    "            lw=1,\n",
    "            ax=ax,\n",
    "        )\n",
    "        interp_tpr = np.interp(mean_fpr, viz.fpr, viz.tpr)\n",
    "        interp_tpr[0] = 0.0\n",
    "        tprs.append(interp_tpr)\n",
    "        aucs.append(viz.roc_auc)\n",
    "    ax.plot([0, 1], [0, 1], \"k--\", label=\"chance level (AUC = 0.5)\")\n",
    "\n",
    "    mean_tpr = np.mean(tprs, axis=0)\n",
    "    mean_tpr[-1] = 1.0\n",
    "    mean_auc = auc(mean_fpr, mean_tpr)\n",
    "    std_auc = np.std(aucs)\n",
    "    ax.plot(\n",
    "        mean_fpr,\n",
    "        mean_tpr,\n",
    "        color=\"b\",\n",
    "        label=r\"Mean ROC (AUC = %0.2f $\\pm$ %0.2f)\" % (mean_auc, std_auc),\n",
    "        lw=2,\n",
    "        alpha=0.8,\n",
    "    )\n",
    "\n",
    "    std_tpr = np.std(tprs, axis=0)\n",
    "    tprs_upper = np.minimum(mean_tpr + std_tpr, 1)\n",
    "    tprs_lower = np.maximum(mean_tpr - std_tpr, 0)\n",
    "    ax.fill_between(\n",
    "        mean_fpr,\n",
    "        tprs_lower,\n",
    "        tprs_upper,\n",
    "        color=\"grey\",\n",
    "        alpha=0.2,\n",
    "        label=r\"$\\pm$ 1 std. dev.\",\n",
    "    )\n",
    "\n",
    "    ax.set(\n",
    "        xlim=[-0.05, 1.05],\n",
    "        ylim=[-0.05, 1.05],\n",
    "        xlabel=\"False Positive Rate\",\n",
    "        ylabel=\"True Positive Rate\",\n",
    "        title=label,\n",
    "    )\n",
    "    ax.axis(\"square\")\n",
    "    ax.legend(loc=\"lower right\")\n",
    "    plt.show()\n"
   ]
  },
  {
   "cell_type": "code",
   "execution_count": 187,
   "metadata": {},
   "outputs": [
    {
     "data": {
      "text/html": [
       "<style>#sk-container-id-15 {color: black;background-color: white;}#sk-container-id-15 pre{padding: 0;}#sk-container-id-15 div.sk-toggleable {background-color: white;}#sk-container-id-15 label.sk-toggleable__label {cursor: pointer;display: block;width: 100%;margin-bottom: 0;padding: 0.3em;box-sizing: border-box;text-align: center;}#sk-container-id-15 label.sk-toggleable__label-arrow:before {content: \"▸\";float: left;margin-right: 0.25em;color: #696969;}#sk-container-id-15 label.sk-toggleable__label-arrow:hover:before {color: black;}#sk-container-id-15 div.sk-estimator:hover label.sk-toggleable__label-arrow:before {color: black;}#sk-container-id-15 div.sk-toggleable__content {max-height: 0;max-width: 0;overflow: hidden;text-align: left;background-color: #f0f8ff;}#sk-container-id-15 div.sk-toggleable__content pre {margin: 0.2em;color: black;border-radius: 0.25em;background-color: #f0f8ff;}#sk-container-id-15 input.sk-toggleable__control:checked~div.sk-toggleable__content {max-height: 200px;max-width: 100%;overflow: auto;}#sk-container-id-15 input.sk-toggleable__control:checked~label.sk-toggleable__label-arrow:before {content: \"▾\";}#sk-container-id-15 div.sk-estimator input.sk-toggleable__control:checked~label.sk-toggleable__label {background-color: #d4ebff;}#sk-container-id-15 div.sk-label input.sk-toggleable__control:checked~label.sk-toggleable__label {background-color: #d4ebff;}#sk-container-id-15 input.sk-hidden--visually {border: 0;clip: rect(1px 1px 1px 1px);clip: rect(1px, 1px, 1px, 1px);height: 1px;margin: -1px;overflow: hidden;padding: 0;position: absolute;width: 1px;}#sk-container-id-15 div.sk-estimator {font-family: monospace;background-color: #f0f8ff;border: 1px dotted black;border-radius: 0.25em;box-sizing: border-box;margin-bottom: 0.5em;}#sk-container-id-15 div.sk-estimator:hover {background-color: #d4ebff;}#sk-container-id-15 div.sk-parallel-item::after {content: \"\";width: 100%;border-bottom: 1px solid gray;flex-grow: 1;}#sk-container-id-15 div.sk-label:hover label.sk-toggleable__label {background-color: #d4ebff;}#sk-container-id-15 div.sk-serial::before {content: \"\";position: absolute;border-left: 1px solid gray;box-sizing: border-box;top: 0;bottom: 0;left: 50%;z-index: 0;}#sk-container-id-15 div.sk-serial {display: flex;flex-direction: column;align-items: center;background-color: white;padding-right: 0.2em;padding-left: 0.2em;position: relative;}#sk-container-id-15 div.sk-item {position: relative;z-index: 1;}#sk-container-id-15 div.sk-parallel {display: flex;align-items: stretch;justify-content: center;background-color: white;position: relative;}#sk-container-id-15 div.sk-item::before, #sk-container-id-15 div.sk-parallel-item::before {content: \"\";position: absolute;border-left: 1px solid gray;box-sizing: border-box;top: 0;bottom: 0;left: 50%;z-index: -1;}#sk-container-id-15 div.sk-parallel-item {display: flex;flex-direction: column;z-index: 1;position: relative;background-color: white;}#sk-container-id-15 div.sk-parallel-item:first-child::after {align-self: flex-end;width: 50%;}#sk-container-id-15 div.sk-parallel-item:last-child::after {align-self: flex-start;width: 50%;}#sk-container-id-15 div.sk-parallel-item:only-child::after {width: 0;}#sk-container-id-15 div.sk-dashed-wrapped {border: 1px dashed gray;margin: 0 0.4em 0.5em 0.4em;box-sizing: border-box;padding-bottom: 0.4em;background-color: white;}#sk-container-id-15 div.sk-label label {font-family: monospace;font-weight: bold;display: inline-block;line-height: 1.2em;}#sk-container-id-15 div.sk-label-container {text-align: center;}#sk-container-id-15 div.sk-container {/* jupyter's `normalize.less` sets `[hidden] { display: none; }` but bootstrap.min.css set `[hidden] { display: none !important; }` so we also need the `!important` here to be able to override the default hidden behavior on the sphinx rendered scikit-learn.org. See: https://github.com/scikit-learn/scikit-learn/issues/21755 */display: inline-block !important;position: relative;}#sk-container-id-15 div.sk-text-repr-fallback {display: none;}</style><div id=\"sk-container-id-15\" class=\"sk-top-container\"><div class=\"sk-text-repr-fallback\"><pre>RandomForestClassifier(random_state=42)</pre><b>In a Jupyter environment, please rerun this cell to show the HTML representation or trust the notebook. <br />On GitHub, the HTML representation is unable to render, please try loading this page with nbviewer.org.</b></div><div class=\"sk-container\" hidden><div class=\"sk-item\"><div class=\"sk-estimator sk-toggleable\"><input class=\"sk-toggleable__control sk-hidden--visually\" id=\"sk-estimator-id-15\" type=\"checkbox\" checked><label for=\"sk-estimator-id-15\" class=\"sk-toggleable__label sk-toggleable__label-arrow\">RandomForestClassifier</label><div class=\"sk-toggleable__content\"><pre>RandomForestClassifier(random_state=42)</pre></div></div></div></div></div>"
      ],
      "text/plain": [
       "RandomForestClassifier(random_state=42)"
      ]
     },
     "execution_count": 187,
     "metadata": {},
     "output_type": "execute_result"
    }
   ],
   "source": [
    "model"
   ]
  },
  {
   "cell_type": "code",
   "execution_count": 188,
   "metadata": {},
   "outputs": [
    {
     "data": {
      "image/png": "[encoded data removed]",
      "text/plain": [
       "<Figure size 600x600 with 1 Axes>"
      ]
     },
     "metadata": {},
     "output_type": "display_data"
    }
   ],
   "source": [
    "model = grid.best_estimator_\n",
    "label=\"ROC curve of testing data\"\n",
    "X_test = pd.DataFrame(X_test)\n",
    "roc(X_test,y_test,model,label)"
   ]
  },
  {
   "cell_type": "code",
   "execution_count": 189,
   "metadata": {},
   "outputs": [
    {
     "data": {
      "text/html": [
       "<style>#sk-container-id-16 {color: black;background-color: white;}#sk-container-id-16 pre{padding: 0;}#sk-container-id-16 div.sk-toggleable {background-color: white;}#sk-container-id-16 label.sk-toggleable__label {cursor: pointer;display: block;width: 100%;margin-bottom: 0;padding: 0.3em;box-sizing: border-box;text-align: center;}#sk-container-id-16 label.sk-toggleable__label-arrow:before {content: \"▸\";float: left;margin-right: 0.25em;color: #696969;}#sk-container-id-16 label.sk-toggleable__label-arrow:hover:before {color: black;}#sk-container-id-16 div.sk-estimator:hover label.sk-toggleable__label-arrow:before {color: black;}#sk-container-id-16 div.sk-toggleable__content {max-height: 0;max-width: 0;overflow: hidden;text-align: left;background-color: #f0f8ff;}#sk-container-id-16 div.sk-toggleable__content pre {margin: 0.2em;color: black;border-radius: 0.25em;background-color: #f0f8ff;}#sk-container-id-16 input.sk-toggleable__control:checked~div.sk-toggleable__content {max-height: 200px;max-width: 100%;overflow: auto;}#sk-container-id-16 input.sk-toggleable__control:checked~label.sk-toggleable__label-arrow:before {content: \"▾\";}#sk-container-id-16 div.sk-estimator input.sk-toggleable__control:checked~label.sk-toggleable__label {background-color: #d4ebff;}#sk-container-id-16 div.sk-label input.sk-toggleable__control:checked~label.sk-toggleable__label {background-color: #d4ebff;}#sk-container-id-16 input.sk-hidden--visually {border: 0;clip: rect(1px 1px 1px 1px);clip: rect(1px, 1px, 1px, 1px);height: 1px;margin: -1px;overflow: hidden;padding: 0;position: absolute;width: 1px;}#sk-container-id-16 div.sk-estimator {font-family: monospace;background-color: #f0f8ff;border: 1px dotted black;border-radius: 0.25em;box-sizing: border-box;margin-bottom: 0.5em;}#sk-container-id-16 div.sk-estimator:hover {background-color: #d4ebff;}#sk-container-id-16 div.sk-parallel-item::after {content: \"\";width: 100%;border-bottom: 1px solid gray;flex-grow: 1;}#sk-container-id-16 div.sk-label:hover label.sk-toggleable__label {background-color: #d4ebff;}#sk-container-id-16 div.sk-serial::before {content: \"\";position: absolute;border-left: 1px solid gray;box-sizing: border-box;top: 0;bottom: 0;left: 50%;z-index: 0;}#sk-container-id-16 div.sk-serial {display: flex;flex-direction: column;align-items: center;background-color: white;padding-right: 0.2em;padding-left: 0.2em;position: relative;}#sk-container-id-16 div.sk-item {position: relative;z-index: 1;}#sk-container-id-16 div.sk-parallel {display: flex;align-items: stretch;justify-content: center;background-color: white;position: relative;}#sk-container-id-16 div.sk-item::before, #sk-container-id-16 div.sk-parallel-item::before {content: \"\";position: absolute;border-left: 1px solid gray;box-sizing: border-box;top: 0;bottom: 0;left: 50%;z-index: -1;}#sk-container-id-16 div.sk-parallel-item {display: flex;flex-direction: column;z-index: 1;position: relative;background-color: white;}#sk-container-id-16 div.sk-parallel-item:first-child::after {align-self: flex-end;width: 50%;}#sk-container-id-16 div.sk-parallel-item:last-child::after {align-self: flex-start;width: 50%;}#sk-container-id-16 div.sk-parallel-item:only-child::after {width: 0;}#sk-container-id-16 div.sk-dashed-wrapped {border: 1px dashed gray;margin: 0 0.4em 0.5em 0.4em;box-sizing: border-box;padding-bottom: 0.4em;background-color: white;}#sk-container-id-16 div.sk-label label {font-family: monospace;font-weight: bold;display: inline-block;line-height: 1.2em;}#sk-container-id-16 div.sk-label-container {text-align: center;}#sk-container-id-16 div.sk-container {/* jupyter's `normalize.less` sets `[hidden] { display: none; }` but bootstrap.min.css set `[hidden] { display: none !important; }` so we also need the `!important` here to be able to override the default hidden behavior on the sphinx rendered scikit-learn.org. See: https://github.com/scikit-learn/scikit-learn/issues/21755 */display: inline-block !important;position: relative;}#sk-container-id-16 div.sk-text-repr-fallback {display: none;}</style><div id=\"sk-container-id-16\" class=\"sk-top-container\"><div class=\"sk-text-repr-fallback\"><pre>RandomForestClassifier(max_depth=10, max_features=&#x27;auto&#x27;, random_state=42)</pre><b>In a Jupyter environment, please rerun this cell to show the HTML representation or trust the notebook. <br />On GitHub, the HTML representation is unable to render, please try loading this page with nbviewer.org.</b></div><div class=\"sk-container\" hidden><div class=\"sk-item\"><div class=\"sk-estimator sk-toggleable\"><input class=\"sk-toggleable__control sk-hidden--visually\" id=\"sk-estimator-id-16\" type=\"checkbox\" checked><label for=\"sk-estimator-id-16\" class=\"sk-toggleable__label sk-toggleable__label-arrow\">RandomForestClassifier</label><div class=\"sk-toggleable__content\"><pre>RandomForestClassifier(max_depth=10, max_features=&#x27;auto&#x27;, random_state=42)</pre></div></div></div></div></div>"
      ],
      "text/plain": [
       "RandomForestClassifier(max_depth=10, max_features='auto', random_state=42)"
      ]
     },
     "execution_count": 189,
     "metadata": {},
     "output_type": "execute_result"
    }
   ],
   "source": [
    "model_RF = grid.best_estimator_\n",
    "model_RF.fit(X_train,y_train)"
   ]
  },
  {
   "cell_type": "code",
   "execution_count": 190,
   "metadata": {},
   "outputs": [],
   "source": [
    "# for important features:\n",
    "important_feat = model_RF.feature_importances_\n",
    "#get indices of those important features\n",
    "idx = important_feat.argsort(kind= \"quicksort\")\n",
    "idx= idx[::-1][:18]"
   ]
  },
  {
   "cell_type": "code",
   "execution_count": 191,
   "metadata": {},
   "outputs": [
    {
     "data": {
      "text/plain": [
       "83     ENSG00000124831\n",
       "166    ENSG00000143772\n",
       "76     ENSG00000123610\n",
       "67     ENSG00000118729\n",
       "157    ENSG00000141873\n",
       "58     ENSG00000115266\n",
       "167    ENSG00000143951\n",
       "165    ENSG00000143409\n",
       "121    ENSG00000135144\n",
       "215    ENSG00000157869\n",
       "22     ENSG00000078795\n",
       "176    ENSG00000146085\n",
       "88     ENSG00000126432\n",
       "6      ENSG00000048052\n",
       "4      ENSG00000037749\n",
       "149    ENSG00000139323\n",
       "162    ENSG00000143067\n",
       "214    ENSG00000157637\n",
       "Name: genes, dtype: object"
      ]
     },
     "execution_count": 191,
     "metadata": {},
     "output_type": "execute_result"
    }
   ],
   "source": [
    "genes_ensemble_id[idx]"
   ]
  },
  {
   "attachments": {},
   "cell_type": "markdown",
   "metadata": {},
   "source": [
    "ENSG00000184697\n",
    "ENSG00000237412\n",
    "ENSG00000265787\n",
    "ENSG00000277586"
   ]
  }
 ],
 "metadata": {
  "kernelspec": {
   "display_name": "project4",
   "language": "python",
   "name": "python3"
  },
  "language_info": {
   "codemirror_mode": {
    "name": "ipython",
    "version": 3
   },
   "file_extension": ".py",
   "mimetype": "text/x-python",
   "name": "python",
   "nbconvert_exporter": "python",
   "pygments_lexer": "ipython3",
   "version": "3.11.3"
  },
  "orig_nbformat": 4
 },
 "nbformat": 4,
 "nbformat_minor": 2
}
