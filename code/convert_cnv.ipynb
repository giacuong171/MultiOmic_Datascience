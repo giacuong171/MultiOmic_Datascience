{
 "cells": [
  {
   "cell_type": "code",
   "execution_count": 71,
   "metadata": {},
   "outputs": [],
   "source": [
    "import pandas as pd\n",
    "import tabix as tb\n",
    "import numpy as np"
   ]
  },
  {
   "cell_type": "code",
   "execution_count": 72,
   "metadata": {},
   "outputs": [],
   "source": [
    "tumor_df = pd.read_csv(\"../results/cnv_analysis/Tumor.All.txt\",header=0,sep=\"\\t\")\n",
    "tumor_bed=\"../results/cnv_analysis/tumor_cnv.bed\""
   ]
  },
  {
   "cell_type": "code",
   "execution_count": 73,
   "metadata": {},
   "outputs": [],
   "source": [
    "tumor_df = tumor_df.sort_values(by=\"Chromosome\",ascending=True)"
   ]
  },
  {
   "cell_type": "code",
   "execution_count": 74,
   "metadata": {},
   "outputs": [],
   "source": [
    "with open(tumor_bed,\"w\") as f:\n",
    "    for i,cnv in tumor_df.iterrows():\n",
    "        if (i <= 30) :\n",
    "            if (cnv[\"q-value\"] <= 0.05) and (int(cnv[\"Region Size [bp]\"]) > 50):\n",
    "                f.write(str(int(cnv[\"Chromosome\"])) + \"\\t\" + \n",
    "                        str(int(cnv[\"Region Start [bp]\"])) + \"\\t\" +\n",
    "                        str(int(cnv[\"Region End [bp]\"]))+\"\\t\" +\n",
    "                        str(int(cnv[\"q-value\"]))+\"\\t\" +\n",
    "                        str(int(cnv[\"Aberration Kind\"])) +\"\\n\")\n",
    "f.close()"
   ]
  },
  {
   "cell_type": "code",
   "execution_count": 75,
   "metadata": {},
   "outputs": [],
   "source": [
    "header=[\"Chr\",\"start\",\"end\",\"q-value\",\"Abr\"]\n",
    "cnv_bed = pd.read_csv(\"../results/cnv_analysis/tumor_cnv.bed\",sep=\"\\t\",names=header)"
   ]
  },
  {
   "cell_type": "code",
   "execution_count": 76,
   "metadata": {},
   "outputs": [
    {
     "data": {
      "text/html": [
       "<div>\n",
       "<style scoped>\n",
       "    .dataframe tbody tr th:only-of-type {\n",
       "        vertical-align: middle;\n",
       "    }\n",
       "\n",
       "    .dataframe tbody tr th {\n",
       "        vertical-align: top;\n",
       "    }\n",
       "\n",
       "    .dataframe thead th {\n",
       "        text-align: right;\n",
       "    }\n",
       "</style>\n",
       "<table border=\"1\" class=\"dataframe\">\n",
       "  <thead>\n",
       "    <tr style=\"text-align: right;\">\n",
       "      <th></th>\n",
       "      <th>Chr</th>\n",
       "      <th>start</th>\n",
       "      <th>end</th>\n",
       "      <th>q-value</th>\n",
       "      <th>Abr</th>\n",
       "    </tr>\n",
       "  </thead>\n",
       "  <tbody>\n",
       "    <tr>\n",
       "      <th>0</th>\n",
       "      <td>1</td>\n",
       "      <td>27106855</td>\n",
       "      <td>27127935</td>\n",
       "      <td>0</td>\n",
       "      <td>0</td>\n",
       "    </tr>\n",
       "    <tr>\n",
       "      <th>1</th>\n",
       "      <td>1</td>\n",
       "      <td>26648381</td>\n",
       "      <td>26666809</td>\n",
       "      <td>0</td>\n",
       "      <td>0</td>\n",
       "    </tr>\n",
       "    <tr>\n",
       "      <th>2</th>\n",
       "      <td>1</td>\n",
       "      <td>27093657</td>\n",
       "      <td>27101201</td>\n",
       "      <td>0</td>\n",
       "      <td>0</td>\n",
       "    </tr>\n",
       "    <tr>\n",
       "      <th>3</th>\n",
       "      <td>10</td>\n",
       "      <td>116079327</td>\n",
       "      <td>116168638</td>\n",
       "      <td>0</td>\n",
       "      <td>0</td>\n",
       "    </tr>\n",
       "    <tr>\n",
       "      <th>4</th>\n",
       "      <td>10</td>\n",
       "      <td>117244091</td>\n",
       "      <td>117380528</td>\n",
       "      <td>0</td>\n",
       "      <td>0</td>\n",
       "    </tr>\n",
       "    <tr>\n",
       "      <th>5</th>\n",
       "      <td>10</td>\n",
       "      <td>116791828</td>\n",
       "      <td>116917867</td>\n",
       "      <td>0</td>\n",
       "      <td>0</td>\n",
       "    </tr>\n",
       "    <tr>\n",
       "      <th>6</th>\n",
       "      <td>10</td>\n",
       "      <td>116346514</td>\n",
       "      <td>116438345</td>\n",
       "      <td>0</td>\n",
       "      <td>0</td>\n",
       "    </tr>\n",
       "    <tr>\n",
       "      <th>7</th>\n",
       "      <td>10</td>\n",
       "      <td>114777939</td>\n",
       "      <td>114893489</td>\n",
       "      <td>0</td>\n",
       "      <td>0</td>\n",
       "    </tr>\n",
       "    <tr>\n",
       "      <th>8</th>\n",
       "      <td>10</td>\n",
       "      <td>118087220</td>\n",
       "      <td>118087298</td>\n",
       "      <td>0</td>\n",
       "      <td>0</td>\n",
       "    </tr>\n",
       "    <tr>\n",
       "      <th>9</th>\n",
       "      <td>10</td>\n",
       "      <td>125274134</td>\n",
       "      <td>125275363</td>\n",
       "      <td>0</td>\n",
       "      <td>0</td>\n",
       "    </tr>\n",
       "    <tr>\n",
       "      <th>10</th>\n",
       "      <td>10</td>\n",
       "      <td>125281850</td>\n",
       "      <td>126398178</td>\n",
       "      <td>0</td>\n",
       "      <td>0</td>\n",
       "    </tr>\n",
       "    <tr>\n",
       "      <th>11</th>\n",
       "      <td>10</td>\n",
       "      <td>126689020</td>\n",
       "      <td>126689398</td>\n",
       "      <td>0</td>\n",
       "      <td>0</td>\n",
       "    </tr>\n",
       "    <tr>\n",
       "      <th>12</th>\n",
       "      <td>10</td>\n",
       "      <td>131963318</td>\n",
       "      <td>131966353</td>\n",
       "      <td>0</td>\n",
       "      <td>0</td>\n",
       "    </tr>\n",
       "    <tr>\n",
       "      <th>13</th>\n",
       "      <td>10</td>\n",
       "      <td>89324663</td>\n",
       "      <td>89344167</td>\n",
       "      <td>0</td>\n",
       "      <td>0</td>\n",
       "    </tr>\n",
       "    <tr>\n",
       "      <th>14</th>\n",
       "      <td>10</td>\n",
       "      <td>92431438</td>\n",
       "      <td>92484991</td>\n",
       "      <td>0</td>\n",
       "      <td>0</td>\n",
       "    </tr>\n",
       "    <tr>\n",
       "      <th>15</th>\n",
       "      <td>10</td>\n",
       "      <td>92490374</td>\n",
       "      <td>92774918</td>\n",
       "      <td>0</td>\n",
       "      <td>0</td>\n",
       "    </tr>\n",
       "    <tr>\n",
       "      <th>16</th>\n",
       "      <td>10</td>\n",
       "      <td>92778715</td>\n",
       "      <td>93077075</td>\n",
       "      <td>0</td>\n",
       "      <td>0</td>\n",
       "    </tr>\n",
       "    <tr>\n",
       "      <th>17</th>\n",
       "      <td>10</td>\n",
       "      <td>114642902</td>\n",
       "      <td>114735986</td>\n",
       "      <td>0</td>\n",
       "      <td>0</td>\n",
       "    </tr>\n",
       "    <tr>\n",
       "      <th>18</th>\n",
       "      <td>10</td>\n",
       "      <td>126768043</td>\n",
       "      <td>126800520</td>\n",
       "      <td>0</td>\n",
       "      <td>0</td>\n",
       "    </tr>\n",
       "    <tr>\n",
       "      <th>19</th>\n",
       "      <td>10</td>\n",
       "      <td>89346476</td>\n",
       "      <td>92430547</td>\n",
       "      <td>0</td>\n",
       "      <td>0</td>\n",
       "    </tr>\n",
       "    <tr>\n",
       "      <th>20</th>\n",
       "      <td>10</td>\n",
       "      <td>92485320</td>\n",
       "      <td>92485732</td>\n",
       "      <td>0</td>\n",
       "      <td>0</td>\n",
       "    </tr>\n",
       "    <tr>\n",
       "      <th>21</th>\n",
       "      <td>10</td>\n",
       "      <td>92775880</td>\n",
       "      <td>92777353</td>\n",
       "      <td>0</td>\n",
       "      <td>0</td>\n",
       "    </tr>\n",
       "    <tr>\n",
       "      <th>22</th>\n",
       "      <td>10</td>\n",
       "      <td>93080209</td>\n",
       "      <td>114638457</td>\n",
       "      <td>0</td>\n",
       "      <td>0</td>\n",
       "    </tr>\n",
       "    <tr>\n",
       "      <th>23</th>\n",
       "      <td>10</td>\n",
       "      <td>114738890</td>\n",
       "      <td>114774241</td>\n",
       "      <td>0</td>\n",
       "      <td>0</td>\n",
       "    </tr>\n",
       "    <tr>\n",
       "      <th>24</th>\n",
       "      <td>10</td>\n",
       "      <td>114895762</td>\n",
       "      <td>116078033</td>\n",
       "      <td>0</td>\n",
       "      <td>0</td>\n",
       "    </tr>\n",
       "    <tr>\n",
       "      <th>25</th>\n",
       "      <td>10</td>\n",
       "      <td>116441520</td>\n",
       "      <td>116787305</td>\n",
       "      <td>0</td>\n",
       "      <td>0</td>\n",
       "    </tr>\n",
       "    <tr>\n",
       "      <th>26</th>\n",
       "      <td>10</td>\n",
       "      <td>116922148</td>\n",
       "      <td>117243369</td>\n",
       "      <td>0</td>\n",
       "      <td>0</td>\n",
       "    </tr>\n",
       "  </tbody>\n",
       "</table>\n",
       "</div>"
      ],
      "text/plain": [
       "    Chr      start        end  q-value  Abr\n",
       "0     1   27106855   27127935        0    0\n",
       "1     1   26648381   26666809        0    0\n",
       "2     1   27093657   27101201        0    0\n",
       "3    10  116079327  116168638        0    0\n",
       "4    10  117244091  117380528        0    0\n",
       "5    10  116791828  116917867        0    0\n",
       "6    10  116346514  116438345        0    0\n",
       "7    10  114777939  114893489        0    0\n",
       "8    10  118087220  118087298        0    0\n",
       "9    10  125274134  125275363        0    0\n",
       "10   10  125281850  126398178        0    0\n",
       "11   10  126689020  126689398        0    0\n",
       "12   10  131963318  131966353        0    0\n",
       "13   10   89324663   89344167        0    0\n",
       "14   10   92431438   92484991        0    0\n",
       "15   10   92490374   92774918        0    0\n",
       "16   10   92778715   93077075        0    0\n",
       "17   10  114642902  114735986        0    0\n",
       "18   10  126768043  126800520        0    0\n",
       "19   10   89346476   92430547        0    0\n",
       "20   10   92485320   92485732        0    0\n",
       "21   10   92775880   92777353        0    0\n",
       "22   10   93080209  114638457        0    0\n",
       "23   10  114738890  114774241        0    0\n",
       "24   10  114895762  116078033        0    0\n",
       "25   10  116441520  116787305        0    0\n",
       "26   10  116922148  117243369        0    0"
      ]
     },
     "execution_count": 76,
     "metadata": {},
     "output_type": "execute_result"
    }
   ],
   "source": [
    "cnv_bed.shape\n",
    "cnv_bed"
   ]
  },
  {
   "cell_type": "code",
   "execution_count": 77,
   "metadata": {},
   "outputs": [
    {
     "data": {
      "text/html": [
       "<div>\n",
       "<style scoped>\n",
       "    .dataframe tbody tr th:only-of-type {\n",
       "        vertical-align: middle;\n",
       "    }\n",
       "\n",
       "    .dataframe tbody tr th {\n",
       "        vertical-align: top;\n",
       "    }\n",
       "\n",
       "    .dataframe thead th {\n",
       "        text-align: right;\n",
       "    }\n",
       "</style>\n",
       "<table border=\"1\" class=\"dataframe\">\n",
       "  <thead>\n",
       "    <tr style=\"text-align: right;\">\n",
       "      <th></th>\n",
       "      <th>Sample</th>\n",
       "      <th>Chromosome</th>\n",
       "      <th>Start</th>\n",
       "      <th>End</th>\n",
       "      <th>Num_Probes</th>\n",
       "      <th>Segment_Mean</th>\n",
       "    </tr>\n",
       "  </thead>\n",
       "  <tbody>\n",
       "    <tr>\n",
       "      <th>0</th>\n",
       "      <td>TCGA.2F.A9KO.01A</td>\n",
       "      <td>1</td>\n",
       "      <td>3218610</td>\n",
       "      <td>103464007</td>\n",
       "      <td>57847.0</td>\n",
       "      <td>-0.1624</td>\n",
       "    </tr>\n",
       "    <tr>\n",
       "      <th>1</th>\n",
       "      <td>TCGA.2F.A9KO.01A</td>\n",
       "      <td>1</td>\n",
       "      <td>103466917</td>\n",
       "      <td>103467218</td>\n",
       "      <td>2.0</td>\n",
       "      <td>-2.9977</td>\n",
       "    </tr>\n",
       "    <tr>\n",
       "      <th>2</th>\n",
       "      <td>TCGA.2F.A9KO.01A</td>\n",
       "      <td>1</td>\n",
       "      <td>103467374</td>\n",
       "      <td>107345135</td>\n",
       "      <td>1762.0</td>\n",
       "      <td>-0.1900</td>\n",
       "    </tr>\n",
       "    <tr>\n",
       "      <th>3</th>\n",
       "      <td>TCGA.2F.A9KO.01A</td>\n",
       "      <td>1</td>\n",
       "      <td>107350462</td>\n",
       "      <td>107350511</td>\n",
       "      <td>2.0</td>\n",
       "      <td>-1.9026</td>\n",
       "    </tr>\n",
       "    <tr>\n",
       "      <th>4</th>\n",
       "      <td>TCGA.2F.A9KO.01A</td>\n",
       "      <td>1</td>\n",
       "      <td>107350931</td>\n",
       "      <td>114237283</td>\n",
       "      <td>4163.0</td>\n",
       "      <td>-0.1855</td>\n",
       "    </tr>\n",
       "  </tbody>\n",
       "</table>\n",
       "</div>"
      ],
      "text/plain": [
       "             Sample  Chromosome      Start        End  Num_Probes  \\\n",
       "0  TCGA.2F.A9KO.01A           1    3218610  103464007     57847.0   \n",
       "1  TCGA.2F.A9KO.01A           1  103466917  103467218         2.0   \n",
       "2  TCGA.2F.A9KO.01A           1  103467374  107345135      1762.0   \n",
       "3  TCGA.2F.A9KO.01A           1  107350462  107350511         2.0   \n",
       "4  TCGA.2F.A9KO.01A           1  107350931  114237283      4163.0   \n",
       "\n",
       "   Segment_Mean  \n",
       "0       -0.1624  \n",
       "1       -2.9977  \n",
       "2       -0.1900  \n",
       "3       -1.9026  \n",
       "4       -0.1855  "
      ]
     },
     "execution_count": 77,
     "metadata": {},
     "output_type": "execute_result"
    }
   ],
   "source": [
    "segments = pd.read_csv(\"../results/cnv_analysis/filtered_samples_cnv.csv\",sep=\"\\t\",header=0)\n",
    "segments.head()"
   ]
  },
  {
   "cell_type": "code",
   "execution_count": 78,
   "metadata": {},
   "outputs": [],
   "source": [
    "numb_sample = len(segments[\"Sample\"].unique())\n",
    "sample_name = segments[\"Sample\"].unique()"
   ]
  },
  {
   "cell_type": "code",
   "execution_count": 79,
   "metadata": {},
   "outputs": [
    {
     "data": {
      "text/html": [
       "<div>\n",
       "<style scoped>\n",
       "    .dataframe tbody tr th:only-of-type {\n",
       "        vertical-align: middle;\n",
       "    }\n",
       "\n",
       "    .dataframe tbody tr th {\n",
       "        vertical-align: top;\n",
       "    }\n",
       "\n",
       "    .dataframe thead th {\n",
       "        text-align: right;\n",
       "    }\n",
       "</style>\n",
       "<table border=\"1\" class=\"dataframe\">\n",
       "  <thead>\n",
       "    <tr style=\"text-align: right;\">\n",
       "      <th></th>\n",
       "      <th>TCGA.2F.A9KO.01A</th>\n",
       "      <th>TCGA.2F.A9KP.01A</th>\n",
       "      <th>TCGA.2F.A9KQ.01A</th>\n",
       "      <th>TCGA.2F.A9KR.01A</th>\n",
       "      <th>TCGA.2F.A9KT.01A</th>\n",
       "      <th>TCGA.2F.A9KW.01A</th>\n",
       "      <th>TCGA.4Z.AA7M.01A</th>\n",
       "      <th>TCGA.4Z.AA7N.01A</th>\n",
       "      <th>TCGA.4Z.AA7O.01A</th>\n",
       "      <th>TCGA.4Z.AA7Q.01A</th>\n",
       "      <th>...</th>\n",
       "      <th>TCGA.ZF.AA4X.01A</th>\n",
       "      <th>TCGA.ZF.AA51.01A</th>\n",
       "      <th>TCGA.ZF.AA52.01A</th>\n",
       "      <th>TCGA.ZF.AA53.01A</th>\n",
       "      <th>TCGA.ZF.AA54.01A</th>\n",
       "      <th>TCGA.ZF.AA56.01A</th>\n",
       "      <th>TCGA.ZF.AA58.01A</th>\n",
       "      <th>TCGA.ZF.AA5H.01A</th>\n",
       "      <th>TCGA.ZF.AA5N.01A</th>\n",
       "      <th>TCGA.ZF.AA5P.01A</th>\n",
       "    </tr>\n",
       "  </thead>\n",
       "  <tbody>\n",
       "    <tr>\n",
       "      <th>0</th>\n",
       "      <td>0</td>\n",
       "      <td>0</td>\n",
       "      <td>0</td>\n",
       "      <td>0</td>\n",
       "      <td>0</td>\n",
       "      <td>0</td>\n",
       "      <td>0</td>\n",
       "      <td>0</td>\n",
       "      <td>0</td>\n",
       "      <td>0</td>\n",
       "      <td>...</td>\n",
       "      <td>0</td>\n",
       "      <td>0</td>\n",
       "      <td>0</td>\n",
       "      <td>0</td>\n",
       "      <td>0</td>\n",
       "      <td>0</td>\n",
       "      <td>0</td>\n",
       "      <td>0</td>\n",
       "      <td>0</td>\n",
       "      <td>0</td>\n",
       "    </tr>\n",
       "    <tr>\n",
       "      <th>1</th>\n",
       "      <td>0</td>\n",
       "      <td>0</td>\n",
       "      <td>0</td>\n",
       "      <td>0</td>\n",
       "      <td>0</td>\n",
       "      <td>0</td>\n",
       "      <td>0</td>\n",
       "      <td>0</td>\n",
       "      <td>0</td>\n",
       "      <td>0</td>\n",
       "      <td>...</td>\n",
       "      <td>0</td>\n",
       "      <td>0</td>\n",
       "      <td>0</td>\n",
       "      <td>0</td>\n",
       "      <td>0</td>\n",
       "      <td>0</td>\n",
       "      <td>0</td>\n",
       "      <td>0</td>\n",
       "      <td>0</td>\n",
       "      <td>0</td>\n",
       "    </tr>\n",
       "    <tr>\n",
       "      <th>2</th>\n",
       "      <td>0</td>\n",
       "      <td>0</td>\n",
       "      <td>0</td>\n",
       "      <td>0</td>\n",
       "      <td>0</td>\n",
       "      <td>0</td>\n",
       "      <td>0</td>\n",
       "      <td>0</td>\n",
       "      <td>0</td>\n",
       "      <td>0</td>\n",
       "      <td>...</td>\n",
       "      <td>0</td>\n",
       "      <td>0</td>\n",
       "      <td>0</td>\n",
       "      <td>0</td>\n",
       "      <td>0</td>\n",
       "      <td>0</td>\n",
       "      <td>0</td>\n",
       "      <td>0</td>\n",
       "      <td>0</td>\n",
       "      <td>0</td>\n",
       "    </tr>\n",
       "    <tr>\n",
       "      <th>3</th>\n",
       "      <td>0</td>\n",
       "      <td>0</td>\n",
       "      <td>0</td>\n",
       "      <td>0</td>\n",
       "      <td>0</td>\n",
       "      <td>0</td>\n",
       "      <td>0</td>\n",
       "      <td>0</td>\n",
       "      <td>0</td>\n",
       "      <td>0</td>\n",
       "      <td>...</td>\n",
       "      <td>0</td>\n",
       "      <td>0</td>\n",
       "      <td>0</td>\n",
       "      <td>0</td>\n",
       "      <td>0</td>\n",
       "      <td>0</td>\n",
       "      <td>0</td>\n",
       "      <td>0</td>\n",
       "      <td>0</td>\n",
       "      <td>0</td>\n",
       "    </tr>\n",
       "    <tr>\n",
       "      <th>4</th>\n",
       "      <td>0</td>\n",
       "      <td>0</td>\n",
       "      <td>0</td>\n",
       "      <td>0</td>\n",
       "      <td>0</td>\n",
       "      <td>0</td>\n",
       "      <td>0</td>\n",
       "      <td>0</td>\n",
       "      <td>0</td>\n",
       "      <td>0</td>\n",
       "      <td>...</td>\n",
       "      <td>0</td>\n",
       "      <td>0</td>\n",
       "      <td>0</td>\n",
       "      <td>0</td>\n",
       "      <td>0</td>\n",
       "      <td>0</td>\n",
       "      <td>0</td>\n",
       "      <td>0</td>\n",
       "      <td>0</td>\n",
       "      <td>0</td>\n",
       "    </tr>\n",
       "  </tbody>\n",
       "</table>\n",
       "<p>5 rows × 413 columns</p>\n",
       "</div>"
      ],
      "text/plain": [
       "   TCGA.2F.A9KO.01A  TCGA.2F.A9KP.01A  TCGA.2F.A9KQ.01A  TCGA.2F.A9KR.01A  \\\n",
       "0                 0                 0                 0                 0   \n",
       "1                 0                 0                 0                 0   \n",
       "2                 0                 0                 0                 0   \n",
       "3                 0                 0                 0                 0   \n",
       "4                 0                 0                 0                 0   \n",
       "\n",
       "   TCGA.2F.A9KT.01A  TCGA.2F.A9KW.01A  TCGA.4Z.AA7M.01A  TCGA.4Z.AA7N.01A  \\\n",
       "0                 0                 0                 0                 0   \n",
       "1                 0                 0                 0                 0   \n",
       "2                 0                 0                 0                 0   \n",
       "3                 0                 0                 0                 0   \n",
       "4                 0                 0                 0                 0   \n",
       "\n",
       "   TCGA.4Z.AA7O.01A  TCGA.4Z.AA7Q.01A  ...  TCGA.ZF.AA4X.01A  \\\n",
       "0                 0                 0  ...                 0   \n",
       "1                 0                 0  ...                 0   \n",
       "2                 0                 0  ...                 0   \n",
       "3                 0                 0  ...                 0   \n",
       "4                 0                 0  ...                 0   \n",
       "\n",
       "   TCGA.ZF.AA51.01A  TCGA.ZF.AA52.01A  TCGA.ZF.AA53.01A  TCGA.ZF.AA54.01A  \\\n",
       "0                 0                 0                 0                 0   \n",
       "1                 0                 0                 0                 0   \n",
       "2                 0                 0                 0                 0   \n",
       "3                 0                 0                 0                 0   \n",
       "4                 0                 0                 0                 0   \n",
       "\n",
       "   TCGA.ZF.AA56.01A  TCGA.ZF.AA58.01A  TCGA.ZF.AA5H.01A  TCGA.ZF.AA5N.01A  \\\n",
       "0                 0                 0                 0                 0   \n",
       "1                 0                 0                 0                 0   \n",
       "2                 0                 0                 0                 0   \n",
       "3                 0                 0                 0                 0   \n",
       "4                 0                 0                 0                 0   \n",
       "\n",
       "   TCGA.ZF.AA5P.01A  \n",
       "0                 0  \n",
       "1                 0  \n",
       "2                 0  \n",
       "3                 0  \n",
       "4                 0  \n",
       "\n",
       "[5 rows x 413 columns]"
      ]
     },
     "execution_count": 79,
     "metadata": {},
     "output_type": "execute_result"
    }
   ],
   "source": [
    "cnv_check= pd.DataFrame(np.zeros((cnv_bed.shape[0],numb_sample)),columns=sample_name,dtype=int)\n",
    "cnv_check.head()"
   ]
  },
  {
   "cell_type": "code",
   "execution_count": 80,
   "metadata": {},
   "outputs": [],
   "source": [
    "for i in range(cnv_bed.shape[0]):\n",
    "    j = 0\n",
    "    while j < segments.shape[0]:\n",
    "        id_name= segments[\"Sample\"][j]\n",
    "        if cnv_check[id_name][i] == 0:\n",
    "            if ((segments[\"Chromosome\"][j] == cnv_bed[\"Chr\"][i]) \n",
    "                and (segments[\"Start\"][j] <= cnv_bed[\"start\"][i]) \n",
    "                and (segments[\"End\"][j] >= cnv_bed[\"end\"][i])):\n",
    "                cnv_check[id_name][i] += 1\n",
    "                j +=1\n",
    "            else: j +=1\n",
    "        else: j +=1"
   ]
  },
  {
   "cell_type": "code",
   "execution_count": 81,
   "metadata": {},
   "outputs": [
    {
     "data": {
      "text/html": [
       "<div>\n",
       "<style scoped>\n",
       "    .dataframe tbody tr th:only-of-type {\n",
       "        vertical-align: middle;\n",
       "    }\n",
       "\n",
       "    .dataframe tbody tr th {\n",
       "        vertical-align: top;\n",
       "    }\n",
       "\n",
       "    .dataframe thead th {\n",
       "        text-align: right;\n",
       "    }\n",
       "</style>\n",
       "<table border=\"1\" class=\"dataframe\">\n",
       "  <thead>\n",
       "    <tr style=\"text-align: right;\">\n",
       "      <th></th>\n",
       "      <th>TCGA.2F.A9KO.01A</th>\n",
       "      <th>TCGA.2F.A9KP.01A</th>\n",
       "      <th>TCGA.2F.A9KQ.01A</th>\n",
       "      <th>TCGA.2F.A9KR.01A</th>\n",
       "      <th>TCGA.2F.A9KT.01A</th>\n",
       "      <th>TCGA.2F.A9KW.01A</th>\n",
       "      <th>TCGA.4Z.AA7M.01A</th>\n",
       "      <th>TCGA.4Z.AA7N.01A</th>\n",
       "      <th>TCGA.4Z.AA7O.01A</th>\n",
       "      <th>TCGA.4Z.AA7Q.01A</th>\n",
       "      <th>...</th>\n",
       "      <th>TCGA.ZF.AA4X.01A</th>\n",
       "      <th>TCGA.ZF.AA51.01A</th>\n",
       "      <th>TCGA.ZF.AA52.01A</th>\n",
       "      <th>TCGA.ZF.AA53.01A</th>\n",
       "      <th>TCGA.ZF.AA54.01A</th>\n",
       "      <th>TCGA.ZF.AA56.01A</th>\n",
       "      <th>TCGA.ZF.AA58.01A</th>\n",
       "      <th>TCGA.ZF.AA5H.01A</th>\n",
       "      <th>TCGA.ZF.AA5N.01A</th>\n",
       "      <th>TCGA.ZF.AA5P.01A</th>\n",
       "    </tr>\n",
       "  </thead>\n",
       "  <tbody>\n",
       "    <tr>\n",
       "      <th>0</th>\n",
       "      <td>1</td>\n",
       "      <td>1</td>\n",
       "      <td>1</td>\n",
       "      <td>1</td>\n",
       "      <td>1</td>\n",
       "      <td>1</td>\n",
       "      <td>1</td>\n",
       "      <td>1</td>\n",
       "      <td>1</td>\n",
       "      <td>1</td>\n",
       "      <td>...</td>\n",
       "      <td>1</td>\n",
       "      <td>1</td>\n",
       "      <td>1</td>\n",
       "      <td>1</td>\n",
       "      <td>1</td>\n",
       "      <td>1</td>\n",
       "      <td>1</td>\n",
       "      <td>1</td>\n",
       "      <td>1</td>\n",
       "      <td>1</td>\n",
       "    </tr>\n",
       "    <tr>\n",
       "      <th>1</th>\n",
       "      <td>1</td>\n",
       "      <td>1</td>\n",
       "      <td>1</td>\n",
       "      <td>1</td>\n",
       "      <td>1</td>\n",
       "      <td>1</td>\n",
       "      <td>1</td>\n",
       "      <td>1</td>\n",
       "      <td>1</td>\n",
       "      <td>1</td>\n",
       "      <td>...</td>\n",
       "      <td>1</td>\n",
       "      <td>1</td>\n",
       "      <td>1</td>\n",
       "      <td>1</td>\n",
       "      <td>1</td>\n",
       "      <td>1</td>\n",
       "      <td>1</td>\n",
       "      <td>1</td>\n",
       "      <td>1</td>\n",
       "      <td>1</td>\n",
       "    </tr>\n",
       "    <tr>\n",
       "      <th>2</th>\n",
       "      <td>1</td>\n",
       "      <td>1</td>\n",
       "      <td>1</td>\n",
       "      <td>1</td>\n",
       "      <td>1</td>\n",
       "      <td>1</td>\n",
       "      <td>1</td>\n",
       "      <td>1</td>\n",
       "      <td>0</td>\n",
       "      <td>1</td>\n",
       "      <td>...</td>\n",
       "      <td>1</td>\n",
       "      <td>1</td>\n",
       "      <td>1</td>\n",
       "      <td>1</td>\n",
       "      <td>1</td>\n",
       "      <td>1</td>\n",
       "      <td>1</td>\n",
       "      <td>1</td>\n",
       "      <td>1</td>\n",
       "      <td>1</td>\n",
       "    </tr>\n",
       "    <tr>\n",
       "      <th>3</th>\n",
       "      <td>1</td>\n",
       "      <td>1</td>\n",
       "      <td>1</td>\n",
       "      <td>1</td>\n",
       "      <td>1</td>\n",
       "      <td>1</td>\n",
       "      <td>1</td>\n",
       "      <td>1</td>\n",
       "      <td>1</td>\n",
       "      <td>1</td>\n",
       "      <td>...</td>\n",
       "      <td>1</td>\n",
       "      <td>1</td>\n",
       "      <td>1</td>\n",
       "      <td>1</td>\n",
       "      <td>1</td>\n",
       "      <td>1</td>\n",
       "      <td>1</td>\n",
       "      <td>1</td>\n",
       "      <td>1</td>\n",
       "      <td>1</td>\n",
       "    </tr>\n",
       "    <tr>\n",
       "      <th>4</th>\n",
       "      <td>1</td>\n",
       "      <td>1</td>\n",
       "      <td>1</td>\n",
       "      <td>1</td>\n",
       "      <td>1</td>\n",
       "      <td>1</td>\n",
       "      <td>1</td>\n",
       "      <td>1</td>\n",
       "      <td>1</td>\n",
       "      <td>1</td>\n",
       "      <td>...</td>\n",
       "      <td>1</td>\n",
       "      <td>1</td>\n",
       "      <td>1</td>\n",
       "      <td>1</td>\n",
       "      <td>1</td>\n",
       "      <td>1</td>\n",
       "      <td>1</td>\n",
       "      <td>1</td>\n",
       "      <td>1</td>\n",
       "      <td>1</td>\n",
       "    </tr>\n",
       "  </tbody>\n",
       "</table>\n",
       "<p>5 rows × 413 columns</p>\n",
       "</div>"
      ],
      "text/plain": [
       "   TCGA.2F.A9KO.01A  TCGA.2F.A9KP.01A  TCGA.2F.A9KQ.01A  TCGA.2F.A9KR.01A  \\\n",
       "0                 1                 1                 1                 1   \n",
       "1                 1                 1                 1                 1   \n",
       "2                 1                 1                 1                 1   \n",
       "3                 1                 1                 1                 1   \n",
       "4                 1                 1                 1                 1   \n",
       "\n",
       "   TCGA.2F.A9KT.01A  TCGA.2F.A9KW.01A  TCGA.4Z.AA7M.01A  TCGA.4Z.AA7N.01A  \\\n",
       "0                 1                 1                 1                 1   \n",
       "1                 1                 1                 1                 1   \n",
       "2                 1                 1                 1                 1   \n",
       "3                 1                 1                 1                 1   \n",
       "4                 1                 1                 1                 1   \n",
       "\n",
       "   TCGA.4Z.AA7O.01A  TCGA.4Z.AA7Q.01A  ...  TCGA.ZF.AA4X.01A  \\\n",
       "0                 1                 1  ...                 1   \n",
       "1                 1                 1  ...                 1   \n",
       "2                 0                 1  ...                 1   \n",
       "3                 1                 1  ...                 1   \n",
       "4                 1                 1  ...                 1   \n",
       "\n",
       "   TCGA.ZF.AA51.01A  TCGA.ZF.AA52.01A  TCGA.ZF.AA53.01A  TCGA.ZF.AA54.01A  \\\n",
       "0                 1                 1                 1                 1   \n",
       "1                 1                 1                 1                 1   \n",
       "2                 1                 1                 1                 1   \n",
       "3                 1                 1                 1                 1   \n",
       "4                 1                 1                 1                 1   \n",
       "\n",
       "   TCGA.ZF.AA56.01A  TCGA.ZF.AA58.01A  TCGA.ZF.AA5H.01A  TCGA.ZF.AA5N.01A  \\\n",
       "0                 1                 1                 1                 1   \n",
       "1                 1                 1                 1                 1   \n",
       "2                 1                 1                 1                 1   \n",
       "3                 1                 1                 1                 1   \n",
       "4                 1                 1                 1                 1   \n",
       "\n",
       "   TCGA.ZF.AA5P.01A  \n",
       "0                 1  \n",
       "1                 1  \n",
       "2                 1  \n",
       "3                 1  \n",
       "4                 1  \n",
       "\n",
       "[5 rows x 413 columns]"
      ]
     },
     "execution_count": 81,
     "metadata": {},
     "output_type": "execute_result"
    }
   ],
   "source": [
    "cnv_check.head()"
   ]
  },
  {
   "cell_type": "code",
   "execution_count": 82,
   "metadata": {},
   "outputs": [],
   "source": [
    "cnv_check = cnv_check.T"
   ]
  },
  {
   "attachments": {},
   "cell_type": "markdown",
   "metadata": {},
   "source": [
    "# Machine Learning part"
   ]
  },
  {
   "cell_type": "code",
   "execution_count": 83,
   "metadata": {},
   "outputs": [],
   "source": [
    "import warnings\n",
    "warnings.filterwarnings('ignore')\n",
    "\n",
    "import pandas as pd\n",
    "from sklearn.model_selection import train_test_split\n",
    "import numpy as np\n",
    "import xgboost as xgb\n",
    "from sklearn.model_selection import StratifiedKFold\n",
    "\n",
    "from sklearn.metrics import RocCurveDisplay\n",
    "from sklearn.model_selection import KFold\n",
    "from sklearn.model_selection import StratifiedKFold\n",
    "from sklearn.metrics import auc\n",
    "import matplotlib.pyplot as plt"
   ]
  },
  {
   "cell_type": "code",
   "execution_count": 84,
   "metadata": {},
   "outputs": [],
   "source": [
    "label = pd.read_csv(\"../results/gene_exp_analysis/clinical.csv\",\n",
    "                    header=0,sep=\"\\t\")"
   ]
  },
  {
   "cell_type": "code",
   "execution_count": 85,
   "metadata": {},
   "outputs": [],
   "source": [
    "label = label[label['sample'].isin(cnv_check.index)]"
   ]
  },
  {
   "cell_type": "code",
   "execution_count": 92,
   "metadata": {},
   "outputs": [],
   "source": [
    "X = cnv_check\n",
    "y = label[\"OS\"]\n",
    "X_train, X_test, y_train, y_test = train_test_split(X, y, test_size=0.3, random_state=7)"
   ]
  },
  {
   "cell_type": "code",
   "execution_count": 97,
   "metadata": {},
   "outputs": [
    {
     "data": {
      "application/vnd.plotly.v1+json": {
       "config": {
        "plotlyServerURL": "https://plot.ly"
       },
       "data": [
        {
         "hovertemplate": "0=%{x}<br>1=%{y}<br>color=%{marker.color}<extra></extra>",
         "legendgroup": "",
         "marker": {
          "color": [
           4,
           4,
           3,
           3,
           2,
           3,
           3,
           3,
           2,
           3,
           4,
           3,
           2,
           2,
           2,
           2,
           4,
           2,
           4,
           4,
           3,
           4,
           3,
           3,
           1,
           3,
           4,
           3,
           3,
           3,
           3,
           2,
           3,
           3,
           3,
           3,
           4,
           4,
           4,
           4,
           3,
           3,
           4,
           2,
           2,
           4,
           3,
           3,
           3,
           3,
           4,
           4,
           3,
           2,
           2,
           3,
           4,
           4,
           2,
           3,
           3,
           3,
           3,
           3,
           2,
           2,
           2,
           2,
           2,
           2,
           2,
           2,
           2,
           2,
           2,
           2,
           2,
           2,
           2,
           3,
           1,
           3,
           3,
           4,
           4,
           4,
           3,
           4,
           3,
           3,
           4,
           4,
           2,
           4,
           4,
           3,
           4,
           3,
           4,
           3,
           4,
           3,
           4,
           2,
           4,
           3,
           4,
           4,
           4,
           3,
           3,
           3,
           2,
           3,
           2,
           2,
           3,
           3,
           3,
           3,
           4,
           2,
           2,
           2,
           2,
           4,
           4,
           2,
           4,
           2,
           2,
           4,
           4,
           3,
           2,
           2,
           2,
           2,
           2,
           3,
           3,
           2,
           2,
           4,
           4,
           2,
           2,
           2,
           2,
           2,
           2,
           2,
           2,
           2,
           2,
           3,
           4,
           2,
           2,
           3,
           4,
           3,
           3,
           3,
           2,
           2,
           4,
           3,
           3,
           4,
           2,
           3,
           2,
           2,
           2,
           2,
           4,
           4,
           4,
           3,
           4,
           3,
           4,
           4,
           4,
           3,
           2,
           3,
           4,
           2,
           3,
           2,
           3,
           3,
           2,
           3,
           4,
           3,
           4,
           4,
           3,
           3,
           4,
           2,
           3,
           4,
           3,
           3,
           3,
           4,
           4,
           4,
           4,
           4,
           3,
           4,
           4,
           3,
           3,
           3,
           4,
           2,
           2,
           2,
           2,
           3,
           2,
           2,
           2,
           2,
           2,
           4,
           4,
           4,
           2,
           2,
           3,
           2,
           3,
           2,
           3,
           3,
           3,
           4,
           3,
           4,
           4,
           4,
           4,
           4,
           4,
           2,
           3,
           2,
           4,
           3,
           4,
           4,
           3,
           2,
           2,
           4,
           4,
           4,
           3,
           4,
           2,
           3,
           4,
           4,
           2,
           3,
           4,
           2,
           2,
           2,
           3,
           4,
           3,
           4,
           3,
           3,
           3,
           2,
           2,
           3,
           2,
           2,
           2,
           3,
           3,
           3,
           2,
           3,
           4,
           4,
           3,
           3,
           4,
           4,
           3,
           2,
           3,
           4,
           2,
           2,
           3,
           2,
           3,
           3,
           4,
           3,
           4,
           3,
           4,
           4,
           4,
           4,
           2,
           2,
           4,
           2,
           3,
           3,
           3,
           4,
           4,
           2,
           2,
           4,
           3,
           3,
           3,
           3,
           4,
           4,
           2,
           2,
           4,
           4,
           4,
           3,
           3,
           3,
           4,
           4,
           4,
           4,
           4,
           4,
           3,
           3,
           4,
           4,
           4,
           3,
           3,
           2,
           3,
           4,
           3,
           2,
           2,
           3,
           4,
           4,
           3,
           3,
           4,
           4,
           3,
           2,
           4,
           3,
           3,
           4,
           3,
           2,
           2,
           4,
           2,
           2,
           3,
           4,
           2,
           2,
           2,
           3,
           2,
           4,
           3,
           4,
           2,
           2,
           2,
           2,
           3,
           2,
           4,
           4,
           3,
           3,
           3,
           2,
           2,
           3,
           2,
           3,
           3,
           4,
           4,
           4,
           4
          ],
          "coloraxis": "coloraxis",
          "symbol": "circle"
         },
         "mode": "markers",
         "name": "",
         "orientation": "v",
         "showlegend": false,
         "type": "scatter",
         "x": [
          7.395112037658691,
          7.369065284729004,
          0.6918961405754089,
          -1.5143712759017944,
          -0.500897228717804,
          6.917871952056885,
          6.776891708374023,
          0.11039955168962479,
          -0.17016839981079102,
          0.2013472467660904,
          0.9715706706047058,
          -2.1539316177368164,
          -0.6747754812240601,
          6.567455291748047,
          6.010810375213623,
          7.533928871154785,
          1.6113489866256714,
          -2.0475854873657227,
          -0.7076612710952759,
          6.1111674308776855,
          1.916009545326233,
          6.820927619934082,
          6.8530049324035645,
          0.6397486925125122,
          1.7910162210464478,
          -0.5060099959373474,
          -1.8972587585449219,
          6.011322498321533,
          -0.891865074634552,
          -0.18858776986598969,
          -1.7059351205825806,
          6.15731143951416,
          -1.679465651512146,
          -1.646878957748413,
          -1.8686836957931519,
          0.45483699440956116,
          -1.5496820211410522,
          7.4048991203308105,
          0.9453787207603455,
          7.222679615020752,
          0.7361248731613159,
          -0.22760552167892456,
          6.1398606300354,
          -0.6499717831611633,
          -0.30806875228881836,
          -2.0438406467437744,
          -0.09958437830209732,
          7.552769660949707,
          -1.9938445091247559,
          0.8189941644668579,
          -1.454291582107544,
          -1.305389642715454,
          1.6115050315856934,
          -1.4447526931762695,
          -0.8421404957771301,
          -0.40802451968193054,
          -1.0099780559539795,
          6.323224067687988,
          0.44905778765678406,
          0.8912565112113953,
          7.063426971435547,
          -2.07729172706604,
          -1.461694598197937,
          6.421720504760742,
          -0.7691739797592163,
          0.8631665110588074,
          0.30950120091438293,
          7.26072359085083,
          -0.3159552216529846,
          6.837253570556641,
          -1.6572319269180298,
          -1.3382601737976074,
          -1.5875879526138306,
          -1.8703334331512451,
          1.0658316612243652,
          0.5974918007850647,
          -1.424574851989746,
          1.6958788633346558,
          -1.9496649503707886,
          6.1435418128967285,
          7.52196741104126,
          -1.700033187866211,
          -1.0808560848236084,
          0.05745789408683777,
          -1.2318975925445557,
          0.9227686524391174,
          1.4506175518035889,
          0.7774795293807983,
          -0.08728630095720291,
          7.515280246734619,
          -1.8128149509429932,
          6.265853404998779,
          0.8178562521934509,
          0.5150144100189209,
          0.8052101135253906,
          -1.3202965259552002,
          -2.1299092769622803,
          0.6261226534843445,
          -0.4736071228981018,
          6.270747661590576,
          -0.7583774924278259,
          -1.679934024810791,
          -1.2608070373535156,
          0.19685806334018707,
          -1.4878867864608765,
          -1.4653090238571167,
          1.007494568824768,
          7.390375137329102,
          -1.3025810718536377,
          -1.0958445072174072,
          0.7924819588661194,
          0.959905207157135,
          0.4314577281475067,
          6.16088342666626,
          0.9600801467895508,
          -1.1304322481155396,
          -0.18990641832351685,
          7.585970878601074,
          0.3854920566082001,
          6.622554779052734,
          7.291293144226074,
          1.4095044136047363,
          -1.6361064910888672,
          -1.5458505153656006,
          -0.36087775230407715,
          -1.2030599117279053,
          0.8041138052940369,
          7.340906143188477,
          0.579565703868866,
          -1.3084992170333862,
          -0.8101623058319092,
          0.9245302081108093,
          -0.9569296836853027,
          -1.6365137100219727,
          -1.355111837387085,
          7.386135578155518,
          1.6378103494644165,
          -0.26976972818374634,
          -0.3366697430610657,
          0.6421342492103577,
          5.978426933288574,
          7.487832069396973,
          -1.050291895866394,
          0.7103431224822998,
          0.8568925261497498,
          -1.6841121912002563,
          -0.2805323600769043,
          0.07289877533912659,
          6.700353622436523,
          0.8862853050231934,
          -0.5042005181312561,
          7.3020548820495605,
          1.537111520767212,
          -0.6496506929397583,
          0.7297507524490356,
          -1.0574673414230347,
          -1.317760705947876,
          -1.130126953125,
          0.3567810654640198,
          6.908965110778809,
          -1.8456356525421143,
          -0.7486423850059509,
          -0.12743724882602692,
          6.665735721588135,
          0.7219884395599365,
          7.006901741027832,
          1.772046446800232,
          0.5025544762611389,
          7.285383701324463,
          6.672621250152588,
          -0.6711236834526062,
          -0.6613662242889404,
          0.5837078094482422,
          -0.29045549035072327,
          6.99241828918457,
          6.368947982788086,
          6.150171279907227,
          0.05837920308113098,
          -1.169954538345337,
          0.12076137959957123,
          0.44456592202186584,
          0.5225985050201416,
          -0.9813110828399658,
          6.212921619415283,
          0.4518950283527374,
          1.5572922229766846,
          -0.8925683498382568,
          0.4629340171813965,
          0.28027141094207764,
          6.850749969482422,
          6.417815685272217,
          6.2601494789123535,
          0.435082346200943,
          0.4190067946910858,
          6.235262393951416,
          -0.2470662146806717,
          0.5689505934715271,
          0.006533628795295954,
          6.241186618804932,
          6.697650909423828,
          7.130945205688477,
          0.9751465916633606,
          0.10412819683551788,
          -0.9269090890884399,
          -0.5202676057815552,
          1.4588401317596436,
          6.857119083404541,
          7.140075206756592,
          0.5879133343696594,
          0.7601003646850586,
          7.165282726287842,
          6.931872367858887,
          0.15279227495193481,
          7.330333709716797,
          6.584733009338379,
          0.010323649272322655,
          -0.19201667606830597,
          0.3967416286468506,
          -0.20617929100990295,
          6.661892414093018,
          0.1070554330945015,
          -0.15063218772411346,
          -1.031973958015442,
          6.447556495666504,
          1.5475542545318604,
          -0.039296217262744904,
          0.37024036049842834,
          7.191634178161621,
          0.1411173939704895,
          6.670903205871582,
          0.19908596575260162,
          1.4179288148880005,
          0.22192484140396118,
          0.12302517145872116,
          0.18731628358364105,
          -0.47621917724609375,
          -0.5606948137283325,
          -1.0370676517486572,
          6.803030014038086,
          -0.4525586664676666,
          -0.1009889468550682,
          -0.7751933932304382,
          -0.30655574798583984,
          -0.5472447276115417,
          -0.9014158248901367,
          6.954342842102051,
          -1.0573093891143799,
          -1.0568329095840454,
          6.771965980529785,
          -0.5970548987388611,
          0.01894783414900303,
          6.45724630355835,
          7.0038652420043945,
          -0.07485514134168625,
          -0.3089113235473633,
          6.791987895965576,
          -0.5353966355323792,
          6.7478413581848145,
          -0.8113434910774231,
          -0.29772454500198364,
          6.593846321105957,
          -0.7090702652931213,
          -1.106084942817688,
          -0.8621996641159058,
          0.9358730912208557,
          -0.28569164872169495,
          -0.7360016107559204,
          0.7829190492630005,
          7.077596664428711,
          -0.9970431327819824,
          6.306978702545166,
          6.48689079284668,
          -0.3622896075248718,
          7.012081146240234,
          -0.6015215516090393,
          -0.40055468678474426,
          1.5014864206314087,
          -0.9177916646003723,
          -0.6481019854545593,
          0.7129545211791992,
          6.739698886871338,
          -0.6145449280738831,
          -0.7027848362922668,
          -0.09355927258729935,
          6.498901844024658,
          0.28075718879699707,
          -0.4165917634963989,
          -0.6008816957473755,
          -0.7424116730690002,
          6.632212162017822,
          -0.27272728085517883,
          6.8907880783081055,
          0.7543813586235046,
          -0.9512499570846558,
          0.741929829120636,
          -0.7323037385940552,
          1.519814372062683,
          0.253831684589386,
          -0.41893500089645386,
          6.505733966827393,
          6.8027873039245605,
          6.668376922607422,
          6.841803073883057,
          -0.35742491483688354,
          -0.5445301532745361,
          0.2165345549583435,
          0.09393762797117233,
          -0.5682784914970398,
          -0.38216906785964966,
          6.859829425811768,
          -0.13824611902236938,
          6.433661937713623,
          0.03049832209944725,
          1.4489651918411255,
          0.17704755067825317,
          -0.7273494005203247,
          0.3049887418746948,
          -0.7641724944114685,
          7.077651500701904,
          6.567200660705566,
          7.034336090087891,
          0.5738940238952637,
          -0.19092895090579987,
          6.57581901550293,
          1.4496192932128906,
          6.583974361419678,
          -0.6675819754600525,
          -0.5545312762260437,
          0.8409074544906616,
          0.41444888710975647,
          -0.9375725984573364,
          0.707237720489502,
          1.4157906770706177,
          -0.4093601703643799,
          -0.28749480843544006,
          0.18445588648319244,
          7.109640598297119,
          -0.18548992276191711,
          0.37695637345314026,
          7.096348285675049,
          -0.12185236811637878,
          -0.11424915492534637,
          -0.6387331485748291,
          6.75468635559082,
          6.449129104614258,
          -0.6758478283882141,
          -0.15180175006389618,
          -0.1668466031551361,
          -0.39847391843795776,
          -0.25251880288124084,
          6.77164363861084,
          -0.6863111257553101,
          0.006983770988881588,
          -0.2875281870365143,
          6.891944885253906,
          6.710346221923828,
          0.8270344734191895,
          -0.33677008748054504,
          -0.3179311454296112,
          -0.5325313210487366,
          6.71534538269043,
          -0.16175176203250885,
          0.8976567387580872,
          -0.3426683247089386,
          6.601706027984619,
          -0.04179210588335991,
          1.5176912546157837,
          -0.01391566637903452,
          -0.2655298113822937,
          7.006946086883545,
          6.899295330047607,
          6.807247638702393,
          -0.11939109116792679,
          7.053311824798584,
          -0.2152746617794037,
          6.417318820953369,
          -0.13265445828437805,
          0.06850835680961609,
          -0.44984322786331177,
          -0.04035992920398712,
          -0.18092523515224457,
          -0.4297618269920349,
          6.824244499206543,
          6.715243339538574,
          -0.032138604670763016,
          6.76873779296875,
          0.2821648120880127,
          -0.13527588546276093,
          -0.3396751284599304,
          0.05838826671242714,
          0.3707675039768219,
          -0.114475779235363,
          0.9270298480987549,
          6.959487438201904,
          0.1872767210006714,
          0.3270774781703949,
          0.8173038959503174,
          7.016705513000488,
          6.620053291320801,
          0.4700030982494354,
          0.0041813976131379604,
          6.639972686767578,
          0.07315433770418167,
          0.21201691031455994,
          0.23580484092235565,
          6.637200355529785,
          6.913637161254883,
          7.113953590393066,
          0.2305930107831955,
          7.189799785614014,
          6.5332350730896,
          0.2400277704000473,
          0.30337512493133545
         ],
         "xaxis": "x",
         "y": [
          -6.312555313110352,
          -6.928018093109131,
          -9.807469367980957,
          17.96936798095703,
          18.42877960205078,
          -7.073328971862793,
          -6.899508476257324,
          18.2681827545166,
          18.626094818115234,
          18.2432804107666,
          -10.052397727966309,
          17.402816772460938,
          15.73242473602295,
          -6.881665229797363,
          -6.51927375793457,
          -6.21295166015625,
          -8.128599166870117,
          18.05196762084961,
          18.53896141052246,
          -6.141154766082764,
          -8.077018737792969,
          -7.188679218292236,
          -7.059204578399658,
          18.037891387939453,
          -8.039247512817383,
          18.861095428466797,
          18.145105361938477,
          -6.236304759979248,
          18.4755916595459,
          18.500995635986328,
          16.47102928161621,
          -6.538454532623291,
          18.716400146484375,
          17.661174774169922,
          18.19801902770996,
          18.528202056884766,
          16.856103897094727,
          -6.962940692901611,
          -9.74683666229248,
          -6.997215270996094,
          16.388784408569336,
          18.34562110900879,
          -6.139187812805176,
          18.891429901123047,
          18.73761558532715,
          17.239625930786133,
          18.683237075805664,
          -5.955507755279541,
          17.75705909729004,
          17.608219146728516,
          16.07455825805664,
          18.764095306396484,
          -8.050134658813477,
          17.100337982177734,
          18.97531509399414,
          18.6752986907959,
          18.312999725341797,
          -7.058262825012207,
          18.524145126342773,
          -9.722541809082031,
          -5.707935333251953,
          17.69460105895996,
          16.309066772460938,
          -5.653759479522705,
          18.512405395507812,
          -9.939199447631836,
          16.1663818359375,
          -5.889291763305664,
          15.900498390197754,
          -7.197751522064209,
          18.26582145690918,
          18.908363342285156,
          18.11968994140625,
          17.106464385986328,
          17.578231811523438,
          -10.079977035522461,
          18.24892234802246,
          -7.9623122215271,
          16.581798553466797,
          -6.69040060043335,
          -6.5772480964660645,
          18.012161254882812,
          18.558801651000977,
          18.705589294433594,
          18.429508209228516,
          17.747543334960938,
          -8.041230201721191,
          18.068262100219727,
          18.469951629638672,
          -6.395437717437744,
          16.526689529418945,
          -7.01608943939209,
          -9.799527168273926,
          -9.679330825805664,
          18.0694637298584,
          18.402379989624023,
          16.96121597290039,
          17.787677764892578,
          18.699190139770508,
          -5.796360969543457,
          18.76532745361328,
          16.88947105407715,
          16.351970672607422,
          16.28299331665039,
          17.62240219116211,
          17.219308853149414,
          17.058210372924805,
          -6.779582500457764,
          18.04335594177246,
          18.24842071533203,
          16.59605598449707,
          16.998414993286133,
          18.546493530273438,
          -5.912889003753662,
          17.48525619506836,
          15.908817291259766,
          16.08579444885254,
          -6.11500883102417,
          16.110490798950195,
          -6.936812877655029,
          -6.7704925537109375,
          -7.968786239624023,
          16.244815826416016,
          16.441869735717773,
          18.263961791992188,
          17.739139556884766,
          16.8166446685791,
          -5.781963348388672,
          16.462305068969727,
          18.380083084106445,
          16.251445770263672,
          17.398807525634766,
          18.34169578552246,
          16.936025619506836,
          17.72024154663086,
          -6.632617473602295,
          -8.315742492675781,
          16.181644439697266,
          16.08206558227539,
          -10.104864120483398,
          -6.485996246337891,
          -6.430211067199707,
          16.083080291748047,
          -9.824374198913574,
          -9.876855850219727,
          17.436878204345703,
          15.840474128723145,
          15.936162948608398,
          -5.5907487869262695,
          16.908584594726562,
          16.29274559020996,
          -6.178140163421631,
          -8.029279708862305,
          16.075883865356445,
          16.67426872253418,
          16.42575454711914,
          16.764184951782227,
          16.1357421875,
          16.22555923461914,
          -5.584443092346191,
          17.119314193725586,
          15.884530067443848,
          16.147397994995117,
          -5.536255836486816,
          -9.90187931060791,
          -7.098212718963623,
          -8.041115760803223,
          16.4066219329834,
          -5.755910396575928,
          -7.084219455718994,
          16.126136779785156,
          17.74815559387207,
          17.51283836364746,
          16.29840087890625,
          -5.7243452072143555,
          -5.8739776611328125,
          -6.737696647644043,
          16.597244262695312,
          17.361915588378906,
          17.750553131103516,
          16.685606002807617,
          17.08167839050293,
          17.64130210876465,
          -5.869312763214111,
          18.463850021362305,
          -8.08138370513916,
          16.577131271362305,
          17.738000869750977,
          18.244232177734375,
          -6.681199550628662,
          -6.52053689956665,
          -6.0587158203125,
          18.27239418029785,
          17.544828414916992,
          -6.332904815673828,
          17.905672073364258,
          17.363330841064453,
          17.65485382080078,
          -7.015791416168213,
          -6.754771709442139,
          -6.794925689697266,
          -9.467878341674805,
          17.472320556640625,
          17.817270278930664,
          17.692899703979492,
          -8.117414474487305,
          -6.8221049308776855,
          -6.41209602355957,
          -9.937066078186035,
          -9.890813827514648,
          -6.208094596862793,
          -5.82628059387207,
          17.55898094177246,
          -6.219579219818115,
          -5.859175682067871,
          17.917835235595703,
          18.06893539428711,
          17.44809913635254,
          17.478984832763672,
          -6.005649566650391,
          17.430675506591797,
          16.40709686279297,
          17.159570693969727,
          -6.397876739501953,
          -7.916433334350586,
          16.412437438964844,
          17.5966739654541,
          -6.50457239151001,
          17.633678436279297,
          -6.5821075439453125,
          17.9877986907959,
          -8.118365287780762,
          17.831689834594727,
          17.6579647064209,
          17.352983474731445,
          16.497182846069336,
          16.719484329223633,
          17.327131271362305,
          -5.869041442871094,
          17.664817810058594,
          17.68637466430664,
          17.89028549194336,
          17.727916717529297,
          16.944656372070312,
          17.533109664916992,
          -6.113561630249023,
          17.586029052734375,
          16.965576171875,
          -6.417440891265869,
          17.729686737060547,
          17.826908111572266,
          -6.163270473480225,
          -6.065109729766846,
          17.485641479492188,
          17.87864875793457,
          -5.9673614501953125,
          17.933286666870117,
          -6.439548969268799,
          17.6545467376709,
          17.521148681640625,
          -6.006728649139404,
          17.081106185913086,
          16.80660629272461,
          17.006851196289062,
          -9.672401428222656,
          17.810794830322266,
          17.66301727294922,
          -9.928110122680664,
          -6.221329689025879,
          17.413312911987305,
          -6.8847784996032715,
          -6.007030010223389,
          16.66861343383789,
          -6.139476776123047,
          17.426801681518555,
          17.0108585357666,
          -8.154582977294922,
          16.98339080810547,
          17.787099838256836,
          -9.799047470092773,
          -6.16549825668335,
          17.784448623657227,
          16.803647994995117,
          17.090618133544922,
          -6.729944229125977,
          17.416767120361328,
          17.693302154541016,
          17.259132385253906,
          17.478960037231445,
          -6.2606096267700195,
          16.49350929260254,
          -6.233493804931641,
          -9.997517585754395,
          17.440399169921875,
          -9.927312850952148,
          16.89602279663086,
          -8.064934730529785,
          16.637649536132812,
          17.261489868164062,
          -6.605578422546387,
          -6.0894551277160645,
          -6.101326942443848,
          -6.369635581970215,
          16.39479637145996,
          17.02585220336914,
          16.782278060913086,
          16.57425308227539,
          17.09619903564453,
          17.20658302307129,
          -6.241157531738281,
          17.664554595947266,
          -6.369177341461182,
          16.538997650146484,
          -8.069016456604004,
          17.239595413208008,
          16.84312629699707,
          16.971960067749023,
          16.683107376098633,
          -6.451753616333008,
          -6.387416839599609,
          -6.594122886657715,
          17.157289505004883,
          16.930980682373047,
          -6.323159217834473,
          -7.986466407775879,
          -6.259486675262451,
          17.44038200378418,
          17.892105102539062,
          -9.974040985107422,
          17.155977249145508,
          17.162395477294922,
          -9.87642765045166,
          -8.05372428894043,
          16.70027732849121,
          17.30071258544922,
          16.820722579956055,
          -6.210768222808838,
          17.339662551879883,
          16.96422576904297,
          -6.465347766876221,
          16.644794464111328,
          17.67897605895996,
          16.997350692749023,
          -6.347665309906006,
          -6.344280242919922,
          17.49006462097168,
          17.2394962310791,
          17.292444229125977,
          16.857507705688477,
          16.76387596130371,
          -6.40513277053833,
          17.324350357055664,
          17.319766998291016,
          17.160140991210938,
          -6.662957668304443,
          -6.532870292663574,
          -9.918742179870605,
          16.800203323364258,
          16.957550048828125,
          17.00821304321289,
          -6.237598419189453,
          16.8741512298584,
          -9.71935749053955,
          17.336389541625977,
          -6.187952518463135,
          17.233997344970703,
          -8.105063438415527,
          16.943143844604492,
          17.250446319580078,
          -6.331287860870361,
          -6.580913543701172,
          -6.548488140106201,
          17.030385971069336,
          -6.074038982391357,
          17.422945022583008,
          -6.535791873931885,
          17.126821517944336,
          17.227331161499023,
          17.169612884521484,
          17.622995376586914,
          16.773151397705078,
          16.815683364868164,
          -6.673705577850342,
          -6.1161723136901855,
          17.200035095214844,
          -6.206803321838379,
          17.112812042236328,
          16.93561363220215,
          16.719839096069336,
          16.811119079589844,
          18.150875091552734,
          16.863401412963867,
          -9.674532890319824,
          -6.260875701904297,
          17.041568756103516,
          17.004196166992188,
          -10.031091690063477,
          -6.7548298835754395,
          -6.658365726470947,
          17.103456497192383,
          16.8375244140625,
          -5.9512152671813965,
          16.836946487426758,
          16.773962020874023,
          17.044527053833008,
          -6.507410526275635,
          -6.401853561401367,
          -6.415517330169678,
          17.141565322875977,
          -6.029932975769043,
          -6.2640061378479,
          17.296987533569336,
          16.847349166870117
         ],
         "yaxis": "y"
        }
       ],
       "layout": {
        "coloraxis": {
         "colorbar": {
          "title": {
           "text": "color"
          }
         },
         "colorscale": [
          [
           0,
           "#0d0887"
          ],
          [
           0.1111111111111111,
           "#46039f"
          ],
          [
           0.2222222222222222,
           "#7201a8"
          ],
          [
           0.3333333333333333,
           "#9c179e"
          ],
          [
           0.4444444444444444,
           "#bd3786"
          ],
          [
           0.5555555555555556,
           "#d8576b"
          ],
          [
           0.6666666666666666,
           "#ed7953"
          ],
          [
           0.7777777777777778,
           "#fb9f3a"
          ],
          [
           0.8888888888888888,
           "#fdca26"
          ],
          [
           1,
           "#f0f921"
          ]
         ]
        },
        "legend": {
         "tracegroupgap": 0
        },
        "margin": {
         "t": 60
        },
        "template": {
         "data": {
          "bar": [
           {
            "error_x": {
             "color": "#2a3f5f"
            },
            "error_y": {
             "color": "#2a3f5f"
            },
            "marker": {
             "line": {
              "color": "#E5ECF6",
              "width": 0.5
             },
             "pattern": {
              "fillmode": "overlay",
              "size": 10,
              "solidity": 0.2
             }
            },
            "type": "bar"
           }
          ],
          "barpolar": [
           {
            "marker": {
             "line": {
              "color": "#E5ECF6",
              "width": 0.5
             },
             "pattern": {
              "fillmode": "overlay",
              "size": 10,
              "solidity": 0.2
             }
            },
            "type": "barpolar"
           }
          ],
          "carpet": [
           {
            "aaxis": {
             "endlinecolor": "#2a3f5f",
             "gridcolor": "white",
             "linecolor": "white",
             "minorgridcolor": "white",
             "startlinecolor": "#2a3f5f"
            },
            "baxis": {
             "endlinecolor": "#2a3f5f",
             "gridcolor": "white",
             "linecolor": "white",
             "minorgridcolor": "white",
             "startlinecolor": "#2a3f5f"
            },
            "type": "carpet"
           }
          ],
          "choropleth": [
           {
            "colorbar": {
             "outlinewidth": 0,
             "ticks": ""
            },
            "type": "choropleth"
           }
          ],
          "contour": [
           {
            "colorbar": {
             "outlinewidth": 0,
             "ticks": ""
            },
            "colorscale": [
             [
              0,
              "#0d0887"
             ],
             [
              0.1111111111111111,
              "#46039f"
             ],
             [
              0.2222222222222222,
              "#7201a8"
             ],
             [
              0.3333333333333333,
              "#9c179e"
             ],
             [
              0.4444444444444444,
              "#bd3786"
             ],
             [
              0.5555555555555556,
              "#d8576b"
             ],
             [
              0.6666666666666666,
              "#ed7953"
             ],
             [
              0.7777777777777778,
              "#fb9f3a"
             ],
             [
              0.8888888888888888,
              "#fdca26"
             ],
             [
              1,
              "#f0f921"
             ]
            ],
            "type": "contour"
           }
          ],
          "contourcarpet": [
           {
            "colorbar": {
             "outlinewidth": 0,
             "ticks": ""
            },
            "type": "contourcarpet"
           }
          ],
          "heatmap": [
           {
            "colorbar": {
             "outlinewidth": 0,
             "ticks": ""
            },
            "colorscale": [
             [
              0,
              "#0d0887"
             ],
             [
              0.1111111111111111,
              "#46039f"
             ],
             [
              0.2222222222222222,
              "#7201a8"
             ],
             [
              0.3333333333333333,
              "#9c179e"
             ],
             [
              0.4444444444444444,
              "#bd3786"
             ],
             [
              0.5555555555555556,
              "#d8576b"
             ],
             [
              0.6666666666666666,
              "#ed7953"
             ],
             [
              0.7777777777777778,
              "#fb9f3a"
             ],
             [
              0.8888888888888888,
              "#fdca26"
             ],
             [
              1,
              "#f0f921"
             ]
            ],
            "type": "heatmap"
           }
          ],
          "heatmapgl": [
           {
            "colorbar": {
             "outlinewidth": 0,
             "ticks": ""
            },
            "colorscale": [
             [
              0,
              "#0d0887"
             ],
             [
              0.1111111111111111,
              "#46039f"
             ],
             [
              0.2222222222222222,
              "#7201a8"
             ],
             [
              0.3333333333333333,
              "#9c179e"
             ],
             [
              0.4444444444444444,
              "#bd3786"
             ],
             [
              0.5555555555555556,
              "#d8576b"
             ],
             [
              0.6666666666666666,
              "#ed7953"
             ],
             [
              0.7777777777777778,
              "#fb9f3a"
             ],
             [
              0.8888888888888888,
              "#fdca26"
             ],
             [
              1,
              "#f0f921"
             ]
            ],
            "type": "heatmapgl"
           }
          ],
          "histogram": [
           {
            "marker": {
             "pattern": {
              "fillmode": "overlay",
              "size": 10,
              "solidity": 0.2
             }
            },
            "type": "histogram"
           }
          ],
          "histogram2d": [
           {
            "colorbar": {
             "outlinewidth": 0,
             "ticks": ""
            },
            "colorscale": [
             [
              0,
              "#0d0887"
             ],
             [
              0.1111111111111111,
              "#46039f"
             ],
             [
              0.2222222222222222,
              "#7201a8"
             ],
             [
              0.3333333333333333,
              "#9c179e"
             ],
             [
              0.4444444444444444,
              "#bd3786"
             ],
             [
              0.5555555555555556,
              "#d8576b"
             ],
             [
              0.6666666666666666,
              "#ed7953"
             ],
             [
              0.7777777777777778,
              "#fb9f3a"
             ],
             [
              0.8888888888888888,
              "#fdca26"
             ],
             [
              1,
              "#f0f921"
             ]
            ],
            "type": "histogram2d"
           }
          ],
          "histogram2dcontour": [
           {
            "colorbar": {
             "outlinewidth": 0,
             "ticks": ""
            },
            "colorscale": [
             [
              0,
              "#0d0887"
             ],
             [
              0.1111111111111111,
              "#46039f"
             ],
             [
              0.2222222222222222,
              "#7201a8"
             ],
             [
              0.3333333333333333,
              "#9c179e"
             ],
             [
              0.4444444444444444,
              "#bd3786"
             ],
             [
              0.5555555555555556,
              "#d8576b"
             ],
             [
              0.6666666666666666,
              "#ed7953"
             ],
             [
              0.7777777777777778,
              "#fb9f3a"
             ],
             [
              0.8888888888888888,
              "#fdca26"
             ],
             [
              1,
              "#f0f921"
             ]
            ],
            "type": "histogram2dcontour"
           }
          ],
          "mesh3d": [
           {
            "colorbar": {
             "outlinewidth": 0,
             "ticks": ""
            },
            "type": "mesh3d"
           }
          ],
          "parcoords": [
           {
            "line": {
             "colorbar": {
              "outlinewidth": 0,
              "ticks": ""
             }
            },
            "type": "parcoords"
           }
          ],
          "pie": [
           {
            "automargin": true,
            "type": "pie"
           }
          ],
          "scatter": [
           {
            "fillpattern": {
             "fillmode": "overlay",
             "size": 10,
             "solidity": 0.2
            },
            "type": "scatter"
           }
          ],
          "scatter3d": [
           {
            "line": {
             "colorbar": {
              "outlinewidth": 0,
              "ticks": ""
             }
            },
            "marker": {
             "colorbar": {
              "outlinewidth": 0,
              "ticks": ""
             }
            },
            "type": "scatter3d"
           }
          ],
          "scattercarpet": [
           {
            "marker": {
             "colorbar": {
              "outlinewidth": 0,
              "ticks": ""
             }
            },
            "type": "scattercarpet"
           }
          ],
          "scattergeo": [
           {
            "marker": {
             "colorbar": {
              "outlinewidth": 0,
              "ticks": ""
             }
            },
            "type": "scattergeo"
           }
          ],
          "scattergl": [
           {
            "marker": {
             "colorbar": {
              "outlinewidth": 0,
              "ticks": ""
             }
            },
            "type": "scattergl"
           }
          ],
          "scattermapbox": [
           {
            "marker": {
             "colorbar": {
              "outlinewidth": 0,
              "ticks": ""
             }
            },
            "type": "scattermapbox"
           }
          ],
          "scatterpolar": [
           {
            "marker": {
             "colorbar": {
              "outlinewidth": 0,
              "ticks": ""
             }
            },
            "type": "scatterpolar"
           }
          ],
          "scatterpolargl": [
           {
            "marker": {
             "colorbar": {
              "outlinewidth": 0,
              "ticks": ""
             }
            },
            "type": "scatterpolargl"
           }
          ],
          "scatterternary": [
           {
            "marker": {
             "colorbar": {
              "outlinewidth": 0,
              "ticks": ""
             }
            },
            "type": "scatterternary"
           }
          ],
          "surface": [
           {
            "colorbar": {
             "outlinewidth": 0,
             "ticks": ""
            },
            "colorscale": [
             [
              0,
              "#0d0887"
             ],
             [
              0.1111111111111111,
              "#46039f"
             ],
             [
              0.2222222222222222,
              "#7201a8"
             ],
             [
              0.3333333333333333,
              "#9c179e"
             ],
             [
              0.4444444444444444,
              "#bd3786"
             ],
             [
              0.5555555555555556,
              "#d8576b"
             ],
             [
              0.6666666666666666,
              "#ed7953"
             ],
             [
              0.7777777777777778,
              "#fb9f3a"
             ],
             [
              0.8888888888888888,
              "#fdca26"
             ],
             [
              1,
              "#f0f921"
             ]
            ],
            "type": "surface"
           }
          ],
          "table": [
           {
            "cells": {
             "fill": {
              "color": "#EBF0F8"
             },
             "line": {
              "color": "white"
             }
            },
            "header": {
             "fill": {
              "color": "#C8D4E3"
             },
             "line": {
              "color": "white"
             }
            },
            "type": "table"
           }
          ]
         },
         "layout": {
          "annotationdefaults": {
           "arrowcolor": "#2a3f5f",
           "arrowhead": 0,
           "arrowwidth": 1
          },
          "autotypenumbers": "strict",
          "coloraxis": {
           "colorbar": {
            "outlinewidth": 0,
            "ticks": ""
           }
          },
          "colorscale": {
           "diverging": [
            [
             0,
             "#8e0152"
            ],
            [
             0.1,
             "#c51b7d"
            ],
            [
             0.2,
             "#de77ae"
            ],
            [
             0.3,
             "#f1b6da"
            ],
            [
             0.4,
             "#fde0ef"
            ],
            [
             0.5,
             "#f7f7f7"
            ],
            [
             0.6,
             "#e6f5d0"
            ],
            [
             0.7,
             "#b8e186"
            ],
            [
             0.8,
             "#7fbc41"
            ],
            [
             0.9,
             "#4d9221"
            ],
            [
             1,
             "#276419"
            ]
           ],
           "sequential": [
            [
             0,
             "#0d0887"
            ],
            [
             0.1111111111111111,
             "#46039f"
            ],
            [
             0.2222222222222222,
             "#7201a8"
            ],
            [
             0.3333333333333333,
             "#9c179e"
            ],
            [
             0.4444444444444444,
             "#bd3786"
            ],
            [
             0.5555555555555556,
             "#d8576b"
            ],
            [
             0.6666666666666666,
             "#ed7953"
            ],
            [
             0.7777777777777778,
             "#fb9f3a"
            ],
            [
             0.8888888888888888,
             "#fdca26"
            ],
            [
             1,
             "#f0f921"
            ]
           ],
           "sequentialminus": [
            [
             0,
             "#0d0887"
            ],
            [
             0.1111111111111111,
             "#46039f"
            ],
            [
             0.2222222222222222,
             "#7201a8"
            ],
            [
             0.3333333333333333,
             "#9c179e"
            ],
            [
             0.4444444444444444,
             "#bd3786"
            ],
            [
             0.5555555555555556,
             "#d8576b"
            ],
            [
             0.6666666666666666,
             "#ed7953"
            ],
            [
             0.7777777777777778,
             "#fb9f3a"
            ],
            [
             0.8888888888888888,
             "#fdca26"
            ],
            [
             1,
             "#f0f921"
            ]
           ]
          },
          "colorway": [
           "#636efa",
           "#EF553B",
           "#00cc96",
           "#ab63fa",
           "#FFA15A",
           "#19d3f3",
           "#FF6692",
           "#B6E880",
           "#FF97FF",
           "#FECB52"
          ],
          "font": {
           "color": "#2a3f5f"
          },
          "geo": {
           "bgcolor": "white",
           "lakecolor": "white",
           "landcolor": "#E5ECF6",
           "showlakes": true,
           "showland": true,
           "subunitcolor": "white"
          },
          "hoverlabel": {
           "align": "left"
          },
          "hovermode": "closest",
          "mapbox": {
           "style": "light"
          },
          "paper_bgcolor": "white",
          "plot_bgcolor": "#E5ECF6",
          "polar": {
           "angularaxis": {
            "gridcolor": "white",
            "linecolor": "white",
            "ticks": ""
           },
           "bgcolor": "#E5ECF6",
           "radialaxis": {
            "gridcolor": "white",
            "linecolor": "white",
            "ticks": ""
           }
          },
          "scene": {
           "xaxis": {
            "backgroundcolor": "#E5ECF6",
            "gridcolor": "white",
            "gridwidth": 2,
            "linecolor": "white",
            "showbackground": true,
            "ticks": "",
            "zerolinecolor": "white"
           },
           "yaxis": {
            "backgroundcolor": "#E5ECF6",
            "gridcolor": "white",
            "gridwidth": 2,
            "linecolor": "white",
            "showbackground": true,
            "ticks": "",
            "zerolinecolor": "white"
           },
           "zaxis": {
            "backgroundcolor": "#E5ECF6",
            "gridcolor": "white",
            "gridwidth": 2,
            "linecolor": "white",
            "showbackground": true,
            "ticks": "",
            "zerolinecolor": "white"
           }
          },
          "shapedefaults": {
           "line": {
            "color": "#2a3f5f"
           }
          },
          "ternary": {
           "aaxis": {
            "gridcolor": "white",
            "linecolor": "white",
            "ticks": ""
           },
           "baxis": {
            "gridcolor": "white",
            "linecolor": "white",
            "ticks": ""
           },
           "bgcolor": "#E5ECF6",
           "caxis": {
            "gridcolor": "white",
            "linecolor": "white",
            "ticks": ""
           }
          },
          "title": {
           "x": 0.05
          },
          "xaxis": {
           "automargin": true,
           "gridcolor": "white",
           "linecolor": "white",
           "ticks": "",
           "title": {
            "standoff": 15
           },
           "zerolinecolor": "white",
           "zerolinewidth": 2
          },
          "yaxis": {
           "automargin": true,
           "gridcolor": "white",
           "linecolor": "white",
           "ticks": "",
           "title": {
            "standoff": 15
           },
           "zerolinecolor": "white",
           "zerolinewidth": 2
          }
         }
        },
        "xaxis": {
         "anchor": "y",
         "domain": [
          0,
          1
         ],
         "title": {
          "text": "0"
         }
        },
        "yaxis": {
         "anchor": "x",
         "domain": [
          0,
          1
         ],
         "title": {
          "text": "1"
         }
        }
       }
      },
      "text/html": [
       "<div>                            <div id=\"acbf34c0-e717-4f33-8095-1ee5a039c665\" class=\"plotly-graph-div\" style=\"height:525px; width:100%;\"></div>            <script type=\"text/javascript\">                require([\"plotly\"], function(Plotly) {                    window.PLOTLYENV=window.PLOTLYENV || {};                                    if (document.getElementById(\"acbf34c0-e717-4f33-8095-1ee5a039c665\")) {                    Plotly.newPlot(                        \"acbf34c0-e717-4f33-8095-1ee5a039c665\",                        [{\"hovertemplate\":\"0=%{x}\\u003cbr\\u003e1=%{y}\\u003cbr\\u003ecolor=%{marker.color}\\u003cextra\\u003e\\u003c\\u002fextra\\u003e\",\"legendgroup\":\"\",\"marker\":{\"color\":[4,4,3,3,2,3,3,3,2,3,4,3,2,2,2,2,4,2,4,4,3,4,3,3,1,3,4,3,3,3,3,2,3,3,3,3,4,4,4,4,3,3,4,2,2,4,3,3,3,3,4,4,3,2,2,3,4,4,2,3,3,3,3,3,2,2,2,2,2,2,2,2,2,2,2,2,2,2,2,3,1,3,3,4,4,4,3,4,3,3,4,4,2,4,4,3,4,3,4,3,4,3,4,2,4,3,4,4,4,3,3,3,2,3,2,2,3,3,3,3,4,2,2,2,2,4,4,2,4,2,2,4,4,3,2,2,2,2,2,3,3,2,2,4,4,2,2,2,2,2,2,2,2,2,2,3,4,2,2,3,4,3,3,3,2,2,4,3,3,4,2,3,2,2,2,2,4,4,4,3,4,3,4,4,4,3,2,3,4,2,3,2,3,3,2,3,4,3,4,4,3,3,4,2,3,4,3,3,3,4,4,4,4,4,3,4,4,3,3,3,4,2,2,2,2,3,2,2,2,2,2,4,4,4,2,2,3,2,3,2,3,3,3,4,3,4,4,4,4,4,4,2,3,2,4,3,4,4,3,2,2,4,4,4,3,4,2,3,4,4,2,3,4,2,2,2,3,4,3,4,3,3,3,2,2,3,2,2,2,3,3,3,2,3,4,4,3,3,4,4,3,2,3,4,2,2,3,2,3,3,4,3,4,3,4,4,4,4,2,2,4,2,3,3,3,4,4,2,2,4,3,3,3,3,4,4,2,2,4,4,4,3,3,3,4,4,4,4,4,4,3,3,4,4,4,3,3,2,3,4,3,2,2,3,4,4,3,3,4,4,3,2,4,3,3,4,3,2,2,4,2,2,3,4,2,2,2,3,2,4,3,4,2,2,2,2,3,2,4,4,3,3,3,2,2,3,2,3,3,4,4,4,4],\"coloraxis\":\"coloraxis\",\"symbol\":\"circle\"},\"mode\":\"markers\",\"name\":\"\",\"orientation\":\"v\",\"showlegend\":false,\"x\":[7.395112037658691,7.369065284729004,0.6918961405754089,-1.5143712759017944,-0.500897228717804,6.917871952056885,6.776891708374023,0.11039955168962479,-0.17016839981079102,0.2013472467660904,0.9715706706047058,-2.1539316177368164,-0.6747754812240601,6.567455291748047,6.010810375213623,7.533928871154785,1.6113489866256714,-2.0475854873657227,-0.7076612710952759,6.1111674308776855,1.916009545326233,6.820927619934082,6.8530049324035645,0.6397486925125122,1.7910162210464478,-0.5060099959373474,-1.8972587585449219,6.011322498321533,-0.891865074634552,-0.18858776986598969,-1.7059351205825806,6.15731143951416,-1.679465651512146,-1.646878957748413,-1.8686836957931519,0.45483699440956116,-1.5496820211410522,7.4048991203308105,0.9453787207603455,7.222679615020752,0.7361248731613159,-0.22760552167892456,6.1398606300354,-0.6499717831611633,-0.30806875228881836,-2.0438406467437744,-0.09958437830209732,7.552769660949707,-1.9938445091247559,0.8189941644668579,-1.454291582107544,-1.305389642715454,1.6115050315856934,-1.4447526931762695,-0.8421404957771301,-0.40802451968193054,-1.0099780559539795,6.323224067687988,0.44905778765678406,0.8912565112113953,7.063426971435547,-2.07729172706604,-1.461694598197937,6.421720504760742,-0.7691739797592163,0.8631665110588074,0.30950120091438293,7.26072359085083,-0.3159552216529846,6.837253570556641,-1.6572319269180298,-1.3382601737976074,-1.5875879526138306,-1.8703334331512451,1.0658316612243652,0.5974918007850647,-1.424574851989746,1.6958788633346558,-1.9496649503707886,6.1435418128967285,7.52196741104126,-1.700033187866211,-1.0808560848236084,0.05745789408683777,-1.2318975925445557,0.9227686524391174,1.4506175518035889,0.7774795293807983,-0.08728630095720291,7.515280246734619,-1.8128149509429932,6.265853404998779,0.8178562521934509,0.5150144100189209,0.8052101135253906,-1.3202965259552002,-2.1299092769622803,0.6261226534843445,-0.4736071228981018,6.270747661590576,-0.7583774924278259,-1.679934024810791,-1.2608070373535156,0.19685806334018707,-1.4878867864608765,-1.4653090238571167,1.007494568824768,7.390375137329102,-1.3025810718536377,-1.0958445072174072,0.7924819588661194,0.959905207157135,0.4314577281475067,6.16088342666626,0.9600801467895508,-1.1304322481155396,-0.18990641832351685,7.585970878601074,0.3854920566082001,6.622554779052734,7.291293144226074,1.4095044136047363,-1.6361064910888672,-1.5458505153656006,-0.36087775230407715,-1.2030599117279053,0.8041138052940369,7.340906143188477,0.579565703868866,-1.3084992170333862,-0.8101623058319092,0.9245302081108093,-0.9569296836853027,-1.6365137100219727,-1.355111837387085,7.386135578155518,1.6378103494644165,-0.26976972818374634,-0.3366697430610657,0.6421342492103577,5.978426933288574,7.487832069396973,-1.050291895866394,0.7103431224822998,0.8568925261497498,-1.6841121912002563,-0.2805323600769043,0.07289877533912659,6.700353622436523,0.8862853050231934,-0.5042005181312561,7.3020548820495605,1.537111520767212,-0.6496506929397583,0.7297507524490356,-1.0574673414230347,-1.317760705947876,-1.130126953125,0.3567810654640198,6.908965110778809,-1.8456356525421143,-0.7486423850059509,-0.12743724882602692,6.665735721588135,0.7219884395599365,7.006901741027832,1.772046446800232,0.5025544762611389,7.285383701324463,6.672621250152588,-0.6711236834526062,-0.6613662242889404,0.5837078094482422,-0.29045549035072327,6.99241828918457,6.368947982788086,6.150171279907227,0.05837920308113098,-1.169954538345337,0.12076137959957123,0.44456592202186584,0.5225985050201416,-0.9813110828399658,6.212921619415283,0.4518950283527374,1.5572922229766846,-0.8925683498382568,0.4629340171813965,0.28027141094207764,6.850749969482422,6.417815685272217,6.2601494789123535,0.435082346200943,0.4190067946910858,6.235262393951416,-0.2470662146806717,0.5689505934715271,0.006533628795295954,6.241186618804932,6.697650909423828,7.130945205688477,0.9751465916633606,0.10412819683551788,-0.9269090890884399,-0.5202676057815552,1.4588401317596436,6.857119083404541,7.140075206756592,0.5879133343696594,0.7601003646850586,7.165282726287842,6.931872367858887,0.15279227495193481,7.330333709716797,6.584733009338379,0.010323649272322655,-0.19201667606830597,0.3967416286468506,-0.20617929100990295,6.661892414093018,0.1070554330945015,-0.15063218772411346,-1.031973958015442,6.447556495666504,1.5475542545318604,-0.039296217262744904,0.37024036049842834,7.191634178161621,0.1411173939704895,6.670903205871582,0.19908596575260162,1.4179288148880005,0.22192484140396118,0.12302517145872116,0.18731628358364105,-0.47621917724609375,-0.5606948137283325,-1.0370676517486572,6.803030014038086,-0.4525586664676666,-0.1009889468550682,-0.7751933932304382,-0.30655574798583984,-0.5472447276115417,-0.9014158248901367,6.954342842102051,-1.0573093891143799,-1.0568329095840454,6.771965980529785,-0.5970548987388611,0.01894783414900303,6.45724630355835,7.0038652420043945,-0.07485514134168625,-0.3089113235473633,6.791987895965576,-0.5353966355323792,6.7478413581848145,-0.8113434910774231,-0.29772454500198364,6.593846321105957,-0.7090702652931213,-1.106084942817688,-0.8621996641159058,0.9358730912208557,-0.28569164872169495,-0.7360016107559204,0.7829190492630005,7.077596664428711,-0.9970431327819824,6.306978702545166,6.48689079284668,-0.3622896075248718,7.012081146240234,-0.6015215516090393,-0.40055468678474426,1.5014864206314087,-0.9177916646003723,-0.6481019854545593,0.7129545211791992,6.739698886871338,-0.6145449280738831,-0.7027848362922668,-0.09355927258729935,6.498901844024658,0.28075718879699707,-0.4165917634963989,-0.6008816957473755,-0.7424116730690002,6.632212162017822,-0.27272728085517883,6.8907880783081055,0.7543813586235046,-0.9512499570846558,0.741929829120636,-0.7323037385940552,1.519814372062683,0.253831684589386,-0.41893500089645386,6.505733966827393,6.8027873039245605,6.668376922607422,6.841803073883057,-0.35742491483688354,-0.5445301532745361,0.2165345549583435,0.09393762797117233,-0.5682784914970398,-0.38216906785964966,6.859829425811768,-0.13824611902236938,6.433661937713623,0.03049832209944725,1.4489651918411255,0.17704755067825317,-0.7273494005203247,0.3049887418746948,-0.7641724944114685,7.077651500701904,6.567200660705566,7.034336090087891,0.5738940238952637,-0.19092895090579987,6.57581901550293,1.4496192932128906,6.583974361419678,-0.6675819754600525,-0.5545312762260437,0.8409074544906616,0.41444888710975647,-0.9375725984573364,0.707237720489502,1.4157906770706177,-0.4093601703643799,-0.28749480843544006,0.18445588648319244,7.109640598297119,-0.18548992276191711,0.37695637345314026,7.096348285675049,-0.12185236811637878,-0.11424915492534637,-0.6387331485748291,6.75468635559082,6.449129104614258,-0.6758478283882141,-0.15180175006389618,-0.1668466031551361,-0.39847391843795776,-0.25251880288124084,6.77164363861084,-0.6863111257553101,0.006983770988881588,-0.2875281870365143,6.891944885253906,6.710346221923828,0.8270344734191895,-0.33677008748054504,-0.3179311454296112,-0.5325313210487366,6.71534538269043,-0.16175176203250885,0.8976567387580872,-0.3426683247089386,6.601706027984619,-0.04179210588335991,1.5176912546157837,-0.01391566637903452,-0.2655298113822937,7.006946086883545,6.899295330047607,6.807247638702393,-0.11939109116792679,7.053311824798584,-0.2152746617794037,6.417318820953369,-0.13265445828437805,0.06850835680961609,-0.44984322786331177,-0.04035992920398712,-0.18092523515224457,-0.4297618269920349,6.824244499206543,6.715243339538574,-0.032138604670763016,6.76873779296875,0.2821648120880127,-0.13527588546276093,-0.3396751284599304,0.05838826671242714,0.3707675039768219,-0.114475779235363,0.9270298480987549,6.959487438201904,0.1872767210006714,0.3270774781703949,0.8173038959503174,7.016705513000488,6.620053291320801,0.4700030982494354,0.0041813976131379604,6.639972686767578,0.07315433770418167,0.21201691031455994,0.23580484092235565,6.637200355529785,6.913637161254883,7.113953590393066,0.2305930107831955,7.189799785614014,6.5332350730896,0.2400277704000473,0.30337512493133545],\"xaxis\":\"x\",\"y\":[-6.312555313110352,-6.928018093109131,-9.807469367980957,17.96936798095703,18.42877960205078,-7.073328971862793,-6.899508476257324,18.2681827545166,18.626094818115234,18.2432804107666,-10.052397727966309,17.402816772460938,15.73242473602295,-6.881665229797363,-6.51927375793457,-6.21295166015625,-8.128599166870117,18.05196762084961,18.53896141052246,-6.141154766082764,-8.077018737792969,-7.188679218292236,-7.059204578399658,18.037891387939453,-8.039247512817383,18.861095428466797,18.145105361938477,-6.236304759979248,18.4755916595459,18.500995635986328,16.47102928161621,-6.538454532623291,18.716400146484375,17.661174774169922,18.19801902770996,18.528202056884766,16.856103897094727,-6.962940692901611,-9.74683666229248,-6.997215270996094,16.388784408569336,18.34562110900879,-6.139187812805176,18.891429901123047,18.73761558532715,17.239625930786133,18.683237075805664,-5.955507755279541,17.75705909729004,17.608219146728516,16.07455825805664,18.764095306396484,-8.050134658813477,17.100337982177734,18.97531509399414,18.6752986907959,18.312999725341797,-7.058262825012207,18.524145126342773,-9.722541809082031,-5.707935333251953,17.69460105895996,16.309066772460938,-5.653759479522705,18.512405395507812,-9.939199447631836,16.1663818359375,-5.889291763305664,15.900498390197754,-7.197751522064209,18.26582145690918,18.908363342285156,18.11968994140625,17.106464385986328,17.578231811523438,-10.079977035522461,18.24892234802246,-7.9623122215271,16.581798553466797,-6.69040060043335,-6.5772480964660645,18.012161254882812,18.558801651000977,18.705589294433594,18.429508209228516,17.747543334960938,-8.041230201721191,18.068262100219727,18.469951629638672,-6.395437717437744,16.526689529418945,-7.01608943939209,-9.799527168273926,-9.679330825805664,18.0694637298584,18.402379989624023,16.96121597290039,17.787677764892578,18.699190139770508,-5.796360969543457,18.76532745361328,16.88947105407715,16.351970672607422,16.28299331665039,17.62240219116211,17.219308853149414,17.058210372924805,-6.779582500457764,18.04335594177246,18.24842071533203,16.59605598449707,16.998414993286133,18.546493530273438,-5.912889003753662,17.48525619506836,15.908817291259766,16.08579444885254,-6.11500883102417,16.110490798950195,-6.936812877655029,-6.7704925537109375,-7.968786239624023,16.244815826416016,16.441869735717773,18.263961791992188,17.739139556884766,16.8166446685791,-5.781963348388672,16.462305068969727,18.380083084106445,16.251445770263672,17.398807525634766,18.34169578552246,16.936025619506836,17.72024154663086,-6.632617473602295,-8.315742492675781,16.181644439697266,16.08206558227539,-10.104864120483398,-6.485996246337891,-6.430211067199707,16.083080291748047,-9.824374198913574,-9.876855850219727,17.436878204345703,15.840474128723145,15.936162948608398,-5.5907487869262695,16.908584594726562,16.29274559020996,-6.178140163421631,-8.029279708862305,16.075883865356445,16.67426872253418,16.42575454711914,16.764184951782227,16.1357421875,16.22555923461914,-5.584443092346191,17.119314193725586,15.884530067443848,16.147397994995117,-5.536255836486816,-9.90187931060791,-7.098212718963623,-8.041115760803223,16.4066219329834,-5.755910396575928,-7.084219455718994,16.126136779785156,17.74815559387207,17.51283836364746,16.29840087890625,-5.7243452072143555,-5.8739776611328125,-6.737696647644043,16.597244262695312,17.361915588378906,17.750553131103516,16.685606002807617,17.08167839050293,17.64130210876465,-5.869312763214111,18.463850021362305,-8.08138370513916,16.577131271362305,17.738000869750977,18.244232177734375,-6.681199550628662,-6.52053689956665,-6.0587158203125,18.27239418029785,17.544828414916992,-6.332904815673828,17.905672073364258,17.363330841064453,17.65485382080078,-7.015791416168213,-6.754771709442139,-6.794925689697266,-9.467878341674805,17.472320556640625,17.817270278930664,17.692899703979492,-8.117414474487305,-6.8221049308776855,-6.41209602355957,-9.937066078186035,-9.890813827514648,-6.208094596862793,-5.82628059387207,17.55898094177246,-6.219579219818115,-5.859175682067871,17.917835235595703,18.06893539428711,17.44809913635254,17.478984832763672,-6.005649566650391,17.430675506591797,16.40709686279297,17.159570693969727,-6.397876739501953,-7.916433334350586,16.412437438964844,17.5966739654541,-6.50457239151001,17.633678436279297,-6.5821075439453125,17.9877986907959,-8.118365287780762,17.831689834594727,17.6579647064209,17.352983474731445,16.497182846069336,16.719484329223633,17.327131271362305,-5.869041442871094,17.664817810058594,17.68637466430664,17.89028549194336,17.727916717529297,16.944656372070312,17.533109664916992,-6.113561630249023,17.586029052734375,16.965576171875,-6.417440891265869,17.729686737060547,17.826908111572266,-6.163270473480225,-6.065109729766846,17.485641479492188,17.87864875793457,-5.9673614501953125,17.933286666870117,-6.439548969268799,17.6545467376709,17.521148681640625,-6.006728649139404,17.081106185913086,16.80660629272461,17.006851196289062,-9.672401428222656,17.810794830322266,17.66301727294922,-9.928110122680664,-6.221329689025879,17.413312911987305,-6.8847784996032715,-6.007030010223389,16.66861343383789,-6.139476776123047,17.426801681518555,17.0108585357666,-8.154582977294922,16.98339080810547,17.787099838256836,-9.799047470092773,-6.16549825668335,17.784448623657227,16.803647994995117,17.090618133544922,-6.729944229125977,17.416767120361328,17.693302154541016,17.259132385253906,17.478960037231445,-6.2606096267700195,16.49350929260254,-6.233493804931641,-9.997517585754395,17.440399169921875,-9.927312850952148,16.89602279663086,-8.064934730529785,16.637649536132812,17.261489868164062,-6.605578422546387,-6.0894551277160645,-6.101326942443848,-6.369635581970215,16.39479637145996,17.02585220336914,16.782278060913086,16.57425308227539,17.09619903564453,17.20658302307129,-6.241157531738281,17.664554595947266,-6.369177341461182,16.538997650146484,-8.069016456604004,17.239595413208008,16.84312629699707,16.971960067749023,16.683107376098633,-6.451753616333008,-6.387416839599609,-6.594122886657715,17.157289505004883,16.930980682373047,-6.323159217834473,-7.986466407775879,-6.259486675262451,17.44038200378418,17.892105102539062,-9.974040985107422,17.155977249145508,17.162395477294922,-9.87642765045166,-8.05372428894043,16.70027732849121,17.30071258544922,16.820722579956055,-6.210768222808838,17.339662551879883,16.96422576904297,-6.465347766876221,16.644794464111328,17.67897605895996,16.997350692749023,-6.347665309906006,-6.344280242919922,17.49006462097168,17.2394962310791,17.292444229125977,16.857507705688477,16.76387596130371,-6.40513277053833,17.324350357055664,17.319766998291016,17.160140991210938,-6.662957668304443,-6.532870292663574,-9.918742179870605,16.800203323364258,16.957550048828125,17.00821304321289,-6.237598419189453,16.8741512298584,-9.71935749053955,17.336389541625977,-6.187952518463135,17.233997344970703,-8.105063438415527,16.943143844604492,17.250446319580078,-6.331287860870361,-6.580913543701172,-6.548488140106201,17.030385971069336,-6.074038982391357,17.422945022583008,-6.535791873931885,17.126821517944336,17.227331161499023,17.169612884521484,17.622995376586914,16.773151397705078,16.815683364868164,-6.673705577850342,-6.1161723136901855,17.200035095214844,-6.206803321838379,17.112812042236328,16.93561363220215,16.719839096069336,16.811119079589844,18.150875091552734,16.863401412963867,-9.674532890319824,-6.260875701904297,17.041568756103516,17.004196166992188,-10.031091690063477,-6.7548298835754395,-6.658365726470947,17.103456497192383,16.8375244140625,-5.9512152671813965,16.836946487426758,16.773962020874023,17.044527053833008,-6.507410526275635,-6.401853561401367,-6.415517330169678,17.141565322875977,-6.029932975769043,-6.2640061378479,17.296987533569336,16.847349166870117],\"yaxis\":\"y\",\"type\":\"scatter\"}],                        {\"template\":{\"data\":{\"histogram2dcontour\":[{\"type\":\"histogram2dcontour\",\"colorbar\":{\"outlinewidth\":0,\"ticks\":\"\"},\"colorscale\":[[0.0,\"#0d0887\"],[0.1111111111111111,\"#46039f\"],[0.2222222222222222,\"#7201a8\"],[0.3333333333333333,\"#9c179e\"],[0.4444444444444444,\"#bd3786\"],[0.5555555555555556,\"#d8576b\"],[0.6666666666666666,\"#ed7953\"],[0.7777777777777778,\"#fb9f3a\"],[0.8888888888888888,\"#fdca26\"],[1.0,\"#f0f921\"]]}],\"choropleth\":[{\"type\":\"choropleth\",\"colorbar\":{\"outlinewidth\":0,\"ticks\":\"\"}}],\"histogram2d\":[{\"type\":\"histogram2d\",\"colorbar\":{\"outlinewidth\":0,\"ticks\":\"\"},\"colorscale\":[[0.0,\"#0d0887\"],[0.1111111111111111,\"#46039f\"],[0.2222222222222222,\"#7201a8\"],[0.3333333333333333,\"#9c179e\"],[0.4444444444444444,\"#bd3786\"],[0.5555555555555556,\"#d8576b\"],[0.6666666666666666,\"#ed7953\"],[0.7777777777777778,\"#fb9f3a\"],[0.8888888888888888,\"#fdca26\"],[1.0,\"#f0f921\"]]}],\"heatmap\":[{\"type\":\"heatmap\",\"colorbar\":{\"outlinewidth\":0,\"ticks\":\"\"},\"colorscale\":[[0.0,\"#0d0887\"],[0.1111111111111111,\"#46039f\"],[0.2222222222222222,\"#7201a8\"],[0.3333333333333333,\"#9c179e\"],[0.4444444444444444,\"#bd3786\"],[0.5555555555555556,\"#d8576b\"],[0.6666666666666666,\"#ed7953\"],[0.7777777777777778,\"#fb9f3a\"],[0.8888888888888888,\"#fdca26\"],[1.0,\"#f0f921\"]]}],\"heatmapgl\":[{\"type\":\"heatmapgl\",\"colorbar\":{\"outlinewidth\":0,\"ticks\":\"\"},\"colorscale\":[[0.0,\"#0d0887\"],[0.1111111111111111,\"#46039f\"],[0.2222222222222222,\"#7201a8\"],[0.3333333333333333,\"#9c179e\"],[0.4444444444444444,\"#bd3786\"],[0.5555555555555556,\"#d8576b\"],[0.6666666666666666,\"#ed7953\"],[0.7777777777777778,\"#fb9f3a\"],[0.8888888888888888,\"#fdca26\"],[1.0,\"#f0f921\"]]}],\"contourcarpet\":[{\"type\":\"contourcarpet\",\"colorbar\":{\"outlinewidth\":0,\"ticks\":\"\"}}],\"contour\":[{\"type\":\"contour\",\"colorbar\":{\"outlinewidth\":0,\"ticks\":\"\"},\"colorscale\":[[0.0,\"#0d0887\"],[0.1111111111111111,\"#46039f\"],[0.2222222222222222,\"#7201a8\"],[0.3333333333333333,\"#9c179e\"],[0.4444444444444444,\"#bd3786\"],[0.5555555555555556,\"#d8576b\"],[0.6666666666666666,\"#ed7953\"],[0.7777777777777778,\"#fb9f3a\"],[0.8888888888888888,\"#fdca26\"],[1.0,\"#f0f921\"]]}],\"surface\":[{\"type\":\"surface\",\"colorbar\":{\"outlinewidth\":0,\"ticks\":\"\"},\"colorscale\":[[0.0,\"#0d0887\"],[0.1111111111111111,\"#46039f\"],[0.2222222222222222,\"#7201a8\"],[0.3333333333333333,\"#9c179e\"],[0.4444444444444444,\"#bd3786\"],[0.5555555555555556,\"#d8576b\"],[0.6666666666666666,\"#ed7953\"],[0.7777777777777778,\"#fb9f3a\"],[0.8888888888888888,\"#fdca26\"],[1.0,\"#f0f921\"]]}],\"mesh3d\":[{\"type\":\"mesh3d\",\"colorbar\":{\"outlinewidth\":0,\"ticks\":\"\"}}],\"scatter\":[{\"fillpattern\":{\"fillmode\":\"overlay\",\"size\":10,\"solidity\":0.2},\"type\":\"scatter\"}],\"parcoords\":[{\"type\":\"parcoords\",\"line\":{\"colorbar\":{\"outlinewidth\":0,\"ticks\":\"\"}}}],\"scatterpolargl\":[{\"type\":\"scatterpolargl\",\"marker\":{\"colorbar\":{\"outlinewidth\":0,\"ticks\":\"\"}}}],\"bar\":[{\"error_x\":{\"color\":\"#2a3f5f\"},\"error_y\":{\"color\":\"#2a3f5f\"},\"marker\":{\"line\":{\"color\":\"#E5ECF6\",\"width\":0.5},\"pattern\":{\"fillmode\":\"overlay\",\"size\":10,\"solidity\":0.2}},\"type\":\"bar\"}],\"scattergeo\":[{\"type\":\"scattergeo\",\"marker\":{\"colorbar\":{\"outlinewidth\":0,\"ticks\":\"\"}}}],\"scatterpolar\":[{\"type\":\"scatterpolar\",\"marker\":{\"colorbar\":{\"outlinewidth\":0,\"ticks\":\"\"}}}],\"histogram\":[{\"marker\":{\"pattern\":{\"fillmode\":\"overlay\",\"size\":10,\"solidity\":0.2}},\"type\":\"histogram\"}],\"scattergl\":[{\"type\":\"scattergl\",\"marker\":{\"colorbar\":{\"outlinewidth\":0,\"ticks\":\"\"}}}],\"scatter3d\":[{\"type\":\"scatter3d\",\"line\":{\"colorbar\":{\"outlinewidth\":0,\"ticks\":\"\"}},\"marker\":{\"colorbar\":{\"outlinewidth\":0,\"ticks\":\"\"}}}],\"scattermapbox\":[{\"type\":\"scattermapbox\",\"marker\":{\"colorbar\":{\"outlinewidth\":0,\"ticks\":\"\"}}}],\"scatterternary\":[{\"type\":\"scatterternary\",\"marker\":{\"colorbar\":{\"outlinewidth\":0,\"ticks\":\"\"}}}],\"scattercarpet\":[{\"type\":\"scattercarpet\",\"marker\":{\"colorbar\":{\"outlinewidth\":0,\"ticks\":\"\"}}}],\"carpet\":[{\"aaxis\":{\"endlinecolor\":\"#2a3f5f\",\"gridcolor\":\"white\",\"linecolor\":\"white\",\"minorgridcolor\":\"white\",\"startlinecolor\":\"#2a3f5f\"},\"baxis\":{\"endlinecolor\":\"#2a3f5f\",\"gridcolor\":\"white\",\"linecolor\":\"white\",\"minorgridcolor\":\"white\",\"startlinecolor\":\"#2a3f5f\"},\"type\":\"carpet\"}],\"table\":[{\"cells\":{\"fill\":{\"color\":\"#EBF0F8\"},\"line\":{\"color\":\"white\"}},\"header\":{\"fill\":{\"color\":\"#C8D4E3\"},\"line\":{\"color\":\"white\"}},\"type\":\"table\"}],\"barpolar\":[{\"marker\":{\"line\":{\"color\":\"#E5ECF6\",\"width\":0.5},\"pattern\":{\"fillmode\":\"overlay\",\"size\":10,\"solidity\":0.2}},\"type\":\"barpolar\"}],\"pie\":[{\"automargin\":true,\"type\":\"pie\"}]},\"layout\":{\"autotypenumbers\":\"strict\",\"colorway\":[\"#636efa\",\"#EF553B\",\"#00cc96\",\"#ab63fa\",\"#FFA15A\",\"#19d3f3\",\"#FF6692\",\"#B6E880\",\"#FF97FF\",\"#FECB52\"],\"font\":{\"color\":\"#2a3f5f\"},\"hovermode\":\"closest\",\"hoverlabel\":{\"align\":\"left\"},\"paper_bgcolor\":\"white\",\"plot_bgcolor\":\"#E5ECF6\",\"polar\":{\"bgcolor\":\"#E5ECF6\",\"angularaxis\":{\"gridcolor\":\"white\",\"linecolor\":\"white\",\"ticks\":\"\"},\"radialaxis\":{\"gridcolor\":\"white\",\"linecolor\":\"white\",\"ticks\":\"\"}},\"ternary\":{\"bgcolor\":\"#E5ECF6\",\"aaxis\":{\"gridcolor\":\"white\",\"linecolor\":\"white\",\"ticks\":\"\"},\"baxis\":{\"gridcolor\":\"white\",\"linecolor\":\"white\",\"ticks\":\"\"},\"caxis\":{\"gridcolor\":\"white\",\"linecolor\":\"white\",\"ticks\":\"\"}},\"coloraxis\":{\"colorbar\":{\"outlinewidth\":0,\"ticks\":\"\"}},\"colorscale\":{\"sequential\":[[0.0,\"#0d0887\"],[0.1111111111111111,\"#46039f\"],[0.2222222222222222,\"#7201a8\"],[0.3333333333333333,\"#9c179e\"],[0.4444444444444444,\"#bd3786\"],[0.5555555555555556,\"#d8576b\"],[0.6666666666666666,\"#ed7953\"],[0.7777777777777778,\"#fb9f3a\"],[0.8888888888888888,\"#fdca26\"],[1.0,\"#f0f921\"]],\"sequentialminus\":[[0.0,\"#0d0887\"],[0.1111111111111111,\"#46039f\"],[0.2222222222222222,\"#7201a8\"],[0.3333333333333333,\"#9c179e\"],[0.4444444444444444,\"#bd3786\"],[0.5555555555555556,\"#d8576b\"],[0.6666666666666666,\"#ed7953\"],[0.7777777777777778,\"#fb9f3a\"],[0.8888888888888888,\"#fdca26\"],[1.0,\"#f0f921\"]],\"diverging\":[[0,\"#8e0152\"],[0.1,\"#c51b7d\"],[0.2,\"#de77ae\"],[0.3,\"#f1b6da\"],[0.4,\"#fde0ef\"],[0.5,\"#f7f7f7\"],[0.6,\"#e6f5d0\"],[0.7,\"#b8e186\"],[0.8,\"#7fbc41\"],[0.9,\"#4d9221\"],[1,\"#276419\"]]},\"xaxis\":{\"gridcolor\":\"white\",\"linecolor\":\"white\",\"ticks\":\"\",\"title\":{\"standoff\":15},\"zerolinecolor\":\"white\",\"automargin\":true,\"zerolinewidth\":2},\"yaxis\":{\"gridcolor\":\"white\",\"linecolor\":\"white\",\"ticks\":\"\",\"title\":{\"standoff\":15},\"zerolinecolor\":\"white\",\"automargin\":true,\"zerolinewidth\":2},\"scene\":{\"xaxis\":{\"backgroundcolor\":\"#E5ECF6\",\"gridcolor\":\"white\",\"linecolor\":\"white\",\"showbackground\":true,\"ticks\":\"\",\"zerolinecolor\":\"white\",\"gridwidth\":2},\"yaxis\":{\"backgroundcolor\":\"#E5ECF6\",\"gridcolor\":\"white\",\"linecolor\":\"white\",\"showbackground\":true,\"ticks\":\"\",\"zerolinecolor\":\"white\",\"gridwidth\":2},\"zaxis\":{\"backgroundcolor\":\"#E5ECF6\",\"gridcolor\":\"white\",\"linecolor\":\"white\",\"showbackground\":true,\"ticks\":\"\",\"zerolinecolor\":\"white\",\"gridwidth\":2}},\"shapedefaults\":{\"line\":{\"color\":\"#2a3f5f\"}},\"annotationdefaults\":{\"arrowcolor\":\"#2a3f5f\",\"arrowhead\":0,\"arrowwidth\":1},\"geo\":{\"bgcolor\":\"white\",\"landcolor\":\"#E5ECF6\",\"subunitcolor\":\"white\",\"showland\":true,\"showlakes\":true,\"lakecolor\":\"white\"},\"title\":{\"x\":0.05},\"mapbox\":{\"style\":\"light\"}}},\"xaxis\":{\"anchor\":\"y\",\"domain\":[0.0,1.0],\"title\":{\"text\":\"0\"}},\"yaxis\":{\"anchor\":\"x\",\"domain\":[0.0,1.0],\"title\":{\"text\":\"1\"}},\"coloraxis\":{\"colorbar\":{\"title\":{\"text\":\"color\"}},\"colorscale\":[[0.0,\"#0d0887\"],[0.1111111111111111,\"#46039f\"],[0.2222222222222222,\"#7201a8\"],[0.3333333333333333,\"#9c179e\"],[0.4444444444444444,\"#bd3786\"],[0.5555555555555556,\"#d8576b\"],[0.6666666666666666,\"#ed7953\"],[0.7777777777777778,\"#fb9f3a\"],[0.8888888888888888,\"#fdca26\"],[1.0,\"#f0f921\"]]},\"legend\":{\"tracegroupgap\":0},\"margin\":{\"t\":60}},                        {\"responsive\": true}                    ).then(function(){\n",
       "                            \n",
       "var gd = document.getElementById('acbf34c0-e717-4f33-8095-1ee5a039c665');\n",
       "var x = new MutationObserver(function (mutations, observer) {{\n",
       "        var display = window.getComputedStyle(gd).display;\n",
       "        if (!display || display === 'none') {{\n",
       "            console.log([gd, 'removed!']);\n",
       "            Plotly.purge(gd);\n",
       "            observer.disconnect();\n",
       "        }}\n",
       "}});\n",
       "\n",
       "// Listen for the removal of the full notebook cells\n",
       "var notebookContainer = gd.closest('#notebook-container');\n",
       "if (notebookContainer) {{\n",
       "    x.observe(notebookContainer, {childList: true});\n",
       "}}\n",
       "\n",
       "// Listen for the clearing of the current output cell\n",
       "var outputEl = gd.closest('.output');\n",
       "if (outputEl) {{\n",
       "    x.observe(outputEl, {childList: true});\n",
       "}}\n",
       "\n",
       "                        })                };                });            </script>        </div>"
      ]
     },
     "metadata": {},
     "output_type": "display_data"
    }
   ],
   "source": [
    "from umap import UMAP\n",
    "import plotly.express as px\n",
    "\n",
    "umap_2d = UMAP(n_components=2, init='random', random_state=0)\n",
    "\n",
    "proj_2d = umap_2d.fit_transform(cnv_check)\n",
    "\n",
    "fig_2d = px.scatter(\n",
    "    proj_2d, x=0, y=1,\n",
    "    color=label[\"stage\"]\n",
    ")\n",
    "\n",
    "fig_2d.show()\n"
   ]
  },
  {
   "cell_type": "code",
   "execution_count": 91,
   "metadata": {},
   "outputs": [],
   "source": [
    "from sklearn.ensemble import RandomForestClassifier\n",
    "from sklearn.model_selection import GridSearchCV\n",
    "\n",
    "model=RandomForestClassifier(random_state=42)\n",
    "\n",
    "# defining parameter range\n",
    "param_grid = { \n",
    "    'max_features': ['auto', 'sqrt', 'log2'],\n",
    "    'max_depth' : [10,12,14,16,20],\n",
    "    'criterion' :['gini', 'entropy']\n",
    "}"
   ]
  },
  {
   "cell_type": "code",
   "execution_count": 93,
   "metadata": {},
   "outputs": [
    {
     "name": "stdout",
     "output_type": "stream",
     "text": [
      "Fitting 5 folds for each of 30 candidates, totalling 150 fits\n",
      "              precision    recall  f1-score   support\n",
      "\n",
      "           0       0.52      1.00      0.69        65\n",
      "           1       0.00      0.00      0.00        59\n",
      "\n",
      "    accuracy                           0.52       124\n",
      "   macro avg       0.26      0.50      0.34       124\n",
      "weighted avg       0.27      0.52      0.36       124\n",
      "\n"
     ]
    }
   ],
   "source": [
    "grid = GridSearchCV(model, param_grid, refit = True, verbose = 1)\n",
    "  \n",
    "# fitting the model for grid search\n",
    "grid.fit(X_train, y_train)\n",
    "from sklearn.metrics import classification_report, confusion_matrix\n",
    "grid_predictions = grid.predict(X_test)\n",
    "print(classification_report(y_test, grid_predictions))"
   ]
  },
  {
   "attachments": {},
   "cell_type": "markdown",
   "metadata": {},
   "source": [
    "Can not predict death "
   ]
  }
 ],
 "metadata": {
  "kernelspec": {
   "display_name": "project4",
   "language": "python",
   "name": "python3"
  },
  "language_info": {
   "codemirror_mode": {
    "name": "ipython",
    "version": 3
   },
   "file_extension": ".py",
   "mimetype": "text/x-python",
   "name": "python",
   "nbconvert_exporter": "python",
   "pygments_lexer": "ipython3",
   "version": "3.11.3"
  },
  "orig_nbformat": 4
 },
 "nbformat": 4,
 "nbformat_minor": 2
}
